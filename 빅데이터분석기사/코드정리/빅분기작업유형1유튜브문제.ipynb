{
  "nbformat": 4,
  "nbformat_minor": 0,
  "metadata": {
    "colab": {
      "name": "Untitled9.ipynb",
      "provenance": []
    },
    "kernelspec": {
      "name": "python3",
      "display_name": "Python 3"
    },
    "language_info": {
      "name": "python"
    }
  },
  "cells": [
    {
      "cell_type": "code",
      "execution_count": 1,
      "metadata": {
        "colab": {
          "base_uri": "https://localhost:8080/",
          "height": 206
        },
        "id": "EdpROZJvtpEb",
        "outputId": "d155d435-b5d9-4a13-fefb-657951b9f223"
      },
      "outputs": [
        {
          "output_type": "execute_result",
          "data": {
            "text/plain": [
              "                                               title             channelTitle  \\\n",
              "0                                          [신병] 물자창고                      장삐쭈   \n",
              "1   RAIN(비) - 나로 바꾸자 Switch to me (duet with JYP) MV  RAIN's Official Channel   \n",
              "2       2020년 제야의 종 온라인 타종행사 | 보신각 현장 행사는 진행하지 않습니다.              서울시 · Seoul   \n",
              "3                                       고기남자의 칠면조 파티             고기남자 MeatMan   \n",
              "4  골목 3mc를 분노하게 만든 마음고생이 심했을 공릉 백반집 사장님의 푸념?! [예능...                    스브스밥집   \n",
              "\n",
              "   categoryId  view_count  likes  dislikes  comment_count  \\\n",
              "0          23     1893473  38249       730           8595   \n",
              "1          10     2600864      0         0          20129   \n",
              "2          29      347049   3564       120            178   \n",
              "3          26      528458  15372       280           3470   \n",
              "4          24      494904   3918       111           3142   \n",
              "\n",
              "                  channelId trending_date2  \n",
              "0  UChbE5OZQ6dRHECsX0tEPEZQ     2021-01-01  \n",
              "1  UCxXgIeE5hxWxHG6dz9Scg2w     2021-01-01  \n",
              "2  UCZUPZW5idAxYp-Asj__lVAA     2021-01-01  \n",
              "3  UCT3CumbFIJiW33uq0UI3zlg     2021-01-01  \n",
              "4  UCdWgRSfttvDucq4ApcCg5Mw     2021-01-01  "
            ],
            "text/html": [
              "\n",
              "  <div id=\"df-848b2b5c-f1b8-4124-92ac-b527304f04ed\">\n",
              "    <div class=\"colab-df-container\">\n",
              "      <div>\n",
              "<style scoped>\n",
              "    .dataframe tbody tr th:only-of-type {\n",
              "        vertical-align: middle;\n",
              "    }\n",
              "\n",
              "    .dataframe tbody tr th {\n",
              "        vertical-align: top;\n",
              "    }\n",
              "\n",
              "    .dataframe thead th {\n",
              "        text-align: right;\n",
              "    }\n",
              "</style>\n",
              "<table border=\"1\" class=\"dataframe\">\n",
              "  <thead>\n",
              "    <tr style=\"text-align: right;\">\n",
              "      <th></th>\n",
              "      <th>title</th>\n",
              "      <th>channelTitle</th>\n",
              "      <th>categoryId</th>\n",
              "      <th>view_count</th>\n",
              "      <th>likes</th>\n",
              "      <th>dislikes</th>\n",
              "      <th>comment_count</th>\n",
              "      <th>channelId</th>\n",
              "      <th>trending_date2</th>\n",
              "    </tr>\n",
              "  </thead>\n",
              "  <tbody>\n",
              "    <tr>\n",
              "      <th>0</th>\n",
              "      <td>[신병] 물자창고</td>\n",
              "      <td>장삐쭈</td>\n",
              "      <td>23</td>\n",
              "      <td>1893473</td>\n",
              "      <td>38249</td>\n",
              "      <td>730</td>\n",
              "      <td>8595</td>\n",
              "      <td>UChbE5OZQ6dRHECsX0tEPEZQ</td>\n",
              "      <td>2021-01-01</td>\n",
              "    </tr>\n",
              "    <tr>\n",
              "      <th>1</th>\n",
              "      <td>RAIN(비) - 나로 바꾸자 Switch to me (duet with JYP) MV</td>\n",
              "      <td>RAIN's Official Channel</td>\n",
              "      <td>10</td>\n",
              "      <td>2600864</td>\n",
              "      <td>0</td>\n",
              "      <td>0</td>\n",
              "      <td>20129</td>\n",
              "      <td>UCxXgIeE5hxWxHG6dz9Scg2w</td>\n",
              "      <td>2021-01-01</td>\n",
              "    </tr>\n",
              "    <tr>\n",
              "      <th>2</th>\n",
              "      <td>2020년 제야의 종 온라인 타종행사 | 보신각 현장 행사는 진행하지 않습니다.</td>\n",
              "      <td>서울시 · Seoul</td>\n",
              "      <td>29</td>\n",
              "      <td>347049</td>\n",
              "      <td>3564</td>\n",
              "      <td>120</td>\n",
              "      <td>178</td>\n",
              "      <td>UCZUPZW5idAxYp-Asj__lVAA</td>\n",
              "      <td>2021-01-01</td>\n",
              "    </tr>\n",
              "    <tr>\n",
              "      <th>3</th>\n",
              "      <td>고기남자의 칠면조 파티</td>\n",
              "      <td>고기남자 MeatMan</td>\n",
              "      <td>26</td>\n",
              "      <td>528458</td>\n",
              "      <td>15372</td>\n",
              "      <td>280</td>\n",
              "      <td>3470</td>\n",
              "      <td>UCT3CumbFIJiW33uq0UI3zlg</td>\n",
              "      <td>2021-01-01</td>\n",
              "    </tr>\n",
              "    <tr>\n",
              "      <th>4</th>\n",
              "      <td>골목 3mc를 분노하게 만든 마음고생이 심했을 공릉 백반집 사장님의 푸념?! [예능...</td>\n",
              "      <td>스브스밥집</td>\n",
              "      <td>24</td>\n",
              "      <td>494904</td>\n",
              "      <td>3918</td>\n",
              "      <td>111</td>\n",
              "      <td>3142</td>\n",
              "      <td>UCdWgRSfttvDucq4ApcCg5Mw</td>\n",
              "      <td>2021-01-01</td>\n",
              "    </tr>\n",
              "  </tbody>\n",
              "</table>\n",
              "</div>\n",
              "      <button class=\"colab-df-convert\" onclick=\"convertToInteractive('df-848b2b5c-f1b8-4124-92ac-b527304f04ed')\"\n",
              "              title=\"Convert this dataframe to an interactive table.\"\n",
              "              style=\"display:none;\">\n",
              "        \n",
              "  <svg xmlns=\"http://www.w3.org/2000/svg\" height=\"24px\"viewBox=\"0 0 24 24\"\n",
              "       width=\"24px\">\n",
              "    <path d=\"M0 0h24v24H0V0z\" fill=\"none\"/>\n",
              "    <path d=\"M18.56 5.44l.94 2.06.94-2.06 2.06-.94-2.06-.94-.94-2.06-.94 2.06-2.06.94zm-11 1L8.5 8.5l.94-2.06 2.06-.94-2.06-.94L8.5 2.5l-.94 2.06-2.06.94zm10 10l.94 2.06.94-2.06 2.06-.94-2.06-.94-.94-2.06-.94 2.06-2.06.94z\"/><path d=\"M17.41 7.96l-1.37-1.37c-.4-.4-.92-.59-1.43-.59-.52 0-1.04.2-1.43.59L10.3 9.45l-7.72 7.72c-.78.78-.78 2.05 0 2.83L4 21.41c.39.39.9.59 1.41.59.51 0 1.02-.2 1.41-.59l7.78-7.78 2.81-2.81c.8-.78.8-2.07 0-2.86zM5.41 20L4 18.59l7.72-7.72 1.47 1.35L5.41 20z\"/>\n",
              "  </svg>\n",
              "      </button>\n",
              "      \n",
              "  <style>\n",
              "    .colab-df-container {\n",
              "      display:flex;\n",
              "      flex-wrap:wrap;\n",
              "      gap: 12px;\n",
              "    }\n",
              "\n",
              "    .colab-df-convert {\n",
              "      background-color: #E8F0FE;\n",
              "      border: none;\n",
              "      border-radius: 50%;\n",
              "      cursor: pointer;\n",
              "      display: none;\n",
              "      fill: #1967D2;\n",
              "      height: 32px;\n",
              "      padding: 0 0 0 0;\n",
              "      width: 32px;\n",
              "    }\n",
              "\n",
              "    .colab-df-convert:hover {\n",
              "      background-color: #E2EBFA;\n",
              "      box-shadow: 0px 1px 2px rgba(60, 64, 67, 0.3), 0px 1px 3px 1px rgba(60, 64, 67, 0.15);\n",
              "      fill: #174EA6;\n",
              "    }\n",
              "\n",
              "    [theme=dark] .colab-df-convert {\n",
              "      background-color: #3B4455;\n",
              "      fill: #D2E3FC;\n",
              "    }\n",
              "\n",
              "    [theme=dark] .colab-df-convert:hover {\n",
              "      background-color: #434B5C;\n",
              "      box-shadow: 0px 1px 3px 1px rgba(0, 0, 0, 0.15);\n",
              "      filter: drop-shadow(0px 1px 2px rgba(0, 0, 0, 0.3));\n",
              "      fill: #FFFFFF;\n",
              "    }\n",
              "  </style>\n",
              "\n",
              "      <script>\n",
              "        const buttonEl =\n",
              "          document.querySelector('#df-848b2b5c-f1b8-4124-92ac-b527304f04ed button.colab-df-convert');\n",
              "        buttonEl.style.display =\n",
              "          google.colab.kernel.accessAllowed ? 'block' : 'none';\n",
              "\n",
              "        async function convertToInteractive(key) {\n",
              "          const element = document.querySelector('#df-848b2b5c-f1b8-4124-92ac-b527304f04ed');\n",
              "          const dataTable =\n",
              "            await google.colab.kernel.invokeFunction('convertToInteractive',\n",
              "                                                     [key], {});\n",
              "          if (!dataTable) return;\n",
              "\n",
              "          const docLinkHtml = 'Like what you see? Visit the ' +\n",
              "            '<a target=\"_blank\" href=https://colab.research.google.com/notebooks/data_table.ipynb>data table notebook</a>'\n",
              "            + ' to learn more about interactive tables.';\n",
              "          element.innerHTML = '';\n",
              "          dataTable['output_type'] = 'display_data';\n",
              "          await google.colab.output.renderOutput(dataTable, element);\n",
              "          const docLink = document.createElement('div');\n",
              "          docLink.innerHTML = docLinkHtml;\n",
              "          element.appendChild(docLink);\n",
              "        }\n",
              "      </script>\n",
              "    </div>\n",
              "  </div>\n",
              "  "
            ]
          },
          "metadata": {},
          "execution_count": 1
        }
      ],
      "source": [
        "import pandas as pd\n",
        "df = pd.read_csv(\"https://raw.githubusercontent.com/Datamanim/datarepo/main/youtube/youtube.csv\",index_col=0)\n",
        "df.head()"
      ]
    },
    {
      "cell_type": "markdown",
      "source": [
        "인기동영상 제작횟수가 많은 채널 상위 10개명을 출력하라 (날짜기준, 중복포함)"
      ],
      "metadata": {
        "id": "nPSfQ6Notrzi"
      }
    },
    {
      "cell_type": "code",
      "source": [
        "list(df.channelTitle.value_counts().head(10).keys())"
      ],
      "metadata": {
        "colab": {
          "base_uri": "https://localhost:8080/"
        },
        "id": "g6ExtYN-tt2m",
        "outputId": "f771c465-20c6-453d-db2d-100b367ff242"
      },
      "execution_count": 20,
      "outputs": [
        {
          "output_type": "execute_result",
          "data": {
            "text/plain": [
              "['짤툰',\n",
              " '파뿌리',\n",
              " 'SPOTV',\n",
              " '런닝맨 - 스브스 공식 채널',\n",
              " '엠뚜루마뚜루 : MBC 공식 종합 채널',\n",
              " '장삐쭈',\n",
              " 'BANGTANTV',\n",
              " '채널 십오야',\n",
              " '이과장',\n",
              " '총몇명']"
            ]
          },
          "metadata": {},
          "execution_count": 20
        }
      ]
    },
    {
      "cell_type": "markdown",
      "source": [
        "논란으로 인기동영상이 된 케이스를 확인하고 싶다. dislikes수가 like 수보다 높은 동영상을 제작한 채널을 모두 출력하라"
      ],
      "metadata": {
        "id": "Owo5UJEGvBWf"
      }
    },
    {
      "cell_type": "code",
      "source": [
        "list(df[(df.likes < df.dislikes)].channelTitle.unique())"
      ],
      "metadata": {
        "colab": {
          "base_uri": "https://localhost:8080/"
        },
        "id": "a4PPecIot3lt",
        "outputId": "37e51eb1-25d9-4b22-a712-dc5f5d2c87bf"
      },
      "execution_count": 23,
      "outputs": [
        {
          "output_type": "execute_result",
          "data": {
            "text/plain": [
              "['핫도그TV',\n",
              " 'ASMR 애정TV',\n",
              " '하얀트리HayanTree',\n",
              " '양팡 YangPang',\n",
              " '철구형 (CHULTUBE)',\n",
              " '왜냐맨하우스',\n",
              " '(MUTUBE)와꾸대장봉준',\n",
              " '오메킴TV',\n",
              " '육지담',\n",
              " 'MapleStory_KR',\n",
              " 'ROAD FIGHTING CHAMPIONSHIP',\n",
              " '사나이 김기훈',\n",
              " '나혼자산다 STUDIO',\n",
              " 'Gen.G esports']"
            ]
          },
          "metadata": {},
          "execution_count": 23
        }
      ]
    },
    {
      "cell_type": "markdown",
      "source": [
        "채널명을 바꾼 케이스가 있는지 확인하고 싶다. channelId의 경우 고유값이므로 이를 통해 채널명을 한번이라도 바꾼 채널의 갯수를 구하여라"
      ],
      "metadata": {
        "id": "ElOEJB4jvsZI"
      }
    },
    {
      "cell_type": "code",
      "source": [
        "id_list = list(df.channelId.unique())\n",
        "count = 0\n",
        "for id in id_list:\n",
        "  if len(df[df.channelId == id].channelTitle.unique()) > 1:\n",
        "    count += 1\n",
        "print(count)"
      ],
      "metadata": {
        "colab": {
          "base_uri": "https://localhost:8080/"
        },
        "id": "tefRXZIQvaUv",
        "outputId": "b2a06a5d-fa59-4a3c-ef6d-4d556edb7030"
      },
      "execution_count": 38,
      "outputs": [
        {
          "output_type": "stream",
          "name": "stdout",
          "text": [
            "71\n"
          ]
        }
      ]
    },
    {
      "cell_type": "markdown",
      "source": [
        "일요일에 인기있었던 영상들중 가장많은 영상 종류(categoryId)는 무엇인가?"
      ],
      "metadata": {
        "id": "_zoK698Y3vzg"
      }
    },
    {
      "cell_type": "code",
      "source": [
        "df['trending_date2'] = pd.to_datetime(df['trending_date2'])\n",
        "df =df.loc[df['trending_date2'].dt.day_name()"
      ],
      "metadata": {
        "colab": {
          "base_uri": "https://localhost:8080/",
          "height": 137
        },
        "id": "6fBX_Mx53yj3",
        "outputId": "33a285b2-f7e6-4583-dc52-50e012b237ae"
      },
      "execution_count": 49,
      "outputs": [
        {
          "output_type": "error",
          "ename": "SyntaxError",
          "evalue": "ignored",
          "traceback": [
            "\u001b[0;36m  File \u001b[0;32m\"<ipython-input-49-8c1dd655cb7b>\"\u001b[0;36m, line \u001b[0;32m2\u001b[0m\n\u001b[0;31m    df =df.loc[df['trending_date2'].dt.day_name()\u001b[0m\n\u001b[0m                                                 ^\u001b[0m\n\u001b[0;31mSyntaxError\u001b[0m\u001b[0;31m:\u001b[0m unexpected EOF while parsing\n"
          ]
        }
      ]
    },
    {
      "cell_type": "code",
      "source": [
        "list(df[df['trending_date2'] == 'Sunday'].categoryId.value_counts().keys())[0]"
      ],
      "metadata": {
        "colab": {
          "base_uri": "https://localhost:8080/"
        },
        "id": "Jkku6gOS0x69",
        "outputId": "ff3ebb60-c951-45f0-de74-de22dde27659"
      },
      "execution_count": 55,
      "outputs": [
        {
          "output_type": "execute_result",
          "data": {
            "text/plain": [
              "24"
            ]
          },
          "metadata": {},
          "execution_count": 55
        }
      ]
    },
    {
      "cell_type": "markdown",
      "source": [
        "댓글의 수로 (comment_count) 영상 반응에 대한 판단을 할 수 있다. viewcount대비 댓글수가 가장 높은 영상을 확인하라 (view_count값이 0인 경우는 제외한다)"
      ],
      "metadata": {
        "id": "ZJgHnVOF4ahU"
      }
    },
    {
      "cell_type": "code",
      "source": [
        "new_df = df.loc[df.view_count > 0, :]\n",
        "new_df['view_rate'] = new_df['comment_count']/new_df['view_count']\n",
        "\n"
      ],
      "metadata": {
        "colab": {
          "base_uri": "https://localhost:8080/"
        },
        "id": "WC8xWyF13Q1n",
        "outputId": "bfdfa2d4-f345-488a-cd17-683dd98543f6"
      },
      "execution_count": 75,
      "outputs": [
        {
          "output_type": "stream",
          "name": "stdout",
          "text": [
            "60분 동안 댓글이 달리지 않으면, 영상이 삭제됩니다. (챌린지)\n"
          ]
        },
        {
          "output_type": "stream",
          "name": "stderr",
          "text": [
            "/usr/local/lib/python3.7/dist-packages/ipykernel_launcher.py:2: SettingWithCopyWarning: \n",
            "A value is trying to be set on a copy of a slice from a DataFrame.\n",
            "Try using .loc[row_indexer,col_indexer] = value instead\n",
            "\n",
            "See the caveats in the documentation: https://pandas.pydata.org/pandas-docs/stable/user_guide/indexing.html#returning-a-view-versus-a-copy\n",
            "  \n"
          ]
        }
      ]
    },
    {
      "cell_type": "code",
      "source": [
        "result = str(new_df.sort_values(by = 'view_rate').iloc[-1].title)\n",
        "print(result)\n"
      ],
      "metadata": {
        "colab": {
          "base_uri": "https://localhost:8080/"
        },
        "id": "4lTHSitL4gKv",
        "outputId": "398ae4ed-9e7a-4447-bde7-bc8de451918f"
      },
      "execution_count": 76,
      "outputs": [
        {
          "output_type": "stream",
          "name": "stdout",
          "text": [
            "60분 동안 댓글이 달리지 않으면, 영상이 삭제됩니다. (챌린지)\n"
          ]
        }
      ]
    },
    {
      "cell_type": "markdown",
      "source": [
        "like 대비 dislike의 수가 가장 적은 영상은 무엇인가? (like, dislike 값이 0인경우는 제외한다)"
      ],
      "metadata": {
        "id": "bAJ8uRe_7IoY"
      }
    },
    {
      "cell_type": "code",
      "source": [
        "new_df2 = df.loc[(df.likes > 0) & (df.dislikes > 0), :]\n",
        "new_df2['like_rate'] = new_df2.dislikes/ new_df2.likes\n",
        "answer = new_df2.sort_values(by = 'like_rate')\n",
        "answer.iloc[0].title"
      ],
      "metadata": {
        "colab": {
          "base_uri": "https://localhost:8080/",
          "height": 146
        },
        "id": "9_Z6MXjT68Cs",
        "outputId": "8061b684-64c5-4955-de0a-d04044ede268"
      },
      "execution_count": 89,
      "outputs": [
        {
          "output_type": "stream",
          "name": "stderr",
          "text": [
            "/usr/local/lib/python3.7/dist-packages/ipykernel_launcher.py:2: SettingWithCopyWarning: \n",
            "A value is trying to be set on a copy of a slice from a DataFrame.\n",
            "Try using .loc[row_indexer,col_indexer] = value instead\n",
            "\n",
            "See the caveats in the documentation: https://pandas.pydata.org/pandas-docs/stable/user_guide/indexing.html#returning-a-view-versus-a-copy\n",
            "  \n"
          ]
        },
        {
          "output_type": "execute_result",
          "data": {
            "text/plain": [
              "'[줌터뷰] *최초공개* 사부작즈🐰🐶의 비공식 이름은 아이라인즈? 꿀조합 티키타카 가득한 NCT 127 도영&정우의 줌터뷰'"
            ],
            "application/vnd.google.colaboratory.intrinsic+json": {
              "type": "string"
            }
          },
          "metadata": {},
          "execution_count": 89
        }
      ]
    },
    {
      "cell_type": "markdown",
      "source": [
        "가장많은 트렌드 영상을 제작한 채널의 이름은 무엇인가? (날짜기준, 중복포함)"
      ],
      "metadata": {
        "id": "fiCv8X6V8iKM"
      }
    },
    {
      "cell_type": "code",
      "source": [
        "df.channelTitle.value_counts().index[0]"
      ],
      "metadata": {
        "colab": {
          "base_uri": "https://localhost:8080/",
          "height": 35
        },
        "id": "Gs2dcsR37WZc",
        "outputId": "e3df6fa4-a54f-4a49-a731-956e644ad1b8"
      },
      "execution_count": 92,
      "outputs": [
        {
          "output_type": "execute_result",
          "data": {
            "text/plain": [
              "'짤툰'"
            ],
            "application/vnd.google.colaboratory.intrinsic+json": {
              "type": "string"
            }
          },
          "metadata": {},
          "execution_count": 92
        }
      ]
    },
    {
      "cell_type": "markdown",
      "source": [
        "20회(20일)이상 인기동영상 리스트에 포함된 동영상의 숫자는?"
      ],
      "metadata": {
        "id": "eE2LH7YX85CR"
      }
    },
    {
      "cell_type": "code",
      "source": [
        "days_list = list(df.title.value_counts())\n",
        "count = 0\n",
        "for i in days_list:\n",
        "  if (i >= 20):\n",
        "    count += 1\n",
        "print(count)\n",
        "\n",
        "## 이렇게 되면 title이 같은 영상이 중복될 수 있다. 다른 채널의"
      ],
      "metadata": {
        "colab": {
          "base_uri": "https://localhost:8080/"
        },
        "id": "gQgEB8Gj8nYq",
        "outputId": "5dc2f5a1-2e15-49d7-cfa7-f6a61bc4c8d9"
      },
      "execution_count": 98,
      "outputs": [
        {
          "output_type": "stream",
          "name": "stdout",
          "text": [
            "41\n"
          ]
        }
      ]
    },
    {
      "cell_type": "code",
      "source": [
        "answer= (df[['title','channelId']].value_counts()>=20).sum()\n",
        "print(answer)"
      ],
      "metadata": {
        "colab": {
          "base_uri": "https://localhost:8080/"
        },
        "id": "klHOgo5x9GDs",
        "outputId": "1f5fba4f-2031-4510-f0e4-c7427a012896"
      },
      "execution_count": 99,
      "outputs": [
        {
          "output_type": "stream",
          "name": "stdout",
          "text": [
            "40\n"
          ]
        }
      ]
    },
    {
      "cell_type": "code",
      "source": [
        ""
      ],
      "metadata": {
        "id": "P9mEuhpL-AJc"
      },
      "execution_count": null,
      "outputs": []
    }
  ]
}