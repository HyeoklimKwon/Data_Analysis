{
  "nbformat": 4,
  "nbformat_minor": 0,
  "metadata": {
    "colab": {
      "name": "Untitled12.ipynb",
      "provenance": []
    },
    "kernelspec": {
      "name": "python3",
      "display_name": "Python 3"
    },
    "language_info": {
      "name": "python"
    }
  },
  "cells": [
    {
      "cell_type": "code",
      "execution_count": 60,
      "metadata": {
        "colab": {
          "base_uri": "https://localhost:8080/"
        },
        "id": "e98GopS8KpDs",
        "outputId": "2041380f-7b54-42cc-93ab-5eb188ce3760"
      },
      "outputs": [
        {
          "output_type": "stream",
          "name": "stdout",
          "text": [
            "0    152\n",
            "2    124\n",
            "1     68\n",
            "Name: species, dtype: int64\n"
          ]
        }
      ],
      "source": [
        "import seaborn as sns \n",
        "import pandas as pd\n",
        "df = sns.load_dataset('penguins')\n",
        "#결측치 확인 및 처리\n",
        "df.isna().sum()\n",
        "missing = ['bill_length_mm', 'bill_depth_mm', 'flipper_length_mm', 'body_mass_g']\n",
        "for i in missing:\n",
        "  df[i] = df[i].fillna(df[i].mean())\n",
        "df['sex'] = df['sex'].fillna('Male')\n",
        "\n",
        "# 라벨링\n",
        "from sklearn.preprocessing import LabelEncoder\n",
        "df.head()\n",
        "\n",
        "\n",
        "label = ['species', 'island', 'sex']\n",
        "df[label]= df[label].apply(LabelEncoder().fit_transform)\n",
        "print(df.species.value_counts())\n",
        "# 데이터타입 변환 및 더미화\n",
        "transtype = ['island', 'sex']\n",
        "for i in df[transtype]:\n",
        "  df[i] = df[i].astype('category')\n",
        "df = pd.get_dummies(df)\n",
        "\n",
        "from sklearn.preprocessing import MinMaxScaler\n",
        "mn_scaler = MinMaxScaler()\n",
        "scaler = ['bill_length_mm', 'bill_depth_mm', 'flipper_length_mm', 'body_mass_g']\n",
        "df[scaler] = mn_scaler.fit_transform(df[scaler])\n",
        "\n",
        "from sklearn.model_selection import train_test_split\n",
        "x_train,x_valid, y_train, y_valid = train_test_split(df.iloc[:,1:], df.species, test_size = 0.2, stratify = df.species)\n",
        "\n",
        "\n",
        "\n",
        "from sklearn.ensemble import RandomForestClassifier\n",
        "model1 = RandomForestClassifier()\n",
        "model1.fit(x_train,y_train)\n",
        "pred1 = model1.predict(x_valid)\n",
        "\n",
        "from sklearn.ensemble import AdaBoostClassifier\n",
        "model2 = AdaBoostClassifier()\n",
        "model2.fit(x_train, y_train)\n",
        "pred2 = model2.predict(x_valid)\n",
        "\n",
        "from sklearn.ensemble import VotingClassifier\n",
        "model3 = VotingClassifier(estimators = [('rf', model1), ('ad', model2)], voting = 'hard')\n",
        "model3.fit(x_train, y_train)\n",
        "\n",
        "result_predict = pd.DataFrame(model3.predict(x_valid))\n",
        "\n",
        "from sklearn.metrics import accuracy_score\n",
        "accuracy_score(y_valid, result_predict)\n",
        "\n",
        "result = result_predict.iloc[:,0]\n",
        "\n",
        "pd.DataFrame({'index': x_valid.index, 'result': result}).to_csv('asdjflkads.csv', index = False)\n",
        "\n",
        "\n",
        "\n",
        "\n"
      ]
    }
  ]
}