{
  "cells": [
    {
      "cell_type": "markdown",
      "id": "7f94f187",
      "metadata": {
        "id": "7f94f187"
      },
      "source": [
        "# Ensemble\n",
        "\n",
        "***\n",
        "\n",
        "### 작업 제 2유형 SCORE 달성에 가장 안전한 방법\n",
        "\n",
        "#### 앙상블이란?\n",
        "- 집단지성과 같은 의미\n",
        "- 여러 개 예측값을 결합하자!\n",
        "- 산술 평균, 기하 평균 등 다양하다.\n",
        "- 독립적인 예측값 결합으로 과적합 방지 가능\n",
        "***\n",
        "\n",
        "### KFold와 StratifiedKFold 사용!\n",
        "KFold => 랜덤 분포 랑 StratifiedKFold=> 균등 분포\n",
        "### 프로세스\n",
        "- for loop문 구성\n",
        "- 학습 및 검증 데이터 분할\n",
        "- 각 FOLD별로 모델이 데이터를 학습하고 test 데이터에 대해 예측 값 생성\n",
        "- K개의 FOLD 예측 값을 앙상블한다."
      ]
    },
    {
      "cell_type": "markdown",
      "id": "73df5185",
      "metadata": {
        "id": "73df5185"
      },
      "source": [
        "예를 들어 10FOLD로 학습 및 검증을 한다.\n",
        "\n",
        "- 학습 : 9개 FOLD로 학습을 한다.\n",
        "- 검증 : 1개 FOLD로 검증을 한다.\n",
        "\n",
        "모델 학습을 총 10번한다. -> 모델이 총 10개라는 의미!!\n",
        "\n",
        "알고리즘은 같지만 모델이 사용하는 독립변수, 종속변수 분포는 다르다.\n",
        "\n",
        "10개 각 모델로 test 데이터를 각각 예측한다. -> 10개의 예측값 생성\n",
        "\n",
        "10개의 예측값에 대해서 산술평균을 활용하자!"
      ]
    },
    {
      "cell_type": "code",
      "execution_count": 1,
      "id": "1f113b2e",
      "metadata": {
        "id": "1f113b2e"
      },
      "outputs": [],
      "source": [
        "import pandas as pd"
      ]
    },
    {
      "cell_type": "code",
      "execution_count": 13,
      "id": "51a7b62a",
      "metadata": {
        "id": "51a7b62a"
      },
      "outputs": [],
      "source": [
        "X = pd.read_csv('X_train.csv', encoding = 'cp949')\n",
        "y = pd.read_csv(\"y_train.csv\", encoding = 'cp949').gender\n",
        "test = pd.read_csv('X_test.csv', encoding = 'cp949')"
      ]
    },
    {
      "cell_type": "code",
      "execution_count": 14,
      "id": "5a069506",
      "metadata": {
        "colab": {
          "base_uri": "https://localhost:8080/",
          "height": 424
        },
        "id": "5a069506",
        "outputId": "f6aaf0ce-0aed-49ca-c18f-db21d6d7dc17"
      },
      "outputs": [
        {
          "output_type": "execute_result",
          "data": {
            "text/plain": [
              "      cust_id       총구매액     최대구매액       환불금액   주구매상품 주구매지점  내점일수   내점당구매건수  \\\n",
              "0           0   68282840  11264000  6860000.0      기타   강남점    19  3.894737   \n",
              "1           1    2136000   2136000   300000.0     스포츠   잠실점     2  1.500000   \n",
              "2           2    3197000   1639000        NaN  남성 캐주얼   관악점     2  2.000000   \n",
              "3           3   16077620   4935000        NaN      기타   광주점    18  2.444444   \n",
              "4           4   29050000  24000000        NaN      보석  본  점     2  1.500000   \n",
              "...       ...        ...       ...        ...     ...   ...   ...       ...   \n",
              "3495     3495    3175200   3042900        NaN      골프  본  점     1  2.000000   \n",
              "3496     3496   29628600   7200000  6049600.0    시티웨어  부산본점     8  1.625000   \n",
              "3497     3497      75000     75000        NaN    주방용품   창원점     1  1.000000   \n",
              "3498     3498    1875000   1000000        NaN     화장품  본  점     2  1.000000   \n",
              "3499     3499  263101550  34632000  5973000.0      기타  본  점    38  2.421053   \n",
              "\n",
              "        주말방문비율  구매주기  \n",
              "0     0.527027    17  \n",
              "1     0.000000     1  \n",
              "2     0.000000     1  \n",
              "3     0.318182    16  \n",
              "4     0.000000    85  \n",
              "...        ...   ...  \n",
              "3495  1.000000     0  \n",
              "3496  0.461538    40  \n",
              "3497  0.000000     0  \n",
              "3498  0.000000    39  \n",
              "3499  0.467391     8  \n",
              "\n",
              "[3500 rows x 10 columns]"
            ],
            "text/html": [
              "\n",
              "  <div id=\"df-b79090ed-994f-4c38-bf09-091da4d5b83d\">\n",
              "    <div class=\"colab-df-container\">\n",
              "      <div>\n",
              "<style scoped>\n",
              "    .dataframe tbody tr th:only-of-type {\n",
              "        vertical-align: middle;\n",
              "    }\n",
              "\n",
              "    .dataframe tbody tr th {\n",
              "        vertical-align: top;\n",
              "    }\n",
              "\n",
              "    .dataframe thead th {\n",
              "        text-align: right;\n",
              "    }\n",
              "</style>\n",
              "<table border=\"1\" class=\"dataframe\">\n",
              "  <thead>\n",
              "    <tr style=\"text-align: right;\">\n",
              "      <th></th>\n",
              "      <th>cust_id</th>\n",
              "      <th>총구매액</th>\n",
              "      <th>최대구매액</th>\n",
              "      <th>환불금액</th>\n",
              "      <th>주구매상품</th>\n",
              "      <th>주구매지점</th>\n",
              "      <th>내점일수</th>\n",
              "      <th>내점당구매건수</th>\n",
              "      <th>주말방문비율</th>\n",
              "      <th>구매주기</th>\n",
              "    </tr>\n",
              "  </thead>\n",
              "  <tbody>\n",
              "    <tr>\n",
              "      <th>0</th>\n",
              "      <td>0</td>\n",
              "      <td>68282840</td>\n",
              "      <td>11264000</td>\n",
              "      <td>6860000.0</td>\n",
              "      <td>기타</td>\n",
              "      <td>강남점</td>\n",
              "      <td>19</td>\n",
              "      <td>3.894737</td>\n",
              "      <td>0.527027</td>\n",
              "      <td>17</td>\n",
              "    </tr>\n",
              "    <tr>\n",
              "      <th>1</th>\n",
              "      <td>1</td>\n",
              "      <td>2136000</td>\n",
              "      <td>2136000</td>\n",
              "      <td>300000.0</td>\n",
              "      <td>스포츠</td>\n",
              "      <td>잠실점</td>\n",
              "      <td>2</td>\n",
              "      <td>1.500000</td>\n",
              "      <td>0.000000</td>\n",
              "      <td>1</td>\n",
              "    </tr>\n",
              "    <tr>\n",
              "      <th>2</th>\n",
              "      <td>2</td>\n",
              "      <td>3197000</td>\n",
              "      <td>1639000</td>\n",
              "      <td>NaN</td>\n",
              "      <td>남성 캐주얼</td>\n",
              "      <td>관악점</td>\n",
              "      <td>2</td>\n",
              "      <td>2.000000</td>\n",
              "      <td>0.000000</td>\n",
              "      <td>1</td>\n",
              "    </tr>\n",
              "    <tr>\n",
              "      <th>3</th>\n",
              "      <td>3</td>\n",
              "      <td>16077620</td>\n",
              "      <td>4935000</td>\n",
              "      <td>NaN</td>\n",
              "      <td>기타</td>\n",
              "      <td>광주점</td>\n",
              "      <td>18</td>\n",
              "      <td>2.444444</td>\n",
              "      <td>0.318182</td>\n",
              "      <td>16</td>\n",
              "    </tr>\n",
              "    <tr>\n",
              "      <th>4</th>\n",
              "      <td>4</td>\n",
              "      <td>29050000</td>\n",
              "      <td>24000000</td>\n",
              "      <td>NaN</td>\n",
              "      <td>보석</td>\n",
              "      <td>본  점</td>\n",
              "      <td>2</td>\n",
              "      <td>1.500000</td>\n",
              "      <td>0.000000</td>\n",
              "      <td>85</td>\n",
              "    </tr>\n",
              "    <tr>\n",
              "      <th>...</th>\n",
              "      <td>...</td>\n",
              "      <td>...</td>\n",
              "      <td>...</td>\n",
              "      <td>...</td>\n",
              "      <td>...</td>\n",
              "      <td>...</td>\n",
              "      <td>...</td>\n",
              "      <td>...</td>\n",
              "      <td>...</td>\n",
              "      <td>...</td>\n",
              "    </tr>\n",
              "    <tr>\n",
              "      <th>3495</th>\n",
              "      <td>3495</td>\n",
              "      <td>3175200</td>\n",
              "      <td>3042900</td>\n",
              "      <td>NaN</td>\n",
              "      <td>골프</td>\n",
              "      <td>본  점</td>\n",
              "      <td>1</td>\n",
              "      <td>2.000000</td>\n",
              "      <td>1.000000</td>\n",
              "      <td>0</td>\n",
              "    </tr>\n",
              "    <tr>\n",
              "      <th>3496</th>\n",
              "      <td>3496</td>\n",
              "      <td>29628600</td>\n",
              "      <td>7200000</td>\n",
              "      <td>6049600.0</td>\n",
              "      <td>시티웨어</td>\n",
              "      <td>부산본점</td>\n",
              "      <td>8</td>\n",
              "      <td>1.625000</td>\n",
              "      <td>0.461538</td>\n",
              "      <td>40</td>\n",
              "    </tr>\n",
              "    <tr>\n",
              "      <th>3497</th>\n",
              "      <td>3497</td>\n",
              "      <td>75000</td>\n",
              "      <td>75000</td>\n",
              "      <td>NaN</td>\n",
              "      <td>주방용품</td>\n",
              "      <td>창원점</td>\n",
              "      <td>1</td>\n",
              "      <td>1.000000</td>\n",
              "      <td>0.000000</td>\n",
              "      <td>0</td>\n",
              "    </tr>\n",
              "    <tr>\n",
              "      <th>3498</th>\n",
              "      <td>3498</td>\n",
              "      <td>1875000</td>\n",
              "      <td>1000000</td>\n",
              "      <td>NaN</td>\n",
              "      <td>화장품</td>\n",
              "      <td>본  점</td>\n",
              "      <td>2</td>\n",
              "      <td>1.000000</td>\n",
              "      <td>0.000000</td>\n",
              "      <td>39</td>\n",
              "    </tr>\n",
              "    <tr>\n",
              "      <th>3499</th>\n",
              "      <td>3499</td>\n",
              "      <td>263101550</td>\n",
              "      <td>34632000</td>\n",
              "      <td>5973000.0</td>\n",
              "      <td>기타</td>\n",
              "      <td>본  점</td>\n",
              "      <td>38</td>\n",
              "      <td>2.421053</td>\n",
              "      <td>0.467391</td>\n",
              "      <td>8</td>\n",
              "    </tr>\n",
              "  </tbody>\n",
              "</table>\n",
              "<p>3500 rows × 10 columns</p>\n",
              "</div>\n",
              "      <button class=\"colab-df-convert\" onclick=\"convertToInteractive('df-b79090ed-994f-4c38-bf09-091da4d5b83d')\"\n",
              "              title=\"Convert this dataframe to an interactive table.\"\n",
              "              style=\"display:none;\">\n",
              "        \n",
              "  <svg xmlns=\"http://www.w3.org/2000/svg\" height=\"24px\"viewBox=\"0 0 24 24\"\n",
              "       width=\"24px\">\n",
              "    <path d=\"M0 0h24v24H0V0z\" fill=\"none\"/>\n",
              "    <path d=\"M18.56 5.44l.94 2.06.94-2.06 2.06-.94-2.06-.94-.94-2.06-.94 2.06-2.06.94zm-11 1L8.5 8.5l.94-2.06 2.06-.94-2.06-.94L8.5 2.5l-.94 2.06-2.06.94zm10 10l.94 2.06.94-2.06 2.06-.94-2.06-.94-.94-2.06-.94 2.06-2.06.94z\"/><path d=\"M17.41 7.96l-1.37-1.37c-.4-.4-.92-.59-1.43-.59-.52 0-1.04.2-1.43.59L10.3 9.45l-7.72 7.72c-.78.78-.78 2.05 0 2.83L4 21.41c.39.39.9.59 1.41.59.51 0 1.02-.2 1.41-.59l7.78-7.78 2.81-2.81c.8-.78.8-2.07 0-2.86zM5.41 20L4 18.59l7.72-7.72 1.47 1.35L5.41 20z\"/>\n",
              "  </svg>\n",
              "      </button>\n",
              "      \n",
              "  <style>\n",
              "    .colab-df-container {\n",
              "      display:flex;\n",
              "      flex-wrap:wrap;\n",
              "      gap: 12px;\n",
              "    }\n",
              "\n",
              "    .colab-df-convert {\n",
              "      background-color: #E8F0FE;\n",
              "      border: none;\n",
              "      border-radius: 50%;\n",
              "      cursor: pointer;\n",
              "      display: none;\n",
              "      fill: #1967D2;\n",
              "      height: 32px;\n",
              "      padding: 0 0 0 0;\n",
              "      width: 32px;\n",
              "    }\n",
              "\n",
              "    .colab-df-convert:hover {\n",
              "      background-color: #E2EBFA;\n",
              "      box-shadow: 0px 1px 2px rgba(60, 64, 67, 0.3), 0px 1px 3px 1px rgba(60, 64, 67, 0.15);\n",
              "      fill: #174EA6;\n",
              "    }\n",
              "\n",
              "    [theme=dark] .colab-df-convert {\n",
              "      background-color: #3B4455;\n",
              "      fill: #D2E3FC;\n",
              "    }\n",
              "\n",
              "    [theme=dark] .colab-df-convert:hover {\n",
              "      background-color: #434B5C;\n",
              "      box-shadow: 0px 1px 3px 1px rgba(0, 0, 0, 0.15);\n",
              "      filter: drop-shadow(0px 1px 2px rgba(0, 0, 0, 0.3));\n",
              "      fill: #FFFFFF;\n",
              "    }\n",
              "  </style>\n",
              "\n",
              "      <script>\n",
              "        const buttonEl =\n",
              "          document.querySelector('#df-b79090ed-994f-4c38-bf09-091da4d5b83d button.colab-df-convert');\n",
              "        buttonEl.style.display =\n",
              "          google.colab.kernel.accessAllowed ? 'block' : 'none';\n",
              "\n",
              "        async function convertToInteractive(key) {\n",
              "          const element = document.querySelector('#df-b79090ed-994f-4c38-bf09-091da4d5b83d');\n",
              "          const dataTable =\n",
              "            await google.colab.kernel.invokeFunction('convertToInteractive',\n",
              "                                                     [key], {});\n",
              "          if (!dataTable) return;\n",
              "\n",
              "          const docLinkHtml = 'Like what you see? Visit the ' +\n",
              "            '<a target=\"_blank\" href=https://colab.research.google.com/notebooks/data_table.ipynb>data table notebook</a>'\n",
              "            + ' to learn more about interactive tables.';\n",
              "          element.innerHTML = '';\n",
              "          dataTable['output_type'] = 'display_data';\n",
              "          await google.colab.output.renderOutput(dataTable, element);\n",
              "          const docLink = document.createElement('div');\n",
              "          docLink.innerHTML = docLinkHtml;\n",
              "          element.appendChild(docLink);\n",
              "        }\n",
              "      </script>\n",
              "    </div>\n",
              "  </div>\n",
              "  "
            ]
          },
          "metadata": {},
          "execution_count": 14
        }
      ],
      "source": [
        "X"
      ]
    },
    {
      "cell_type": "code",
      "execution_count": 15,
      "id": "295b6a24",
      "metadata": {
        "colab": {
          "base_uri": "https://localhost:8080/"
        },
        "id": "295b6a24",
        "outputId": "b2744e01-dba8-4259-eaf4-f1291df9d0e9"
      },
      "outputs": [
        {
          "output_type": "execute_result",
          "data": {
            "text/plain": [
              "0       0\n",
              "1       0\n",
              "2       1\n",
              "3       1\n",
              "4       0\n",
              "       ..\n",
              "3495    1\n",
              "3496    1\n",
              "3497    0\n",
              "3498    0\n",
              "3499    0\n",
              "Name: gender, Length: 3500, dtype: int64"
            ]
          },
          "metadata": {},
          "execution_count": 15
        }
      ],
      "source": [
        "y"
      ]
    },
    {
      "cell_type": "code",
      "source": [
        "X.isnull().sum()"
      ],
      "metadata": {
        "colab": {
          "base_uri": "https://localhost:8080/"
        },
        "id": "0BcHfT-lOUf6",
        "outputId": "e362ac69-b8da-4eb6-8152-953ea82d77c5"
      },
      "id": "0BcHfT-lOUf6",
      "execution_count": 16,
      "outputs": [
        {
          "output_type": "execute_result",
          "data": {
            "text/plain": [
              "cust_id       0\n",
              "총구매액          0\n",
              "최대구매액         0\n",
              "환불금액       2295\n",
              "주구매상품         0\n",
              "주구매지점         0\n",
              "내점일수          0\n",
              "내점당구매건수       0\n",
              "주말방문비율        0\n",
              "구매주기          0\n",
              "dtype: int64"
            ]
          },
          "metadata": {},
          "execution_count": 16
        }
      ]
    },
    {
      "cell_type": "code",
      "source": [
        "X['주구매상품'].value_counts() # 3000개의 데이터양 치고 카테고리가 너무 많아요\n"
      ],
      "metadata": {
        "colab": {
          "base_uri": "https://localhost:8080/"
        },
        "id": "wjfMh2nDOtKp",
        "outputId": "2a4aab9c-7a84-44ba-e198-0c640f82db11"
      },
      "id": "wjfMh2nDOtKp",
      "execution_count": 23,
      "outputs": [
        {
          "output_type": "execute_result",
          "data": {
            "text/plain": [
              "기타        595\n",
              "가공식품      546\n",
              "농산물       339\n",
              "화장품       264\n",
              "시티웨어      213\n",
              "디자이너      193\n",
              "수산품       153\n",
              "캐주얼       101\n",
              "명품        100\n",
              "섬유잡화       98\n",
              "골프         82\n",
              "스포츠        69\n",
              "일용잡화       64\n",
              "모피/피혁      57\n",
              "육류         57\n",
              "남성 캐주얼     55\n",
              "구두         54\n",
              "건강식품       47\n",
              "차/커피       44\n",
              "피혁잡화       40\n",
              "아동         40\n",
              "축산가공       35\n",
              "주방용품       32\n",
              "셔츠         30\n",
              "젓갈/반찬      29\n",
              "주방가전       26\n",
              "트래디셔널      23\n",
              "남성정장       22\n",
              "생활잡화       15\n",
              "주류         14\n",
              "가구         10\n",
              "커리어         9\n",
              "대형가전        8\n",
              "란제리/내의      8\n",
              "식기          7\n",
              "액세서리        5\n",
              "침구/수예       4\n",
              "통신/컴퓨터      3\n",
              "보석          3\n",
              "남성 트랜디      2\n",
              "소형가전        2\n",
              "악기          2\n",
              "Name: 주구매상품, dtype: int64"
            ]
          },
          "metadata": {},
          "execution_count": 23
        }
      ]
    },
    {
      "cell_type": "code",
      "execution_count": 24,
      "id": "eb2f8279",
      "metadata": {
        "scrolled": true,
        "id": "eb2f8279"
      },
      "outputs": [],
      "source": [
        "X.fillna(0, inplace = True) # 결측치를 0으로 채운다. "
      ]
    },
    {
      "cell_type": "code",
      "execution_count": 25,
      "id": "9d866691",
      "metadata": {
        "id": "9d866691"
      },
      "outputs": [],
      "source": [
        "test.fillna(0, inplace = True) # test도 채워줍니다."
      ]
    },
    {
      "cell_type": "code",
      "execution_count": 26,
      "id": "372fdb5c",
      "metadata": {
        "id": "372fdb5c"
      },
      "outputs": [],
      "source": [
        "X.drop(['cust_id', '주구매상품', '주구매지점'], axis = 1, inplace = True) # drop할 것들 삭제"
      ]
    },
    {
      "cell_type": "code",
      "execution_count": 27,
      "id": "5cbafd88",
      "metadata": {
        "id": "5cbafd88"
      },
      "outputs": [],
      "source": [
        "test.drop(['cust_id', '주구매상품', '주구매지점'], axis = 1, inplace = True)"
      ]
    },
    {
      "cell_type": "markdown",
      "source": [
        ""
      ],
      "metadata": {
        "id": "o3TqCF6-Mfpc"
      },
      "id": "o3TqCF6-Mfpc"
    },
    {
      "cell_type": "code",
      "execution_count": 28,
      "id": "59a7dafb",
      "metadata": {
        "id": "59a7dafb"
      },
      "outputs": [],
      "source": [
        "from sklearn.model_selection import StratifiedKFold\n",
        "from sklearn.ensemble import RandomForestClassifier\n",
        "from sklearn.metrics import roc_auc_score\n",
        "import numpy as np\n",
        "# 어디 라이브러리에 model이 있는지 외우자!"
      ]
    },
    {
      "cell_type": "code",
      "execution_count": 29,
      "id": "1b36c129",
      "metadata": {
        "id": "1b36c129"
      },
      "outputs": [],
      "source": [
        "skf = StratifiedKFold(n_splits = 10, random_state = 42, shuffle = True) # 모델을 불러오기"
      ]
    },
    {
      "cell_type": "markdown",
      "id": "d8ebac51",
      "metadata": {
        "id": "d8ebac51"
      },
      "source": [
        "10fold로 나누었기 때문에 각 fold에는 데이터가 350개씩 들어간다."
      ]
    },
    {
      "cell_type": "code",
      "execution_count": 30,
      "id": "b0036376",
      "metadata": {
        "id": "b0036376"
      },
      "outputs": [],
      "source": [
        "rf_pred = np.zeros((test.shape[0])) # 초기화 리스트를 만들어주기 \n",
        "# zeros를 ones로 하면 1로 채워진다."
      ]
    },
    {
      "cell_type": "code",
      "execution_count": 31,
      "id": "085c5a0d",
      "metadata": {
        "scrolled": true,
        "colab": {
          "base_uri": "https://localhost:8080/"
        },
        "id": "085c5a0d",
        "outputId": "bf31a476-0431-4c8c-f6bb-203dd4d524e9"
      },
      "outputs": [
        {
          "output_type": "execute_result",
          "data": {
            "text/plain": [
              "array([0., 0., 0., ..., 0., 0., 0.])"
            ]
          },
          "metadata": {},
          "execution_count": 31
        }
      ],
      "source": [
        "rf_pred"
      ]
    },
    {
      "cell_type": "markdown",
      "id": "bc51548c",
      "metadata": {
        "id": "bc51548c"
      },
      "source": [
        "예측값으로 치환하기 위해 틀을 만들어둔다."
      ]
    },
    {
      "cell_type": "code",
      "execution_count": 32,
      "id": "125fa677",
      "metadata": {
        "colab": {
          "base_uri": "https://localhost:8080/"
        },
        "id": "125fa677",
        "outputId": "25a0b475-4db7-4d41-cb69-de12a0aa3c78"
      },
      "outputs": [
        {
          "output_type": "execute_result",
          "data": {
            "text/plain": [
              "2482"
            ]
          },
          "metadata": {},
          "execution_count": 32
        }
      ],
      "source": [
        "len(rf_pred) # test 개수 "
      ]
    },
    {
      "cell_type": "code",
      "execution_count": 33,
      "id": "589074ed",
      "metadata": {
        "scrolled": false,
        "colab": {
          "base_uri": "https://localhost:8080/"
        },
        "id": "589074ed",
        "outputId": "3e9d038f-f8e2-45b7-aeb0-cb12b1e8912e"
      },
      "outputs": [
        {
          "output_type": "execute_result",
          "data": {
            "text/plain": [
              "2482"
            ]
          },
          "metadata": {},
          "execution_count": 33
        }
      ],
      "source": [
        "test.shape[0]"
      ]
    },
    {
      "cell_type": "code",
      "execution_count": 37,
      "id": "dde86d40",
      "metadata": {
        "colab": {
          "base_uri": "https://localhost:8080/"
        },
        "id": "dde86d40",
        "outputId": "49569901-4c43-4922-c532-a702e260d6e5"
      },
      "outputs": [
        {
          "output_type": "stream",
          "name": "stdout",
          "text": [
            "[0 1 2 3 4 5 6 7 8 9] [16 17 26 34 38 46 57 66 67 69] \n",
            "\n",
            "3150 350\n",
            "[ 2  3  4  5  6  7  8  9 10 11] [ 0  1 25 28 30 50 53 83 89 92] \n",
            "\n",
            "3150 350\n",
            "[ 0  1  2  3  7  8  9 11 13 14] [ 4  5  6 10 12 41 45 47 55 62] \n",
            "\n",
            "3150 350\n",
            "[ 0  1  3  4  5  6  7  8  9 10] [  2  40  65  90  96  97  99 120 144 151] \n",
            "\n",
            "3150 350\n",
            "[0 1 2 3 4 5 6 7 8 9] [ 27  44  48  54  64  72  75  77  85 102] \n",
            "\n",
            "3150 350\n",
            "[ 0  1  2  3  4  5  6  7  9 10] [ 8 11 20 21 33 60 63 73 81 86] \n",
            "\n",
            "3150 350\n",
            "[ 0  1  2  4  5  6  7  8 10 11] [ 3  9 19 23 32 43 58 74 78 79] \n",
            "\n",
            "3150 350\n",
            "[0 1 2 3 4 5 6 7 8 9] [15 35 36 39 51 59 68 80 82 95] \n",
            "\n",
            "3150 350\n",
            "[0 1 2 3 4 5 6 7 8 9] [14 22 24 31 42 49 52 76 87 91] \n",
            "\n",
            "3150 350\n",
            "[ 0  1  2  3  4  5  6  8  9 10] [  7  13  18  29  37  56  61  71  84 105] \n",
            "\n",
            "3150 350\n"
          ]
        }
      ],
      "source": [
        "### tr_idx, val_idx는 학습데이터에 대해 각각 학습용, 검증용을 의미한다.\n",
        "### 10fold로 지정해두었기 때문에 학습용 : 3150개, 검증용 : 350개\n",
        "for tr_idx, val_idx in skf.split(X, y) :\n",
        "    #print(f'학습용 : {len(tr_idx)} / 검증용 : {len(val_idx)}')\n",
        "    print(tr_idx[:10], val_idx[:10], '\\n') # 각 데이터의 인덱스 앞에서 10개 출력\n",
        "    print(len(tr_idx), len(val_idx))"
      ]
    },
    {
      "cell_type": "markdown",
      "id": "913702d2",
      "metadata": {
        "id": "913702d2"
      },
      "source": [
        "모델이 사용하는 데이터가 각각 다르므로 독립적인 모델이 10개로 구성되었다."
      ]
    },
    {
      "cell_type": "code",
      "execution_count": 38,
      "id": "41f94ae7",
      "metadata": {
        "id": "41f94ae7"
      },
      "outputs": [],
      "source": [
        "from sklearn.metrics import accuracy_score"
      ]
    },
    {
      "cell_type": "code",
      "execution_count": 45,
      "id": "21ac70c5",
      "metadata": {
        "scrolled": true,
        "colab": {
          "base_uri": "https://localhost:8080/"
        },
        "id": "21ac70c5",
        "outputId": "2f965dad-6bd7-473c-ce90-dcba5dff8ce3"
      },
      "outputs": [
        {
          "output_type": "stream",
          "name": "stdout",
          "text": [
            "0.6314285714285715\n",
            "0.6657142857142857\n",
            "0.6371428571428571\n",
            "0.6628571428571428\n",
            "0.6114285714285714\n",
            "0.6028571428571429\n",
            "0.5971428571428572\n",
            "0.6\n",
            "0.6142857142857143\n",
            "0.6314285714285715\n"
          ]
        }
      ],
      "source": [
        "rf_pred = np.zeros((test.shape[0]))\n",
        "\n",
        "# pred y 값 초기화 리스트 생성\n",
        "for tr_idx, val_idx in skf.split(X, y) :\n",
        "\n",
        "    tr_x, tr_y = X.iloc[tr_idx], y.iloc[tr_idx]    \n",
        "    val_x, val_y = X.iloc[val_idx], y.iloc[val_idx]\n",
        "    # 10Kfold로 test랑 val 데이터 나눠주기 \n",
        "\n",
        "    model = RandomForestClassifier(random_state = 42) # 랜포 만들어주기\n",
        "    model.fit(tr_x, tr_y) # 학습시키기\n",
        "    \n",
        "    \n",
        "    val_pred = model.predict_proba(val_x)[:, 1] # proba 예측하기 \n",
        "    \n",
        "    \n",
        "    ###\n",
        "    val_pred = val_pred >= 0.5 # 0.5 이상인 확률 값은 1로 치환 그렇지 않은 확률은 0으로 치환 \n",
        "    \n",
        "    val_pred = val_pred.astype(int)\n",
        "    ###\n",
        "    \n",
        "    val_score = accuracy_score(val_y, val_pred) # 정확도 뽑기 예측값맞은 확률 \n",
        "    print(val_score) # 프린트 \n",
        "    fold_pred = model.predict_proba(test)[:, 1] / 10 # 테스트 케이스를 넣어서 예측값 뽑기 \n",
        "    rf_pred += fold_pred # 평균 정확도 구하기 \n",
        "\n",
        "# rf_pred = rf_pred >= 0.5 # 0.5 이상인 확률 값은 1로 치환 그렇지 않은 확률은 0으로 치환 \n",
        "    \n",
        "# rf_pred = rf_pred.astype(int)\n",
        "# print(rf_pred) # 이게 제출물이다 이말이야 "
      ]
    },
    {
      "cell_type": "code",
      "execution_count": 43,
      "id": "a24d873f",
      "metadata": {
        "id": "a24d873f"
      },
      "outputs": [],
      "source": [
        "from lightgbm import LGBMClassifier"
      ]
    },
    {
      "cell_type": "code",
      "execution_count": 44,
      "id": "efd7d7ad",
      "metadata": {
        "colab": {
          "base_uri": "https://localhost:8080/"
        },
        "id": "efd7d7ad",
        "outputId": "4a000ccd-a5fb-40d9-e8f2-6a28a2656999"
      },
      "outputs": [
        {
          "output_type": "stream",
          "name": "stdout",
          "text": [
            "0.6428571428571429\n",
            "0.64\n",
            "0.6171428571428571\n",
            "0.6485714285714286\n",
            "0.6571428571428571\n",
            "0.6285714285714286\n",
            "0.5857142857142857\n",
            "0.6085714285714285\n",
            "0.6285714285714286\n",
            "0.6314285714285715\n"
          ]
        }
      ],
      "source": [
        "lgbm_pred = np.zeros((test.shape[0])) # 초기화 리스트 생성 \n",
        "for tr_idx, val_idx in skf.split(X, y) : # stratifiedKFold로 나눠주기 \n",
        "    tr_x, tr_y = X.iloc[tr_idx], y.iloc[tr_idx]\n",
        "    val_x, val_y = X.iloc[val_idx], y.iloc[val_idx]\n",
        "    model = LGBMClassifier(random_state = 42) # 모델 생성\n",
        "    model.fit(tr_x, tr_y) # 모델 학습하고 \n",
        "    \n",
        "    \n",
        "    val_pred = model.predict_proba(val_x)[:, 1] \n",
        "    \n",
        "    \n",
        "    ###\n",
        "    val_pred = val_pred >= 0.5 # 0.5 이상인 확률 값은 1로 치환 그렇지 않은 확률은 0으로 치환\n",
        "    val_pred = val_pred.astype(int)\n",
        "    ###\n",
        "    \n",
        "    val_score = accuracy_score(val_y, val_pred)\n",
        "    print(val_score)\n",
        "    fold_pred = model.predict_proba(test)[:, 1] / 10\n",
        "    lgbm_pred += fold_pred"
      ]
    },
    {
      "cell_type": "code",
      "execution_count": 49,
      "id": "a779e0fc",
      "metadata": {
        "id": "a779e0fc"
      },
      "outputs": [],
      "source": [
        "ens = (rf_pred + lgbm_pred) / 2 # 두개를 평균해준다\n",
        "ens = ens >= 0.5 # 0.5 이상인 확률 값은 1로 치환 그렇지 않은 확률은 0으로 치환 \n",
        "    \n",
        "ens = ens.astype(int)"
      ]
    },
    {
      "cell_type": "code",
      "source": [
        "test.head(11)"
      ],
      "metadata": {
        "colab": {
          "base_uri": "https://localhost:8080/",
          "height": 394
        },
        "id": "IgC13F09TyGI",
        "outputId": "ea733490-8358-41d1-8c1d-81f57baa2e9b"
      },
      "id": "IgC13F09TyGI",
      "execution_count": 48,
      "outputs": [
        {
          "output_type": "execute_result",
          "data": {
            "text/plain": [
              "         총구매액     최대구매액        환불금액  내점일수    내점당구매건수    주말방문비율  구매주기\n",
              "0    70900400  22000000   4050000.0    13   1.461538  0.789474    26\n",
              "1   310533100  38558000  48034700.0    90   2.433333  0.369863     3\n",
              "2   305264140  14825000  30521000.0   101  14.623762  0.083277     3\n",
              "3     7594080   5225000         0.0     5   2.000000  0.000000    47\n",
              "4     1795790   1411200         0.0     3   2.666667  0.125000     8\n",
              "5    13000000   2160000         0.0     5   2.200000  0.000000    61\n",
              "6   420892520  69920000  39566000.0   144   2.618056  0.249337     2\n",
              "7     1152000   1152000         0.0     1   1.000000  0.000000     0\n",
              "8     4825000   4825000         0.0     1   1.000000  0.000000     0\n",
              "9   110787210  19255600  23062000.0    28   3.321429  0.376344    12\n",
              "10  107894360  19668000  29502000.0    21   2.000000  0.238095    14"
            ],
            "text/html": [
              "\n",
              "  <div id=\"df-1206a9fc-b984-4bf6-b6d3-cddc5c8e049a\">\n",
              "    <div class=\"colab-df-container\">\n",
              "      <div>\n",
              "<style scoped>\n",
              "    .dataframe tbody tr th:only-of-type {\n",
              "        vertical-align: middle;\n",
              "    }\n",
              "\n",
              "    .dataframe tbody tr th {\n",
              "        vertical-align: top;\n",
              "    }\n",
              "\n",
              "    .dataframe thead th {\n",
              "        text-align: right;\n",
              "    }\n",
              "</style>\n",
              "<table border=\"1\" class=\"dataframe\">\n",
              "  <thead>\n",
              "    <tr style=\"text-align: right;\">\n",
              "      <th></th>\n",
              "      <th>총구매액</th>\n",
              "      <th>최대구매액</th>\n",
              "      <th>환불금액</th>\n",
              "      <th>내점일수</th>\n",
              "      <th>내점당구매건수</th>\n",
              "      <th>주말방문비율</th>\n",
              "      <th>구매주기</th>\n",
              "    </tr>\n",
              "  </thead>\n",
              "  <tbody>\n",
              "    <tr>\n",
              "      <th>0</th>\n",
              "      <td>70900400</td>\n",
              "      <td>22000000</td>\n",
              "      <td>4050000.0</td>\n",
              "      <td>13</td>\n",
              "      <td>1.461538</td>\n",
              "      <td>0.789474</td>\n",
              "      <td>26</td>\n",
              "    </tr>\n",
              "    <tr>\n",
              "      <th>1</th>\n",
              "      <td>310533100</td>\n",
              "      <td>38558000</td>\n",
              "      <td>48034700.0</td>\n",
              "      <td>90</td>\n",
              "      <td>2.433333</td>\n",
              "      <td>0.369863</td>\n",
              "      <td>3</td>\n",
              "    </tr>\n",
              "    <tr>\n",
              "      <th>2</th>\n",
              "      <td>305264140</td>\n",
              "      <td>14825000</td>\n",
              "      <td>30521000.0</td>\n",
              "      <td>101</td>\n",
              "      <td>14.623762</td>\n",
              "      <td>0.083277</td>\n",
              "      <td>3</td>\n",
              "    </tr>\n",
              "    <tr>\n",
              "      <th>3</th>\n",
              "      <td>7594080</td>\n",
              "      <td>5225000</td>\n",
              "      <td>0.0</td>\n",
              "      <td>5</td>\n",
              "      <td>2.000000</td>\n",
              "      <td>0.000000</td>\n",
              "      <td>47</td>\n",
              "    </tr>\n",
              "    <tr>\n",
              "      <th>4</th>\n",
              "      <td>1795790</td>\n",
              "      <td>1411200</td>\n",
              "      <td>0.0</td>\n",
              "      <td>3</td>\n",
              "      <td>2.666667</td>\n",
              "      <td>0.125000</td>\n",
              "      <td>8</td>\n",
              "    </tr>\n",
              "    <tr>\n",
              "      <th>5</th>\n",
              "      <td>13000000</td>\n",
              "      <td>2160000</td>\n",
              "      <td>0.0</td>\n",
              "      <td>5</td>\n",
              "      <td>2.200000</td>\n",
              "      <td>0.000000</td>\n",
              "      <td>61</td>\n",
              "    </tr>\n",
              "    <tr>\n",
              "      <th>6</th>\n",
              "      <td>420892520</td>\n",
              "      <td>69920000</td>\n",
              "      <td>39566000.0</td>\n",
              "      <td>144</td>\n",
              "      <td>2.618056</td>\n",
              "      <td>0.249337</td>\n",
              "      <td>2</td>\n",
              "    </tr>\n",
              "    <tr>\n",
              "      <th>7</th>\n",
              "      <td>1152000</td>\n",
              "      <td>1152000</td>\n",
              "      <td>0.0</td>\n",
              "      <td>1</td>\n",
              "      <td>1.000000</td>\n",
              "      <td>0.000000</td>\n",
              "      <td>0</td>\n",
              "    </tr>\n",
              "    <tr>\n",
              "      <th>8</th>\n",
              "      <td>4825000</td>\n",
              "      <td>4825000</td>\n",
              "      <td>0.0</td>\n",
              "      <td>1</td>\n",
              "      <td>1.000000</td>\n",
              "      <td>0.000000</td>\n",
              "      <td>0</td>\n",
              "    </tr>\n",
              "    <tr>\n",
              "      <th>9</th>\n",
              "      <td>110787210</td>\n",
              "      <td>19255600</td>\n",
              "      <td>23062000.0</td>\n",
              "      <td>28</td>\n",
              "      <td>3.321429</td>\n",
              "      <td>0.376344</td>\n",
              "      <td>12</td>\n",
              "    </tr>\n",
              "    <tr>\n",
              "      <th>10</th>\n",
              "      <td>107894360</td>\n",
              "      <td>19668000</td>\n",
              "      <td>29502000.0</td>\n",
              "      <td>21</td>\n",
              "      <td>2.000000</td>\n",
              "      <td>0.238095</td>\n",
              "      <td>14</td>\n",
              "    </tr>\n",
              "  </tbody>\n",
              "</table>\n",
              "</div>\n",
              "      <button class=\"colab-df-convert\" onclick=\"convertToInteractive('df-1206a9fc-b984-4bf6-b6d3-cddc5c8e049a')\"\n",
              "              title=\"Convert this dataframe to an interactive table.\"\n",
              "              style=\"display:none;\">\n",
              "        \n",
              "  <svg xmlns=\"http://www.w3.org/2000/svg\" height=\"24px\"viewBox=\"0 0 24 24\"\n",
              "       width=\"24px\">\n",
              "    <path d=\"M0 0h24v24H0V0z\" fill=\"none\"/>\n",
              "    <path d=\"M18.56 5.44l.94 2.06.94-2.06 2.06-.94-2.06-.94-.94-2.06-.94 2.06-2.06.94zm-11 1L8.5 8.5l.94-2.06 2.06-.94-2.06-.94L8.5 2.5l-.94 2.06-2.06.94zm10 10l.94 2.06.94-2.06 2.06-.94-2.06-.94-.94-2.06-.94 2.06-2.06.94z\"/><path d=\"M17.41 7.96l-1.37-1.37c-.4-.4-.92-.59-1.43-.59-.52 0-1.04.2-1.43.59L10.3 9.45l-7.72 7.72c-.78.78-.78 2.05 0 2.83L4 21.41c.39.39.9.59 1.41.59.51 0 1.02-.2 1.41-.59l7.78-7.78 2.81-2.81c.8-.78.8-2.07 0-2.86zM5.41 20L4 18.59l7.72-7.72 1.47 1.35L5.41 20z\"/>\n",
              "  </svg>\n",
              "      </button>\n",
              "      \n",
              "  <style>\n",
              "    .colab-df-container {\n",
              "      display:flex;\n",
              "      flex-wrap:wrap;\n",
              "      gap: 12px;\n",
              "    }\n",
              "\n",
              "    .colab-df-convert {\n",
              "      background-color: #E8F0FE;\n",
              "      border: none;\n",
              "      border-radius: 50%;\n",
              "      cursor: pointer;\n",
              "      display: none;\n",
              "      fill: #1967D2;\n",
              "      height: 32px;\n",
              "      padding: 0 0 0 0;\n",
              "      width: 32px;\n",
              "    }\n",
              "\n",
              "    .colab-df-convert:hover {\n",
              "      background-color: #E2EBFA;\n",
              "      box-shadow: 0px 1px 2px rgba(60, 64, 67, 0.3), 0px 1px 3px 1px rgba(60, 64, 67, 0.15);\n",
              "      fill: #174EA6;\n",
              "    }\n",
              "\n",
              "    [theme=dark] .colab-df-convert {\n",
              "      background-color: #3B4455;\n",
              "      fill: #D2E3FC;\n",
              "    }\n",
              "\n",
              "    [theme=dark] .colab-df-convert:hover {\n",
              "      background-color: #434B5C;\n",
              "      box-shadow: 0px 1px 3px 1px rgba(0, 0, 0, 0.15);\n",
              "      filter: drop-shadow(0px 1px 2px rgba(0, 0, 0, 0.3));\n",
              "      fill: #FFFFFF;\n",
              "    }\n",
              "  </style>\n",
              "\n",
              "      <script>\n",
              "        const buttonEl =\n",
              "          document.querySelector('#df-1206a9fc-b984-4bf6-b6d3-cddc5c8e049a button.colab-df-convert');\n",
              "        buttonEl.style.display =\n",
              "          google.colab.kernel.accessAllowed ? 'block' : 'none';\n",
              "\n",
              "        async function convertToInteractive(key) {\n",
              "          const element = document.querySelector('#df-1206a9fc-b984-4bf6-b6d3-cddc5c8e049a');\n",
              "          const dataTable =\n",
              "            await google.colab.kernel.invokeFunction('convertToInteractive',\n",
              "                                                     [key], {});\n",
              "          if (!dataTable) return;\n",
              "\n",
              "          const docLinkHtml = 'Like what you see? Visit the ' +\n",
              "            '<a target=\"_blank\" href=https://colab.research.google.com/notebooks/data_table.ipynb>data table notebook</a>'\n",
              "            + ' to learn more about interactive tables.';\n",
              "          element.innerHTML = '';\n",
              "          dataTable['output_type'] = 'display_data';\n",
              "          await google.colab.output.renderOutput(dataTable, element);\n",
              "          const docLink = document.createElement('div');\n",
              "          docLink.innerHTML = docLinkHtml;\n",
              "          element.appendChild(docLink);\n",
              "        }\n",
              "      </script>\n",
              "    </div>\n",
              "  </div>\n",
              "  "
            ]
          },
          "metadata": {},
          "execution_count": 48
        }
      ]
    },
    {
      "cell_type": "code",
      "source": [
        "test_pred = pd.DataFrame(ens)"
      ],
      "metadata": {
        "id": "NyZwT5x0UKGP"
      },
      "id": "NyZwT5x0UKGP",
      "execution_count": 50,
      "outputs": []
    },
    {
      "cell_type": "code",
      "source": [
        "test_pred"
      ],
      "metadata": {
        "colab": {
          "base_uri": "https://localhost:8080/",
          "height": 424
        },
        "id": "2WgIM2p1USKn",
        "outputId": "ae5df989-f3a1-4af0-c94e-f062e3edcfe3"
      },
      "id": "2WgIM2p1USKn",
      "execution_count": 51,
      "outputs": [
        {
          "output_type": "execute_result",
          "data": {
            "text/plain": [
              "      0\n",
              "0     0\n",
              "1     0\n",
              "2     0\n",
              "3     0\n",
              "4     0\n",
              "...  ..\n",
              "2477  1\n",
              "2478  0\n",
              "2479  0\n",
              "2480  0\n",
              "2481  1\n",
              "\n",
              "[2482 rows x 1 columns]"
            ],
            "text/html": [
              "\n",
              "  <div id=\"df-134dfdba-289c-45a2-9873-5e4e840e54cb\">\n",
              "    <div class=\"colab-df-container\">\n",
              "      <div>\n",
              "<style scoped>\n",
              "    .dataframe tbody tr th:only-of-type {\n",
              "        vertical-align: middle;\n",
              "    }\n",
              "\n",
              "    .dataframe tbody tr th {\n",
              "        vertical-align: top;\n",
              "    }\n",
              "\n",
              "    .dataframe thead th {\n",
              "        text-align: right;\n",
              "    }\n",
              "</style>\n",
              "<table border=\"1\" class=\"dataframe\">\n",
              "  <thead>\n",
              "    <tr style=\"text-align: right;\">\n",
              "      <th></th>\n",
              "      <th>0</th>\n",
              "    </tr>\n",
              "  </thead>\n",
              "  <tbody>\n",
              "    <tr>\n",
              "      <th>0</th>\n",
              "      <td>0</td>\n",
              "    </tr>\n",
              "    <tr>\n",
              "      <th>1</th>\n",
              "      <td>0</td>\n",
              "    </tr>\n",
              "    <tr>\n",
              "      <th>2</th>\n",
              "      <td>0</td>\n",
              "    </tr>\n",
              "    <tr>\n",
              "      <th>3</th>\n",
              "      <td>0</td>\n",
              "    </tr>\n",
              "    <tr>\n",
              "      <th>4</th>\n",
              "      <td>0</td>\n",
              "    </tr>\n",
              "    <tr>\n",
              "      <th>...</th>\n",
              "      <td>...</td>\n",
              "    </tr>\n",
              "    <tr>\n",
              "      <th>2477</th>\n",
              "      <td>1</td>\n",
              "    </tr>\n",
              "    <tr>\n",
              "      <th>2478</th>\n",
              "      <td>0</td>\n",
              "    </tr>\n",
              "    <tr>\n",
              "      <th>2479</th>\n",
              "      <td>0</td>\n",
              "    </tr>\n",
              "    <tr>\n",
              "      <th>2480</th>\n",
              "      <td>0</td>\n",
              "    </tr>\n",
              "    <tr>\n",
              "      <th>2481</th>\n",
              "      <td>1</td>\n",
              "    </tr>\n",
              "  </tbody>\n",
              "</table>\n",
              "<p>2482 rows × 1 columns</p>\n",
              "</div>\n",
              "      <button class=\"colab-df-convert\" onclick=\"convertToInteractive('df-134dfdba-289c-45a2-9873-5e4e840e54cb')\"\n",
              "              title=\"Convert this dataframe to an interactive table.\"\n",
              "              style=\"display:none;\">\n",
              "        \n",
              "  <svg xmlns=\"http://www.w3.org/2000/svg\" height=\"24px\"viewBox=\"0 0 24 24\"\n",
              "       width=\"24px\">\n",
              "    <path d=\"M0 0h24v24H0V0z\" fill=\"none\"/>\n",
              "    <path d=\"M18.56 5.44l.94 2.06.94-2.06 2.06-.94-2.06-.94-.94-2.06-.94 2.06-2.06.94zm-11 1L8.5 8.5l.94-2.06 2.06-.94-2.06-.94L8.5 2.5l-.94 2.06-2.06.94zm10 10l.94 2.06.94-2.06 2.06-.94-2.06-.94-.94-2.06-.94 2.06-2.06.94z\"/><path d=\"M17.41 7.96l-1.37-1.37c-.4-.4-.92-.59-1.43-.59-.52 0-1.04.2-1.43.59L10.3 9.45l-7.72 7.72c-.78.78-.78 2.05 0 2.83L4 21.41c.39.39.9.59 1.41.59.51 0 1.02-.2 1.41-.59l7.78-7.78 2.81-2.81c.8-.78.8-2.07 0-2.86zM5.41 20L4 18.59l7.72-7.72 1.47 1.35L5.41 20z\"/>\n",
              "  </svg>\n",
              "      </button>\n",
              "      \n",
              "  <style>\n",
              "    .colab-df-container {\n",
              "      display:flex;\n",
              "      flex-wrap:wrap;\n",
              "      gap: 12px;\n",
              "    }\n",
              "\n",
              "    .colab-df-convert {\n",
              "      background-color: #E8F0FE;\n",
              "      border: none;\n",
              "      border-radius: 50%;\n",
              "      cursor: pointer;\n",
              "      display: none;\n",
              "      fill: #1967D2;\n",
              "      height: 32px;\n",
              "      padding: 0 0 0 0;\n",
              "      width: 32px;\n",
              "    }\n",
              "\n",
              "    .colab-df-convert:hover {\n",
              "      background-color: #E2EBFA;\n",
              "      box-shadow: 0px 1px 2px rgba(60, 64, 67, 0.3), 0px 1px 3px 1px rgba(60, 64, 67, 0.15);\n",
              "      fill: #174EA6;\n",
              "    }\n",
              "\n",
              "    [theme=dark] .colab-df-convert {\n",
              "      background-color: #3B4455;\n",
              "      fill: #D2E3FC;\n",
              "    }\n",
              "\n",
              "    [theme=dark] .colab-df-convert:hover {\n",
              "      background-color: #434B5C;\n",
              "      box-shadow: 0px 1px 3px 1px rgba(0, 0, 0, 0.15);\n",
              "      filter: drop-shadow(0px 1px 2px rgba(0, 0, 0, 0.3));\n",
              "      fill: #FFFFFF;\n",
              "    }\n",
              "  </style>\n",
              "\n",
              "      <script>\n",
              "        const buttonEl =\n",
              "          document.querySelector('#df-134dfdba-289c-45a2-9873-5e4e840e54cb button.colab-df-convert');\n",
              "        buttonEl.style.display =\n",
              "          google.colab.kernel.accessAllowed ? 'block' : 'none';\n",
              "\n",
              "        async function convertToInteractive(key) {\n",
              "          const element = document.querySelector('#df-134dfdba-289c-45a2-9873-5e4e840e54cb');\n",
              "          const dataTable =\n",
              "            await google.colab.kernel.invokeFunction('convertToInteractive',\n",
              "                                                     [key], {});\n",
              "          if (!dataTable) return;\n",
              "\n",
              "          const docLinkHtml = 'Like what you see? Visit the ' +\n",
              "            '<a target=\"_blank\" href=https://colab.research.google.com/notebooks/data_table.ipynb>data table notebook</a>'\n",
              "            + ' to learn more about interactive tables.';\n",
              "          element.innerHTML = '';\n",
              "          dataTable['output_type'] = 'display_data';\n",
              "          await google.colab.output.renderOutput(dataTable, element);\n",
              "          const docLink = document.createElement('div');\n",
              "          docLink.innerHTML = docLinkHtml;\n",
              "          element.appendChild(docLink);\n",
              "        }\n",
              "      </script>\n",
              "    </div>\n",
              "  </div>\n",
              "  "
            ]
          },
          "metadata": {},
          "execution_count": 51
        }
      ]
    },
    {
      "cell_type": "code",
      "source": [
        "submission = pd.DataFrame({'custid' : test.cust_id, 'gender' : rf_pred}) # 데이터프레임 만드는 법 알아두자!"
      ],
      "metadata": {
        "colab": {
          "base_uri": "https://localhost:8080/",
          "height": 303
        },
        "id": "n4p_64Z7UjfE",
        "outputId": "c2eb616f-3b79-4780-c8d9-c890357554a1"
      },
      "id": "n4p_64Z7UjfE",
      "execution_count": 52,
      "outputs": [
        {
          "output_type": "error",
          "ename": "AttributeError",
          "evalue": "ignored",
          "traceback": [
            "\u001b[0;31m---------------------------------------------------------------------------\u001b[0m",
            "\u001b[0;31mAttributeError\u001b[0m                            Traceback (most recent call last)",
            "\u001b[0;32m<ipython-input-52-aaedc8ef4bdd>\u001b[0m in \u001b[0;36m<module>\u001b[0;34m()\u001b[0m\n\u001b[0;32m----> 1\u001b[0;31m \u001b[0msubmission\u001b[0m \u001b[0;34m=\u001b[0m \u001b[0mpd\u001b[0m\u001b[0;34m.\u001b[0m\u001b[0mDataFrame\u001b[0m\u001b[0;34m(\u001b[0m\u001b[0;34m{\u001b[0m\u001b[0;34m'custid'\u001b[0m \u001b[0;34m:\u001b[0m \u001b[0mtest\u001b[0m\u001b[0;34m.\u001b[0m\u001b[0mcust_id\u001b[0m\u001b[0;34m,\u001b[0m \u001b[0;34m'gender'\u001b[0m \u001b[0;34m:\u001b[0m \u001b[0mrf_pred\u001b[0m\u001b[0;34m}\u001b[0m\u001b[0;34m)\u001b[0m\u001b[0;34m\u001b[0m\u001b[0;34m\u001b[0m\u001b[0m\n\u001b[0m",
            "\u001b[0;32m/usr/local/lib/python3.7/dist-packages/pandas/core/generic.py\u001b[0m in \u001b[0;36m__getattr__\u001b[0;34m(self, name)\u001b[0m\n\u001b[1;32m   5485\u001b[0m         ):\n\u001b[1;32m   5486\u001b[0m             \u001b[0;32mreturn\u001b[0m \u001b[0mself\u001b[0m\u001b[0;34m[\u001b[0m\u001b[0mname\u001b[0m\u001b[0;34m]\u001b[0m\u001b[0;34m\u001b[0m\u001b[0;34m\u001b[0m\u001b[0m\n\u001b[0;32m-> 5487\u001b[0;31m         \u001b[0;32mreturn\u001b[0m \u001b[0mobject\u001b[0m\u001b[0;34m.\u001b[0m\u001b[0m__getattribute__\u001b[0m\u001b[0;34m(\u001b[0m\u001b[0mself\u001b[0m\u001b[0;34m,\u001b[0m \u001b[0mname\u001b[0m\u001b[0;34m)\u001b[0m\u001b[0;34m\u001b[0m\u001b[0;34m\u001b[0m\u001b[0m\n\u001b[0m\u001b[1;32m   5488\u001b[0m \u001b[0;34m\u001b[0m\u001b[0m\n\u001b[1;32m   5489\u001b[0m     \u001b[0;32mdef\u001b[0m \u001b[0m__setattr__\u001b[0m\u001b[0;34m(\u001b[0m\u001b[0mself\u001b[0m\u001b[0;34m,\u001b[0m \u001b[0mname\u001b[0m\u001b[0;34m:\u001b[0m \u001b[0mstr\u001b[0m\u001b[0;34m,\u001b[0m \u001b[0mvalue\u001b[0m\u001b[0;34m)\u001b[0m \u001b[0;34m->\u001b[0m \u001b[0;32mNone\u001b[0m\u001b[0;34m:\u001b[0m\u001b[0;34m\u001b[0m\u001b[0;34m\u001b[0m\u001b[0m\n",
            "\u001b[0;31mAttributeError\u001b[0m: 'DataFrame' object has no attribute 'cust_id'"
          ]
        }
      ]
    },
    {
      "cell_type": "code",
      "execution_count": 47,
      "id": "77170179",
      "metadata": {
        "colab": {
          "base_uri": "https://localhost:8080/",
          "height": 174
        },
        "id": "77170179",
        "outputId": "aa9a999b-9b24-44d0-f0f6-de87369c244a"
      },
      "outputs": [
        {
          "output_type": "error",
          "ename": "NameError",
          "evalue": "ignored",
          "traceback": [
            "\u001b[0;31m---------------------------------------------------------------------------\u001b[0m",
            "\u001b[0;31mNameError\u001b[0m                                 Traceback (most recent call last)",
            "\u001b[0;32m<ipython-input-47-98d4352ffc07>\u001b[0m in \u001b[0;36m<module>\u001b[0;34m()\u001b[0m\n\u001b[0;32m----> 1\u001b[0;31m \u001b[0msubmission\u001b[0m\u001b[0;34m[\u001b[0m\u001b[0;34m'gender'\u001b[0m\u001b[0;34m]\u001b[0m \u001b[0;34m=\u001b[0m \u001b[0mens\u001b[0m\u001b[0;34m\u001b[0m\u001b[0;34m\u001b[0m\u001b[0m\n\u001b[0m",
            "\u001b[0;31mNameError\u001b[0m: name 'submission' is not defined"
          ]
        }
      ],
      "source": [
        "submission['gender'] = ens"
      ]
    },
    {
      "cell_type": "code",
      "execution_count": null,
      "id": "f3917102",
      "metadata": {
        "id": "f3917102",
        "outputId": "40637edf-5910-4900-e1b1-71efa1f42afa"
      },
      "outputs": [
        {
          "data": {
            "text/html": [
              "<div>\n",
              "<style scoped>\n",
              "    .dataframe tbody tr th:only-of-type {\n",
              "        vertical-align: middle;\n",
              "    }\n",
              "\n",
              "    .dataframe tbody tr th {\n",
              "        vertical-align: top;\n",
              "    }\n",
              "\n",
              "    .dataframe thead th {\n",
              "        text-align: right;\n",
              "    }\n",
              "</style>\n",
              "<table border=\"1\" class=\"dataframe\">\n",
              "  <thead>\n",
              "    <tr style=\"text-align: right;\">\n",
              "      <th></th>\n",
              "      <th>custid</th>\n",
              "      <th>gender</th>\n",
              "    </tr>\n",
              "  </thead>\n",
              "  <tbody>\n",
              "    <tr>\n",
              "      <th>0</th>\n",
              "      <td>3500</td>\n",
              "      <td>0.448789</td>\n",
              "    </tr>\n",
              "    <tr>\n",
              "      <th>1</th>\n",
              "      <td>3501</td>\n",
              "      <td>0.162367</td>\n",
              "    </tr>\n",
              "    <tr>\n",
              "      <th>2</th>\n",
              "      <td>3502</td>\n",
              "      <td>0.124466</td>\n",
              "    </tr>\n",
              "    <tr>\n",
              "      <th>3</th>\n",
              "      <td>3503</td>\n",
              "      <td>0.430447</td>\n",
              "    </tr>\n",
              "    <tr>\n",
              "      <th>4</th>\n",
              "      <td>3504</td>\n",
              "      <td>0.381241</td>\n",
              "    </tr>\n",
              "    <tr>\n",
              "      <th>...</th>\n",
              "      <td>...</td>\n",
              "      <td>...</td>\n",
              "    </tr>\n",
              "    <tr>\n",
              "      <th>2477</th>\n",
              "      <td>5977</td>\n",
              "      <td>0.695288</td>\n",
              "    </tr>\n",
              "    <tr>\n",
              "      <th>2478</th>\n",
              "      <td>5978</td>\n",
              "      <td>0.404388</td>\n",
              "    </tr>\n",
              "    <tr>\n",
              "      <th>2479</th>\n",
              "      <td>5979</td>\n",
              "      <td>0.415811</td>\n",
              "    </tr>\n",
              "    <tr>\n",
              "      <th>2480</th>\n",
              "      <td>5980</td>\n",
              "      <td>0.386653</td>\n",
              "    </tr>\n",
              "    <tr>\n",
              "      <th>2481</th>\n",
              "      <td>5981</td>\n",
              "      <td>0.613023</td>\n",
              "    </tr>\n",
              "  </tbody>\n",
              "</table>\n",
              "<p>2482 rows × 2 columns</p>\n",
              "</div>"
            ],
            "text/plain": [
              "      custid    gender\n",
              "0       3500  0.448789\n",
              "1       3501  0.162367\n",
              "2       3502  0.124466\n",
              "3       3503  0.430447\n",
              "4       3504  0.381241\n",
              "...      ...       ...\n",
              "2477    5977  0.695288\n",
              "2478    5978  0.404388\n",
              "2479    5979  0.415811\n",
              "2480    5980  0.386653\n",
              "2481    5981  0.613023\n",
              "\n",
              "[2482 rows x 2 columns]"
            ]
          },
          "execution_count": 64,
          "metadata": {},
          "output_type": "execute_result"
        }
      ],
      "source": [
        "submission"
      ]
    },
    {
      "cell_type": "code",
      "execution_count": null,
      "id": "2ed9aeb5",
      "metadata": {
        "id": "2ed9aeb5",
        "outputId": "9f4d2c3a-60d4-4dbb-8466-c6e5e77758cb"
      },
      "outputs": [
        {
          "data": {
            "text/html": [
              "<div>\n",
              "<style scoped>\n",
              "    .dataframe tbody tr th:only-of-type {\n",
              "        vertical-align: middle;\n",
              "    }\n",
              "\n",
              "    .dataframe tbody tr th {\n",
              "        vertical-align: top;\n",
              "    }\n",
              "\n",
              "    .dataframe thead th {\n",
              "        text-align: right;\n",
              "    }\n",
              "</style>\n",
              "<table border=\"1\" class=\"dataframe\">\n",
              "  <thead>\n",
              "    <tr style=\"text-align: right;\">\n",
              "      <th></th>\n",
              "      <th>custid</th>\n",
              "      <th>gender</th>\n",
              "    </tr>\n",
              "  </thead>\n",
              "  <tbody>\n",
              "    <tr>\n",
              "      <th>0</th>\n",
              "      <td>3500</td>\n",
              "      <td>0.469</td>\n",
              "    </tr>\n",
              "    <tr>\n",
              "      <th>1</th>\n",
              "      <td>3501</td>\n",
              "      <td>0.209</td>\n",
              "    </tr>\n",
              "    <tr>\n",
              "      <th>2</th>\n",
              "      <td>3502</td>\n",
              "      <td>0.186</td>\n",
              "    </tr>\n",
              "    <tr>\n",
              "      <th>3</th>\n",
              "      <td>3503</td>\n",
              "      <td>0.481</td>\n",
              "    </tr>\n",
              "    <tr>\n",
              "      <th>4</th>\n",
              "      <td>3504</td>\n",
              "      <td>0.410</td>\n",
              "    </tr>\n",
              "    <tr>\n",
              "      <th>...</th>\n",
              "      <td>...</td>\n",
              "      <td>...</td>\n",
              "    </tr>\n",
              "    <tr>\n",
              "      <th>2477</th>\n",
              "      <td>5977</td>\n",
              "      <td>0.635</td>\n",
              "    </tr>\n",
              "    <tr>\n",
              "      <th>2478</th>\n",
              "      <td>5978</td>\n",
              "      <td>0.171</td>\n",
              "    </tr>\n",
              "    <tr>\n",
              "      <th>2479</th>\n",
              "      <td>5979</td>\n",
              "      <td>0.470</td>\n",
              "    </tr>\n",
              "    <tr>\n",
              "      <th>2480</th>\n",
              "      <td>5980</td>\n",
              "      <td>0.334</td>\n",
              "    </tr>\n",
              "    <tr>\n",
              "      <th>2481</th>\n",
              "      <td>5981</td>\n",
              "      <td>0.608</td>\n",
              "    </tr>\n",
              "  </tbody>\n",
              "</table>\n",
              "<p>2482 rows × 2 columns</p>\n",
              "</div>"
            ],
            "text/plain": [
              "      custid  gender\n",
              "0       3500   0.469\n",
              "1       3501   0.209\n",
              "2       3502   0.186\n",
              "3       3503   0.481\n",
              "4       3504   0.410\n",
              "...      ...     ...\n",
              "2477    5977   0.635\n",
              "2478    5978   0.171\n",
              "2479    5979   0.470\n",
              "2480    5980   0.334\n",
              "2481    5981   0.608\n",
              "\n",
              "[2482 rows x 2 columns]"
            ]
          },
          "execution_count": 60,
          "metadata": {},
          "output_type": "execute_result"
        }
      ],
      "source": [
        "submission['gender'] = ens"
      ]
    },
    {
      "cell_type": "markdown",
      "id": "39fff7f4",
      "metadata": {
        "id": "39fff7f4"
      },
      "source": [
        "### 주의> 분류 문제에서 앙상블을 할 때는 무조건 predict_proba를 한다.\n",
        "- predict -> class를 반환\n",
        "- predict_proba -> probability를 반환\n",
        "\n",
        "***\n",
        "- 하드 방식 : 클래스를 예측하고 앙상블 하는 방법으로 다수결 원리\n",
        "- 소프트 방식 : 확률로 예측하고 앙상블 하는 방법 -> 정확도, precision, recall_score, f1_score, roc_auc_score 다 가능\n",
        "\n",
        "\n",
        "[0, 1, 1, 0, 0, 0, 0, 0, 0, 0]"
      ]
    },
    {
      "cell_type": "code",
      "execution_count": null,
      "id": "3823bcfc",
      "metadata": {
        "scrolled": false,
        "id": "3823bcfc",
        "outputId": "0b44cd37-49e0-4b27-8b23-74b310c5725c"
      },
      "outputs": [
        {
          "data": {
            "text/plain": [
              "array([0.469, 0.209, 0.186, ..., 0.47 , 0.334, 0.608])"
            ]
          },
          "execution_count": 29,
          "metadata": {},
          "output_type": "execute_result"
        }
      ],
      "source": [
        "rf_pred"
      ]
    },
    {
      "cell_type": "code",
      "execution_count": null,
      "id": "2784684c",
      "metadata": {
        "id": "2784684c"
      },
      "outputs": [],
      "source": [
        "submission = pd.DataFrame({'custid' : test.cust_id, 'gender' : rf_pred})"
      ]
    },
    {
      "cell_type": "code",
      "execution_count": null,
      "id": "824f7806",
      "metadata": {
        "id": "824f7806",
        "outputId": "d4cfbc5e-1dd4-4750-8a5d-45b11f21c579"
      },
      "outputs": [
        {
          "data": {
            "text/html": [
              "<div>\n",
              "<style scoped>\n",
              "    .dataframe tbody tr th:only-of-type {\n",
              "        vertical-align: middle;\n",
              "    }\n",
              "\n",
              "    .dataframe tbody tr th {\n",
              "        vertical-align: top;\n",
              "    }\n",
              "\n",
              "    .dataframe thead th {\n",
              "        text-align: right;\n",
              "    }\n",
              "</style>\n",
              "<table border=\"1\" class=\"dataframe\">\n",
              "  <thead>\n",
              "    <tr style=\"text-align: right;\">\n",
              "      <th></th>\n",
              "      <th>custid</th>\n",
              "      <th>gender</th>\n",
              "    </tr>\n",
              "  </thead>\n",
              "  <tbody>\n",
              "    <tr>\n",
              "      <th>0</th>\n",
              "      <td>3500</td>\n",
              "      <td>0.469</td>\n",
              "    </tr>\n",
              "    <tr>\n",
              "      <th>1</th>\n",
              "      <td>3501</td>\n",
              "      <td>0.209</td>\n",
              "    </tr>\n",
              "    <tr>\n",
              "      <th>2</th>\n",
              "      <td>3502</td>\n",
              "      <td>0.186</td>\n",
              "    </tr>\n",
              "    <tr>\n",
              "      <th>3</th>\n",
              "      <td>3503</td>\n",
              "      <td>0.481</td>\n",
              "    </tr>\n",
              "    <tr>\n",
              "      <th>4</th>\n",
              "      <td>3504</td>\n",
              "      <td>0.410</td>\n",
              "    </tr>\n",
              "    <tr>\n",
              "      <th>...</th>\n",
              "      <td>...</td>\n",
              "      <td>...</td>\n",
              "    </tr>\n",
              "    <tr>\n",
              "      <th>2477</th>\n",
              "      <td>5977</td>\n",
              "      <td>0.635</td>\n",
              "    </tr>\n",
              "    <tr>\n",
              "      <th>2478</th>\n",
              "      <td>5978</td>\n",
              "      <td>0.171</td>\n",
              "    </tr>\n",
              "    <tr>\n",
              "      <th>2479</th>\n",
              "      <td>5979</td>\n",
              "      <td>0.470</td>\n",
              "    </tr>\n",
              "    <tr>\n",
              "      <th>2480</th>\n",
              "      <td>5980</td>\n",
              "      <td>0.334</td>\n",
              "    </tr>\n",
              "    <tr>\n",
              "      <th>2481</th>\n",
              "      <td>5981</td>\n",
              "      <td>0.608</td>\n",
              "    </tr>\n",
              "  </tbody>\n",
              "</table>\n",
              "<p>2482 rows × 2 columns</p>\n",
              "</div>"
            ],
            "text/plain": [
              "      custid  gender\n",
              "0       3500   0.469\n",
              "1       3501   0.209\n",
              "2       3502   0.186\n",
              "3       3503   0.481\n",
              "4       3504   0.410\n",
              "...      ...     ...\n",
              "2477    5977   0.635\n",
              "2478    5978   0.171\n",
              "2479    5979   0.470\n",
              "2480    5980   0.334\n",
              "2481    5981   0.608\n",
              "\n",
              "[2482 rows x 2 columns]"
            ]
          },
          "execution_count": 35,
          "metadata": {},
          "output_type": "execute_result"
        }
      ],
      "source": [
        "submission"
      ]
    },
    {
      "cell_type": "code",
      "execution_count": null,
      "id": "76c8d06d",
      "metadata": {
        "id": "76c8d06d"
      },
      "outputs": [],
      "source": [
        "submission.to_csv('sample_submission.csv', index = False) # csv파일로 만들기 알아두자!"
      ]
    },
    {
      "cell_type": "code",
      "execution_count": null,
      "id": "dea6212b",
      "metadata": {
        "id": "dea6212b"
      },
      "outputs": [],
      "source": [
        "rf_pred = rf_pred / 10"
      ]
    },
    {
      "cell_type": "markdown",
      "id": "de1ae0b4",
      "metadata": {
        "id": "de1ae0b4"
      },
      "source": [
        "- 1, 2, 3의 평균을 구해라 -> (1 + 2 + 3) / 3 = 2\n",
        "- 1/3 + 2/3 + 3/3 = 2"
      ]
    },
    {
      "cell_type": "markdown",
      "id": "17dff4eb",
      "metadata": {
        "id": "17dff4eb"
      },
      "source": [
        "***\n",
        "### <font color = 'red'> Quiz> 앙상블로 Regression 문제 해결! - price 예측 & 평가지표 : MAE"
      ]
    },
    {
      "cell_type": "code",
      "execution_count": null,
      "id": "3b1bd3ac",
      "metadata": {
        "id": "3b1bd3ac"
      },
      "outputs": [],
      "source": [
        "train = pd.read_csv(\"house_sales_train.csv\")\n",
        "test = pd.read_csv('house_sales_test.csv')"
      ]
    },
    {
      "cell_type": "code",
      "execution_count": null,
      "id": "e43e8649",
      "metadata": {
        "id": "e43e8649"
      },
      "outputs": [],
      "source": [
        "train = train.iloc[:, 2:]\n",
        "test = test.iloc[:, 2:]"
      ]
    },
    {
      "cell_type": "markdown",
      "id": "ef4e6840",
      "metadata": {
        "id": "ef4e6840"
      },
      "source": [
        "### RandomForest + XGBoost + LightGBM"
      ]
    },
    {
      "cell_type": "code",
      "execution_count": null,
      "id": "3bedecb5",
      "metadata": {
        "id": "3bedecb5"
      },
      "outputs": [],
      "source": [
        "from sklearn.ensemble import RandomForestRegressor\n",
        "from lightgbm import LGBMRegressor\n",
        "from xgboost import XGBRegressor"
      ]
    },
    {
      "cell_type": "code",
      "execution_count": null,
      "id": "a1ce2425",
      "metadata": {
        "id": "a1ce2425"
      },
      "outputs": [],
      "source": [
        "rf_pred = np.zeros((test.shape[0]))"
      ]
    },
    {
      "cell_type": "code",
      "execution_count": null,
      "id": "3f8c5184",
      "metadata": {
        "id": "3f8c5184",
        "outputId": "0df6ebab-da62-41c4-f33f-09193d380022"
      },
      "outputs": [
        {
          "data": {
            "text/plain": [
              "(6613, 6613)"
            ]
          },
          "execution_count": 74,
          "metadata": {},
          "output_type": "execute_result"
        }
      ],
      "source": [
        "len(rf_pred), test.shape[0]"
      ]
    },
    {
      "cell_type": "code",
      "execution_count": null,
      "id": "727146d7",
      "metadata": {
        "id": "727146d7"
      },
      "outputs": [],
      "source": [
        "from sklearn.model_selection import KFold\n",
        "from sklearn.metrics import mean_absolute_error"
      ]
    },
    {
      "cell_type": "code",
      "execution_count": null,
      "id": "c0f68c07",
      "metadata": {
        "id": "c0f68c07"
      },
      "outputs": [],
      "source": [
        "kf = KFold(n_splits = 10, random_state = 42, shuffle = True)"
      ]
    },
    {
      "cell_type": "code",
      "execution_count": null,
      "id": "f71d2234",
      "metadata": {
        "id": "f71d2234"
      },
      "outputs": [],
      "source": [
        "X = train.drop('price', axis = 1)\n",
        "y = train.price"
      ]
    },
    {
      "cell_type": "code",
      "execution_count": null,
      "id": "f6a0c4c2",
      "metadata": {
        "id": "f6a0c4c2"
      },
      "outputs": [],
      "source": [
        "target = test.drop('price', axis = 1)"
      ]
    },
    {
      "cell_type": "code",
      "execution_count": null,
      "id": "ec476cc1",
      "metadata": {
        "id": "ec476cc1",
        "outputId": "13c24841-c848-436d-a92b-8af4c0a6af90"
      },
      "outputs": [
        {
          "name": "stdout",
          "output_type": "stream",
          "text": [
            "73341.16792414286\n",
            "64378.02854652958\n",
            "68901.5862498148\n",
            "68793.34251000002\n",
            "77823.88373585715\n",
            "71763.55813657143\n",
            "73478.30539715874\n",
            "67977.45308170898\n",
            "73384.17159203174\n",
            "65563.01347101587\n"
          ]
        }
      ],
      "source": [
        "for tr_idx, val_idx in kf.split(X, y) :\n",
        "    tr_x, tr_y = X.iloc[tr_idx], y.iloc[tr_idx]\n",
        "    val_x, val_y = X.iloc[val_idx], y.iloc[val_idx]\n",
        "    \n",
        "    rf = RandomForestRegressor(random_state = 42)\n",
        "    \n",
        "    rf.fit(tr_x, tr_y)\n",
        "    \n",
        "    val_pred = rf.predict(val_x)\n",
        "    val_mae = mean_absolute_error(val_y, val_pred)\n",
        "    print(val_mae)\n",
        "    \n",
        "    fold_pred = rf.predict(target) / 10\n",
        "    rf_pred += fold_pred"
      ]
    },
    {
      "cell_type": "markdown",
      "id": "2f449564",
      "metadata": {
        "id": "2f449564"
      },
      "source": [
        "### LGBM"
      ]
    },
    {
      "cell_type": "code",
      "execution_count": null,
      "id": "d54df6dd",
      "metadata": {
        "id": "d54df6dd"
      },
      "outputs": [],
      "source": [
        "lgbm_pred = np.zeros((target.shape[0]))\n",
        "mae_list = []"
      ]
    },
    {
      "cell_type": "code",
      "execution_count": null,
      "id": "c7ced854",
      "metadata": {
        "id": "c7ced854",
        "outputId": "8e946599-1fd0-4191-8f9e-4ff383cee572"
      },
      "outputs": [
        {
          "name": "stdout",
          "output_type": "stream",
          "text": [
            "72678.6988325384\n",
            "63464.38847128298\n",
            "65716.3684644482\n",
            "66087.59761285775\n",
            "72313.0572630867\n",
            "67760.88870545494\n",
            "70584.55262242688\n",
            "65135.567493456016\n",
            "70372.18188371092\n",
            "63502.88117387171\n"
          ]
        }
      ],
      "source": [
        "for tr_idx, val_idx in kf.split(X, y) :\n",
        "    tr_x, tr_y = X.iloc[tr_idx], y.iloc[tr_idx]\n",
        "    val_x, val_y = X.iloc[val_idx], y.iloc[val_idx]\n",
        "    \n",
        "    lgbm = LGBMRegressor(random_state = 42)\n",
        "    \n",
        "    lgbm.fit(tr_x, tr_y)\n",
        "    \n",
        "    val_pred = lgbm.predict(val_x)\n",
        "    val_mae = mean_absolute_error(val_y, val_pred)\n",
        "    print(val_mae)\n",
        "    mae_list.append(val_mae)\n",
        "    \n",
        "    fold_pred = lgbm.predict(target) / 10\n",
        "    lgbm_pred += fold_pred"
      ]
    },
    {
      "cell_type": "code",
      "execution_count": null,
      "id": "47369998",
      "metadata": {
        "scrolled": true,
        "id": "47369998",
        "outputId": "4d5fcd6d-5f74-455d-c14a-c2c05c3f57df"
      },
      "outputs": [
        {
          "data": {
            "text/plain": [
              "68344.08318956819"
            ]
          },
          "execution_count": 101,
          "metadata": {},
          "output_type": "execute_result"
        }
      ],
      "source": [
        "np.mean(mae_list)"
      ]
    },
    {
      "cell_type": "markdown",
      "id": "23da90fc",
      "metadata": {
        "id": "23da90fc"
      },
      "source": [
        "### XGBoost"
      ]
    },
    {
      "cell_type": "code",
      "execution_count": null,
      "id": "ee09f4d2",
      "metadata": {
        "id": "ee09f4d2"
      },
      "outputs": [],
      "source": [
        "xgb_pred = np.zeros((target.shape[0]))\n",
        "mae_list = []"
      ]
    },
    {
      "cell_type": "code",
      "execution_count": null,
      "id": "d142804e",
      "metadata": {
        "id": "d142804e",
        "outputId": "455a2483-08d1-48af-bc18-306c51b9a2c9"
      },
      "outputs": [
        {
          "name": "stdout",
          "output_type": "stream",
          "text": [
            "70546.39083854167\n",
            "63967.39294791667\n",
            "67513.69255208333\n",
            "68129.62514583333\n",
            "75464.90358333333\n",
            "71663.354578125\n",
            "71124.68770833334\n",
            "65147.80371875\n",
            "70971.4149453125\n",
            "64736.21525\n"
          ]
        }
      ],
      "source": [
        "for tr_idx, val_idx in kf.split(X, y) :\n",
        "    tr_x, tr_y = X.iloc[tr_idx], y.iloc[tr_idx]\n",
        "    val_x, val_y = X.iloc[val_idx], y.iloc[val_idx]\n",
        "    \n",
        "    xgb = XGBRegressor(random_state = 42)\n",
        "    \n",
        "    xgb.fit(tr_x, tr_y)\n",
        "    \n",
        "    val_pred = xgb.predict(val_x)\n",
        "    val_mae = mean_absolute_error(val_y, val_pred)\n",
        "    print(val_mae)\n",
        "    mae_list.append(val_mae)\n",
        "    \n",
        "    fold_pred = xgb.predict(target) / 10\n",
        "    xgb_pred += fold_pred"
      ]
    },
    {
      "cell_type": "code",
      "execution_count": null,
      "id": "ef4a5114",
      "metadata": {
        "scrolled": true,
        "id": "ef4a5114",
        "outputId": "edaad96d-e3e9-43cf-e62f-40047805a22d"
      },
      "outputs": [
        {
          "data": {
            "text/plain": [
              "68926.54812682292"
            ]
          },
          "execution_count": 99,
          "metadata": {},
          "output_type": "execute_result"
        }
      ],
      "source": [
        "np.mean(mae_list)"
      ]
    },
    {
      "cell_type": "code",
      "execution_count": null,
      "id": "67f9b1d5",
      "metadata": {
        "id": "67f9b1d5"
      },
      "outputs": [],
      "source": [
        "final_pred = (rf_pred + lgbm_pred + xgb_pred) / 3"
      ]
    },
    {
      "cell_type": "code",
      "execution_count": null,
      "id": "0d545298",
      "metadata": {
        "id": "0d545298"
      },
      "outputs": [],
      "source": [
        "test['prediction'] = final_pred"
      ]
    },
    {
      "cell_type": "code",
      "execution_count": null,
      "id": "973d64c9",
      "metadata": {
        "id": "973d64c9",
        "outputId": "7b7d0aa5-f386-47de-9316-21be5bcf4cd9"
      },
      "outputs": [
        {
          "data": {
            "text/plain": [
              "64092.57481471857"
            ]
          },
          "execution_count": 94,
          "metadata": {},
          "output_type": "execute_result"
        }
      ],
      "source": [
        "mean_absolute_error(test['price'], test['prediction'])"
      ]
    }
  ],
  "metadata": {
    "kernelspec": {
      "display_name": "Python 3",
      "language": "python",
      "name": "python3"
    },
    "language_info": {
      "codemirror_mode": {
        "name": "ipython",
        "version": 3
      },
      "file_extension": ".py",
      "mimetype": "text/x-python",
      "name": "python",
      "nbconvert_exporter": "python",
      "pygments_lexer": "ipython3",
      "version": "3.8.8"
    },
    "colab": {
      "name": "WEEK_04_ENSEMBLE.ipynb",
      "provenance": [],
      "collapsed_sections": []
    }
  },
  "nbformat": 4,
  "nbformat_minor": 5
}