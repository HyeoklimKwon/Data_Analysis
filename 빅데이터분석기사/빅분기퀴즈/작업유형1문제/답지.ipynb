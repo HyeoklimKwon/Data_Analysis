{
  "nbformat": 4,
  "nbformat_minor": 0,
  "metadata": {
    "colab": {
      "name": "Untitled8.ipynb",
      "provenance": [],
      "collapsed_sections": []
    },
    "kernelspec": {
      "name": "python3",
      "display_name": "Python 3"
    },
    "language_info": {
      "name": "python"
    }
  },
  "cells": [
    {
      "cell_type": "code",
      "execution_count": 74,
      "metadata": {
        "colab": {
          "base_uri": "https://localhost:8080/"
        },
        "id": "G1dmLlCGzdOZ",
        "outputId": "a1542a53-cad5-4e7b-8015-6e99b79aa5aa"
      },
      "outputs": [
        {
          "output_type": "execute_result",
          "data": {
            "text/plain": [
              "19.0"
            ]
          },
          "metadata": {},
          "execution_count": 74
        }
      ],
      "source": [
        "# Q1\n",
        "from pandas import pandas as pd\n",
        "df1 = pd.read_csv('problem1_2.csv')\n",
        "df1.housing_median_age.dropna()\n",
        "\n",
        "k = int(df1.shape[0]*0.7)\n",
        "df1 = df1.iloc[:k]\n",
        "df1.housing_median_age.quantile(0.25)"
      ]
    },
    {
      "cell_type": "code",
      "source": [
        "# Q2\n",
        "\n",
        "df2 = pd.read_csv('problem1_2.csv')\n",
        "df2_copy = pd.read_csv('problem1_2.csv')\n",
        "\n",
        "\n",
        "\n",
        "\n",
        "k2 = int(df2.shape[0]*0.8)\n",
        "df2 = df2.iloc[:k2]\n",
        "df2_copy = df2_copy.iloc[:k2]\n",
        "std_copy = df2_copy.total_bedrooms.std()\n",
        "\n",
        "df2.total_bedrooms = df2.total_bedrooms.fillna(df2.total_bedrooms.median())\n",
        "std_real = df2.total_bedrooms.std()\n",
        "\n",
        "result = abs(std_real-std_copy)\n",
        "result"
      ],
      "metadata": {
        "colab": {
          "base_uri": "https://localhost:8080/"
        },
        "id": "S_vHjwXUz5ae",
        "outputId": "334f7dc1-a1e3-4089-bbb4-8f95e5339b2e"
      },
      "execution_count": 73,
      "outputs": [
        {
          "output_type": "execute_result",
          "data": {
            "text/plain": [
              "1.9751472916456692"
            ]
          },
          "metadata": {},
          "execution_count": 73
        }
      ]
    },
    {
      "cell_type": "code",
      "source": [
        "# Q3\n",
        "df3 = pd.read_csv('problem3.csv')\n",
        "a = df3.isnull().sum().sort_values()\n",
        "a = a/len(df3)\n",
        "result = a.keys()[-1]\n"
      ],
      "metadata": {
        "id": "JWa0gFopz6vR"
      },
      "execution_count": 86,
      "outputs": []
    },
    {
      "cell_type": "code",
      "source": [
        ""
      ],
      "metadata": {
        "id": "cxUv7FYt43or"
      },
      "execution_count": null,
      "outputs": []
    }
  ]
}