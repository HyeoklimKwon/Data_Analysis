{
  "nbformat": 4,
  "nbformat_minor": 0,
  "metadata": {
    "colab": {
      "name": "롯데_멤버스_대회_수정.ipynb",
      "provenance": [],
      "collapsed_sections": [
        "n3Ys8ve1o-Hu",
        "R4k8T24FuvFx"
      ]
    },
    "kernelspec": {
      "name": "python3",
      "display_name": "Python 3"
    },
    "language_info": {
      "name": "python"
    }
  },
  "cells": [
    {
      "cell_type": "markdown",
      "source": [
        "# 데이터 불러오기(구글드라이브)"
      ],
      "metadata": {
        "id": "JAbXZEW6AfSr"
      }
    },
    {
      "cell_type": "code",
      "source": [
        "# 한글 폰트 설치 -> 런타임 다시 시작\n",
        "!sudo apt-get install -y fonts-nanum\n",
        "!sudo fc-cache -fv\n",
        "!rm ~/.cache/matplotlib -rf"
      ],
      "metadata": {
        "id": "rlNHq804I-Js"
      },
      "execution_count": null,
      "outputs": []
    },
    {
      "cell_type": "code",
      "execution_count": 1,
      "metadata": {
        "colab": {
          "base_uri": "https://localhost:8080/"
        },
        "id": "jLNIJLmB4eii",
        "outputId": "b260f203-f624-4431-b832-3bba499081f6"
      },
      "outputs": [
        {
          "output_type": "stream",
          "name": "stdout",
          "text": [
            "Mounted at /gdrive\n"
          ]
        }
      ],
      "source": [
        "# 구글 드라이브를 /gdrive에 마운트 합니다.\n",
        "from google.colab import drive\n",
        "#drive.flush_and_unmount()  # 파일목록 갱신이 안될때는 이 부분 주석처리를 해제하고 실행하시기 바랍니다.\n",
        "drive.mount('/gdrive')"
      ]
    },
    {
      "cell_type": "code",
      "source": [
        "import pandas as pd\n",
        "# /gdrive/MyDrive/Lpay\n",
        "\n",
        "data1 = pd.read_csv('/gdrive/MyDrive/Lpay/LPOINT_BIG_COMP_01_DEMO.csv')\n",
        "data2 = pd.read_csv('/gdrive/MyDrive/Lpay/LPOINT_BIG_COMP_02_PDDE.csv')\n",
        "data3 = pd.read_csv('/gdrive/MyDrive/Lpay/LPOINT_BIG_COMP_03_COP_U.csv')\n",
        "data4 = pd.read_csv('/gdrive/MyDrive/Lpay/LPOINT_BIG_COMP_04_PD_CLAC.csv')\n",
        "data5 = pd.read_csv('/gdrive/MyDrive/Lpay/LPOINT_BIG_COMP_05_BR.csv')\n",
        "data6 = pd.read_csv('/gdrive/MyDrive/Lpay/LPOINT_BIG_COMP_06_LPAY.csv')"
      ],
      "metadata": {
        "colab": {
          "base_uri": "https://localhost:8080/"
        },
        "id": "LMGZEODx4uo4",
        "outputId": "c61eb0c7-30bc-43e6-e217-c58fe0c07771"
      },
      "execution_count": 2,
      "outputs": [
        {
          "output_type": "stream",
          "name": "stderr",
          "text": [
            "/usr/local/lib/python3.7/dist-packages/IPython/core/interactiveshell.py:2882: DtypeWarning: Columns (4) have mixed types.Specify dtype option on import or set low_memory=False.\n",
            "  exec(code_obj, self.user_global_ns, self.user_ns)\n"
          ]
        }
      ]
    },
    {
      "cell_type": "markdown",
      "source": [
        "# 데이터 간단히 보기"
      ],
      "metadata": {
        "id": "C56vk39T6GcB"
      }
    },
    {
      "cell_type": "markdown",
      "source": [
        "## 데이터 확인"
      ],
      "metadata": {
        "id": "yhUk0iBnAotq"
      }
    },
    {
      "cell_type": "markdown",
      "source": [
        "### 1. Demo \n",
        "\n",
        "*   cust / 고객번호 / 고객의 고유 식별번호 / M000034966\n",
        "*   ma_fem_dv / 성별 / 여성,남성 / 여성 \n",
        "*   ages / 연령대 / 20대~70대이상 / 40대\n",
        "*   zon_hlv / 거주지 대분류 코드/ 지역 대분류 코드 / Z07"
      ],
      "metadata": {
        "id": "2HBbtmkx6S2n"
      }
    },
    {
      "cell_type": "code",
      "source": [
        "data1.head(3)"
      ],
      "metadata": {
        "colab": {
          "base_uri": "https://localhost:8080/",
          "height": 143
        },
        "id": "vuAukkfg5D1p",
        "outputId": "efaa276e-306a-4035-8572-cd77b0771b2f"
      },
      "execution_count": 4,
      "outputs": [
        {
          "output_type": "execute_result",
          "data": {
            "text/plain": [
              "         cust ma_fem_dv ages zon_hlv\n",
              "0  M000034966        여성  40대     Z07\n",
              "1  M000059535        여성  30대     Z12\n",
              "2  M000136117        여성  30대     Z11"
            ],
            "text/html": [
              "\n",
              "  <div id=\"df-0fea0553-c75c-4d70-9e18-780674df03bf\">\n",
              "    <div class=\"colab-df-container\">\n",
              "      <div>\n",
              "<style scoped>\n",
              "    .dataframe tbody tr th:only-of-type {\n",
              "        vertical-align: middle;\n",
              "    }\n",
              "\n",
              "    .dataframe tbody tr th {\n",
              "        vertical-align: top;\n",
              "    }\n",
              "\n",
              "    .dataframe thead th {\n",
              "        text-align: right;\n",
              "    }\n",
              "</style>\n",
              "<table border=\"1\" class=\"dataframe\">\n",
              "  <thead>\n",
              "    <tr style=\"text-align: right;\">\n",
              "      <th></th>\n",
              "      <th>cust</th>\n",
              "      <th>ma_fem_dv</th>\n",
              "      <th>ages</th>\n",
              "      <th>zon_hlv</th>\n",
              "    </tr>\n",
              "  </thead>\n",
              "  <tbody>\n",
              "    <tr>\n",
              "      <th>0</th>\n",
              "      <td>M000034966</td>\n",
              "      <td>여성</td>\n",
              "      <td>40대</td>\n",
              "      <td>Z07</td>\n",
              "    </tr>\n",
              "    <tr>\n",
              "      <th>1</th>\n",
              "      <td>M000059535</td>\n",
              "      <td>여성</td>\n",
              "      <td>30대</td>\n",
              "      <td>Z12</td>\n",
              "    </tr>\n",
              "    <tr>\n",
              "      <th>2</th>\n",
              "      <td>M000136117</td>\n",
              "      <td>여성</td>\n",
              "      <td>30대</td>\n",
              "      <td>Z11</td>\n",
              "    </tr>\n",
              "  </tbody>\n",
              "</table>\n",
              "</div>\n",
              "      <button class=\"colab-df-convert\" onclick=\"convertToInteractive('df-0fea0553-c75c-4d70-9e18-780674df03bf')\"\n",
              "              title=\"Convert this dataframe to an interactive table.\"\n",
              "              style=\"display:none;\">\n",
              "        \n",
              "  <svg xmlns=\"http://www.w3.org/2000/svg\" height=\"24px\"viewBox=\"0 0 24 24\"\n",
              "       width=\"24px\">\n",
              "    <path d=\"M0 0h24v24H0V0z\" fill=\"none\"/>\n",
              "    <path d=\"M18.56 5.44l.94 2.06.94-2.06 2.06-.94-2.06-.94-.94-2.06-.94 2.06-2.06.94zm-11 1L8.5 8.5l.94-2.06 2.06-.94-2.06-.94L8.5 2.5l-.94 2.06-2.06.94zm10 10l.94 2.06.94-2.06 2.06-.94-2.06-.94-.94-2.06-.94 2.06-2.06.94z\"/><path d=\"M17.41 7.96l-1.37-1.37c-.4-.4-.92-.59-1.43-.59-.52 0-1.04.2-1.43.59L10.3 9.45l-7.72 7.72c-.78.78-.78 2.05 0 2.83L4 21.41c.39.39.9.59 1.41.59.51 0 1.02-.2 1.41-.59l7.78-7.78 2.81-2.81c.8-.78.8-2.07 0-2.86zM5.41 20L4 18.59l7.72-7.72 1.47 1.35L5.41 20z\"/>\n",
              "  </svg>\n",
              "      </button>\n",
              "      \n",
              "  <style>\n",
              "    .colab-df-container {\n",
              "      display:flex;\n",
              "      flex-wrap:wrap;\n",
              "      gap: 12px;\n",
              "    }\n",
              "\n",
              "    .colab-df-convert {\n",
              "      background-color: #E8F0FE;\n",
              "      border: none;\n",
              "      border-radius: 50%;\n",
              "      cursor: pointer;\n",
              "      display: none;\n",
              "      fill: #1967D2;\n",
              "      height: 32px;\n",
              "      padding: 0 0 0 0;\n",
              "      width: 32px;\n",
              "    }\n",
              "\n",
              "    .colab-df-convert:hover {\n",
              "      background-color: #E2EBFA;\n",
              "      box-shadow: 0px 1px 2px rgba(60, 64, 67, 0.3), 0px 1px 3px 1px rgba(60, 64, 67, 0.15);\n",
              "      fill: #174EA6;\n",
              "    }\n",
              "\n",
              "    [theme=dark] .colab-df-convert {\n",
              "      background-color: #3B4455;\n",
              "      fill: #D2E3FC;\n",
              "    }\n",
              "\n",
              "    [theme=dark] .colab-df-convert:hover {\n",
              "      background-color: #434B5C;\n",
              "      box-shadow: 0px 1px 3px 1px rgba(0, 0, 0, 0.15);\n",
              "      filter: drop-shadow(0px 1px 2px rgba(0, 0, 0, 0.3));\n",
              "      fill: #FFFFFF;\n",
              "    }\n",
              "  </style>\n",
              "\n",
              "      <script>\n",
              "        const buttonEl =\n",
              "          document.querySelector('#df-0fea0553-c75c-4d70-9e18-780674df03bf button.colab-df-convert');\n",
              "        buttonEl.style.display =\n",
              "          google.colab.kernel.accessAllowed ? 'block' : 'none';\n",
              "\n",
              "        async function convertToInteractive(key) {\n",
              "          const element = document.querySelector('#df-0fea0553-c75c-4d70-9e18-780674df03bf');\n",
              "          const dataTable =\n",
              "            await google.colab.kernel.invokeFunction('convertToInteractive',\n",
              "                                                     [key], {});\n",
              "          if (!dataTable) return;\n",
              "\n",
              "          const docLinkHtml = 'Like what you see? Visit the ' +\n",
              "            '<a target=\"_blank\" href=https://colab.research.google.com/notebooks/data_table.ipynb>data table notebook</a>'\n",
              "            + ' to learn more about interactive tables.';\n",
              "          element.innerHTML = '';\n",
              "          dataTable['output_type'] = 'display_data';\n",
              "          await google.colab.output.renderOutput(dataTable, element);\n",
              "          const docLink = document.createElement('div');\n",
              "          docLink.innerHTML = docLinkHtml;\n",
              "          element.appendChild(docLink);\n",
              "        }\n",
              "      </script>\n",
              "    </div>\n",
              "  </div>\n",
              "  "
            ]
          },
          "metadata": {},
          "execution_count": 4
        }
      ]
    },
    {
      "cell_type": "markdown",
      "source": [
        "### 2. 상품구매정보\n",
        "\n",
        "*   cust / 고객번호 / 고객의 고유 식별번호 / M000034966\n",
        "*   rct_no / 영수증 번호 / 장바구니 식별 번호 / A01000001113\n",
        "*   chnl_dv / 채널 구분 / 온라인/오프라인 구분 / 1: 온라인, 2: 오프라인\n",
        "*   cop_c / 제휴사 / A01~06 : 유통사 / A01\n",
        "*   br_c / 점포 코드 / \t구매 점포 구분 코드 / A010039\n",
        "*   pd_c / 상품 코드 / 상품 코드 / PD0290\n",
        "*   de_dt / 구매 일자 / YYYY/MM/DD / 20210101\n",
        "*   de_hr / 구매 시간 / HH / 10\n",
        "*   buy_am / 구매 금액 / 구매한 금액 / 15000\n",
        "*   buy_ct / 구매 수량 / 구매한 수량 / 1\n"
      ],
      "metadata": {
        "id": "aoNcq7Gb7D9T"
      }
    },
    {
      "cell_type": "code",
      "source": [
        "data2.head(3)"
      ],
      "metadata": {
        "id": "_iMncU765KdB",
        "colab": {
          "base_uri": "https://localhost:8080/",
          "height": 143
        },
        "outputId": "3188c435-5481-441b-e9c8-32f86d970f3b"
      },
      "execution_count": 5,
      "outputs": [
        {
          "output_type": "execute_result",
          "data": {
            "text/plain": [
              "         cust        rct_no  chnl_dv cop_c     br_c    pd_c     de_dt  de_hr  \\\n",
              "0  M430112881  A01000001113        1   A01  A010039  PD0290  20210101     10   \n",
              "1  M646853852  A01000002265        1   A01  A010025  PD1369  20210101     10   \n",
              "2  M430112881  A01000003148        1   A01  A010039  PD0290  20210101     10   \n",
              "\n",
              "    buy_am  buy_ct  \n",
              "0  15000.0       1  \n",
              "1  79700.0       1  \n",
              "2  19000.0       1  "
            ],
            "text/html": [
              "\n",
              "  <div id=\"df-023014b6-106d-499a-be9b-e5eeafa3db54\">\n",
              "    <div class=\"colab-df-container\">\n",
              "      <div>\n",
              "<style scoped>\n",
              "    .dataframe tbody tr th:only-of-type {\n",
              "        vertical-align: middle;\n",
              "    }\n",
              "\n",
              "    .dataframe tbody tr th {\n",
              "        vertical-align: top;\n",
              "    }\n",
              "\n",
              "    .dataframe thead th {\n",
              "        text-align: right;\n",
              "    }\n",
              "</style>\n",
              "<table border=\"1\" class=\"dataframe\">\n",
              "  <thead>\n",
              "    <tr style=\"text-align: right;\">\n",
              "      <th></th>\n",
              "      <th>cust</th>\n",
              "      <th>rct_no</th>\n",
              "      <th>chnl_dv</th>\n",
              "      <th>cop_c</th>\n",
              "      <th>br_c</th>\n",
              "      <th>pd_c</th>\n",
              "      <th>de_dt</th>\n",
              "      <th>de_hr</th>\n",
              "      <th>buy_am</th>\n",
              "      <th>buy_ct</th>\n",
              "    </tr>\n",
              "  </thead>\n",
              "  <tbody>\n",
              "    <tr>\n",
              "      <th>0</th>\n",
              "      <td>M430112881</td>\n",
              "      <td>A01000001113</td>\n",
              "      <td>1</td>\n",
              "      <td>A01</td>\n",
              "      <td>A010039</td>\n",
              "      <td>PD0290</td>\n",
              "      <td>20210101</td>\n",
              "      <td>10</td>\n",
              "      <td>15000.0</td>\n",
              "      <td>1</td>\n",
              "    </tr>\n",
              "    <tr>\n",
              "      <th>1</th>\n",
              "      <td>M646853852</td>\n",
              "      <td>A01000002265</td>\n",
              "      <td>1</td>\n",
              "      <td>A01</td>\n",
              "      <td>A010025</td>\n",
              "      <td>PD1369</td>\n",
              "      <td>20210101</td>\n",
              "      <td>10</td>\n",
              "      <td>79700.0</td>\n",
              "      <td>1</td>\n",
              "    </tr>\n",
              "    <tr>\n",
              "      <th>2</th>\n",
              "      <td>M430112881</td>\n",
              "      <td>A01000003148</td>\n",
              "      <td>1</td>\n",
              "      <td>A01</td>\n",
              "      <td>A010039</td>\n",
              "      <td>PD0290</td>\n",
              "      <td>20210101</td>\n",
              "      <td>10</td>\n",
              "      <td>19000.0</td>\n",
              "      <td>1</td>\n",
              "    </tr>\n",
              "  </tbody>\n",
              "</table>\n",
              "</div>\n",
              "      <button class=\"colab-df-convert\" onclick=\"convertToInteractive('df-023014b6-106d-499a-be9b-e5eeafa3db54')\"\n",
              "              title=\"Convert this dataframe to an interactive table.\"\n",
              "              style=\"display:none;\">\n",
              "        \n",
              "  <svg xmlns=\"http://www.w3.org/2000/svg\" height=\"24px\"viewBox=\"0 0 24 24\"\n",
              "       width=\"24px\">\n",
              "    <path d=\"M0 0h24v24H0V0z\" fill=\"none\"/>\n",
              "    <path d=\"M18.56 5.44l.94 2.06.94-2.06 2.06-.94-2.06-.94-.94-2.06-.94 2.06-2.06.94zm-11 1L8.5 8.5l.94-2.06 2.06-.94-2.06-.94L8.5 2.5l-.94 2.06-2.06.94zm10 10l.94 2.06.94-2.06 2.06-.94-2.06-.94-.94-2.06-.94 2.06-2.06.94z\"/><path d=\"M17.41 7.96l-1.37-1.37c-.4-.4-.92-.59-1.43-.59-.52 0-1.04.2-1.43.59L10.3 9.45l-7.72 7.72c-.78.78-.78 2.05 0 2.83L4 21.41c.39.39.9.59 1.41.59.51 0 1.02-.2 1.41-.59l7.78-7.78 2.81-2.81c.8-.78.8-2.07 0-2.86zM5.41 20L4 18.59l7.72-7.72 1.47 1.35L5.41 20z\"/>\n",
              "  </svg>\n",
              "      </button>\n",
              "      \n",
              "  <style>\n",
              "    .colab-df-container {\n",
              "      display:flex;\n",
              "      flex-wrap:wrap;\n",
              "      gap: 12px;\n",
              "    }\n",
              "\n",
              "    .colab-df-convert {\n",
              "      background-color: #E8F0FE;\n",
              "      border: none;\n",
              "      border-radius: 50%;\n",
              "      cursor: pointer;\n",
              "      display: none;\n",
              "      fill: #1967D2;\n",
              "      height: 32px;\n",
              "      padding: 0 0 0 0;\n",
              "      width: 32px;\n",
              "    }\n",
              "\n",
              "    .colab-df-convert:hover {\n",
              "      background-color: #E2EBFA;\n",
              "      box-shadow: 0px 1px 2px rgba(60, 64, 67, 0.3), 0px 1px 3px 1px rgba(60, 64, 67, 0.15);\n",
              "      fill: #174EA6;\n",
              "    }\n",
              "\n",
              "    [theme=dark] .colab-df-convert {\n",
              "      background-color: #3B4455;\n",
              "      fill: #D2E3FC;\n",
              "    }\n",
              "\n",
              "    [theme=dark] .colab-df-convert:hover {\n",
              "      background-color: #434B5C;\n",
              "      box-shadow: 0px 1px 3px 1px rgba(0, 0, 0, 0.15);\n",
              "      filter: drop-shadow(0px 1px 2px rgba(0, 0, 0, 0.3));\n",
              "      fill: #FFFFFF;\n",
              "    }\n",
              "  </style>\n",
              "\n",
              "      <script>\n",
              "        const buttonEl =\n",
              "          document.querySelector('#df-023014b6-106d-499a-be9b-e5eeafa3db54 button.colab-df-convert');\n",
              "        buttonEl.style.display =\n",
              "          google.colab.kernel.accessAllowed ? 'block' : 'none';\n",
              "\n",
              "        async function convertToInteractive(key) {\n",
              "          const element = document.querySelector('#df-023014b6-106d-499a-be9b-e5eeafa3db54');\n",
              "          const dataTable =\n",
              "            await google.colab.kernel.invokeFunction('convertToInteractive',\n",
              "                                                     [key], {});\n",
              "          if (!dataTable) return;\n",
              "\n",
              "          const docLinkHtml = 'Like what you see? Visit the ' +\n",
              "            '<a target=\"_blank\" href=https://colab.research.google.com/notebooks/data_table.ipynb>data table notebook</a>'\n",
              "            + ' to learn more about interactive tables.';\n",
              "          element.innerHTML = '';\n",
              "          dataTable['output_type'] = 'display_data';\n",
              "          await google.colab.output.renderOutput(dataTable, element);\n",
              "          const docLink = document.createElement('div');\n",
              "          docLink.innerHTML = docLinkHtml;\n",
              "          element.appendChild(docLink);\n",
              "        }\n",
              "      </script>\n",
              "    </div>\n",
              "  </div>\n",
              "  "
            ]
          },
          "metadata": {},
          "execution_count": 5
        }
      ]
    },
    {
      "cell_type": "markdown",
      "source": [
        "### 3. 제휴사 이용 정보\n",
        "\n",
        "*   cust / 고객번호 / 고객의 고유 식별번호 / M000034966\n",
        "*   rct_no / 영수증 번호 / 장바구니 식별 번호 / A01000001113\n",
        "*   cop_c / 제휴사 / B01: 숙박업종 ,C01 C02:엔터테인먼트 ,D01 D02: F&B , E01: 렌탈업종 / B01\n",
        "*   br_c / 점포 코드 / \t점포 구분 코드 / B010012\n",
        "*   de_dt / 구매 일자 / YYYY/MM/DD / 20210101\n",
        "*   de_hr / 구매 시간 / HH / 12\n",
        "*   vst_dt / 방문일자 / YYYY/MM/DD / 20210101\n",
        "*   buy_am / 구매 금액 / 구매한 금액 / 15000\n",
        "\n",
        "*   chnl_dv / 채널 구분 / 온라인/오프라인 구분 / 1: 온라인, 2: 오프라인\n"
      ],
      "metadata": {
        "id": "Xd-VLN6r9L2x"
      }
    },
    {
      "cell_type": "code",
      "source": [
        "data3.head(3)"
      ],
      "metadata": {
        "id": "ZLS2lisq6K7G",
        "colab": {
          "base_uri": "https://localhost:8080/",
          "height": 143
        },
        "outputId": "46c10358-abfa-4f30-8f12-2fb36f9cbf1d"
      },
      "execution_count": 6,
      "outputs": [
        {
          "output_type": "execute_result",
          "data": {
            "text/plain": [
              "         cust              rct_no cop_c     br_c  chnl_dv     de_dt    vst_dt  \\\n",
              "0  M839993508  21102612B015763935   B01  B010012        1  20211026  20211026   \n",
              "1  M839993508  21110610B014219744   B01  B010012        1  20211106  20211106   \n",
              "2  M839993508  21021112B013419710   B01  B010012        1  20210211  20210211   \n",
              "\n",
              "   de_hr  buy_am  \n",
              "0     12   60000  \n",
              "1     10   17100  \n",
              "2     12  136500  "
            ],
            "text/html": [
              "\n",
              "  <div id=\"df-75f13e9f-fa1f-4b22-a6bc-cf42f309c49d\">\n",
              "    <div class=\"colab-df-container\">\n",
              "      <div>\n",
              "<style scoped>\n",
              "    .dataframe tbody tr th:only-of-type {\n",
              "        vertical-align: middle;\n",
              "    }\n",
              "\n",
              "    .dataframe tbody tr th {\n",
              "        vertical-align: top;\n",
              "    }\n",
              "\n",
              "    .dataframe thead th {\n",
              "        text-align: right;\n",
              "    }\n",
              "</style>\n",
              "<table border=\"1\" class=\"dataframe\">\n",
              "  <thead>\n",
              "    <tr style=\"text-align: right;\">\n",
              "      <th></th>\n",
              "      <th>cust</th>\n",
              "      <th>rct_no</th>\n",
              "      <th>cop_c</th>\n",
              "      <th>br_c</th>\n",
              "      <th>chnl_dv</th>\n",
              "      <th>de_dt</th>\n",
              "      <th>vst_dt</th>\n",
              "      <th>de_hr</th>\n",
              "      <th>buy_am</th>\n",
              "    </tr>\n",
              "  </thead>\n",
              "  <tbody>\n",
              "    <tr>\n",
              "      <th>0</th>\n",
              "      <td>M839993508</td>\n",
              "      <td>21102612B015763935</td>\n",
              "      <td>B01</td>\n",
              "      <td>B010012</td>\n",
              "      <td>1</td>\n",
              "      <td>20211026</td>\n",
              "      <td>20211026</td>\n",
              "      <td>12</td>\n",
              "      <td>60000</td>\n",
              "    </tr>\n",
              "    <tr>\n",
              "      <th>1</th>\n",
              "      <td>M839993508</td>\n",
              "      <td>21110610B014219744</td>\n",
              "      <td>B01</td>\n",
              "      <td>B010012</td>\n",
              "      <td>1</td>\n",
              "      <td>20211106</td>\n",
              "      <td>20211106</td>\n",
              "      <td>10</td>\n",
              "      <td>17100</td>\n",
              "    </tr>\n",
              "    <tr>\n",
              "      <th>2</th>\n",
              "      <td>M839993508</td>\n",
              "      <td>21021112B013419710</td>\n",
              "      <td>B01</td>\n",
              "      <td>B010012</td>\n",
              "      <td>1</td>\n",
              "      <td>20210211</td>\n",
              "      <td>20210211</td>\n",
              "      <td>12</td>\n",
              "      <td>136500</td>\n",
              "    </tr>\n",
              "  </tbody>\n",
              "</table>\n",
              "</div>\n",
              "      <button class=\"colab-df-convert\" onclick=\"convertToInteractive('df-75f13e9f-fa1f-4b22-a6bc-cf42f309c49d')\"\n",
              "              title=\"Convert this dataframe to an interactive table.\"\n",
              "              style=\"display:none;\">\n",
              "        \n",
              "  <svg xmlns=\"http://www.w3.org/2000/svg\" height=\"24px\"viewBox=\"0 0 24 24\"\n",
              "       width=\"24px\">\n",
              "    <path d=\"M0 0h24v24H0V0z\" fill=\"none\"/>\n",
              "    <path d=\"M18.56 5.44l.94 2.06.94-2.06 2.06-.94-2.06-.94-.94-2.06-.94 2.06-2.06.94zm-11 1L8.5 8.5l.94-2.06 2.06-.94-2.06-.94L8.5 2.5l-.94 2.06-2.06.94zm10 10l.94 2.06.94-2.06 2.06-.94-2.06-.94-.94-2.06-.94 2.06-2.06.94z\"/><path d=\"M17.41 7.96l-1.37-1.37c-.4-.4-.92-.59-1.43-.59-.52 0-1.04.2-1.43.59L10.3 9.45l-7.72 7.72c-.78.78-.78 2.05 0 2.83L4 21.41c.39.39.9.59 1.41.59.51 0 1.02-.2 1.41-.59l7.78-7.78 2.81-2.81c.8-.78.8-2.07 0-2.86zM5.41 20L4 18.59l7.72-7.72 1.47 1.35L5.41 20z\"/>\n",
              "  </svg>\n",
              "      </button>\n",
              "      \n",
              "  <style>\n",
              "    .colab-df-container {\n",
              "      display:flex;\n",
              "      flex-wrap:wrap;\n",
              "      gap: 12px;\n",
              "    }\n",
              "\n",
              "    .colab-df-convert {\n",
              "      background-color: #E8F0FE;\n",
              "      border: none;\n",
              "      border-radius: 50%;\n",
              "      cursor: pointer;\n",
              "      display: none;\n",
              "      fill: #1967D2;\n",
              "      height: 32px;\n",
              "      padding: 0 0 0 0;\n",
              "      width: 32px;\n",
              "    }\n",
              "\n",
              "    .colab-df-convert:hover {\n",
              "      background-color: #E2EBFA;\n",
              "      box-shadow: 0px 1px 2px rgba(60, 64, 67, 0.3), 0px 1px 3px 1px rgba(60, 64, 67, 0.15);\n",
              "      fill: #174EA6;\n",
              "    }\n",
              "\n",
              "    [theme=dark] .colab-df-convert {\n",
              "      background-color: #3B4455;\n",
              "      fill: #D2E3FC;\n",
              "    }\n",
              "\n",
              "    [theme=dark] .colab-df-convert:hover {\n",
              "      background-color: #434B5C;\n",
              "      box-shadow: 0px 1px 3px 1px rgba(0, 0, 0, 0.15);\n",
              "      filter: drop-shadow(0px 1px 2px rgba(0, 0, 0, 0.3));\n",
              "      fill: #FFFFFF;\n",
              "    }\n",
              "  </style>\n",
              "\n",
              "      <script>\n",
              "        const buttonEl =\n",
              "          document.querySelector('#df-75f13e9f-fa1f-4b22-a6bc-cf42f309c49d button.colab-df-convert');\n",
              "        buttonEl.style.display =\n",
              "          google.colab.kernel.accessAllowed ? 'block' : 'none';\n",
              "\n",
              "        async function convertToInteractive(key) {\n",
              "          const element = document.querySelector('#df-75f13e9f-fa1f-4b22-a6bc-cf42f309c49d');\n",
              "          const dataTable =\n",
              "            await google.colab.kernel.invokeFunction('convertToInteractive',\n",
              "                                                     [key], {});\n",
              "          if (!dataTable) return;\n",
              "\n",
              "          const docLinkHtml = 'Like what you see? Visit the ' +\n",
              "            '<a target=\"_blank\" href=https://colab.research.google.com/notebooks/data_table.ipynb>data table notebook</a>'\n",
              "            + ' to learn more about interactive tables.';\n",
              "          element.innerHTML = '';\n",
              "          dataTable['output_type'] = 'display_data';\n",
              "          await google.colab.output.renderOutput(dataTable, element);\n",
              "          const docLink = document.createElement('div');\n",
              "          docLink.innerHTML = docLinkHtml;\n",
              "          element.appendChild(docLink);\n",
              "        }\n",
              "      </script>\n",
              "    </div>\n",
              "  </div>\n",
              "  "
            ]
          },
          "metadata": {},
          "execution_count": 6
        }
      ]
    },
    {
      "cell_type": "markdown",
      "source": [
        "### 4. 상품 분류 정보\n",
        "\n",
        "*   pd_c / 상품 코드 / 상품 코드 / PD0001\n",
        "*   pd_nm / 소분류명 / 상품 명 / 소파\n",
        "*   clac_hlv_nm / 대분류명 / 상품 카테고리 대분류 명 / 가구\n",
        "*   clac_mcls_nm / 중분류명 / 상품 카테고리 중분류 명 / 거실가구\n"
      ],
      "metadata": {
        "id": "zxfCLaZK-eRA"
      }
    },
    {
      "cell_type": "code",
      "source": [
        "data4.head(3)"
      ],
      "metadata": {
        "id": "-53lvTdJ6MHX",
        "colab": {
          "base_uri": "https://localhost:8080/",
          "height": 143
        },
        "outputId": "a6a79f6f-7ad7-447e-82bc-cfa0c5a63245"
      },
      "execution_count": 7,
      "outputs": [
        {
          "output_type": "execute_result",
          "data": {
            "text/plain": [
              "     pd_c    pd_nm clac_hlv_nm clac_mcls_nm\n",
              "0  PD0001       소파          가구         거실가구\n",
              "1  PD0002  스툴/리빙의자          가구         거실가구\n",
              "2  PD0003       탁자          가구         거실가구"
            ],
            "text/html": [
              "\n",
              "  <div id=\"df-d012d1cf-7265-44f7-9428-4ab329da3728\">\n",
              "    <div class=\"colab-df-container\">\n",
              "      <div>\n",
              "<style scoped>\n",
              "    .dataframe tbody tr th:only-of-type {\n",
              "        vertical-align: middle;\n",
              "    }\n",
              "\n",
              "    .dataframe tbody tr th {\n",
              "        vertical-align: top;\n",
              "    }\n",
              "\n",
              "    .dataframe thead th {\n",
              "        text-align: right;\n",
              "    }\n",
              "</style>\n",
              "<table border=\"1\" class=\"dataframe\">\n",
              "  <thead>\n",
              "    <tr style=\"text-align: right;\">\n",
              "      <th></th>\n",
              "      <th>pd_c</th>\n",
              "      <th>pd_nm</th>\n",
              "      <th>clac_hlv_nm</th>\n",
              "      <th>clac_mcls_nm</th>\n",
              "    </tr>\n",
              "  </thead>\n",
              "  <tbody>\n",
              "    <tr>\n",
              "      <th>0</th>\n",
              "      <td>PD0001</td>\n",
              "      <td>소파</td>\n",
              "      <td>가구</td>\n",
              "      <td>거실가구</td>\n",
              "    </tr>\n",
              "    <tr>\n",
              "      <th>1</th>\n",
              "      <td>PD0002</td>\n",
              "      <td>스툴/리빙의자</td>\n",
              "      <td>가구</td>\n",
              "      <td>거실가구</td>\n",
              "    </tr>\n",
              "    <tr>\n",
              "      <th>2</th>\n",
              "      <td>PD0003</td>\n",
              "      <td>탁자</td>\n",
              "      <td>가구</td>\n",
              "      <td>거실가구</td>\n",
              "    </tr>\n",
              "  </tbody>\n",
              "</table>\n",
              "</div>\n",
              "      <button class=\"colab-df-convert\" onclick=\"convertToInteractive('df-d012d1cf-7265-44f7-9428-4ab329da3728')\"\n",
              "              title=\"Convert this dataframe to an interactive table.\"\n",
              "              style=\"display:none;\">\n",
              "        \n",
              "  <svg xmlns=\"http://www.w3.org/2000/svg\" height=\"24px\"viewBox=\"0 0 24 24\"\n",
              "       width=\"24px\">\n",
              "    <path d=\"M0 0h24v24H0V0z\" fill=\"none\"/>\n",
              "    <path d=\"M18.56 5.44l.94 2.06.94-2.06 2.06-.94-2.06-.94-.94-2.06-.94 2.06-2.06.94zm-11 1L8.5 8.5l.94-2.06 2.06-.94-2.06-.94L8.5 2.5l-.94 2.06-2.06.94zm10 10l.94 2.06.94-2.06 2.06-.94-2.06-.94-.94-2.06-.94 2.06-2.06.94z\"/><path d=\"M17.41 7.96l-1.37-1.37c-.4-.4-.92-.59-1.43-.59-.52 0-1.04.2-1.43.59L10.3 9.45l-7.72 7.72c-.78.78-.78 2.05 0 2.83L4 21.41c.39.39.9.59 1.41.59.51 0 1.02-.2 1.41-.59l7.78-7.78 2.81-2.81c.8-.78.8-2.07 0-2.86zM5.41 20L4 18.59l7.72-7.72 1.47 1.35L5.41 20z\"/>\n",
              "  </svg>\n",
              "      </button>\n",
              "      \n",
              "  <style>\n",
              "    .colab-df-container {\n",
              "      display:flex;\n",
              "      flex-wrap:wrap;\n",
              "      gap: 12px;\n",
              "    }\n",
              "\n",
              "    .colab-df-convert {\n",
              "      background-color: #E8F0FE;\n",
              "      border: none;\n",
              "      border-radius: 50%;\n",
              "      cursor: pointer;\n",
              "      display: none;\n",
              "      fill: #1967D2;\n",
              "      height: 32px;\n",
              "      padding: 0 0 0 0;\n",
              "      width: 32px;\n",
              "    }\n",
              "\n",
              "    .colab-df-convert:hover {\n",
              "      background-color: #E2EBFA;\n",
              "      box-shadow: 0px 1px 2px rgba(60, 64, 67, 0.3), 0px 1px 3px 1px rgba(60, 64, 67, 0.15);\n",
              "      fill: #174EA6;\n",
              "    }\n",
              "\n",
              "    [theme=dark] .colab-df-convert {\n",
              "      background-color: #3B4455;\n",
              "      fill: #D2E3FC;\n",
              "    }\n",
              "\n",
              "    [theme=dark] .colab-df-convert:hover {\n",
              "      background-color: #434B5C;\n",
              "      box-shadow: 0px 1px 3px 1px rgba(0, 0, 0, 0.15);\n",
              "      filter: drop-shadow(0px 1px 2px rgba(0, 0, 0, 0.3));\n",
              "      fill: #FFFFFF;\n",
              "    }\n",
              "  </style>\n",
              "\n",
              "      <script>\n",
              "        const buttonEl =\n",
              "          document.querySelector('#df-d012d1cf-7265-44f7-9428-4ab329da3728 button.colab-df-convert');\n",
              "        buttonEl.style.display =\n",
              "          google.colab.kernel.accessAllowed ? 'block' : 'none';\n",
              "\n",
              "        async function convertToInteractive(key) {\n",
              "          const element = document.querySelector('#df-d012d1cf-7265-44f7-9428-4ab329da3728');\n",
              "          const dataTable =\n",
              "            await google.colab.kernel.invokeFunction('convertToInteractive',\n",
              "                                                     [key], {});\n",
              "          if (!dataTable) return;\n",
              "\n",
              "          const docLinkHtml = 'Like what you see? Visit the ' +\n",
              "            '<a target=\"_blank\" href=https://colab.research.google.com/notebooks/data_table.ipynb>data table notebook</a>'\n",
              "            + ' to learn more about interactive tables.';\n",
              "          element.innerHTML = '';\n",
              "          dataTable['output_type'] = 'display_data';\n",
              "          await google.colab.output.renderOutput(dataTable, element);\n",
              "          const docLink = document.createElement('div');\n",
              "          docLink.innerHTML = docLinkHtml;\n",
              "          element.appendChild(docLink);\n",
              "        }\n",
              "      </script>\n",
              "    </div>\n",
              "  </div>\n",
              "  "
            ]
          },
          "metadata": {},
          "execution_count": 7
        }
      ]
    },
    {
      "cell_type": "markdown",
      "source": [
        "### 5. 점포 정보\n",
        "\n",
        "*   br_c / 점포 코드 / 점포 구분 코드 / A010001\n",
        "*   cop_c / 제휴사 / A01~06 : 유통사 B01: 숙박업종 ,C01 C02:엔터테인먼트 ,D01 D02: F&B , E01: 렌탈업종 / A01\n",
        "*   zon_hlv / 점포대분류코드 / 지역 대분류 코드\n",
        " / Z17\n",
        "*   zon_mcls / 점포중분류코드 / 지역 중분류 코드 / Z17024\n"
      ],
      "metadata": {
        "id": "baSg3Pit-7oJ"
      }
    },
    {
      "cell_type": "code",
      "source": [
        "data5.head(3)"
      ],
      "metadata": {
        "id": "cTpm5UTn6NrO",
        "colab": {
          "base_uri": "https://localhost:8080/",
          "height": 143
        },
        "outputId": "76053ac0-73d3-4693-f32b-b3bfc7975192"
      },
      "execution_count": 8,
      "outputs": [
        {
          "output_type": "execute_result",
          "data": {
            "text/plain": [
              "      br_c cop_c zon_hlv zon_mcls\n",
              "0  A010001   A01     Z17   Z17024\n",
              "1  A010002   A01     Z17   Z17018\n",
              "2  A010003   A01     Z17   Z17011"
            ],
            "text/html": [
              "\n",
              "  <div id=\"df-b8035074-4def-4ba0-8818-a5b41dc1b93b\">\n",
              "    <div class=\"colab-df-container\">\n",
              "      <div>\n",
              "<style scoped>\n",
              "    .dataframe tbody tr th:only-of-type {\n",
              "        vertical-align: middle;\n",
              "    }\n",
              "\n",
              "    .dataframe tbody tr th {\n",
              "        vertical-align: top;\n",
              "    }\n",
              "\n",
              "    .dataframe thead th {\n",
              "        text-align: right;\n",
              "    }\n",
              "</style>\n",
              "<table border=\"1\" class=\"dataframe\">\n",
              "  <thead>\n",
              "    <tr style=\"text-align: right;\">\n",
              "      <th></th>\n",
              "      <th>br_c</th>\n",
              "      <th>cop_c</th>\n",
              "      <th>zon_hlv</th>\n",
              "      <th>zon_mcls</th>\n",
              "    </tr>\n",
              "  </thead>\n",
              "  <tbody>\n",
              "    <tr>\n",
              "      <th>0</th>\n",
              "      <td>A010001</td>\n",
              "      <td>A01</td>\n",
              "      <td>Z17</td>\n",
              "      <td>Z17024</td>\n",
              "    </tr>\n",
              "    <tr>\n",
              "      <th>1</th>\n",
              "      <td>A010002</td>\n",
              "      <td>A01</td>\n",
              "      <td>Z17</td>\n",
              "      <td>Z17018</td>\n",
              "    </tr>\n",
              "    <tr>\n",
              "      <th>2</th>\n",
              "      <td>A010003</td>\n",
              "      <td>A01</td>\n",
              "      <td>Z17</td>\n",
              "      <td>Z17011</td>\n",
              "    </tr>\n",
              "  </tbody>\n",
              "</table>\n",
              "</div>\n",
              "      <button class=\"colab-df-convert\" onclick=\"convertToInteractive('df-b8035074-4def-4ba0-8818-a5b41dc1b93b')\"\n",
              "              title=\"Convert this dataframe to an interactive table.\"\n",
              "              style=\"display:none;\">\n",
              "        \n",
              "  <svg xmlns=\"http://www.w3.org/2000/svg\" height=\"24px\"viewBox=\"0 0 24 24\"\n",
              "       width=\"24px\">\n",
              "    <path d=\"M0 0h24v24H0V0z\" fill=\"none\"/>\n",
              "    <path d=\"M18.56 5.44l.94 2.06.94-2.06 2.06-.94-2.06-.94-.94-2.06-.94 2.06-2.06.94zm-11 1L8.5 8.5l.94-2.06 2.06-.94-2.06-.94L8.5 2.5l-.94 2.06-2.06.94zm10 10l.94 2.06.94-2.06 2.06-.94-2.06-.94-.94-2.06-.94 2.06-2.06.94z\"/><path d=\"M17.41 7.96l-1.37-1.37c-.4-.4-.92-.59-1.43-.59-.52 0-1.04.2-1.43.59L10.3 9.45l-7.72 7.72c-.78.78-.78 2.05 0 2.83L4 21.41c.39.39.9.59 1.41.59.51 0 1.02-.2 1.41-.59l7.78-7.78 2.81-2.81c.8-.78.8-2.07 0-2.86zM5.41 20L4 18.59l7.72-7.72 1.47 1.35L5.41 20z\"/>\n",
              "  </svg>\n",
              "      </button>\n",
              "      \n",
              "  <style>\n",
              "    .colab-df-container {\n",
              "      display:flex;\n",
              "      flex-wrap:wrap;\n",
              "      gap: 12px;\n",
              "    }\n",
              "\n",
              "    .colab-df-convert {\n",
              "      background-color: #E8F0FE;\n",
              "      border: none;\n",
              "      border-radius: 50%;\n",
              "      cursor: pointer;\n",
              "      display: none;\n",
              "      fill: #1967D2;\n",
              "      height: 32px;\n",
              "      padding: 0 0 0 0;\n",
              "      width: 32px;\n",
              "    }\n",
              "\n",
              "    .colab-df-convert:hover {\n",
              "      background-color: #E2EBFA;\n",
              "      box-shadow: 0px 1px 2px rgba(60, 64, 67, 0.3), 0px 1px 3px 1px rgba(60, 64, 67, 0.15);\n",
              "      fill: #174EA6;\n",
              "    }\n",
              "\n",
              "    [theme=dark] .colab-df-convert {\n",
              "      background-color: #3B4455;\n",
              "      fill: #D2E3FC;\n",
              "    }\n",
              "\n",
              "    [theme=dark] .colab-df-convert:hover {\n",
              "      background-color: #434B5C;\n",
              "      box-shadow: 0px 1px 3px 1px rgba(0, 0, 0, 0.15);\n",
              "      filter: drop-shadow(0px 1px 2px rgba(0, 0, 0, 0.3));\n",
              "      fill: #FFFFFF;\n",
              "    }\n",
              "  </style>\n",
              "\n",
              "      <script>\n",
              "        const buttonEl =\n",
              "          document.querySelector('#df-b8035074-4def-4ba0-8818-a5b41dc1b93b button.colab-df-convert');\n",
              "        buttonEl.style.display =\n",
              "          google.colab.kernel.accessAllowed ? 'block' : 'none';\n",
              "\n",
              "        async function convertToInteractive(key) {\n",
              "          const element = document.querySelector('#df-b8035074-4def-4ba0-8818-a5b41dc1b93b');\n",
              "          const dataTable =\n",
              "            await google.colab.kernel.invokeFunction('convertToInteractive',\n",
              "                                                     [key], {});\n",
              "          if (!dataTable) return;\n",
              "\n",
              "          const docLinkHtml = 'Like what you see? Visit the ' +\n",
              "            '<a target=\"_blank\" href=https://colab.research.google.com/notebooks/data_table.ipynb>data table notebook</a>'\n",
              "            + ' to learn more about interactive tables.';\n",
              "          element.innerHTML = '';\n",
              "          dataTable['output_type'] = 'display_data';\n",
              "          await google.colab.output.renderOutput(dataTable, element);\n",
              "          const docLink = document.createElement('div');\n",
              "          docLink.innerHTML = docLinkHtml;\n",
              "          element.appendChild(docLink);\n",
              "        }\n",
              "      </script>\n",
              "    </div>\n",
              "  </div>\n",
              "  "
            ]
          },
          "metadata": {},
          "execution_count": 8
        }
      ]
    },
    {
      "cell_type": "markdown",
      "source": [
        "### 6. 엘페이 이용 정보\n",
        "\n",
        "*   cust / 고객번호 / 고객의 고유 식별번호 / M000034966\n",
        "*   rct_no / 영수증 번호 / 장바구니 식별 번호 / 210803210311226\n",
        "*   cop_c / 제휴사 / A01~06 : 유통사 B01: 숙박업종 ,C01 C02:엔터테인먼트 ,D01 D02: F&B , E01: 렌탈업종 / A01\n",
        "*   chnl_dv / 채널 구분 / 온라인/오프라인 구분 / 1: 온라인, 2: 오프라인\n",
        "*   de_dt / 이용일자 / YYYY/MM/DD / 20210101\n",
        "*   de_hr / 이용 시간 / HH / 12\n",
        "*   buy_am / 이용 금액 / 구매한 금액 / 15000\n",
        "\n"
      ],
      "metadata": {
        "id": "Xhvke5fn_e_Z"
      }
    },
    {
      "cell_type": "code",
      "source": [
        "data6.head(3)"
      ],
      "metadata": {
        "id": "hhsFyJM16Oxn",
        "colab": {
          "base_uri": "https://localhost:8080/",
          "height": 143
        },
        "outputId": "e6fd667d-d6a5-4064-c0a6-56ad83b0a651"
      },
      "execution_count": 9,
      "outputs": [
        {
          "output_type": "execute_result",
          "data": {
            "text/plain": [
              "         cust           rct_no cop_c  chnl_dv     de_dt  de_hr  buy_am\n",
              "0  M629656521  210803210311226   A03        1  20210803     21   10900\n",
              "1  M216016456  210803130167542   L01        2  20210803     13    6860\n",
              "2  M205142844  210803140275112   A02        1  20210803     14    9000"
            ],
            "text/html": [
              "\n",
              "  <div id=\"df-6c269d37-8c52-4f17-91eb-966e4fd09a92\">\n",
              "    <div class=\"colab-df-container\">\n",
              "      <div>\n",
              "<style scoped>\n",
              "    .dataframe tbody tr th:only-of-type {\n",
              "        vertical-align: middle;\n",
              "    }\n",
              "\n",
              "    .dataframe tbody tr th {\n",
              "        vertical-align: top;\n",
              "    }\n",
              "\n",
              "    .dataframe thead th {\n",
              "        text-align: right;\n",
              "    }\n",
              "</style>\n",
              "<table border=\"1\" class=\"dataframe\">\n",
              "  <thead>\n",
              "    <tr style=\"text-align: right;\">\n",
              "      <th></th>\n",
              "      <th>cust</th>\n",
              "      <th>rct_no</th>\n",
              "      <th>cop_c</th>\n",
              "      <th>chnl_dv</th>\n",
              "      <th>de_dt</th>\n",
              "      <th>de_hr</th>\n",
              "      <th>buy_am</th>\n",
              "    </tr>\n",
              "  </thead>\n",
              "  <tbody>\n",
              "    <tr>\n",
              "      <th>0</th>\n",
              "      <td>M629656521</td>\n",
              "      <td>210803210311226</td>\n",
              "      <td>A03</td>\n",
              "      <td>1</td>\n",
              "      <td>20210803</td>\n",
              "      <td>21</td>\n",
              "      <td>10900</td>\n",
              "    </tr>\n",
              "    <tr>\n",
              "      <th>1</th>\n",
              "      <td>M216016456</td>\n",
              "      <td>210803130167542</td>\n",
              "      <td>L01</td>\n",
              "      <td>2</td>\n",
              "      <td>20210803</td>\n",
              "      <td>13</td>\n",
              "      <td>6860</td>\n",
              "    </tr>\n",
              "    <tr>\n",
              "      <th>2</th>\n",
              "      <td>M205142844</td>\n",
              "      <td>210803140275112</td>\n",
              "      <td>A02</td>\n",
              "      <td>1</td>\n",
              "      <td>20210803</td>\n",
              "      <td>14</td>\n",
              "      <td>9000</td>\n",
              "    </tr>\n",
              "  </tbody>\n",
              "</table>\n",
              "</div>\n",
              "      <button class=\"colab-df-convert\" onclick=\"convertToInteractive('df-6c269d37-8c52-4f17-91eb-966e4fd09a92')\"\n",
              "              title=\"Convert this dataframe to an interactive table.\"\n",
              "              style=\"display:none;\">\n",
              "        \n",
              "  <svg xmlns=\"http://www.w3.org/2000/svg\" height=\"24px\"viewBox=\"0 0 24 24\"\n",
              "       width=\"24px\">\n",
              "    <path d=\"M0 0h24v24H0V0z\" fill=\"none\"/>\n",
              "    <path d=\"M18.56 5.44l.94 2.06.94-2.06 2.06-.94-2.06-.94-.94-2.06-.94 2.06-2.06.94zm-11 1L8.5 8.5l.94-2.06 2.06-.94-2.06-.94L8.5 2.5l-.94 2.06-2.06.94zm10 10l.94 2.06.94-2.06 2.06-.94-2.06-.94-.94-2.06-.94 2.06-2.06.94z\"/><path d=\"M17.41 7.96l-1.37-1.37c-.4-.4-.92-.59-1.43-.59-.52 0-1.04.2-1.43.59L10.3 9.45l-7.72 7.72c-.78.78-.78 2.05 0 2.83L4 21.41c.39.39.9.59 1.41.59.51 0 1.02-.2 1.41-.59l7.78-7.78 2.81-2.81c.8-.78.8-2.07 0-2.86zM5.41 20L4 18.59l7.72-7.72 1.47 1.35L5.41 20z\"/>\n",
              "  </svg>\n",
              "      </button>\n",
              "      \n",
              "  <style>\n",
              "    .colab-df-container {\n",
              "      display:flex;\n",
              "      flex-wrap:wrap;\n",
              "      gap: 12px;\n",
              "    }\n",
              "\n",
              "    .colab-df-convert {\n",
              "      background-color: #E8F0FE;\n",
              "      border: none;\n",
              "      border-radius: 50%;\n",
              "      cursor: pointer;\n",
              "      display: none;\n",
              "      fill: #1967D2;\n",
              "      height: 32px;\n",
              "      padding: 0 0 0 0;\n",
              "      width: 32px;\n",
              "    }\n",
              "\n",
              "    .colab-df-convert:hover {\n",
              "      background-color: #E2EBFA;\n",
              "      box-shadow: 0px 1px 2px rgba(60, 64, 67, 0.3), 0px 1px 3px 1px rgba(60, 64, 67, 0.15);\n",
              "      fill: #174EA6;\n",
              "    }\n",
              "\n",
              "    [theme=dark] .colab-df-convert {\n",
              "      background-color: #3B4455;\n",
              "      fill: #D2E3FC;\n",
              "    }\n",
              "\n",
              "    [theme=dark] .colab-df-convert:hover {\n",
              "      background-color: #434B5C;\n",
              "      box-shadow: 0px 1px 3px 1px rgba(0, 0, 0, 0.15);\n",
              "      filter: drop-shadow(0px 1px 2px rgba(0, 0, 0, 0.3));\n",
              "      fill: #FFFFFF;\n",
              "    }\n",
              "  </style>\n",
              "\n",
              "      <script>\n",
              "        const buttonEl =\n",
              "          document.querySelector('#df-6c269d37-8c52-4f17-91eb-966e4fd09a92 button.colab-df-convert');\n",
              "        buttonEl.style.display =\n",
              "          google.colab.kernel.accessAllowed ? 'block' : 'none';\n",
              "\n",
              "        async function convertToInteractive(key) {\n",
              "          const element = document.querySelector('#df-6c269d37-8c52-4f17-91eb-966e4fd09a92');\n",
              "          const dataTable =\n",
              "            await google.colab.kernel.invokeFunction('convertToInteractive',\n",
              "                                                     [key], {});\n",
              "          if (!dataTable) return;\n",
              "\n",
              "          const docLinkHtml = 'Like what you see? Visit the ' +\n",
              "            '<a target=\"_blank\" href=https://colab.research.google.com/notebooks/data_table.ipynb>data table notebook</a>'\n",
              "            + ' to learn more about interactive tables.';\n",
              "          element.innerHTML = '';\n",
              "          dataTable['output_type'] = 'display_data';\n",
              "          await google.colab.output.renderOutput(dataTable, element);\n",
              "          const docLink = document.createElement('div');\n",
              "          docLink.innerHTML = docLinkHtml;\n",
              "          element.appendChild(docLink);\n",
              "        }\n",
              "      </script>\n",
              "    </div>\n",
              "  </div>\n",
              "  "
            ]
          },
          "metadata": {},
          "execution_count": 9
        }
      ]
    },
    {
      "cell_type": "markdown",
      "source": [
        "# 데이터 자세히보기\n"
      ],
      "metadata": {
        "id": "Gik5E804AxAB"
      }
    },
    {
      "cell_type": "code",
      "source": [
        "import pandas as pd\n",
        "from matplotlib import font_manager, rc\n",
        "import matplotlib.pyplot as plt\n"
      ],
      "metadata": {
        "id": "TO4JiVHM1N3a"
      },
      "execution_count": null,
      "outputs": []
    },
    {
      "cell_type": "code",
      "source": [
        "\n",
        "# /gdrive/MyDrive/Lpay\n",
        "\n",
        "data1 = pd.read_csv('/gdrive/MyDrive/Lpay/LPOINT_BIG_COMP_01_DEMO.csv', engine='python')\n",
        "data2 = pd.read_csv('/gdrive/MyDrive/Lpay/LPOINT_BIG_COMP_02_PDDE.csv')\n",
        "data3 = pd.read_csv('/gdrive/MyDrive/Lpay/LPOINT_BIG_COMP_03_COP_U.csv')\n",
        "data4 = pd.read_csv('/gdrive/MyDrive/Lpay/LPOINT_BIG_COMP_04_PD_CLAC.csv')\n",
        "data5 = pd.read_csv('/gdrive/MyDrive/Lpay/LPOINT_BIG_COMP_05_BR.csv')\n",
        "data6 = pd.read_csv('/gdrive/MyDrive/Lpay/LPOINT_BIG_COMP_06_LPAY.csv')"
      ],
      "metadata": {
        "id": "uWn0olU3GCma",
        "colab": {
          "base_uri": "https://localhost:8080/"
        },
        "outputId": "4143f475-612a-4501-b8fd-22722dc030c6"
      },
      "execution_count": null,
      "outputs": [
        {
          "output_type": "stream",
          "name": "stderr",
          "text": [
            "/usr/local/lib/python3.7/dist-packages/IPython/core/interactiveshell.py:2882: DtypeWarning: Columns (4) have mixed types.Specify dtype option on import or set low_memory=False.\n",
            "  exec(code_obj, self.user_global_ns, self.user_ns)\n"
          ]
        }
      ]
    },
    {
      "cell_type": "markdown",
      "source": [
        "## Demo_detail"
      ],
      "metadata": {
        "id": "m3BtW4BpzQTv"
      }
    },
    {
      "cell_type": "code",
      "source": [
        "data1.head(3)"
      ],
      "metadata": {
        "colab": {
          "base_uri": "https://localhost:8080/",
          "height": 143
        },
        "id": "odJyepnZGN2J",
        "outputId": "05c70e2e-6803-4188-cfce-73c2a0106c30"
      },
      "execution_count": null,
      "outputs": [
        {
          "output_type": "execute_result",
          "data": {
            "text/plain": [
              "         cust ma_fem_dv ages zon_hlv\n",
              "0  M000034966        여성  40대     Z07\n",
              "1  M000059535        여성  30대     Z12\n",
              "2  M000136117        여성  30대     Z11"
            ],
            "text/html": [
              "\n",
              "  <div id=\"df-f31bff26-73d8-4cb9-94e3-888069bc677e\">\n",
              "    <div class=\"colab-df-container\">\n",
              "      <div>\n",
              "<style scoped>\n",
              "    .dataframe tbody tr th:only-of-type {\n",
              "        vertical-align: middle;\n",
              "    }\n",
              "\n",
              "    .dataframe tbody tr th {\n",
              "        vertical-align: top;\n",
              "    }\n",
              "\n",
              "    .dataframe thead th {\n",
              "        text-align: right;\n",
              "    }\n",
              "</style>\n",
              "<table border=\"1\" class=\"dataframe\">\n",
              "  <thead>\n",
              "    <tr style=\"text-align: right;\">\n",
              "      <th></th>\n",
              "      <th>cust</th>\n",
              "      <th>ma_fem_dv</th>\n",
              "      <th>ages</th>\n",
              "      <th>zon_hlv</th>\n",
              "    </tr>\n",
              "  </thead>\n",
              "  <tbody>\n",
              "    <tr>\n",
              "      <th>0</th>\n",
              "      <td>M000034966</td>\n",
              "      <td>여성</td>\n",
              "      <td>40대</td>\n",
              "      <td>Z07</td>\n",
              "    </tr>\n",
              "    <tr>\n",
              "      <th>1</th>\n",
              "      <td>M000059535</td>\n",
              "      <td>여성</td>\n",
              "      <td>30대</td>\n",
              "      <td>Z12</td>\n",
              "    </tr>\n",
              "    <tr>\n",
              "      <th>2</th>\n",
              "      <td>M000136117</td>\n",
              "      <td>여성</td>\n",
              "      <td>30대</td>\n",
              "      <td>Z11</td>\n",
              "    </tr>\n",
              "  </tbody>\n",
              "</table>\n",
              "</div>\n",
              "      <button class=\"colab-df-convert\" onclick=\"convertToInteractive('df-f31bff26-73d8-4cb9-94e3-888069bc677e')\"\n",
              "              title=\"Convert this dataframe to an interactive table.\"\n",
              "              style=\"display:none;\">\n",
              "        \n",
              "  <svg xmlns=\"http://www.w3.org/2000/svg\" height=\"24px\"viewBox=\"0 0 24 24\"\n",
              "       width=\"24px\">\n",
              "    <path d=\"M0 0h24v24H0V0z\" fill=\"none\"/>\n",
              "    <path d=\"M18.56 5.44l.94 2.06.94-2.06 2.06-.94-2.06-.94-.94-2.06-.94 2.06-2.06.94zm-11 1L8.5 8.5l.94-2.06 2.06-.94-2.06-.94L8.5 2.5l-.94 2.06-2.06.94zm10 10l.94 2.06.94-2.06 2.06-.94-2.06-.94-.94-2.06-.94 2.06-2.06.94z\"/><path d=\"M17.41 7.96l-1.37-1.37c-.4-.4-.92-.59-1.43-.59-.52 0-1.04.2-1.43.59L10.3 9.45l-7.72 7.72c-.78.78-.78 2.05 0 2.83L4 21.41c.39.39.9.59 1.41.59.51 0 1.02-.2 1.41-.59l7.78-7.78 2.81-2.81c.8-.78.8-2.07 0-2.86zM5.41 20L4 18.59l7.72-7.72 1.47 1.35L5.41 20z\"/>\n",
              "  </svg>\n",
              "      </button>\n",
              "      \n",
              "  <style>\n",
              "    .colab-df-container {\n",
              "      display:flex;\n",
              "      flex-wrap:wrap;\n",
              "      gap: 12px;\n",
              "    }\n",
              "\n",
              "    .colab-df-convert {\n",
              "      background-color: #E8F0FE;\n",
              "      border: none;\n",
              "      border-radius: 50%;\n",
              "      cursor: pointer;\n",
              "      display: none;\n",
              "      fill: #1967D2;\n",
              "      height: 32px;\n",
              "      padding: 0 0 0 0;\n",
              "      width: 32px;\n",
              "    }\n",
              "\n",
              "    .colab-df-convert:hover {\n",
              "      background-color: #E2EBFA;\n",
              "      box-shadow: 0px 1px 2px rgba(60, 64, 67, 0.3), 0px 1px 3px 1px rgba(60, 64, 67, 0.15);\n",
              "      fill: #174EA6;\n",
              "    }\n",
              "\n",
              "    [theme=dark] .colab-df-convert {\n",
              "      background-color: #3B4455;\n",
              "      fill: #D2E3FC;\n",
              "    }\n",
              "\n",
              "    [theme=dark] .colab-df-convert:hover {\n",
              "      background-color: #434B5C;\n",
              "      box-shadow: 0px 1px 3px 1px rgba(0, 0, 0, 0.15);\n",
              "      filter: drop-shadow(0px 1px 2px rgba(0, 0, 0, 0.3));\n",
              "      fill: #FFFFFF;\n",
              "    }\n",
              "  </style>\n",
              "\n",
              "      <script>\n",
              "        const buttonEl =\n",
              "          document.querySelector('#df-f31bff26-73d8-4cb9-94e3-888069bc677e button.colab-df-convert');\n",
              "        buttonEl.style.display =\n",
              "          google.colab.kernel.accessAllowed ? 'block' : 'none';\n",
              "\n",
              "        async function convertToInteractive(key) {\n",
              "          const element = document.querySelector('#df-f31bff26-73d8-4cb9-94e3-888069bc677e');\n",
              "          const dataTable =\n",
              "            await google.colab.kernel.invokeFunction('convertToInteractive',\n",
              "                                                     [key], {});\n",
              "          if (!dataTable) return;\n",
              "\n",
              "          const docLinkHtml = 'Like what you see? Visit the ' +\n",
              "            '<a target=\"_blank\" href=https://colab.research.google.com/notebooks/data_table.ipynb>data table notebook</a>'\n",
              "            + ' to learn more about interactive tables.';\n",
              "          element.innerHTML = '';\n",
              "          dataTable['output_type'] = 'display_data';\n",
              "          await google.colab.output.renderOutput(dataTable, element);\n",
              "          const docLink = document.createElement('div');\n",
              "          docLink.innerHTML = docLinkHtml;\n",
              "          element.appendChild(docLink);\n",
              "        }\n",
              "      </script>\n",
              "    </div>\n",
              "  </div>\n",
              "  "
            ]
          },
          "metadata": {},
          "execution_count": 6
        }
      ]
    },
    {
      "cell_type": "markdown",
      "source": [
        "성별 비율 파악"
      ],
      "metadata": {
        "id": "fvD2CDMhzU4P"
      }
    },
    {
      "cell_type": "code",
      "source": [
        "age_ratio = data1.ma_fem_dv.value_counts()/len(data1)\n",
        "print(age_ratio.keys()[0],round(age_ratio[0],3),\"%\",age_ratio.keys()[1],round(age_ratio[1],3),\"%\")\n",
        "# 여성    0.67138 , 남성    0.32862"
      ],
      "metadata": {
        "colab": {
          "base_uri": "https://localhost:8080/"
        },
        "id": "BFGYe5mYGPIK",
        "outputId": "08a8daec-09e5-4777-d04d-d44032d06b77"
      },
      "execution_count": null,
      "outputs": [
        {
          "output_type": "stream",
          "name": "stdout",
          "text": [
            "여성 0.671 % 남성 0.329 %\n"
          ]
        }
      ]
    },
    {
      "cell_type": "code",
      "source": [
        "# demo에서 나이와 성별을 그룹화\n",
        "ages_sex_group = data1.groupby(['ages', 'ma_fem_dv'], as_index=False).size().sort_values(by='size',ascending=False).reset_index(drop=True)\n",
        "ages_sex_group"
      ],
      "metadata": {
        "id": "qdpGTrbVI-gC",
        "colab": {
          "base_uri": "https://localhost:8080/",
          "height": 425
        },
        "outputId": "adde0611-f176-4faa-cfa0-3c3cbf01acf5"
      },
      "execution_count": null,
      "outputs": [
        {
          "output_type": "execute_result",
          "data": {
            "text/plain": [
              "   ages ma_fem_dv  size\n",
              "0   40대        여성  6676\n",
              "1   30대        여성  5040\n",
              "2   50대        여성  3915\n",
              "3   40대        남성  3187\n",
              "4   30대        남성  2696\n",
              "5   20대        여성  2513\n",
              "6   50대        남성  1718\n",
              "7   60대        여성  1479\n",
              "8   20대        남성  1340\n",
              "9   60대        남성   636\n",
              "10  70대        여성   460\n",
              "11  70대        남성   253"
            ],
            "text/html": [
              "\n",
              "  <div id=\"df-76685f0e-14ca-49ba-9452-22896ce145c4\">\n",
              "    <div class=\"colab-df-container\">\n",
              "      <div>\n",
              "<style scoped>\n",
              "    .dataframe tbody tr th:only-of-type {\n",
              "        vertical-align: middle;\n",
              "    }\n",
              "\n",
              "    .dataframe tbody tr th {\n",
              "        vertical-align: top;\n",
              "    }\n",
              "\n",
              "    .dataframe thead th {\n",
              "        text-align: right;\n",
              "    }\n",
              "</style>\n",
              "<table border=\"1\" class=\"dataframe\">\n",
              "  <thead>\n",
              "    <tr style=\"text-align: right;\">\n",
              "      <th></th>\n",
              "      <th>ages</th>\n",
              "      <th>ma_fem_dv</th>\n",
              "      <th>size</th>\n",
              "    </tr>\n",
              "  </thead>\n",
              "  <tbody>\n",
              "    <tr>\n",
              "      <th>0</th>\n",
              "      <td>40대</td>\n",
              "      <td>여성</td>\n",
              "      <td>6676</td>\n",
              "    </tr>\n",
              "    <tr>\n",
              "      <th>1</th>\n",
              "      <td>30대</td>\n",
              "      <td>여성</td>\n",
              "      <td>5040</td>\n",
              "    </tr>\n",
              "    <tr>\n",
              "      <th>2</th>\n",
              "      <td>50대</td>\n",
              "      <td>여성</td>\n",
              "      <td>3915</td>\n",
              "    </tr>\n",
              "    <tr>\n",
              "      <th>3</th>\n",
              "      <td>40대</td>\n",
              "      <td>남성</td>\n",
              "      <td>3187</td>\n",
              "    </tr>\n",
              "    <tr>\n",
              "      <th>4</th>\n",
              "      <td>30대</td>\n",
              "      <td>남성</td>\n",
              "      <td>2696</td>\n",
              "    </tr>\n",
              "    <tr>\n",
              "      <th>5</th>\n",
              "      <td>20대</td>\n",
              "      <td>여성</td>\n",
              "      <td>2513</td>\n",
              "    </tr>\n",
              "    <tr>\n",
              "      <th>6</th>\n",
              "      <td>50대</td>\n",
              "      <td>남성</td>\n",
              "      <td>1718</td>\n",
              "    </tr>\n",
              "    <tr>\n",
              "      <th>7</th>\n",
              "      <td>60대</td>\n",
              "      <td>여성</td>\n",
              "      <td>1479</td>\n",
              "    </tr>\n",
              "    <tr>\n",
              "      <th>8</th>\n",
              "      <td>20대</td>\n",
              "      <td>남성</td>\n",
              "      <td>1340</td>\n",
              "    </tr>\n",
              "    <tr>\n",
              "      <th>9</th>\n",
              "      <td>60대</td>\n",
              "      <td>남성</td>\n",
              "      <td>636</td>\n",
              "    </tr>\n",
              "    <tr>\n",
              "      <th>10</th>\n",
              "      <td>70대</td>\n",
              "      <td>여성</td>\n",
              "      <td>460</td>\n",
              "    </tr>\n",
              "    <tr>\n",
              "      <th>11</th>\n",
              "      <td>70대</td>\n",
              "      <td>남성</td>\n",
              "      <td>253</td>\n",
              "    </tr>\n",
              "  </tbody>\n",
              "</table>\n",
              "</div>\n",
              "      <button class=\"colab-df-convert\" onclick=\"convertToInteractive('df-76685f0e-14ca-49ba-9452-22896ce145c4')\"\n",
              "              title=\"Convert this dataframe to an interactive table.\"\n",
              "              style=\"display:none;\">\n",
              "        \n",
              "  <svg xmlns=\"http://www.w3.org/2000/svg\" height=\"24px\"viewBox=\"0 0 24 24\"\n",
              "       width=\"24px\">\n",
              "    <path d=\"M0 0h24v24H0V0z\" fill=\"none\"/>\n",
              "    <path d=\"M18.56 5.44l.94 2.06.94-2.06 2.06-.94-2.06-.94-.94-2.06-.94 2.06-2.06.94zm-11 1L8.5 8.5l.94-2.06 2.06-.94-2.06-.94L8.5 2.5l-.94 2.06-2.06.94zm10 10l.94 2.06.94-2.06 2.06-.94-2.06-.94-.94-2.06-.94 2.06-2.06.94z\"/><path d=\"M17.41 7.96l-1.37-1.37c-.4-.4-.92-.59-1.43-.59-.52 0-1.04.2-1.43.59L10.3 9.45l-7.72 7.72c-.78.78-.78 2.05 0 2.83L4 21.41c.39.39.9.59 1.41.59.51 0 1.02-.2 1.41-.59l7.78-7.78 2.81-2.81c.8-.78.8-2.07 0-2.86zM5.41 20L4 18.59l7.72-7.72 1.47 1.35L5.41 20z\"/>\n",
              "  </svg>\n",
              "      </button>\n",
              "      \n",
              "  <style>\n",
              "    .colab-df-container {\n",
              "      display:flex;\n",
              "      flex-wrap:wrap;\n",
              "      gap: 12px;\n",
              "    }\n",
              "\n",
              "    .colab-df-convert {\n",
              "      background-color: #E8F0FE;\n",
              "      border: none;\n",
              "      border-radius: 50%;\n",
              "      cursor: pointer;\n",
              "      display: none;\n",
              "      fill: #1967D2;\n",
              "      height: 32px;\n",
              "      padding: 0 0 0 0;\n",
              "      width: 32px;\n",
              "    }\n",
              "\n",
              "    .colab-df-convert:hover {\n",
              "      background-color: #E2EBFA;\n",
              "      box-shadow: 0px 1px 2px rgba(60, 64, 67, 0.3), 0px 1px 3px 1px rgba(60, 64, 67, 0.15);\n",
              "      fill: #174EA6;\n",
              "    }\n",
              "\n",
              "    [theme=dark] .colab-df-convert {\n",
              "      background-color: #3B4455;\n",
              "      fill: #D2E3FC;\n",
              "    }\n",
              "\n",
              "    [theme=dark] .colab-df-convert:hover {\n",
              "      background-color: #434B5C;\n",
              "      box-shadow: 0px 1px 3px 1px rgba(0, 0, 0, 0.15);\n",
              "      filter: drop-shadow(0px 1px 2px rgba(0, 0, 0, 0.3));\n",
              "      fill: #FFFFFF;\n",
              "    }\n",
              "  </style>\n",
              "\n",
              "      <script>\n",
              "        const buttonEl =\n",
              "          document.querySelector('#df-76685f0e-14ca-49ba-9452-22896ce145c4 button.colab-df-convert');\n",
              "        buttonEl.style.display =\n",
              "          google.colab.kernel.accessAllowed ? 'block' : 'none';\n",
              "\n",
              "        async function convertToInteractive(key) {\n",
              "          const element = document.querySelector('#df-76685f0e-14ca-49ba-9452-22896ce145c4');\n",
              "          const dataTable =\n",
              "            await google.colab.kernel.invokeFunction('convertToInteractive',\n",
              "                                                     [key], {});\n",
              "          if (!dataTable) return;\n",
              "\n",
              "          const docLinkHtml = 'Like what you see? Visit the ' +\n",
              "            '<a target=\"_blank\" href=https://colab.research.google.com/notebooks/data_table.ipynb>data table notebook</a>'\n",
              "            + ' to learn more about interactive tables.';\n",
              "          element.innerHTML = '';\n",
              "          dataTable['output_type'] = 'display_data';\n",
              "          await google.colab.output.renderOutput(dataTable, element);\n",
              "          const docLink = document.createElement('div');\n",
              "          docLink.innerHTML = docLinkHtml;\n",
              "          element.appendChild(docLink);\n",
              "        }\n",
              "      </script>\n",
              "    </div>\n",
              "  </div>\n",
              "  "
            ]
          },
          "metadata": {},
          "execution_count": 21
        }
      ]
    },
    {
      "cell_type": "code",
      "source": [
        "demo_male = ages_sex_group[ages_sex_group['ma_fem_dv']=='남성']\n",
        "demo_female = ages_sex_group[ages_sex_group['ma_fem_dv']=='여성']"
      ],
      "metadata": {
        "id": "c7MhID1GK-hB"
      },
      "execution_count": null,
      "outputs": []
    },
    {
      "cell_type": "code",
      "source": [
        "# Pandas 내장기능\n",
        "from matplotlib import font_manager, rc\n",
        "data1[\"ma_fem_dv\"].value_counts().plot(kind='bar')\n",
        "plt.rc('font', family='NanumBarunGothic')\n",
        "plt.title(\"남/여성 In 데모\", fontsize=15)\n",
        "plt.ylabel(\"사람 수\", fontsize=12)\n",
        "plt.xlabel(\"성별\", fontsize=12)\n",
        "plt.xticks(rotation=0)\n",
        "plt.show()"
      ],
      "metadata": {
        "colab": {
          "base_uri": "https://localhost:8080/",
          "height": 299
        },
        "id": "QdEnWU1uNZ9B",
        "outputId": "b84463f3-63b3-49b7-ddd8-5288f18f0863"
      },
      "execution_count": null,
      "outputs": [
        {
          "output_type": "display_data",
          "data": {
            "text/plain": [
              "<Figure size 432x288 with 1 Axes>"
            ],
            "image/png": "[encoded data removed]"
          },
          "metadata": {
            "needs_background": "light"
          }
        }
      ]
    },
    {
      "cell_type": "code",
      "source": [
        "# demo에서 나이와 성별을 그룹화 unstack()\n",
        "# https://pandas.pydata.org/docs/reference/api/pandas.DataFrame.unstack.html\n",
        "stacked_bar_df = data1.groupby([\"ma_fem_dv\",\"ages\"]).size().unstack()\n",
        "stacked_bar_df"
      ],
      "metadata": {
        "colab": {
          "base_uri": "https://localhost:8080/",
          "height": 143
        },
        "id": "L2VnP21lP5D7",
        "outputId": "8843234e-7a6c-451e-efab-1c00468c6e44"
      },
      "execution_count": null,
      "outputs": [
        {
          "output_type": "execute_result",
          "data": {
            "text/plain": [
              "ages        20대   30대   40대   50대   60대  70대\n",
              "ma_fem_dv                                   \n",
              "남성         1340  2696  3187  1718   636  253\n",
              "여성         2513  5040  6676  3915  1479  460"
            ],
            "text/html": [
              "\n",
              "  <div id=\"df-7816de11-d207-4bdf-ad43-51a68a7e913f\">\n",
              "    <div class=\"colab-df-container\">\n",
              "      <div>\n",
              "<style scoped>\n",
              "    .dataframe tbody tr th:only-of-type {\n",
              "        vertical-align: middle;\n",
              "    }\n",
              "\n",
              "    .dataframe tbody tr th {\n",
              "        vertical-align: top;\n",
              "    }\n",
              "\n",
              "    .dataframe thead th {\n",
              "        text-align: right;\n",
              "    }\n",
              "</style>\n",
              "<table border=\"1\" class=\"dataframe\">\n",
              "  <thead>\n",
              "    <tr style=\"text-align: right;\">\n",
              "      <th>ages</th>\n",
              "      <th>20대</th>\n",
              "      <th>30대</th>\n",
              "      <th>40대</th>\n",
              "      <th>50대</th>\n",
              "      <th>60대</th>\n",
              "      <th>70대</th>\n",
              "    </tr>\n",
              "    <tr>\n",
              "      <th>ma_fem_dv</th>\n",
              "      <th></th>\n",
              "      <th></th>\n",
              "      <th></th>\n",
              "      <th></th>\n",
              "      <th></th>\n",
              "      <th></th>\n",
              "    </tr>\n",
              "  </thead>\n",
              "  <tbody>\n",
              "    <tr>\n",
              "      <th>남성</th>\n",
              "      <td>1340</td>\n",
              "      <td>2696</td>\n",
              "      <td>3187</td>\n",
              "      <td>1718</td>\n",
              "      <td>636</td>\n",
              "      <td>253</td>\n",
              "    </tr>\n",
              "    <tr>\n",
              "      <th>여성</th>\n",
              "      <td>2513</td>\n",
              "      <td>5040</td>\n",
              "      <td>6676</td>\n",
              "      <td>3915</td>\n",
              "      <td>1479</td>\n",
              "      <td>460</td>\n",
              "    </tr>\n",
              "  </tbody>\n",
              "</table>\n",
              "</div>\n",
              "      <button class=\"colab-df-convert\" onclick=\"convertToInteractive('df-7816de11-d207-4bdf-ad43-51a68a7e913f')\"\n",
              "              title=\"Convert this dataframe to an interactive table.\"\n",
              "              style=\"display:none;\">\n",
              "        \n",
              "  <svg xmlns=\"http://www.w3.org/2000/svg\" height=\"24px\"viewBox=\"0 0 24 24\"\n",
              "       width=\"24px\">\n",
              "    <path d=\"M0 0h24v24H0V0z\" fill=\"none\"/>\n",
              "    <path d=\"M18.56 5.44l.94 2.06.94-2.06 2.06-.94-2.06-.94-.94-2.06-.94 2.06-2.06.94zm-11 1L8.5 8.5l.94-2.06 2.06-.94-2.06-.94L8.5 2.5l-.94 2.06-2.06.94zm10 10l.94 2.06.94-2.06 2.06-.94-2.06-.94-.94-2.06-.94 2.06-2.06.94z\"/><path d=\"M17.41 7.96l-1.37-1.37c-.4-.4-.92-.59-1.43-.59-.52 0-1.04.2-1.43.59L10.3 9.45l-7.72 7.72c-.78.78-.78 2.05 0 2.83L4 21.41c.39.39.9.59 1.41.59.51 0 1.02-.2 1.41-.59l7.78-7.78 2.81-2.81c.8-.78.8-2.07 0-2.86zM5.41 20L4 18.59l7.72-7.72 1.47 1.35L5.41 20z\"/>\n",
              "  </svg>\n",
              "      </button>\n",
              "      \n",
              "  <style>\n",
              "    .colab-df-container {\n",
              "      display:flex;\n",
              "      flex-wrap:wrap;\n",
              "      gap: 12px;\n",
              "    }\n",
              "\n",
              "    .colab-df-convert {\n",
              "      background-color: #E8F0FE;\n",
              "      border: none;\n",
              "      border-radius: 50%;\n",
              "      cursor: pointer;\n",
              "      display: none;\n",
              "      fill: #1967D2;\n",
              "      height: 32px;\n",
              "      padding: 0 0 0 0;\n",
              "      width: 32px;\n",
              "    }\n",
              "\n",
              "    .colab-df-convert:hover {\n",
              "      background-color: #E2EBFA;\n",
              "      box-shadow: 0px 1px 2px rgba(60, 64, 67, 0.3), 0px 1px 3px 1px rgba(60, 64, 67, 0.15);\n",
              "      fill: #174EA6;\n",
              "    }\n",
              "\n",
              "    [theme=dark] .colab-df-convert {\n",
              "      background-color: #3B4455;\n",
              "      fill: #D2E3FC;\n",
              "    }\n",
              "\n",
              "    [theme=dark] .colab-df-convert:hover {\n",
              "      background-color: #434B5C;\n",
              "      box-shadow: 0px 1px 3px 1px rgba(0, 0, 0, 0.15);\n",
              "      filter: drop-shadow(0px 1px 2px rgba(0, 0, 0, 0.3));\n",
              "      fill: #FFFFFF;\n",
              "    }\n",
              "  </style>\n",
              "\n",
              "      <script>\n",
              "        const buttonEl =\n",
              "          document.querySelector('#df-7816de11-d207-4bdf-ad43-51a68a7e913f button.colab-df-convert');\n",
              "        buttonEl.style.display =\n",
              "          google.colab.kernel.accessAllowed ? 'block' : 'none';\n",
              "\n",
              "        async function convertToInteractive(key) {\n",
              "          const element = document.querySelector('#df-7816de11-d207-4bdf-ad43-51a68a7e913f');\n",
              "          const dataTable =\n",
              "            await google.colab.kernel.invokeFunction('convertToInteractive',\n",
              "                                                     [key], {});\n",
              "          if (!dataTable) return;\n",
              "\n",
              "          const docLinkHtml = 'Like what you see? Visit the ' +\n",
              "            '<a target=\"_blank\" href=https://colab.research.google.com/notebooks/data_table.ipynb>data table notebook</a>'\n",
              "            + ' to learn more about interactive tables.';\n",
              "          element.innerHTML = '';\n",
              "          dataTable['output_type'] = 'display_data';\n",
              "          await google.colab.output.renderOutput(dataTable, element);\n",
              "          const docLink = document.createElement('div');\n",
              "          docLink.innerHTML = docLinkHtml;\n",
              "          element.appendChild(docLink);\n",
              "        }\n",
              "      </script>\n",
              "    </div>\n",
              "  </div>\n",
              "  "
            ]
          },
          "metadata": {},
          "execution_count": 11
        }
      ]
    },
    {
      "cell_type": "code",
      "source": [
        "import matplotlib\n",
        "plt.rc('font', family='NanumBarunGothic')\n",
        "stacked_bar_df.plot(kind='bar')\n",
        "plt.xticks(rotation=0, fontsize=13)\n",
        "plt.show()"
      ],
      "metadata": {
        "colab": {
          "base_uri": "https://localhost:8080/",
          "height": 287
        },
        "id": "z7xXQ6AnO5BQ",
        "outputId": "ae71fc00-45cf-45a4-fe1a-5c768017798d"
      },
      "execution_count": null,
      "outputs": [
        {
          "output_type": "display_data",
          "data": {
            "text/plain": [
              "<Figure size 432x288 with 1 Axes>"
            ],
            "image/png": "[encoded data removed]"
          },
          "metadata": {
            "needs_background": "light"
          }
        }
      ]
    },
    {
      "cell_type": "markdown",
      "source": [
        "## 상품이용정보 detail"
      ],
      "metadata": {
        "id": "F2uviJD62neP"
      }
    },
    {
      "cell_type": "code",
      "source": [
        "#  data2.pd_c\n",
        "data2.pd_c.value_counts().nlargest(40).plot(kind='bar', figsize=(10,5))\n",
        "plt.title(\"상품코드(pd_c) of 상품구매정보(data_2)\")\n",
        "plt.ylabel('상품 수 ')\n",
        "plt.xlabel('상품 코드')\n",
        "\n",
        "# 상품코드 -> 상품명으로 변경하기\n"
      ],
      "metadata": {
        "id": "9FtCwdmoQB4B",
        "colab": {
          "base_uri": "https://localhost:8080/",
          "height": 394
        },
        "outputId": "56607afe-c173-4ccf-b1bd-28e5caf98e7f"
      },
      "execution_count": null,
      "outputs": [
        {
          "output_type": "execute_result",
          "data": {
            "text/plain": [
              "Text(0.5, 0, '상품 코드')"
            ]
          },
          "metadata": {},
          "execution_count": 27
        },
        {
          "output_type": "display_data",
          "data": {
            "text/plain": [
              "<Figure size 720x360 with 1 Axes>"
            ],
            "image/png": "[encoded data removed]"
          },
          "metadata": {
            "needs_background": "light"
          }
        }
      ]
    },
    {
      "cell_type": "code",
      "source": [
        "# data2 에서 top10 상품 정보 뽑기 \n",
        "top10_pd =  data2.pd_c.value_counts()[0:10]"
      ],
      "metadata": {
        "id": "ZzRsS6di1p8Z"
      },
      "execution_count": null,
      "outputs": []
    },
    {
      "cell_type": "code",
      "source": [
        "result = []\n",
        "for pd in top10_pd.keys():\n",
        "  a = data4[data4.pd_c == pd]\n",
        "  nm = a.iloc[0].pd_nm\n",
        "  result.append(nm)"
      ],
      "metadata": {
        "id": "kc72l9kJ1J59"
      },
      "execution_count": null,
      "outputs": []
    },
    {
      "cell_type": "code",
      "source": [
        "result"
      ],
      "metadata": {
        "colab": {
          "base_uri": "https://localhost:8080/"
        },
        "id": "UYH10p341lyF",
        "outputId": "afb4ca3f-a99d-4fa7-ea96-76b1cc674b0c"
      },
      "execution_count": null,
      "outputs": [
        {
          "output_type": "execute_result",
          "data": {
            "text/plain": [
              "['일반스낵',\n",
              " '종량제봉투',\n",
              " '일반우유',\n",
              " '국물봉지라면',\n",
              " '감자스낵',\n",
              " '기타파티/팬시용품',\n",
              " '두부류',\n",
              " '일반계란',\n",
              " '국물용기라면',\n",
              " '국산맥주']"
            ]
          },
          "metadata": {},
          "execution_count": 30
        }
      ]
    },
    {
      "cell_type": "code",
      "source": [
        "# data2 에서 제휴사관련  top10 상품 정보 뽑기 \n",
        "cop_class = data2.cop_c.value_counts().keys()\n",
        "cop_class\n",
        "# Index(['A02', 'A03', 'A01', 'A04', 'A06', 'A05'], dtype='object')"
      ],
      "metadata": {
        "colab": {
          "base_uri": "https://localhost:8080/"
        },
        "id": "OGkq3QSw23x8",
        "outputId": "9e5bb40a-89d3-4a61-9928-e3ec804986c1"
      },
      "execution_count": null,
      "outputs": [
        {
          "output_type": "execute_result",
          "data": {
            "text/plain": [
              "Index(['A02', 'A03', 'A01', 'A04', 'A06', 'A05'], dtype='object')"
            ]
          },
          "metadata": {},
          "execution_count": 33
        }
      ]
    },
    {
      "cell_type": "code",
      "source": [
        "# data2 에서 제휴사관련   / top10 상품 정보 뽑기 (제휴사가A02인 top 10 )\n",
        "top10_cop_A02=data2[data2.cop_c==cop_class[0]].pd_c.value_counts()\n",
        "tt=top10_cop_A02.keys()[0:10]"
      ],
      "metadata": {
        "id": "XJ5RQxdV6PzB"
      },
      "execution_count": null,
      "outputs": []
    },
    {
      "cell_type": "code",
      "source": [
        "result = []\n",
        "for pd in tt:\n",
        "  a = data4[data4.pd_c == pd]\n",
        "  nm = a.iloc[0].pd_nm\n",
        "  result.append(nm)\n",
        "print(result)"
      ],
      "metadata": {
        "colab": {
          "base_uri": "https://localhost:8080/"
        },
        "id": "9qaOXle26nNJ",
        "outputId": "9dd3b276-4f44-433f-f9d4-6f4459dcf9f4"
      },
      "execution_count": null,
      "outputs": [
        {
          "output_type": "stream",
          "name": "stdout",
          "text": [
            "['기타파티/팬시용품', '일반스낵', '일반우유', '종량제봉투', '국물봉지라면', '일반계란', '두부류', '감자스낵', '바나나', '떠먹는요구르트']\n"
          ]
        }
      ]
    },
    {
      "cell_type": "code",
      "source": [
        "data3.cop_c.value_counts()"
      ],
      "metadata": {
        "colab": {
          "base_uri": "https://localhost:8080/"
        },
        "id": "BY0Sig7d45N9",
        "outputId": "7c93ca7a-7216-4e84-f254-8815629f9466"
      },
      "execution_count": null,
      "outputs": [
        {
          "output_type": "execute_result",
          "data": {
            "text/plain": [
              "D01    112232\n",
              "C01     48323\n",
              "D02     43134\n",
              "C02     30258\n",
              "B01      8103\n",
              "E01      6254\n",
              "Name: cop_c, dtype: int64"
            ]
          },
          "metadata": {},
          "execution_count": 39
        }
      ]
    },
    {
      "cell_type": "code",
      "source": [
        "data5.cop_c.value_counts()"
      ],
      "metadata": {
        "colab": {
          "base_uri": "https://localhost:8080/"
        },
        "id": "_8yP76Dj48nv",
        "outputId": "4959a8d3-182d-4c89-97f8-f60b02692501"
      },
      "execution_count": null,
      "outputs": [
        {
          "output_type": "execute_result",
          "data": {
            "text/plain": [
              "A04    5646\n",
              "D01    1311\n",
              "D02     535\n",
              "A03     487\n",
              "A05     440\n",
              "C01     140\n",
              "A02     116\n",
              "A01      66\n",
              "E01      43\n",
              "B01      20\n",
              "C02       4\n",
              "Name: cop_c, dtype: int64"
            ]
          },
          "metadata": {},
          "execution_count": 41
        }
      ]
    },
    {
      "cell_type": "code",
      "source": [
        "data6.cop_c.value_counts()"
      ],
      "metadata": {
        "colab": {
          "base_uri": "https://localhost:8080/"
        },
        "id": "jqtHdFme5Eq8",
        "outputId": "a10431af-a94b-4038-c193-4311460b4c69"
      },
      "execution_count": null,
      "outputs": [
        {
          "output_type": "execute_result",
          "data": {
            "text/plain": [
              "A06    93869\n",
              "L01    70939\n",
              "A01    54026\n",
              "A02    31778\n",
              "A04    29243\n",
              "L00    22526\n",
              "A03    16477\n",
              "D01    13101\n",
              "C01    11321\n",
              "D02     4250\n",
              "A05     2604\n",
              "C02     1809\n",
              "B01      769\n",
              "E01      472\n",
              "Name: cop_c, dtype: int64"
            ]
          },
          "metadata": {},
          "execution_count": 42
        }
      ]
    },
    {
      "cell_type": "markdown",
      "source": [
        "#상품에 따른 구매자의 나이와 성별 데이터\n",
        "\n",
        "\n",
        "\n",
        "\n"
      ],
      "metadata": {
        "id": "Roh-w1Bt5dc6"
      }
    },
    {
      "cell_type": "code",
      "source": [
        "merge_data = pd.merge(data1,data2)\n",
        "len(merge_data)"
      ],
      "metadata": {
        "id": "HDqge6l95GXQ",
        "colab": {
          "base_uri": "https://localhost:8080/"
        },
        "outputId": "d2174386-68e0-4189-d2c6-d425d7476348"
      },
      "execution_count": null,
      "outputs": [
        {
          "output_type": "execute_result",
          "data": {
            "text/plain": [
              "4381743"
            ]
          },
          "metadata": {},
          "execution_count": 42
        }
      ]
    },
    {
      "cell_type": "code",
      "source": [
        "merge_data.isnull().sum()"
      ],
      "metadata": {
        "colab": {
          "base_uri": "https://localhost:8080/"
        },
        "id": "189p0NPBMRcx",
        "outputId": "a6e5f663-c74a-45a4-d8bc-6a6ce3a4c677"
      },
      "execution_count": null,
      "outputs": [
        {
          "output_type": "execute_result",
          "data": {
            "text/plain": [
              "cust              0\n",
              "ma_fem_dv         0\n",
              "ages              0\n",
              "zon_hlv           0\n",
              "rct_no            0\n",
              "chnl_dv           0\n",
              "cop_c             0\n",
              "br_c         428501\n",
              "pd_c              0\n",
              "de_dt             0\n",
              "de_hr             0\n",
              "buy_am            0\n",
              "buy_ct            0\n",
              "dtype: int64"
            ]
          },
          "metadata": {},
          "execution_count": 5
        }
      ]
    },
    {
      "cell_type": "code",
      "source": [
        "data2.isnull().sum()"
      ],
      "metadata": {
        "colab": {
          "base_uri": "https://localhost:8080/"
        },
        "id": "K9Ttb2ugMxRo",
        "outputId": "fc6325cf-da53-49ab-a9e0-d8a69d4765d4"
      },
      "execution_count": null,
      "outputs": [
        {
          "output_type": "execute_result",
          "data": {
            "text/plain": [
              "cust            0\n",
              "rct_no          0\n",
              "chnl_dv         0\n",
              "cop_c           0\n",
              "br_c       428501\n",
              "pd_c            0\n",
              "de_dt           0\n",
              "de_hr           0\n",
              "buy_am          0\n",
              "buy_ct          0\n",
              "dtype: int64"
            ]
          },
          "metadata": {},
          "execution_count": 15
        }
      ]
    },
    {
      "cell_type": "code",
      "source": [
        "len(merge_data)"
      ],
      "metadata": {
        "colab": {
          "base_uri": "https://localhost:8080/"
        },
        "id": "40pCtIq0MjEB",
        "outputId": "234728a6-7839-4367-b216-fbd4ea71e127"
      },
      "execution_count": null,
      "outputs": [
        {
          "output_type": "execute_result",
          "data": {
            "text/plain": [
              "0.09779236253700868"
            ]
          },
          "metadata": {},
          "execution_count": 12
        }
      ]
    },
    {
      "cell_type": "code",
      "source": [
        "stacked_bar_df = merge_data.groupby([\"ma_fem_dv\",\"ages\"]).size().unstack()\n",
        "stacked_bar_df"
      ],
      "metadata": {
        "colab": {
          "base_uri": "https://localhost:8080/",
          "height": 143
        },
        "id": "ZNadRrFf4OMR",
        "outputId": "d5c10464-70b2-489f-e9bb-235b08bf56f3"
      },
      "execution_count": null,
      "outputs": [
        {
          "output_type": "execute_result",
          "data": {
            "text/plain": [
              "ages          20대     30대      40대     50대     60대    70대\n",
              "ma_fem_dv                                                \n",
              "남성          77399  308979   535782  250495   67366  28093\n",
              "여성         174780  715842  1301920  658726  201950  60411"
            ],
            "text/html": [
              "\n",
              "  <div id=\"df-eea10bf9-a36c-462f-8b5e-ffbf045b6d0a\">\n",
              "    <div class=\"colab-df-container\">\n",
              "      <div>\n",
              "<style scoped>\n",
              "    .dataframe tbody tr th:only-of-type {\n",
              "        vertical-align: middle;\n",
              "    }\n",
              "\n",
              "    .dataframe tbody tr th {\n",
              "        vertical-align: top;\n",
              "    }\n",
              "\n",
              "    .dataframe thead th {\n",
              "        text-align: right;\n",
              "    }\n",
              "</style>\n",
              "<table border=\"1\" class=\"dataframe\">\n",
              "  <thead>\n",
              "    <tr style=\"text-align: right;\">\n",
              "      <th>ages</th>\n",
              "      <th>20대</th>\n",
              "      <th>30대</th>\n",
              "      <th>40대</th>\n",
              "      <th>50대</th>\n",
              "      <th>60대</th>\n",
              "      <th>70대</th>\n",
              "    </tr>\n",
              "    <tr>\n",
              "      <th>ma_fem_dv</th>\n",
              "      <th></th>\n",
              "      <th></th>\n",
              "      <th></th>\n",
              "      <th></th>\n",
              "      <th></th>\n",
              "      <th></th>\n",
              "    </tr>\n",
              "  </thead>\n",
              "  <tbody>\n",
              "    <tr>\n",
              "      <th>남성</th>\n",
              "      <td>77399</td>\n",
              "      <td>308979</td>\n",
              "      <td>535782</td>\n",
              "      <td>250495</td>\n",
              "      <td>67366</td>\n",
              "      <td>28093</td>\n",
              "    </tr>\n",
              "    <tr>\n",
              "      <th>여성</th>\n",
              "      <td>174780</td>\n",
              "      <td>715842</td>\n",
              "      <td>1301920</td>\n",
              "      <td>658726</td>\n",
              "      <td>201950</td>\n",
              "      <td>60411</td>\n",
              "    </tr>\n",
              "  </tbody>\n",
              "</table>\n",
              "</div>\n",
              "      <button class=\"colab-df-convert\" onclick=\"convertToInteractive('df-eea10bf9-a36c-462f-8b5e-ffbf045b6d0a')\"\n",
              "              title=\"Convert this dataframe to an interactive table.\"\n",
              "              style=\"display:none;\">\n",
              "        \n",
              "  <svg xmlns=\"http://www.w3.org/2000/svg\" height=\"24px\"viewBox=\"0 0 24 24\"\n",
              "       width=\"24px\">\n",
              "    <path d=\"M0 0h24v24H0V0z\" fill=\"none\"/>\n",
              "    <path d=\"M18.56 5.44l.94 2.06.94-2.06 2.06-.94-2.06-.94-.94-2.06-.94 2.06-2.06.94zm-11 1L8.5 8.5l.94-2.06 2.06-.94-2.06-.94L8.5 2.5l-.94 2.06-2.06.94zm10 10l.94 2.06.94-2.06 2.06-.94-2.06-.94-.94-2.06-.94 2.06-2.06.94z\"/><path d=\"M17.41 7.96l-1.37-1.37c-.4-.4-.92-.59-1.43-.59-.52 0-1.04.2-1.43.59L10.3 9.45l-7.72 7.72c-.78.78-.78 2.05 0 2.83L4 21.41c.39.39.9.59 1.41.59.51 0 1.02-.2 1.41-.59l7.78-7.78 2.81-2.81c.8-.78.8-2.07 0-2.86zM5.41 20L4 18.59l7.72-7.72 1.47 1.35L5.41 20z\"/>\n",
              "  </svg>\n",
              "      </button>\n",
              "      \n",
              "  <style>\n",
              "    .colab-df-container {\n",
              "      display:flex;\n",
              "      flex-wrap:wrap;\n",
              "      gap: 12px;\n",
              "    }\n",
              "\n",
              "    .colab-df-convert {\n",
              "      background-color: #E8F0FE;\n",
              "      border: none;\n",
              "      border-radius: 50%;\n",
              "      cursor: pointer;\n",
              "      display: none;\n",
              "      fill: #1967D2;\n",
              "      height: 32px;\n",
              "      padding: 0 0 0 0;\n",
              "      width: 32px;\n",
              "    }\n",
              "\n",
              "    .colab-df-convert:hover {\n",
              "      background-color: #E2EBFA;\n",
              "      box-shadow: 0px 1px 2px rgba(60, 64, 67, 0.3), 0px 1px 3px 1px rgba(60, 64, 67, 0.15);\n",
              "      fill: #174EA6;\n",
              "    }\n",
              "\n",
              "    [theme=dark] .colab-df-convert {\n",
              "      background-color: #3B4455;\n",
              "      fill: #D2E3FC;\n",
              "    }\n",
              "\n",
              "    [theme=dark] .colab-df-convert:hover {\n",
              "      background-color: #434B5C;\n",
              "      box-shadow: 0px 1px 3px 1px rgba(0, 0, 0, 0.15);\n",
              "      filter: drop-shadow(0px 1px 2px rgba(0, 0, 0, 0.3));\n",
              "      fill: #FFFFFF;\n",
              "    }\n",
              "  </style>\n",
              "\n",
              "      <script>\n",
              "        const buttonEl =\n",
              "          document.querySelector('#df-eea10bf9-a36c-462f-8b5e-ffbf045b6d0a button.colab-df-convert');\n",
              "        buttonEl.style.display =\n",
              "          google.colab.kernel.accessAllowed ? 'block' : 'none';\n",
              "\n",
              "        async function convertToInteractive(key) {\n",
              "          const element = document.querySelector('#df-eea10bf9-a36c-462f-8b5e-ffbf045b6d0a');\n",
              "          const dataTable =\n",
              "            await google.colab.kernel.invokeFunction('convertToInteractive',\n",
              "                                                     [key], {});\n",
              "          if (!dataTable) return;\n",
              "\n",
              "          const docLinkHtml = 'Like what you see? Visit the ' +\n",
              "            '<a target=\"_blank\" href=https://colab.research.google.com/notebooks/data_table.ipynb>data table notebook</a>'\n",
              "            + ' to learn more about interactive tables.';\n",
              "          element.innerHTML = '';\n",
              "          dataTable['output_type'] = 'display_data';\n",
              "          await google.colab.output.renderOutput(dataTable, element);\n",
              "          const docLink = document.createElement('div');\n",
              "          docLink.innerHTML = docLinkHtml;\n",
              "          element.appendChild(docLink);\n",
              "        }\n",
              "      </script>\n",
              "    </div>\n",
              "  </div>\n",
              "  "
            ]
          },
          "metadata": {},
          "execution_count": 6
        }
      ]
    },
    {
      "cell_type": "code",
      "source": [
        "# 남자 \n",
        "male_20 = merge_data[(merge_data.ma_fem_dv=='남성') & (merge_data.ages=='20대')]\n",
        "male_30 = merge_data[(merge_data.ma_fem_dv=='남성') & (merge_data.ages=='30대')]\n",
        "male_40 = merge_data[(merge_data.ma_fem_dv=='남성') & (merge_data.ages=='40대')]\n",
        "male_50 = merge_data[(merge_data.ma_fem_dv=='남성') & (merge_data.ages=='50대')]\n",
        "male_60 = merge_data[(merge_data.ma_fem_dv=='남성') & (merge_data.ages=='60대')]\n",
        "male_70 = merge_data[(merge_data.ma_fem_dv=='남성') & (merge_data.ages=='70대')]\n",
        "# 여자\n",
        "female_20 = merge_data[(merge_data.ma_fem_dv=='여성') & (merge_data.ages=='20대')]\n",
        "female_30 = merge_data[(merge_data.ma_fem_dv=='여성') & (merge_data.ages=='30대')]\n",
        "female_40 = merge_data[(merge_data.ma_fem_dv=='여성') & (merge_data.ages=='40대')]\n",
        "female_50 = merge_data[(merge_data.ma_fem_dv=='여성') & (merge_data.ages=='50대')]\n",
        "female_60 = merge_data[(merge_data.ma_fem_dv=='여성') & (merge_data.ages=='60대')]\n",
        "female_70 = merge_data[(merge_data.ma_fem_dv=='여성') & (merge_data.ages=='70대')]\n"
      ],
      "metadata": {
        "id": "dUmXeikB4PEh"
      },
      "execution_count": null,
      "outputs": []
    },
    {
      "cell_type": "code",
      "source": [
        "female_20.pd_c.value_counts()[0:20] "
      ],
      "metadata": {
        "id": "g7iudJyc-5-S",
        "outputId": "bf1dd4d9-eda8-46ef-e059-38fa60f69132",
        "colab": {
          "base_uri": "https://localhost:8080/"
        }
      },
      "execution_count": null,
      "outputs": [
        {
          "output_type": "execute_result",
          "data": {
            "text/plain": [
              "PD1484    3759\n",
              "PD0288    3468\n",
              "PD0232    3171\n",
              "PD0480    2734\n",
              "PD0413    2241\n",
              "PD0228    2229\n",
              "PD1689    1963\n",
              "PD1173    1885\n",
              "PD1156    1885\n",
              "PD1331    1845\n",
              "PD1330    1800\n",
              "PD0218    1797\n",
              "PD1417    1762\n",
              "PD0403    1738\n",
              "PD1181    1683\n",
              "PD1152    1664\n",
              "PD0298    1640\n",
              "PD1387    1528\n",
              "PD1333    1500\n",
              "PD0230    1480\n",
              "Name: pd_c, dtype: int64"
            ]
          },
          "metadata": {},
          "execution_count": 59
        }
      ]
    },
    {
      "cell_type": "code",
      "source": [
        "male_30.pd_c.value_counts() "
      ],
      "metadata": {
        "colab": {
          "base_uri": "https://localhost:8080/"
        },
        "id": "sGsNynyFWwTG",
        "outputId": "8cc38546-3666-4bcc-8d12-447a7e39cd77"
      },
      "execution_count": null,
      "outputs": [
        {
          "output_type": "execute_result",
          "data": {
            "text/plain": [
              "PD1484    6782\n",
              "PD0232    6327\n",
              "PD1156    5136\n",
              "PD1331    4626\n",
              "PD0413    4005\n",
              "          ... \n",
              "PD0072       1\n",
              "PD1627       1\n",
              "PD1585       1\n",
              "PD1745       1\n",
              "PD1097       1\n",
              "Name: pd_c, Length: 1727, dtype: int64"
            ]
          },
          "metadata": {},
          "execution_count": 48
        }
      ]
    },
    {
      "cell_type": "code",
      "source": [
        "#  data2.pd_c\n",
        "def showpd(df_name):\n",
        "  # df_name.pd_c.value_counts().nlargest(40).plot(kind='bar', figsize=(10,5))\n",
        "  # plt.title(\"상품코드(pd_c) of 상품구매정보(data_2)\")\n",
        "  # plt.rc('font', family='NanumBarunGothic')\n",
        "  # plt.ylabel('상품 수 ')\n",
        "  # plt.xlabel('상품 코드')\n",
        "  top10_pd =  df_name.pd_c.value_counts()\n",
        "\n",
        "  result = []\n",
        "  for pd in top10_pd.keys():\n",
        "    a = data4[data4.pd_c == pd]\n",
        "    # nm = a.iloc[0].pd_nm\n",
        "    nm = a.iloc[0].clac_hlv_nm\n",
        "    result.append(nm)\n",
        "  count={}\n",
        "  # lists = showpd(result)\n",
        "  for i in result:\n",
        "      try: count[i] += 1\n",
        "      except: count[i]=1\n",
        "  sorted_dict = sorted(count.items(), key = lambda item: item[1], reverse = True)\n",
        "    # print(sorted_dict)\n",
        "  return sorted_dict\n",
        "# 상품코드 -> 상품명으로 변경하기\n",
        "showpd(male_20)"
      ],
      "metadata": {
        "id": "-HeaeJdQ6Irj"
      },
      "execution_count": null,
      "outputs": []
    },
    {
      "cell_type": "code",
      "source": [
        "pd_list =['male_20','male_30','male_40','male_50','male_60','male_70','female_20','female_30','female_40','female_50','female_60','female_70']"
      ],
      "metadata": {
        "id": "21orCVhJ6y2q"
      },
      "execution_count": null,
      "outputs": []
    },
    {
      "cell_type": "code",
      "source": [
        "print(\"-----------------------------------------------------------------------------------------------------------------------------------\")\n",
        "print(\"남자 20대\",showpd(male_20))\n",
        "print(\"남자 30대\",showpd(male_30))\n",
        "print(\"남자 40대\",showpd(male_40))\n",
        "print(\"남자 50대\",showpd(male_50))\n",
        "print(\"남자 60대\",showpd(male_60))\n",
        "print(\"남자 70대\",showpd(male_70))\n",
        "print(\"-----------------------------------------------------------------------------------------------------------------------------------\")\n",
        "print(\"여자 20대\",showpd(female_20))\n",
        "print(\"여자 30대\",showpd(female_30))\n",
        "print(\"여자 40대\",showpd(female_40))\n",
        "print(\"여자 50대\",showpd(female_50))\n",
        "print(\"여자 60대\",showpd(female_60))\n",
        "print(\"여자 70대\",showpd(female_70))"
      ],
      "metadata": {
        "colab": {
          "base_uri": "https://localhost:8080/"
        },
        "id": "PP7I-nkX7HsS",
        "outputId": "14ad5158-1818-47f7-91b7-8b089234ef77"
      },
      "execution_count": null,
      "outputs": [
        {
          "output_type": "stream",
          "name": "stdout",
          "text": [
            "-----------------------------------------------------------------------------------------------------------------------------------\n",
            "남자 20대 [('패션잡화', 85), ('축산물', 76), ('수산물', 69), ('채소', 60), ('과일', 53), ('조미료', 47), ('문구/사무용품', 46), ('스포츠패션', 45), ('퍼스널케어', 37), ('화장품/뷰티케어', 37), ('과자', 36), ('조리식품', 36), ('속옷/양말/홈웨어', 36), ('식기/조리기구', 33), ('냉장식품', 31), ('주방잡화', 31), ('생활/주방가전', 29), ('대용식', 28), ('청소/세탁/욕실용품', 26), ('완구', 26), ('건해산물', 26), ('세제/위생', 25), ('음료', 23), ('남성의류', 23), ('자동차용품', 23), ('주류', 22), ('테넌트/음식점', 21), ('여성의류', 21), ('원예/애완', 21), ('건강식품', 21), ('유아동의류', 21), ('침구/수예', 20), ('냉동식품', 19), ('건강용품', 19), ('커피/차', 18), ('인테리어/조명', 15), ('컴퓨터', 14), ('병통조림', 13), ('양곡', 13), ('출산/육아용품', 13), ('구기/필드스포츠', 13), ('공구/안전용품', 12), ('아웃도어/레저', 12), ('가구', 12), ('영상/음향가전', 11), ('유제품', 9), ('헬스/피트니스', 9), ('계절가전', 8), ('시즌스포츠', 8), ('담배', 6), ('생활/렌탈서비스', 6), ('상품권', 6), ('모바일', 6), ('유아식품', 4), ('냉장/세탁가전', 4), ('기타(비상품)', 3), ('서적/음반/악기', 3), ('여행/레저서비스', 1)]\n",
            "남자 30대 [('패션잡화', 117), ('축산물', 85), ('수산물', 81), ('스포츠패션', 73), ('채소', 69), ('유아동의류', 64), ('문구/사무용품', 61), ('과일', 56), ('속옷/양말/홈웨어', 50), ('조미료', 48), ('화장품/뷰티케어', 46), ('퍼스널케어', 38), ('조리식품', 37), ('과자', 36), ('원예/애완', 34), ('생활/주방가전', 34), ('식기/조리기구', 33), ('냉장식품', 32), ('주방잡화', 32), ('자동차용품', 32), ('건해산물', 30), ('완구', 30), ('청소/세탁/욕실용품', 28), ('대용식', 28), ('침구/수예', 28), ('세제/위생', 27), ('여성의류', 27), ('출산/육아용품', 27), ('건강식품', 27), ('남성의류', 25), ('아웃도어/레저', 25), ('음료', 24), ('구기/필드스포츠', 23), ('가구', 23), ('테넌트/음식점', 22), ('주류', 21), ('건강용품', 21), ('냉동식품', 19), ('커피/차', 19), ('인테리어/조명', 18), ('공구/안전용품', 15), ('시즌스포츠', 15), ('양곡', 14), ('컴퓨터', 14), ('영상/음향가전', 14), ('병통조림', 13), ('계절가전', 13), ('헬스/피트니스', 12), ('냉장/세탁가전', 10), ('유제품', 9), ('서적/음반/악기', 9), ('생활/렌탈서비스', 7), ('상품권', 7), ('담배', 6), ('모바일', 6), ('여행/레저서비스', 5), ('기타(비상품)', 4), ('유아식품', 4)]\n",
            "남자 40대 [('패션잡화', 119), ('축산물', 86), ('수산물', 85), ('채소', 70), ('스포츠패션', 70), ('문구/사무용품', 65), ('유아동의류', 64), ('과일', 57), ('속옷/양말/홈웨어', 50), ('조미료', 49), ('화장품/뷰티케어', 47), ('퍼스널케어', 39), ('조리식품', 38), ('생활/주방가전', 37), ('과자', 36), ('원예/애완', 36), ('자동차용품', 34), ('식기/조리기구', 34), ('냉장식품', 32), ('아웃도어/레저', 32), ('주방잡화', 31), ('청소/세탁/욕실용품', 30), ('완구', 30), ('침구/수예', 29), ('대용식', 28), ('여성의류', 28), ('건해산물', 28), ('건강식품', 28), ('구기/필드스포츠', 28), ('세제/위생', 27), ('출산/육아용품', 27), ('가구', 26), ('건강용품', 25), ('음료', 24), ('남성의류', 24), ('주류', 22), ('테넌트/음식점', 22), ('영상/음향가전', 21), ('냉동식품', 20), ('인테리어/조명', 20), ('커피/차', 19), ('시즌스포츠', 18), ('공구/안전용품', 15), ('계절가전', 15), ('병통조림', 14), ('양곡', 14), ('컴퓨터', 14), ('헬스/피트니스', 14), ('냉장/세탁가전', 12), ('서적/음반/악기', 11), ('생활/렌탈서비스', 10), ('유제품', 9), ('상품권', 9), ('담배', 6), ('여행/레저서비스', 6), ('모바일', 6), ('기타(비상품)', 5), ('유아식품', 4), ('기타상품', 1)]\n",
            "남자 50대 [('패션잡화', 104), ('축산물', 84), ('수산물', 84), ('채소', 70), ('스포츠패션', 67), ('과일', 57), ('문구/사무용품', 54), ('유아동의류', 52), ('조미료', 47), ('속옷/양말/홈웨어', 47), ('화장품/뷰티케어', 42), ('조리식품', 38), ('퍼스널케어', 37), ('과자', 36), ('냉장식품', 32), ('생활/주방가전', 32), ('주방잡화', 31), ('식기/조리기구', 31), ('건해산물', 29), ('자동차용품', 29), ('대용식', 28), ('원예/애완', 28), ('완구', 28), ('청소/세탁/욕실용품', 27), ('세제/위생', 27), ('건강식품', 27), ('침구/수예', 27), ('여성의류', 26), ('남성의류', 24), ('음료', 23), ('건강용품', 23), ('테넌트/음식점', 22), ('주류', 21), ('아웃도어/레저', 21), ('커피/차', 20), ('가구', 20), ('냉동식품', 19), ('인테리어/조명', 19), ('구기/필드스포츠', 18), ('출산/육아용품', 16), ('공구/안전용품', 15), ('병통조림', 14), ('양곡', 14), ('영상/음향가전', 14), ('컴퓨터', 14), ('계절가전', 11), ('헬스/피트니스', 10), ('시즌스포츠', 10), ('유제품', 9), ('냉장/세탁가전', 9), ('생활/렌탈서비스', 8), ('서적/음반/악기', 7), ('담배', 6), ('모바일', 6), ('상품권', 5), ('기타(비상품)', 4), ('유아식품', 4), ('여행/레저서비스', 3)]\n",
            "남자 60대 [('패션잡화', 85), ('축산물', 78), ('수산물', 70), ('채소', 69), ('과일', 53), ('스포츠패션', 50), ('조미료', 48), ('문구/사무용품', 42), ('유아동의류', 42), ('속옷/양말/홈웨어', 40), ('과자', 36), ('조리식품', 34), ('화장품/뷰티케어', 34), ('주방잡화', 31), ('냉장식품', 30), ('식기/조리기구', 30), ('대용식', 28), ('퍼스널케어', 28), ('청소/세탁/욕실용품', 27), ('세제/위생', 25), ('건해산물', 25), ('건강식품', 25), ('생활/주방가전', 25), ('완구', 25), ('자동차용품', 24), ('여성의류', 23), ('침구/수예', 23), ('음료', 22), ('남성의류', 22), ('테넌트/음식점', 22), ('주류', 21), ('원예/애완', 20), ('냉동식품', 19), ('커피/차', 18), ('건강용품', 15), ('출산/육아용품', 15), ('가구', 15), ('양곡', 13), ('공구/안전용품', 13), ('아웃도어/레저', 13), ('인테리어/조명', 13), ('컴퓨터', 13), ('병통조림', 12), ('구기/필드스포츠', 12), ('냉장/세탁가전', 10), ('시즌스포츠', 10), ('유제품', 9), ('헬스/피트니스', 7), ('계절가전', 7), ('영상/음향가전', 6), ('담배', 5), ('모바일', 5), ('유아식품', 4), ('서적/음반/악기', 4), ('기타(비상품)', 3), ('상품권', 3), ('생활/렌탈서비스', 3), ('여행/레저서비스', 2)]\n",
            "남자 70대 [('축산물', 67), ('채소', 64), ('수산물', 56), ('패션잡화', 53), ('과일', 47), ('조미료', 43), ('속옷/양말/홈웨어', 34), ('과자', 32), ('조리식품', 32), ('스포츠패션', 32), ('냉장식품', 30), ('문구/사무용품', 27), ('대용식', 26), ('건해산물', 26), ('화장품/뷰티케어', 26), ('퍼스널케어', 26), ('식기/조리기구', 26), ('주방잡화', 25), ('세제/위생', 23), ('음료', 20), ('남성의류', 20), ('청소/세탁/욕실용품', 19), ('냉동식품', 19), ('생활/주방가전', 19), ('주류', 18), ('테넌트/음식점', 17), ('커피/차', 17), ('여성의류', 17), ('유아동의류', 17), ('건강식품', 16), ('완구', 15), ('침구/수예', 14), ('원예/애완', 13), ('자동차용품', 13), ('양곡', 12), ('공구/안전용품', 12), ('출산/육아용품', 12), ('병통조림', 11), ('건강용품', 11), ('컴퓨터', 10), ('유제품', 9), ('가구', 9), ('인테리어/조명', 8), ('아웃도어/레저', 7), ('헬스/피트니스', 7), ('시즌스포츠', 6), ('영상/음향가전', 6), ('구기/필드스포츠', 5), ('냉장/세탁가전', 5), ('담배', 4), ('모바일', 4), ('서적/음반/악기', 4), ('상품권', 3), ('계절가전', 3), ('기타(비상품)', 2), ('유아식품', 2), ('생활/렌탈서비스', 2)]\n",
            "-----------------------------------------------------------------------------------------------------------------------------------\n",
            "여자 20대 [('패션잡화', 109), ('축산물', 81), ('수산물', 78), ('채소', 66), ('스포츠패션', 61), ('문구/사무용품', 57), ('과일', 56), ('유아동의류', 51), ('조미료', 48), ('화장품/뷰티케어', 45), ('속옷/양말/홈웨어', 42), ('조리식품', 37), ('퍼스널케어', 37), ('과자', 36), ('냉장식품', 32), ('주방잡화', 32), ('식기/조리기구', 32), ('생활/주방가전', 32), ('원예/애완', 31), ('완구', 31), ('청소/세탁/욕실용품', 29), ('건해산물', 29), ('대용식', 28), ('여성의류', 27), ('자동차용품', 27), ('세제/위생', 26), ('건강식품', 25), ('침구/수예', 25), ('남성의류', 24), ('음료', 23), ('테넌트/음식점', 22), ('주류', 21), ('출산/육아용품', 21), ('냉동식품', 20), ('커피/차', 20), ('건강용품', 18), ('가구', 17), ('인테리어/조명', 16), ('구기/필드스포츠', 15), ('아웃도어/레저', 14), ('공구/안전용품', 13), ('컴퓨터', 13), ('시즌스포츠', 13), ('병통조림', 12), ('양곡', 12), ('영상/음향가전', 12), ('유제품', 9), ('헬스/피트니스', 9), ('냉장/세탁가전', 9), ('계절가전', 9), ('담배', 6), ('생활/렌탈서비스', 6), ('상품권', 6), ('모바일', 6), ('서적/음반/악기', 6), ('기타(비상품)', 5), ('유아식품', 4), ('여행/레저서비스', 4)]\n",
            "여자 30대 [('패션잡화', 122), ('축산물', 88), ('수산물', 86), ('스포츠패션', 74), ('채소', 72), ('문구/사무용품', 67), ('유아동의류', 65), ('과일', 57), ('속옷/양말/홈웨어', 55), ('조미료', 49), ('화장품/뷰티케어', 48), ('조리식품', 38), ('퍼스널케어', 38), ('과자', 36), ('식기/조리기구', 36), ('생활/주방가전', 36), ('원예/애완', 34), ('침구/수예', 33), ('냉장식품', 32), ('주방잡화', 31), ('완구', 31), ('건강식품', 31), ('청소/세탁/욕실용품', 30), ('출산/육아용품', 30), ('가구', 30), ('건해산물', 29), ('대용식', 28), ('아웃도어/레저', 28), ('구기/필드스포츠', 28), ('여성의류', 27), ('세제/위생', 27), ('자동차용품', 26), ('남성의류', 25), ('음료', 24), ('건강용품', 24), ('주류', 22), ('테넌트/음식점', 22), ('시즌스포츠', 21), ('커피/차', 20), ('인테리어/조명', 20), ('냉동식품', 19), ('영상/음향가전', 18), ('병통조림', 14), ('공구/안전용품', 14), ('양곡', 14), ('계절가전', 14), ('서적/음반/악기', 13), ('컴퓨터', 13), ('헬스/피트니스', 12), ('냉장/세탁가전', 11), ('유제품', 9), ('상품권', 8), ('생활/렌탈서비스', 7), ('기타(비상품)', 6), ('담배', 6), ('여행/레저서비스', 6), ('모바일', 6), ('유아식품', 4)]\n",
            "여자 40대 [('패션잡화', 125), ('축산물', 88), ('수산물', 88), ('스포츠패션', 79), ('채소', 70), ('문구/사무용품', 68), ('유아동의류', 67), ('과일', 58), ('속옷/양말/홈웨어', 55), ('조미료', 51), ('화장품/뷰티케어', 50), ('생활/주방가전', 40), ('퍼스널케어', 39), ('조리식품', 38), ('과자', 36), ('식기/조리기구', 36), ('구기/필드스포츠', 36), ('침구/수예', 35), ('원예/애완', 34), ('냉장식품', 32), ('주방잡화', 32), ('완구', 31), ('건강식품', 31), ('자동차용품', 31), ('청소/세탁/욕실용품', 30), ('대용식', 29), ('여성의류', 29), ('건해산물', 29), ('아웃도어/레저', 29), ('세제/위생', 28), ('출산/육아용품', 27), ('가구', 26), ('남성의류', 25), ('음료', 24), ('건강용품', 24), ('주류', 22), ('테넌트/음식점', 22), ('인테리어/조명', 21), ('커피/차', 20), ('영상/음향가전', 20), ('시즌스포츠', 20), ('냉동식품', 19), ('양곡', 15), ('공구/안전용품', 15), ('서적/음반/악기', 15), ('계절가전', 15), ('병통조림', 14), ('헬스/피트니스', 14), ('컴퓨터', 14), ('냉장/세탁가전', 11), ('유제품', 9), ('상품권', 9), ('생활/렌탈서비스', 7), ('기타(비상품)', 6), ('담배', 6), ('여행/레저서비스', 6), ('모바일', 6), ('유아식품', 4), ('기타상품', 1), ('금융/보험서비스', 1)]\n",
            "여자 50대 [('패션잡화', 115), ('축산물', 87), ('수산물', 87), ('스포츠패션', 75), ('채소', 71), ('유아동의류', 60), ('문구/사무용품', 59), ('과일', 57), ('속옷/양말/홈웨어', 52), ('조미료', 50), ('화장품/뷰티케어', 47), ('조리식품', 38), ('퍼스널케어', 38), ('생활/주방가전', 38), ('과자', 36), ('식기/조리기구', 35), ('원예/애완', 34), ('주방잡화', 32), ('냉장식품', 31), ('침구/수예', 31), ('자동차용품', 31), ('청소/세탁/욕실용품', 30), ('완구', 30), ('건해산물', 29), ('대용식', 28), ('여성의류', 28), ('건강식품', 28), ('세제/위생', 27), ('구기/필드스포츠', 27), ('아웃도어/레저', 25), ('가구', 25), ('건강용품', 24), ('음료', 23), ('남성의류', 23), ('주류', 22), ('테넌트/음식점', 22), ('출산/육아용품', 21), ('냉동식품', 20), ('커피/차', 20), ('인테리어/조명', 20), ('영상/음향가전', 17), ('시즌스포츠', 17), ('계절가전', 15), ('병통조림', 14), ('양곡', 14), ('공구/안전용품', 14), ('컴퓨터', 14), ('헬스/피트니스', 12), ('유제품', 9), ('냉장/세탁가전', 9), ('생활/렌탈서비스', 8), ('서적/음반/악기', 8), ('상품권', 7), ('담배', 6), ('모바일', 6), ('기타(비상품)', 4), ('유아식품', 4), ('여행/레저서비스', 4)]\n",
            "여자 60대 [('패션잡화', 104), ('축산물', 85), ('수산물', 79), ('채소', 70), ('스포츠패션', 66), ('유아동의류', 59), ('과일', 57), ('문구/사무용품', 54), ('조미료', 49), ('속옷/양말/홈웨어', 49), ('화장품/뷰티케어', 43), ('조리식품', 38), ('과자', 36), ('퍼스널케어', 34), ('식기/조리기구', 33), ('주방잡화', 32), ('생활/주방가전', 32), ('냉장식품', 31), ('완구', 30), ('침구/수예', 29), ('청소/세탁/욕실용품', 28), ('대용식', 28), ('여성의류', 28), ('건해산물', 28), ('원예/애완', 28), ('세제/위생', 26), ('건강식품', 25), ('남성의류', 24), ('음료', 23), ('자동차용품', 23), ('테넌트/음식점', 22), ('주류', 20), ('커피/차', 20), ('가구', 20), ('냉동식품', 19), ('인테리어/조명', 18), ('구기/필드스포츠', 16), ('출산/육아용품', 16), ('아웃도어/레저', 15), ('양곡', 14), ('병통조림', 14), ('건강용품', 14), ('시즌스포츠', 14), ('공구/안전용품', 13), ('컴퓨터', 12), ('영상/음향가전', 11), ('헬스/피트니스', 10), ('계절가전', 10), ('유제품', 9), ('냉장/세탁가전', 8), ('담배', 6), ('서적/음반/악기', 6), ('모바일', 6), ('상품권', 5), ('생활/렌탈서비스', 5), ('유아식품', 4), ('기타(비상품)', 3), ('여행/레저서비스', 1)]\n",
            "여자 70대 [('축산물', 79), ('패션잡화', 78), ('수산물', 75), ('채소', 66), ('과일', 51), ('조미료', 46), ('스포츠패션', 45), ('속옷/양말/홈웨어', 40), ('화장품/뷰티케어', 38), ('조리식품', 35), ('과자', 34), ('문구/사무용품', 33), ('퍼스널케어', 32), ('냉장식품', 30), ('대용식', 28), ('주방잡화', 28), ('세제/위생', 27), ('건해산물', 26), ('식기/조리기구', 26), ('유아동의류', 26), ('청소/세탁/욕실용품', 24), ('음료', 23), ('남성의류', 22), ('침구/수예', 21), ('테넌트/음식점', 20), ('여성의류', 20), ('커피/차', 20), ('건강식품', 20), ('주류', 19), ('냉동식품', 19), ('생활/주방가전', 19), ('원예/애완', 18), ('완구', 18), ('양곡', 14), ('가구', 13), ('공구/안전용품', 12), ('병통조림', 12), ('자동차용품', 12), ('유제품', 9), ('건강용품', 9), ('출산/육아용품', 9), ('인테리어/조명', 9), ('아웃도어/레저', 8), ('시즌스포츠', 8), ('구기/필드스포츠', 6), ('담배', 4), ('유아식품', 4), ('헬스/피트니스', 4), ('서적/음반/악기', 4), ('냉장/세탁가전', 4), ('모바일', 4), ('계절가전', 4), ('영상/음향가전', 4), ('컴퓨터', 4), ('기타(비상품)', 3), ('생활/렌탈서비스', 2), ('상품권', 1), ('여행/레저서비스', 1)]\n"
          ]
        }
      ]
    },
    {
      "cell_type": "markdown",
      "source": [
        "각 나이대별 가장 잦은 소비를 한 품목들을 뽑아본 결과, 대부분의 나이대별 품목들의 top10은 식료품 패션잡화 축산물 수산물 채소 과일등 의식주이 기본적인 소비로 나타남을 확인할 수 있었다. 보다 확실한 분석을 위해 다음 과정에서의 모델링에서는 위의 품목들은 제외하는 것이 각 나이 및 성별의 품목 선호도 특징을 더 자세히 분석할 수 있다는 잠재적인 결론을 얻었다. \n",
        "\n",
        "70대 여성의 경우,\n",
        "('조미료', 46), ('스포츠패션', 45), ('속옷/양말/홈웨어', 40), ('화장품/뷰티케어', 38), ('조리식품', 35) 품목이 특징적으로 드러났다. "
      ],
      "metadata": {
        "id": "WtQTii19oULu"
      }
    },
    {
      "cell_type": "code",
      "source": [
        "merge_data = pd.merge(data1,data2)\n",
        "merge_data2 = pd.merge(merge_data, data4)\n",
        "merge_data3 = pd.merge(merge_data2, data5, how='left')"
      ],
      "metadata": {
        "id": "7d0D4eySLmfi"
      },
      "execution_count": null,
      "outputs": []
    },
    {
      "cell_type": "code",
      "source": [
        "merge_data3['personal'] = merge_data3['ma_fem_dv'] + merge_data3['ages']\n",
        "stacked_bar_df = merge_data3.groupby([\"personal\",\"chnl_dv\"]).size().unstack()\n",
        "stacked_bar_df"
      ],
      "metadata": {
        "colab": {
          "base_uri": "https://localhost:8080/",
          "height": 457
        },
        "id": "spy7JtTA76aF",
        "outputId": "f848f1d9-0657-4071-cc77-de0365e6e530"
      },
      "execution_count": null,
      "outputs": [
        {
          "output_type": "execute_result",
          "data": {
            "text/plain": [
              "chnl_dv         1       2\n",
              "personal                 \n",
              "남성20대       73773    3626\n",
              "남성30대      284641   24338\n",
              "남성40대      489597   46185\n",
              "남성50대      233719   16776\n",
              "남성60대       65454    1912\n",
              "남성70대       27428     665\n",
              "여성20대      167194    7586\n",
              "여성30대      631026   84816\n",
              "여성40대     1116808  185112\n",
              "여성50대      607488   51238\n",
              "여성60대      196186    5764\n",
              "여성70대       59928     483"
            ],
            "text/html": [
              "\n",
              "  <div id=\"df-25a366c7-b0ee-4236-8abb-9f184e7ac8a8\">\n",
              "    <div class=\"colab-df-container\">\n",
              "      <div>\n",
              "<style scoped>\n",
              "    .dataframe tbody tr th:only-of-type {\n",
              "        vertical-align: middle;\n",
              "    }\n",
              "\n",
              "    .dataframe tbody tr th {\n",
              "        vertical-align: top;\n",
              "    }\n",
              "\n",
              "    .dataframe thead th {\n",
              "        text-align: right;\n",
              "    }\n",
              "</style>\n",
              "<table border=\"1\" class=\"dataframe\">\n",
              "  <thead>\n",
              "    <tr style=\"text-align: right;\">\n",
              "      <th>chnl_dv</th>\n",
              "      <th>1</th>\n",
              "      <th>2</th>\n",
              "    </tr>\n",
              "    <tr>\n",
              "      <th>personal</th>\n",
              "      <th></th>\n",
              "      <th></th>\n",
              "    </tr>\n",
              "  </thead>\n",
              "  <tbody>\n",
              "    <tr>\n",
              "      <th>남성20대</th>\n",
              "      <td>73773</td>\n",
              "      <td>3626</td>\n",
              "    </tr>\n",
              "    <tr>\n",
              "      <th>남성30대</th>\n",
              "      <td>284641</td>\n",
              "      <td>24338</td>\n",
              "    </tr>\n",
              "    <tr>\n",
              "      <th>남성40대</th>\n",
              "      <td>489597</td>\n",
              "      <td>46185</td>\n",
              "    </tr>\n",
              "    <tr>\n",
              "      <th>남성50대</th>\n",
              "      <td>233719</td>\n",
              "      <td>16776</td>\n",
              "    </tr>\n",
              "    <tr>\n",
              "      <th>남성60대</th>\n",
              "      <td>65454</td>\n",
              "      <td>1912</td>\n",
              "    </tr>\n",
              "    <tr>\n",
              "      <th>남성70대</th>\n",
              "      <td>27428</td>\n",
              "      <td>665</td>\n",
              "    </tr>\n",
              "    <tr>\n",
              "      <th>여성20대</th>\n",
              "      <td>167194</td>\n",
              "      <td>7586</td>\n",
              "    </tr>\n",
              "    <tr>\n",
              "      <th>여성30대</th>\n",
              "      <td>631026</td>\n",
              "      <td>84816</td>\n",
              "    </tr>\n",
              "    <tr>\n",
              "      <th>여성40대</th>\n",
              "      <td>1116808</td>\n",
              "      <td>185112</td>\n",
              "    </tr>\n",
              "    <tr>\n",
              "      <th>여성50대</th>\n",
              "      <td>607488</td>\n",
              "      <td>51238</td>\n",
              "    </tr>\n",
              "    <tr>\n",
              "      <th>여성60대</th>\n",
              "      <td>196186</td>\n",
              "      <td>5764</td>\n",
              "    </tr>\n",
              "    <tr>\n",
              "      <th>여성70대</th>\n",
              "      <td>59928</td>\n",
              "      <td>483</td>\n",
              "    </tr>\n",
              "  </tbody>\n",
              "</table>\n",
              "</div>\n",
              "      <button class=\"colab-df-convert\" onclick=\"convertToInteractive('df-25a366c7-b0ee-4236-8abb-9f184e7ac8a8')\"\n",
              "              title=\"Convert this dataframe to an interactive table.\"\n",
              "              style=\"display:none;\">\n",
              "        \n",
              "  <svg xmlns=\"http://www.w3.org/2000/svg\" height=\"24px\"viewBox=\"0 0 24 24\"\n",
              "       width=\"24px\">\n",
              "    <path d=\"M0 0h24v24H0V0z\" fill=\"none\"/>\n",
              "    <path d=\"M18.56 5.44l.94 2.06.94-2.06 2.06-.94-2.06-.94-.94-2.06-.94 2.06-2.06.94zm-11 1L8.5 8.5l.94-2.06 2.06-.94-2.06-.94L8.5 2.5l-.94 2.06-2.06.94zm10 10l.94 2.06.94-2.06 2.06-.94-2.06-.94-.94-2.06-.94 2.06-2.06.94z\"/><path d=\"M17.41 7.96l-1.37-1.37c-.4-.4-.92-.59-1.43-.59-.52 0-1.04.2-1.43.59L10.3 9.45l-7.72 7.72c-.78.78-.78 2.05 0 2.83L4 21.41c.39.39.9.59 1.41.59.51 0 1.02-.2 1.41-.59l7.78-7.78 2.81-2.81c.8-.78.8-2.07 0-2.86zM5.41 20L4 18.59l7.72-7.72 1.47 1.35L5.41 20z\"/>\n",
              "  </svg>\n",
              "      </button>\n",
              "      \n",
              "  <style>\n",
              "    .colab-df-container {\n",
              "      display:flex;\n",
              "      flex-wrap:wrap;\n",
              "      gap: 12px;\n",
              "    }\n",
              "\n",
              "    .colab-df-convert {\n",
              "      background-color: #E8F0FE;\n",
              "      border: none;\n",
              "      border-radius: 50%;\n",
              "      cursor: pointer;\n",
              "      display: none;\n",
              "      fill: #1967D2;\n",
              "      height: 32px;\n",
              "      padding: 0 0 0 0;\n",
              "      width: 32px;\n",
              "    }\n",
              "\n",
              "    .colab-df-convert:hover {\n",
              "      background-color: #E2EBFA;\n",
              "      box-shadow: 0px 1px 2px rgba(60, 64, 67, 0.3), 0px 1px 3px 1px rgba(60, 64, 67, 0.15);\n",
              "      fill: #174EA6;\n",
              "    }\n",
              "\n",
              "    [theme=dark] .colab-df-convert {\n",
              "      background-color: #3B4455;\n",
              "      fill: #D2E3FC;\n",
              "    }\n",
              "\n",
              "    [theme=dark] .colab-df-convert:hover {\n",
              "      background-color: #434B5C;\n",
              "      box-shadow: 0px 1px 3px 1px rgba(0, 0, 0, 0.15);\n",
              "      filter: drop-shadow(0px 1px 2px rgba(0, 0, 0, 0.3));\n",
              "      fill: #FFFFFF;\n",
              "    }\n",
              "  </style>\n",
              "\n",
              "      <script>\n",
              "        const buttonEl =\n",
              "          document.querySelector('#df-25a366c7-b0ee-4236-8abb-9f184e7ac8a8 button.colab-df-convert');\n",
              "        buttonEl.style.display =\n",
              "          google.colab.kernel.accessAllowed ? 'block' : 'none';\n",
              "\n",
              "        async function convertToInteractive(key) {\n",
              "          const element = document.querySelector('#df-25a366c7-b0ee-4236-8abb-9f184e7ac8a8');\n",
              "          const dataTable =\n",
              "            await google.colab.kernel.invokeFunction('convertToInteractive',\n",
              "                                                     [key], {});\n",
              "          if (!dataTable) return;\n",
              "\n",
              "          const docLinkHtml = 'Like what you see? Visit the ' +\n",
              "            '<a target=\"_blank\" href=https://colab.research.google.com/notebooks/data_table.ipynb>data table notebook</a>'\n",
              "            + ' to learn more about interactive tables.';\n",
              "          element.innerHTML = '';\n",
              "          dataTable['output_type'] = 'display_data';\n",
              "          await google.colab.output.renderOutput(dataTable, element);\n",
              "          const docLink = document.createElement('div');\n",
              "          docLink.innerHTML = docLinkHtml;\n",
              "          element.appendChild(docLink);\n",
              "        }\n",
              "      </script>\n",
              "    </div>\n",
              "  </div>\n",
              "  "
            ]
          },
          "metadata": {},
          "execution_count": 3
        }
      ]
    },
    {
      "cell_type": "code",
      "source": [
        "from matplotlib import font_manager, rc\n",
        "import matplotlib.pyplot as plt\n",
        "plt.rc('font', family='NanumBarunGothic')\n",
        "stacked_bar_df.plot.bar(rot = 0, figsize = (10,3))\n"
      ],
      "metadata": {
        "colab": {
          "base_uri": "https://localhost:8080/",
          "height": 253
        },
        "id": "FFV-ZmTvEeZv",
        "outputId": "781e4d22-7528-46ad-c4d2-f4982d908842"
      },
      "execution_count": null,
      "outputs": [
        {
          "output_type": "execute_result",
          "data": {
            "text/plain": [
              "<matplotlib.axes._subplots.AxesSubplot at 0x7f7300eeeb50>"
            ]
          },
          "metadata": {},
          "execution_count": 11
        },
        {
          "output_type": "display_data",
          "data": {
            "text/plain": [
              "<Figure size 720x216 with 1 Axes>"
            ],
            "image/png": "[encoded data removed]"
          },
          "metadata": {
            "needs_background": "light"
          }
        }
      ]
    },
    {
      "cell_type": "markdown",
      "source": [
        "성별 나이대별 온/오프라인 구매 횟수이다. "
      ],
      "metadata": {
        "id": "9l2GU7uQNAj0"
      }
    },
    {
      "cell_type": "code",
      "source": [
        "personal_group = merge_data3.groupby(\"personal\")['buy_am'].mean()"
      ],
      "metadata": {
        "id": "tq3hbgI6Gd98"
      },
      "execution_count": null,
      "outputs": []
    },
    {
      "cell_type": "code",
      "source": [
        "merge_data3.groupby('personal').buy_am.mean().plot(kind='barh')"
      ],
      "metadata": {
        "colab": {
          "base_uri": "https://localhost:8080/",
          "height": 283
        },
        "id": "DjeV2duFIKP4",
        "outputId": "dabe3b12-6041-438b-95c2-20665afa999a"
      },
      "execution_count": null,
      "outputs": [
        {
          "output_type": "execute_result",
          "data": {
            "text/plain": [
              "<matplotlib.axes._subplots.AxesSubplot at 0x7f7300ed9390>"
            ]
          },
          "metadata": {},
          "execution_count": 16
        },
        {
          "output_type": "display_data",
          "data": {
            "text/plain": [
              "<Figure size 432x288 with 1 Axes>"
            ],
            "image/png": "[encoded data removed]"
          },
          "metadata": {
            "needs_background": "light"
          }
        }
      ]
    },
    {
      "cell_type": "markdown",
      "source": [
        "성별과 나이대별 구매 금액 평균 "
      ],
      "metadata": {
        "id": "VoK92odwNJlW"
      }
    },
    {
      "cell_type": "markdown",
      "source": [
        "## Multi-Merging : 엘페이 이용에 따른 복합 Merging 데이터 분석 "
      ],
      "metadata": {
        "id": "GVcEu0a9lXd3"
      }
    },
    {
      "cell_type": "code",
      "source": [
        "lpay_data = pd.merge(data1, data6)\n",
        "# 엘페이를 이용하는 구매자들의 나이와 성별 데이터 \n",
        "info_data = pd.merge(data3, data5)\n",
        "# 구매자들(엘페이 사용 구매자들 포함)의 제휴사에 따른 점포 정보 데이터 \n",
        "lpay_data3 = pd.merge(lpay_data, info_data, how = 'left')\n",
        "# 구매자들의 제휴사와 점포 정보 + 나이와 성별 데이터 "
      ],
      "metadata": {
        "id": "cBomPbwNlD6q"
      },
      "execution_count": null,
      "outputs": []
    },
    {
      "cell_type": "code",
      "source": [
        "lpay_data3"
      ],
      "metadata": {
        "colab": {
          "base_uri": "https://localhost:8080/",
          "height": 488
        },
        "id": "Tggi3hhz8NQp",
        "outputId": "3d303866-2c9c-461b-db38-6cfbd789e3aa"
      },
      "execution_count": null,
      "outputs": [
        {
          "output_type": "execute_result",
          "data": {
            "text/plain": [
              "              cust ma_fem_dv ages zon_hlv           rct_no cop_c  chnl_dv  \\\n",
              "0       M000136117        여성  30대     Z11  210926220176038   D01        2   \n",
              "1       M000136117        여성  30대     Z11  211120000687692   A06        2   \n",
              "2       M000136117        여성  30대     Z11  210104110684235   A06        2   \n",
              "3       M000136117        여성  30대     Z11  210109140124587   A01        1   \n",
              "4       M000419293        여성  40대     Z17  211103140120216   D01        2   \n",
              "...            ...       ...  ...     ...              ...   ...      ...   \n",
              "353503  M999962961        여성  50대     Z17  210724200025828   L00        2   \n",
              "353504  M999962961        여성  50대     Z17  210214170187495   A01        1   \n",
              "353505  M999962961        여성  50대     Z17  210214180290789   C02        1   \n",
              "353506  M999962961        여성  50대     Z17  210113180665862   A06        2   \n",
              "353507  M999962961        여성  50대     Z17  210117130146991   A01        1   \n",
              "\n",
              "           de_dt  de_hr   buy_am     br_c zon_mcls  \n",
              "0       20210926     22    15100      NaN      NaN  \n",
              "1       20211120      0   177301      NaN      NaN  \n",
              "2       20210104     11    42600      NaN      NaN  \n",
              "3       20210109     14   902500      NaN      NaN  \n",
              "4       20211103     14     9900      NaN      NaN  \n",
              "...          ...    ...      ...      ...      ...  \n",
              "353503  20210724     20     9156      NaN      NaN  \n",
              "353504  20210214     17     5500      NaN      NaN  \n",
              "353505  20210214     18    12700  C020002   Z17018  \n",
              "353506  20210113     18    86380      NaN      NaN  \n",
              "353507  20210117     13  2600000      NaN      NaN  \n",
              "\n",
              "[353508 rows x 12 columns]"
            ],
            "text/html": [
              "\n",
              "  <div id=\"df-6ed25da1-a0fd-4a66-bdb9-77020c3cc35b\">\n",
              "    <div class=\"colab-df-container\">\n",
              "      <div>\n",
              "<style scoped>\n",
              "    .dataframe tbody tr th:only-of-type {\n",
              "        vertical-align: middle;\n",
              "    }\n",
              "\n",
              "    .dataframe tbody tr th {\n",
              "        vertical-align: top;\n",
              "    }\n",
              "\n",
              "    .dataframe thead th {\n",
              "        text-align: right;\n",
              "    }\n",
              "</style>\n",
              "<table border=\"1\" class=\"dataframe\">\n",
              "  <thead>\n",
              "    <tr style=\"text-align: right;\">\n",
              "      <th></th>\n",
              "      <th>cust</th>\n",
              "      <th>ma_fem_dv</th>\n",
              "      <th>ages</th>\n",
              "      <th>zon_hlv</th>\n",
              "      <th>rct_no</th>\n",
              "      <th>cop_c</th>\n",
              "      <th>chnl_dv</th>\n",
              "      <th>de_dt</th>\n",
              "      <th>de_hr</th>\n",
              "      <th>buy_am</th>\n",
              "      <th>br_c</th>\n",
              "      <th>zon_mcls</th>\n",
              "    </tr>\n",
              "  </thead>\n",
              "  <tbody>\n",
              "    <tr>\n",
              "      <th>0</th>\n",
              "      <td>M000136117</td>\n",
              "      <td>여성</td>\n",
              "      <td>30대</td>\n",
              "      <td>Z11</td>\n",
              "      <td>210926220176038</td>\n",
              "      <td>D01</td>\n",
              "      <td>2</td>\n",
              "      <td>20210926</td>\n",
              "      <td>22</td>\n",
              "      <td>15100</td>\n",
              "      <td>NaN</td>\n",
              "      <td>NaN</td>\n",
              "    </tr>\n",
              "    <tr>\n",
              "      <th>1</th>\n",
              "      <td>M000136117</td>\n",
              "      <td>여성</td>\n",
              "      <td>30대</td>\n",
              "      <td>Z11</td>\n",
              "      <td>211120000687692</td>\n",
              "      <td>A06</td>\n",
              "      <td>2</td>\n",
              "      <td>20211120</td>\n",
              "      <td>0</td>\n",
              "      <td>177301</td>\n",
              "      <td>NaN</td>\n",
              "      <td>NaN</td>\n",
              "    </tr>\n",
              "    <tr>\n",
              "      <th>2</th>\n",
              "      <td>M000136117</td>\n",
              "      <td>여성</td>\n",
              "      <td>30대</td>\n",
              "      <td>Z11</td>\n",
              "      <td>210104110684235</td>\n",
              "      <td>A06</td>\n",
              "      <td>2</td>\n",
              "      <td>20210104</td>\n",
              "      <td>11</td>\n",
              "      <td>42600</td>\n",
              "      <td>NaN</td>\n",
              "      <td>NaN</td>\n",
              "    </tr>\n",
              "    <tr>\n",
              "      <th>3</th>\n",
              "      <td>M000136117</td>\n",
              "      <td>여성</td>\n",
              "      <td>30대</td>\n",
              "      <td>Z11</td>\n",
              "      <td>210109140124587</td>\n",
              "      <td>A01</td>\n",
              "      <td>1</td>\n",
              "      <td>20210109</td>\n",
              "      <td>14</td>\n",
              "      <td>902500</td>\n",
              "      <td>NaN</td>\n",
              "      <td>NaN</td>\n",
              "    </tr>\n",
              "    <tr>\n",
              "      <th>4</th>\n",
              "      <td>M000419293</td>\n",
              "      <td>여성</td>\n",
              "      <td>40대</td>\n",
              "      <td>Z17</td>\n",
              "      <td>211103140120216</td>\n",
              "      <td>D01</td>\n",
              "      <td>2</td>\n",
              "      <td>20211103</td>\n",
              "      <td>14</td>\n",
              "      <td>9900</td>\n",
              "      <td>NaN</td>\n",
              "      <td>NaN</td>\n",
              "    </tr>\n",
              "    <tr>\n",
              "      <th>...</th>\n",
              "      <td>...</td>\n",
              "      <td>...</td>\n",
              "      <td>...</td>\n",
              "      <td>...</td>\n",
              "      <td>...</td>\n",
              "      <td>...</td>\n",
              "      <td>...</td>\n",
              "      <td>...</td>\n",
              "      <td>...</td>\n",
              "      <td>...</td>\n",
              "      <td>...</td>\n",
              "      <td>...</td>\n",
              "    </tr>\n",
              "    <tr>\n",
              "      <th>353503</th>\n",
              "      <td>M999962961</td>\n",
              "      <td>여성</td>\n",
              "      <td>50대</td>\n",
              "      <td>Z17</td>\n",
              "      <td>210724200025828</td>\n",
              "      <td>L00</td>\n",
              "      <td>2</td>\n",
              "      <td>20210724</td>\n",
              "      <td>20</td>\n",
              "      <td>9156</td>\n",
              "      <td>NaN</td>\n",
              "      <td>NaN</td>\n",
              "    </tr>\n",
              "    <tr>\n",
              "      <th>353504</th>\n",
              "      <td>M999962961</td>\n",
              "      <td>여성</td>\n",
              "      <td>50대</td>\n",
              "      <td>Z17</td>\n",
              "      <td>210214170187495</td>\n",
              "      <td>A01</td>\n",
              "      <td>1</td>\n",
              "      <td>20210214</td>\n",
              "      <td>17</td>\n",
              "      <td>5500</td>\n",
              "      <td>NaN</td>\n",
              "      <td>NaN</td>\n",
              "    </tr>\n",
              "    <tr>\n",
              "      <th>353505</th>\n",
              "      <td>M999962961</td>\n",
              "      <td>여성</td>\n",
              "      <td>50대</td>\n",
              "      <td>Z17</td>\n",
              "      <td>210214180290789</td>\n",
              "      <td>C02</td>\n",
              "      <td>1</td>\n",
              "      <td>20210214</td>\n",
              "      <td>18</td>\n",
              "      <td>12700</td>\n",
              "      <td>C020002</td>\n",
              "      <td>Z17018</td>\n",
              "    </tr>\n",
              "    <tr>\n",
              "      <th>353506</th>\n",
              "      <td>M999962961</td>\n",
              "      <td>여성</td>\n",
              "      <td>50대</td>\n",
              "      <td>Z17</td>\n",
              "      <td>210113180665862</td>\n",
              "      <td>A06</td>\n",
              "      <td>2</td>\n",
              "      <td>20210113</td>\n",
              "      <td>18</td>\n",
              "      <td>86380</td>\n",
              "      <td>NaN</td>\n",
              "      <td>NaN</td>\n",
              "    </tr>\n",
              "    <tr>\n",
              "      <th>353507</th>\n",
              "      <td>M999962961</td>\n",
              "      <td>여성</td>\n",
              "      <td>50대</td>\n",
              "      <td>Z17</td>\n",
              "      <td>210117130146991</td>\n",
              "      <td>A01</td>\n",
              "      <td>1</td>\n",
              "      <td>20210117</td>\n",
              "      <td>13</td>\n",
              "      <td>2600000</td>\n",
              "      <td>NaN</td>\n",
              "      <td>NaN</td>\n",
              "    </tr>\n",
              "  </tbody>\n",
              "</table>\n",
              "<p>353508 rows × 12 columns</p>\n",
              "</div>\n",
              "      <button class=\"colab-df-convert\" onclick=\"convertToInteractive('df-6ed25da1-a0fd-4a66-bdb9-77020c3cc35b')\"\n",
              "              title=\"Convert this dataframe to an interactive table.\"\n",
              "              style=\"display:none;\">\n",
              "        \n",
              "  <svg xmlns=\"http://www.w3.org/2000/svg\" height=\"24px\"viewBox=\"0 0 24 24\"\n",
              "       width=\"24px\">\n",
              "    <path d=\"M0 0h24v24H0V0z\" fill=\"none\"/>\n",
              "    <path d=\"M18.56 5.44l.94 2.06.94-2.06 2.06-.94-2.06-.94-.94-2.06-.94 2.06-2.06.94zm-11 1L8.5 8.5l.94-2.06 2.06-.94-2.06-.94L8.5 2.5l-.94 2.06-2.06.94zm10 10l.94 2.06.94-2.06 2.06-.94-2.06-.94-.94-2.06-.94 2.06-2.06.94z\"/><path d=\"M17.41 7.96l-1.37-1.37c-.4-.4-.92-.59-1.43-.59-.52 0-1.04.2-1.43.59L10.3 9.45l-7.72 7.72c-.78.78-.78 2.05 0 2.83L4 21.41c.39.39.9.59 1.41.59.51 0 1.02-.2 1.41-.59l7.78-7.78 2.81-2.81c.8-.78.8-2.07 0-2.86zM5.41 20L4 18.59l7.72-7.72 1.47 1.35L5.41 20z\"/>\n",
              "  </svg>\n",
              "      </button>\n",
              "      \n",
              "  <style>\n",
              "    .colab-df-container {\n",
              "      display:flex;\n",
              "      flex-wrap:wrap;\n",
              "      gap: 12px;\n",
              "    }\n",
              "\n",
              "    .colab-df-convert {\n",
              "      background-color: #E8F0FE;\n",
              "      border: none;\n",
              "      border-radius: 50%;\n",
              "      cursor: pointer;\n",
              "      display: none;\n",
              "      fill: #1967D2;\n",
              "      height: 32px;\n",
              "      padding: 0 0 0 0;\n",
              "      width: 32px;\n",
              "    }\n",
              "\n",
              "    .colab-df-convert:hover {\n",
              "      background-color: #E2EBFA;\n",
              "      box-shadow: 0px 1px 2px rgba(60, 64, 67, 0.3), 0px 1px 3px 1px rgba(60, 64, 67, 0.15);\n",
              "      fill: #174EA6;\n",
              "    }\n",
              "\n",
              "    [theme=dark] .colab-df-convert {\n",
              "      background-color: #3B4455;\n",
              "      fill: #D2E3FC;\n",
              "    }\n",
              "\n",
              "    [theme=dark] .colab-df-convert:hover {\n",
              "      background-color: #434B5C;\n",
              "      box-shadow: 0px 1px 3px 1px rgba(0, 0, 0, 0.15);\n",
              "      filter: drop-shadow(0px 1px 2px rgba(0, 0, 0, 0.3));\n",
              "      fill: #FFFFFF;\n",
              "    }\n",
              "  </style>\n",
              "\n",
              "      <script>\n",
              "        const buttonEl =\n",
              "          document.querySelector('#df-6ed25da1-a0fd-4a66-bdb9-77020c3cc35b button.colab-df-convert');\n",
              "        buttonEl.style.display =\n",
              "          google.colab.kernel.accessAllowed ? 'block' : 'none';\n",
              "\n",
              "        async function convertToInteractive(key) {\n",
              "          const element = document.querySelector('#df-6ed25da1-a0fd-4a66-bdb9-77020c3cc35b');\n",
              "          const dataTable =\n",
              "            await google.colab.kernel.invokeFunction('convertToInteractive',\n",
              "                                                     [key], {});\n",
              "          if (!dataTable) return;\n",
              "\n",
              "          const docLinkHtml = 'Like what you see? Visit the ' +\n",
              "            '<a target=\"_blank\" href=https://colab.research.google.com/notebooks/data_table.ipynb>data table notebook</a>'\n",
              "            + ' to learn more about interactive tables.';\n",
              "          element.innerHTML = '';\n",
              "          dataTable['output_type'] = 'display_data';\n",
              "          await google.colab.output.renderOutput(dataTable, element);\n",
              "          const docLink = document.createElement('div');\n",
              "          docLink.innerHTML = docLinkHtml;\n",
              "          element.appendChild(docLink);\n",
              "        }\n",
              "      </script>\n",
              "    </div>\n",
              "  </div>\n",
              "  "
            ]
          },
          "metadata": {},
          "execution_count": 4
        }
      ]
    },
    {
      "cell_type": "markdown",
      "source": [
        "상대적으로 엘페이를 이용한 사람들의 영수증 데이터가 많이 부족하여 점포정보를 얻을 수 없다는 결론을 내림."
      ],
      "metadata": {
        "id": "gPvoUs5pm2X8"
      }
    },
    {
      "cell_type": "markdown",
      "source": [
        "## 엘페이 이용에 따른 구매자들의 나이와 성별 데이터 "
      ],
      "metadata": {
        "id": "vaZNJixJnDkM"
      }
    },
    {
      "cell_type": "code",
      "source": [
        "lpay_data = pd.merge(data1, data6)\n",
        "# 엘페이를 이용하는 구매자들의 나이와 성별 데이터 \n",
        "lpay_data"
      ],
      "metadata": {
        "colab": {
          "base_uri": "https://localhost:8080/",
          "height": 488
        },
        "id": "33CtnPMx8Qc0",
        "outputId": "5f25e4a8-5827-411e-8a8a-7fe8072a80d2"
      },
      "execution_count": null,
      "outputs": [
        {
          "output_type": "execute_result",
          "data": {
            "text/plain": [
              "              cust ma_fem_dv ages zon_hlv           rct_no cop_c  chnl_dv  \\\n",
              "0       M000136117        여성  30대     Z11  210926220176038   D01        2   \n",
              "1       M000136117        여성  30대     Z11  211120000687692   A06        2   \n",
              "2       M000136117        여성  30대     Z11  210104110684235   A06        2   \n",
              "3       M000136117        여성  30대     Z11  210109140124587   A01        1   \n",
              "4       M000419293        여성  40대     Z17  211103140120216   D01        2   \n",
              "...            ...       ...  ...     ...              ...   ...      ...   \n",
              "353179  M999962961        여성  50대     Z17  210724200025828   L00        2   \n",
              "353180  M999962961        여성  50대     Z17  210214170187495   A01        1   \n",
              "353181  M999962961        여성  50대     Z17  210214180290789   C02        1   \n",
              "353182  M999962961        여성  50대     Z17  210113180665862   A06        2   \n",
              "353183  M999962961        여성  50대     Z17  210117130146991   A01        1   \n",
              "\n",
              "           de_dt  de_hr   buy_am  \n",
              "0       20210926     22    15100  \n",
              "1       20211120      0   177301  \n",
              "2       20210104     11    42600  \n",
              "3       20210109     14   902500  \n",
              "4       20211103     14     9900  \n",
              "...          ...    ...      ...  \n",
              "353179  20210724     20     9156  \n",
              "353180  20210214     17     5500  \n",
              "353181  20210214     18    12700  \n",
              "353182  20210113     18    86380  \n",
              "353183  20210117     13  2600000  \n",
              "\n",
              "[353184 rows x 10 columns]"
            ],
            "text/html": [
              "\n",
              "  <div id=\"df-c61324e0-8cdb-45da-94ed-32a0bd468fa7\">\n",
              "    <div class=\"colab-df-container\">\n",
              "      <div>\n",
              "<style scoped>\n",
              "    .dataframe tbody tr th:only-of-type {\n",
              "        vertical-align: middle;\n",
              "    }\n",
              "\n",
              "    .dataframe tbody tr th {\n",
              "        vertical-align: top;\n",
              "    }\n",
              "\n",
              "    .dataframe thead th {\n",
              "        text-align: right;\n",
              "    }\n",
              "</style>\n",
              "<table border=\"1\" class=\"dataframe\">\n",
              "  <thead>\n",
              "    <tr style=\"text-align: right;\">\n",
              "      <th></th>\n",
              "      <th>cust</th>\n",
              "      <th>ma_fem_dv</th>\n",
              "      <th>ages</th>\n",
              "      <th>zon_hlv</th>\n",
              "      <th>rct_no</th>\n",
              "      <th>cop_c</th>\n",
              "      <th>chnl_dv</th>\n",
              "      <th>de_dt</th>\n",
              "      <th>de_hr</th>\n",
              "      <th>buy_am</th>\n",
              "    </tr>\n",
              "  </thead>\n",
              "  <tbody>\n",
              "    <tr>\n",
              "      <th>0</th>\n",
              "      <td>M000136117</td>\n",
              "      <td>여성</td>\n",
              "      <td>30대</td>\n",
              "      <td>Z11</td>\n",
              "      <td>210926220176038</td>\n",
              "      <td>D01</td>\n",
              "      <td>2</td>\n",
              "      <td>20210926</td>\n",
              "      <td>22</td>\n",
              "      <td>15100</td>\n",
              "    </tr>\n",
              "    <tr>\n",
              "      <th>1</th>\n",
              "      <td>M000136117</td>\n",
              "      <td>여성</td>\n",
              "      <td>30대</td>\n",
              "      <td>Z11</td>\n",
              "      <td>211120000687692</td>\n",
              "      <td>A06</td>\n",
              "      <td>2</td>\n",
              "      <td>20211120</td>\n",
              "      <td>0</td>\n",
              "      <td>177301</td>\n",
              "    </tr>\n",
              "    <tr>\n",
              "      <th>2</th>\n",
              "      <td>M000136117</td>\n",
              "      <td>여성</td>\n",
              "      <td>30대</td>\n",
              "      <td>Z11</td>\n",
              "      <td>210104110684235</td>\n",
              "      <td>A06</td>\n",
              "      <td>2</td>\n",
              "      <td>20210104</td>\n",
              "      <td>11</td>\n",
              "      <td>42600</td>\n",
              "    </tr>\n",
              "    <tr>\n",
              "      <th>3</th>\n",
              "      <td>M000136117</td>\n",
              "      <td>여성</td>\n",
              "      <td>30대</td>\n",
              "      <td>Z11</td>\n",
              "      <td>210109140124587</td>\n",
              "      <td>A01</td>\n",
              "      <td>1</td>\n",
              "      <td>20210109</td>\n",
              "      <td>14</td>\n",
              "      <td>902500</td>\n",
              "    </tr>\n",
              "    <tr>\n",
              "      <th>4</th>\n",
              "      <td>M000419293</td>\n",
              "      <td>여성</td>\n",
              "      <td>40대</td>\n",
              "      <td>Z17</td>\n",
              "      <td>211103140120216</td>\n",
              "      <td>D01</td>\n",
              "      <td>2</td>\n",
              "      <td>20211103</td>\n",
              "      <td>14</td>\n",
              "      <td>9900</td>\n",
              "    </tr>\n",
              "    <tr>\n",
              "      <th>...</th>\n",
              "      <td>...</td>\n",
              "      <td>...</td>\n",
              "      <td>...</td>\n",
              "      <td>...</td>\n",
              "      <td>...</td>\n",
              "      <td>...</td>\n",
              "      <td>...</td>\n",
              "      <td>...</td>\n",
              "      <td>...</td>\n",
              "      <td>...</td>\n",
              "    </tr>\n",
              "    <tr>\n",
              "      <th>353179</th>\n",
              "      <td>M999962961</td>\n",
              "      <td>여성</td>\n",
              "      <td>50대</td>\n",
              "      <td>Z17</td>\n",
              "      <td>210724200025828</td>\n",
              "      <td>L00</td>\n",
              "      <td>2</td>\n",
              "      <td>20210724</td>\n",
              "      <td>20</td>\n",
              "      <td>9156</td>\n",
              "    </tr>\n",
              "    <tr>\n",
              "      <th>353180</th>\n",
              "      <td>M999962961</td>\n",
              "      <td>여성</td>\n",
              "      <td>50대</td>\n",
              "      <td>Z17</td>\n",
              "      <td>210214170187495</td>\n",
              "      <td>A01</td>\n",
              "      <td>1</td>\n",
              "      <td>20210214</td>\n",
              "      <td>17</td>\n",
              "      <td>5500</td>\n",
              "    </tr>\n",
              "    <tr>\n",
              "      <th>353181</th>\n",
              "      <td>M999962961</td>\n",
              "      <td>여성</td>\n",
              "      <td>50대</td>\n",
              "      <td>Z17</td>\n",
              "      <td>210214180290789</td>\n",
              "      <td>C02</td>\n",
              "      <td>1</td>\n",
              "      <td>20210214</td>\n",
              "      <td>18</td>\n",
              "      <td>12700</td>\n",
              "    </tr>\n",
              "    <tr>\n",
              "      <th>353182</th>\n",
              "      <td>M999962961</td>\n",
              "      <td>여성</td>\n",
              "      <td>50대</td>\n",
              "      <td>Z17</td>\n",
              "      <td>210113180665862</td>\n",
              "      <td>A06</td>\n",
              "      <td>2</td>\n",
              "      <td>20210113</td>\n",
              "      <td>18</td>\n",
              "      <td>86380</td>\n",
              "    </tr>\n",
              "    <tr>\n",
              "      <th>353183</th>\n",
              "      <td>M999962961</td>\n",
              "      <td>여성</td>\n",
              "      <td>50대</td>\n",
              "      <td>Z17</td>\n",
              "      <td>210117130146991</td>\n",
              "      <td>A01</td>\n",
              "      <td>1</td>\n",
              "      <td>20210117</td>\n",
              "      <td>13</td>\n",
              "      <td>2600000</td>\n",
              "    </tr>\n",
              "  </tbody>\n",
              "</table>\n",
              "<p>353184 rows × 10 columns</p>\n",
              "</div>\n",
              "      <button class=\"colab-df-convert\" onclick=\"convertToInteractive('df-c61324e0-8cdb-45da-94ed-32a0bd468fa7')\"\n",
              "              title=\"Convert this dataframe to an interactive table.\"\n",
              "              style=\"display:none;\">\n",
              "        \n",
              "  <svg xmlns=\"http://www.w3.org/2000/svg\" height=\"24px\"viewBox=\"0 0 24 24\"\n",
              "       width=\"24px\">\n",
              "    <path d=\"M0 0h24v24H0V0z\" fill=\"none\"/>\n",
              "    <path d=\"M18.56 5.44l.94 2.06.94-2.06 2.06-.94-2.06-.94-.94-2.06-.94 2.06-2.06.94zm-11 1L8.5 8.5l.94-2.06 2.06-.94-2.06-.94L8.5 2.5l-.94 2.06-2.06.94zm10 10l.94 2.06.94-2.06 2.06-.94-2.06-.94-.94-2.06-.94 2.06-2.06.94z\"/><path d=\"M17.41 7.96l-1.37-1.37c-.4-.4-.92-.59-1.43-.59-.52 0-1.04.2-1.43.59L10.3 9.45l-7.72 7.72c-.78.78-.78 2.05 0 2.83L4 21.41c.39.39.9.59 1.41.59.51 0 1.02-.2 1.41-.59l7.78-7.78 2.81-2.81c.8-.78.8-2.07 0-2.86zM5.41 20L4 18.59l7.72-7.72 1.47 1.35L5.41 20z\"/>\n",
              "  </svg>\n",
              "      </button>\n",
              "      \n",
              "  <style>\n",
              "    .colab-df-container {\n",
              "      display:flex;\n",
              "      flex-wrap:wrap;\n",
              "      gap: 12px;\n",
              "    }\n",
              "\n",
              "    .colab-df-convert {\n",
              "      background-color: #E8F0FE;\n",
              "      border: none;\n",
              "      border-radius: 50%;\n",
              "      cursor: pointer;\n",
              "      display: none;\n",
              "      fill: #1967D2;\n",
              "      height: 32px;\n",
              "      padding: 0 0 0 0;\n",
              "      width: 32px;\n",
              "    }\n",
              "\n",
              "    .colab-df-convert:hover {\n",
              "      background-color: #E2EBFA;\n",
              "      box-shadow: 0px 1px 2px rgba(60, 64, 67, 0.3), 0px 1px 3px 1px rgba(60, 64, 67, 0.15);\n",
              "      fill: #174EA6;\n",
              "    }\n",
              "\n",
              "    [theme=dark] .colab-df-convert {\n",
              "      background-color: #3B4455;\n",
              "      fill: #D2E3FC;\n",
              "    }\n",
              "\n",
              "    [theme=dark] .colab-df-convert:hover {\n",
              "      background-color: #434B5C;\n",
              "      box-shadow: 0px 1px 3px 1px rgba(0, 0, 0, 0.15);\n",
              "      filter: drop-shadow(0px 1px 2px rgba(0, 0, 0, 0.3));\n",
              "      fill: #FFFFFF;\n",
              "    }\n",
              "  </style>\n",
              "\n",
              "      <script>\n",
              "        const buttonEl =\n",
              "          document.querySelector('#df-c61324e0-8cdb-45da-94ed-32a0bd468fa7 button.colab-df-convert');\n",
              "        buttonEl.style.display =\n",
              "          google.colab.kernel.accessAllowed ? 'block' : 'none';\n",
              "\n",
              "        async function convertToInteractive(key) {\n",
              "          const element = document.querySelector('#df-c61324e0-8cdb-45da-94ed-32a0bd468fa7');\n",
              "          const dataTable =\n",
              "            await google.colab.kernel.invokeFunction('convertToInteractive',\n",
              "                                                     [key], {});\n",
              "          if (!dataTable) return;\n",
              "\n",
              "          const docLinkHtml = 'Like what you see? Visit the ' +\n",
              "            '<a target=\"_blank\" href=https://colab.research.google.com/notebooks/data_table.ipynb>data table notebook</a>'\n",
              "            + ' to learn more about interactive tables.';\n",
              "          element.innerHTML = '';\n",
              "          dataTable['output_type'] = 'display_data';\n",
              "          await google.colab.output.renderOutput(dataTable, element);\n",
              "          const docLink = document.createElement('div');\n",
              "          docLink.innerHTML = docLinkHtml;\n",
              "          element.appendChild(docLink);\n",
              "        }\n",
              "      </script>\n",
              "    </div>\n",
              "  </div>\n",
              "  "
            ]
          },
          "metadata": {},
          "execution_count": 5
        }
      ]
    },
    {
      "cell_type": "code",
      "source": [
        "lpay_data['is_lpay'] = int(1)\n",
        "lpay_cust = lpay_data[['cust', 'is_lpay']]\n",
        "lpay_customer = pd.merge(data1, lpay_cust, how = 'left')\n",
        "lpay_customer['is_lpay'] = lpay_customer['is_lpay'].fillna(0)    "
      ],
      "metadata": {
        "id": "4Y_gQGBd_BSB"
      },
      "execution_count": null,
      "outputs": []
    },
    {
      "cell_type": "markdown",
      "source": [
        "lpay_data와 같은 경우, 엘페이를 이용하는 사람들만의 데이터기 때문에, 모든 열의 값이 1(엘페이를 사용함)인 'is_lpay'열 추가 후 이를 다시 data1기준으로 merge하기 위해 lpay_cust 생성한후 data1기준으로 merge 후 'is_lpay'열의 값이 null인 경우, lpay를 사용하지 않은 경우기 때문에 0으로 null값 대체"
      ],
      "metadata": {
        "id": "0hzUy_a6nuGO"
      }
    },
    {
      "cell_type": "markdown",
      "source": [
        "# 상품정보 관련 EDA"
      ],
      "metadata": {
        "id": "tTDC4H-UQ6-j"
      }
    },
    {
      "cell_type": "code",
      "source": [
        "merge_data = pd.merge(data1,data2)\n",
        "merge_data.head()"
      ],
      "metadata": {
        "colab": {
          "base_uri": "https://localhost:8080/",
          "height": 206
        },
        "id": "nuiO4PguRHXx",
        "outputId": "f8945eb9-1ae6-4554-86b5-1eb973c9fea6"
      },
      "execution_count": null,
      "outputs": [
        {
          "output_type": "execute_result",
          "data": {
            "text/plain": [
              "         cust ma_fem_dv ages zon_hlv        rct_no  chnl_dv cop_c     br_c  \\\n",
              "0  M000034966        여성  40대     Z07  A01016688590        1   A01  A010045   \n",
              "1  M000034966        여성  40대     Z07  A01016688590        1   A01  A010045   \n",
              "2  M000034966        여성  40대     Z07  A01016688590        1   A01  A010045   \n",
              "3  M000034966        여성  40대     Z07  A01016718167        1   A01  A010045   \n",
              "4  M000034966        여성  40대     Z07  A02357398521        1   A02  A020116   \n",
              "\n",
              "     pd_c     de_dt  de_hr   buy_am  buy_ct  \n",
              "0  PD0777  20210116     18  59000.0       1  \n",
              "1  PD0777  20210116     18  19000.0       1  \n",
              "2  PD0796  20210116     18    100.0       1  \n",
              "3  PD0816  20210116     18  62100.0       1  \n",
              "4  PD0630  20210325     13  19900.0       1  "
            ],
            "text/html": [
              "\n",
              "  <div id=\"df-91d02e11-025b-4451-a1a5-0ff9c7a779dd\">\n",
              "    <div class=\"colab-df-container\">\n",
              "      <div>\n",
              "<style scoped>\n",
              "    .dataframe tbody tr th:only-of-type {\n",
              "        vertical-align: middle;\n",
              "    }\n",
              "\n",
              "    .dataframe tbody tr th {\n",
              "        vertical-align: top;\n",
              "    }\n",
              "\n",
              "    .dataframe thead th {\n",
              "        text-align: right;\n",
              "    }\n",
              "</style>\n",
              "<table border=\"1\" class=\"dataframe\">\n",
              "  <thead>\n",
              "    <tr style=\"text-align: right;\">\n",
              "      <th></th>\n",
              "      <th>cust</th>\n",
              "      <th>ma_fem_dv</th>\n",
              "      <th>ages</th>\n",
              "      <th>zon_hlv</th>\n",
              "      <th>rct_no</th>\n",
              "      <th>chnl_dv</th>\n",
              "      <th>cop_c</th>\n",
              "      <th>br_c</th>\n",
              "      <th>pd_c</th>\n",
              "      <th>de_dt</th>\n",
              "      <th>de_hr</th>\n",
              "      <th>buy_am</th>\n",
              "      <th>buy_ct</th>\n",
              "    </tr>\n",
              "  </thead>\n",
              "  <tbody>\n",
              "    <tr>\n",
              "      <th>0</th>\n",
              "      <td>M000034966</td>\n",
              "      <td>여성</td>\n",
              "      <td>40대</td>\n",
              "      <td>Z07</td>\n",
              "      <td>A01016688590</td>\n",
              "      <td>1</td>\n",
              "      <td>A01</td>\n",
              "      <td>A010045</td>\n",
              "      <td>PD0777</td>\n",
              "      <td>20210116</td>\n",
              "      <td>18</td>\n",
              "      <td>59000.0</td>\n",
              "      <td>1</td>\n",
              "    </tr>\n",
              "    <tr>\n",
              "      <th>1</th>\n",
              "      <td>M000034966</td>\n",
              "      <td>여성</td>\n",
              "      <td>40대</td>\n",
              "      <td>Z07</td>\n",
              "      <td>A01016688590</td>\n",
              "      <td>1</td>\n",
              "      <td>A01</td>\n",
              "      <td>A010045</td>\n",
              "      <td>PD0777</td>\n",
              "      <td>20210116</td>\n",
              "      <td>18</td>\n",
              "      <td>19000.0</td>\n",
              "      <td>1</td>\n",
              "    </tr>\n",
              "    <tr>\n",
              "      <th>2</th>\n",
              "      <td>M000034966</td>\n",
              "      <td>여성</td>\n",
              "      <td>40대</td>\n",
              "      <td>Z07</td>\n",
              "      <td>A01016688590</td>\n",
              "      <td>1</td>\n",
              "      <td>A01</td>\n",
              "      <td>A010045</td>\n",
              "      <td>PD0796</td>\n",
              "      <td>20210116</td>\n",
              "      <td>18</td>\n",
              "      <td>100.0</td>\n",
              "      <td>1</td>\n",
              "    </tr>\n",
              "    <tr>\n",
              "      <th>3</th>\n",
              "      <td>M000034966</td>\n",
              "      <td>여성</td>\n",
              "      <td>40대</td>\n",
              "      <td>Z07</td>\n",
              "      <td>A01016718167</td>\n",
              "      <td>1</td>\n",
              "      <td>A01</td>\n",
              "      <td>A010045</td>\n",
              "      <td>PD0816</td>\n",
              "      <td>20210116</td>\n",
              "      <td>18</td>\n",
              "      <td>62100.0</td>\n",
              "      <td>1</td>\n",
              "    </tr>\n",
              "    <tr>\n",
              "      <th>4</th>\n",
              "      <td>M000034966</td>\n",
              "      <td>여성</td>\n",
              "      <td>40대</td>\n",
              "      <td>Z07</td>\n",
              "      <td>A02357398521</td>\n",
              "      <td>1</td>\n",
              "      <td>A02</td>\n",
              "      <td>A020116</td>\n",
              "      <td>PD0630</td>\n",
              "      <td>20210325</td>\n",
              "      <td>13</td>\n",
              "      <td>19900.0</td>\n",
              "      <td>1</td>\n",
              "    </tr>\n",
              "  </tbody>\n",
              "</table>\n",
              "</div>\n",
              "      <button class=\"colab-df-convert\" onclick=\"convertToInteractive('df-91d02e11-025b-4451-a1a5-0ff9c7a779dd')\"\n",
              "              title=\"Convert this dataframe to an interactive table.\"\n",
              "              style=\"display:none;\">\n",
              "        \n",
              "  <svg xmlns=\"http://www.w3.org/2000/svg\" height=\"24px\"viewBox=\"0 0 24 24\"\n",
              "       width=\"24px\">\n",
              "    <path d=\"M0 0h24v24H0V0z\" fill=\"none\"/>\n",
              "    <path d=\"M18.56 5.44l.94 2.06.94-2.06 2.06-.94-2.06-.94-.94-2.06-.94 2.06-2.06.94zm-11 1L8.5 8.5l.94-2.06 2.06-.94-2.06-.94L8.5 2.5l-.94 2.06-2.06.94zm10 10l.94 2.06.94-2.06 2.06-.94-2.06-.94-.94-2.06-.94 2.06-2.06.94z\"/><path d=\"M17.41 7.96l-1.37-1.37c-.4-.4-.92-.59-1.43-.59-.52 0-1.04.2-1.43.59L10.3 9.45l-7.72 7.72c-.78.78-.78 2.05 0 2.83L4 21.41c.39.39.9.59 1.41.59.51 0 1.02-.2 1.41-.59l7.78-7.78 2.81-2.81c.8-.78.8-2.07 0-2.86zM5.41 20L4 18.59l7.72-7.72 1.47 1.35L5.41 20z\"/>\n",
              "  </svg>\n",
              "      </button>\n",
              "      \n",
              "  <style>\n",
              "    .colab-df-container {\n",
              "      display:flex;\n",
              "      flex-wrap:wrap;\n",
              "      gap: 12px;\n",
              "    }\n",
              "\n",
              "    .colab-df-convert {\n",
              "      background-color: #E8F0FE;\n",
              "      border: none;\n",
              "      border-radius: 50%;\n",
              "      cursor: pointer;\n",
              "      display: none;\n",
              "      fill: #1967D2;\n",
              "      height: 32px;\n",
              "      padding: 0 0 0 0;\n",
              "      width: 32px;\n",
              "    }\n",
              "\n",
              "    .colab-df-convert:hover {\n",
              "      background-color: #E2EBFA;\n",
              "      box-shadow: 0px 1px 2px rgba(60, 64, 67, 0.3), 0px 1px 3px 1px rgba(60, 64, 67, 0.15);\n",
              "      fill: #174EA6;\n",
              "    }\n",
              "\n",
              "    [theme=dark] .colab-df-convert {\n",
              "      background-color: #3B4455;\n",
              "      fill: #D2E3FC;\n",
              "    }\n",
              "\n",
              "    [theme=dark] .colab-df-convert:hover {\n",
              "      background-color: #434B5C;\n",
              "      box-shadow: 0px 1px 3px 1px rgba(0, 0, 0, 0.15);\n",
              "      filter: drop-shadow(0px 1px 2px rgba(0, 0, 0, 0.3));\n",
              "      fill: #FFFFFF;\n",
              "    }\n",
              "  </style>\n",
              "\n",
              "      <script>\n",
              "        const buttonEl =\n",
              "          document.querySelector('#df-91d02e11-025b-4451-a1a5-0ff9c7a779dd button.colab-df-convert');\n",
              "        buttonEl.style.display =\n",
              "          google.colab.kernel.accessAllowed ? 'block' : 'none';\n",
              "\n",
              "        async function convertToInteractive(key) {\n",
              "          const element = document.querySelector('#df-91d02e11-025b-4451-a1a5-0ff9c7a779dd');\n",
              "          const dataTable =\n",
              "            await google.colab.kernel.invokeFunction('convertToInteractive',\n",
              "                                                     [key], {});\n",
              "          if (!dataTable) return;\n",
              "\n",
              "          const docLinkHtml = 'Like what you see? Visit the ' +\n",
              "            '<a target=\"_blank\" href=https://colab.research.google.com/notebooks/data_table.ipynb>data table notebook</a>'\n",
              "            + ' to learn more about interactive tables.';\n",
              "          element.innerHTML = '';\n",
              "          dataTable['output_type'] = 'display_data';\n",
              "          await google.colab.output.renderOutput(dataTable, element);\n",
              "          const docLink = document.createElement('div');\n",
              "          docLink.innerHTML = docLinkHtml;\n",
              "          element.appendChild(docLink);\n",
              "        }\n",
              "      </script>\n",
              "    </div>\n",
              "  </div>\n",
              "  "
            ]
          },
          "metadata": {},
          "execution_count": 5
        }
      ]
    },
    {
      "cell_type": "code",
      "source": [
        "len(merge_data)"
      ],
      "metadata": {
        "colab": {
          "base_uri": "https://localhost:8080/"
        },
        "id": "aocNUWeefHIP",
        "outputId": "b48986e1-3570-4970-d3fa-d2f91a3c3e67"
      },
      "execution_count": null,
      "outputs": [
        {
          "output_type": "execute_result",
          "data": {
            "text/plain": [
              "4381743"
            ]
          },
          "metadata": {},
          "execution_count": 15
        }
      ]
    },
    {
      "cell_type": "code",
      "source": [
        "merge_data.tail()"
      ],
      "metadata": {
        "colab": {
          "base_uri": "https://localhost:8080/",
          "height": 206
        },
        "id": "QdG180X6athw",
        "outputId": "ad9611c3-d5e2-4190-ef5d-f2899abc588d"
      },
      "execution_count": null,
      "outputs": [
        {
          "output_type": "execute_result",
          "data": {
            "text/plain": [
              "               cust ma_fem_dv ages zon_hlv        rct_no  chnl_dv cop_c  \\\n",
              "4381738  M999962961        여성  50대     Z17  A05001012161        1   A05   \n",
              "4381739  M999962961        여성  50대     Z17  E06002810292        2   A06   \n",
              "4381740  M999962961        여성  50대     Z17  E06004609359        2   A06   \n",
              "4381741  M999962961        여성  50대     Z17  E06025413888        2   A06   \n",
              "4381742  M999962961        여성  50대     Z17  E06035713248        2   A06   \n",
              "\n",
              "            br_c    pd_c     de_dt  de_hr    buy_am  buy_ct  \n",
              "4381738  A050039  PD0541  20210313     20  599000.0       1  \n",
              "4381739      NaN  PD0959  20210113     18  129000.0       1  \n",
              "4381740      NaN  PD0954  20210122     14   34300.0       1  \n",
              "4381741      NaN  PD0967  20210406     17   89000.0       1  \n",
              "4381742      NaN  PD1889  20210503     22   50000.0       1  "
            ],
            "text/html": [
              "\n",
              "  <div id=\"df-13a012b3-7c29-4781-928e-6ed08027b177\">\n",
              "    <div class=\"colab-df-container\">\n",
              "      <div>\n",
              "<style scoped>\n",
              "    .dataframe tbody tr th:only-of-type {\n",
              "        vertical-align: middle;\n",
              "    }\n",
              "\n",
              "    .dataframe tbody tr th {\n",
              "        vertical-align: top;\n",
              "    }\n",
              "\n",
              "    .dataframe thead th {\n",
              "        text-align: right;\n",
              "    }\n",
              "</style>\n",
              "<table border=\"1\" class=\"dataframe\">\n",
              "  <thead>\n",
              "    <tr style=\"text-align: right;\">\n",
              "      <th></th>\n",
              "      <th>cust</th>\n",
              "      <th>ma_fem_dv</th>\n",
              "      <th>ages</th>\n",
              "      <th>zon_hlv</th>\n",
              "      <th>rct_no</th>\n",
              "      <th>chnl_dv</th>\n",
              "      <th>cop_c</th>\n",
              "      <th>br_c</th>\n",
              "      <th>pd_c</th>\n",
              "      <th>de_dt</th>\n",
              "      <th>de_hr</th>\n",
              "      <th>buy_am</th>\n",
              "      <th>buy_ct</th>\n",
              "    </tr>\n",
              "  </thead>\n",
              "  <tbody>\n",
              "    <tr>\n",
              "      <th>4381738</th>\n",
              "      <td>M999962961</td>\n",
              "      <td>여성</td>\n",
              "      <td>50대</td>\n",
              "      <td>Z17</td>\n",
              "      <td>A05001012161</td>\n",
              "      <td>1</td>\n",
              "      <td>A05</td>\n",
              "      <td>A050039</td>\n",
              "      <td>PD0541</td>\n",
              "      <td>20210313</td>\n",
              "      <td>20</td>\n",
              "      <td>599000.0</td>\n",
              "      <td>1</td>\n",
              "    </tr>\n",
              "    <tr>\n",
              "      <th>4381739</th>\n",
              "      <td>M999962961</td>\n",
              "      <td>여성</td>\n",
              "      <td>50대</td>\n",
              "      <td>Z17</td>\n",
              "      <td>E06002810292</td>\n",
              "      <td>2</td>\n",
              "      <td>A06</td>\n",
              "      <td>NaN</td>\n",
              "      <td>PD0959</td>\n",
              "      <td>20210113</td>\n",
              "      <td>18</td>\n",
              "      <td>129000.0</td>\n",
              "      <td>1</td>\n",
              "    </tr>\n",
              "    <tr>\n",
              "      <th>4381740</th>\n",
              "      <td>M999962961</td>\n",
              "      <td>여성</td>\n",
              "      <td>50대</td>\n",
              "      <td>Z17</td>\n",
              "      <td>E06004609359</td>\n",
              "      <td>2</td>\n",
              "      <td>A06</td>\n",
              "      <td>NaN</td>\n",
              "      <td>PD0954</td>\n",
              "      <td>20210122</td>\n",
              "      <td>14</td>\n",
              "      <td>34300.0</td>\n",
              "      <td>1</td>\n",
              "    </tr>\n",
              "    <tr>\n",
              "      <th>4381741</th>\n",
              "      <td>M999962961</td>\n",
              "      <td>여성</td>\n",
              "      <td>50대</td>\n",
              "      <td>Z17</td>\n",
              "      <td>E06025413888</td>\n",
              "      <td>2</td>\n",
              "      <td>A06</td>\n",
              "      <td>NaN</td>\n",
              "      <td>PD0967</td>\n",
              "      <td>20210406</td>\n",
              "      <td>17</td>\n",
              "      <td>89000.0</td>\n",
              "      <td>1</td>\n",
              "    </tr>\n",
              "    <tr>\n",
              "      <th>4381742</th>\n",
              "      <td>M999962961</td>\n",
              "      <td>여성</td>\n",
              "      <td>50대</td>\n",
              "      <td>Z17</td>\n",
              "      <td>E06035713248</td>\n",
              "      <td>2</td>\n",
              "      <td>A06</td>\n",
              "      <td>NaN</td>\n",
              "      <td>PD1889</td>\n",
              "      <td>20210503</td>\n",
              "      <td>22</td>\n",
              "      <td>50000.0</td>\n",
              "      <td>1</td>\n",
              "    </tr>\n",
              "  </tbody>\n",
              "</table>\n",
              "</div>\n",
              "      <button class=\"colab-df-convert\" onclick=\"convertToInteractive('df-13a012b3-7c29-4781-928e-6ed08027b177')\"\n",
              "              title=\"Convert this dataframe to an interactive table.\"\n",
              "              style=\"display:none;\">\n",
              "        \n",
              "  <svg xmlns=\"http://www.w3.org/2000/svg\" height=\"24px\"viewBox=\"0 0 24 24\"\n",
              "       width=\"24px\">\n",
              "    <path d=\"M0 0h24v24H0V0z\" fill=\"none\"/>\n",
              "    <path d=\"M18.56 5.44l.94 2.06.94-2.06 2.06-.94-2.06-.94-.94-2.06-.94 2.06-2.06.94zm-11 1L8.5 8.5l.94-2.06 2.06-.94-2.06-.94L8.5 2.5l-.94 2.06-2.06.94zm10 10l.94 2.06.94-2.06 2.06-.94-2.06-.94-.94-2.06-.94 2.06-2.06.94z\"/><path d=\"M17.41 7.96l-1.37-1.37c-.4-.4-.92-.59-1.43-.59-.52 0-1.04.2-1.43.59L10.3 9.45l-7.72 7.72c-.78.78-.78 2.05 0 2.83L4 21.41c.39.39.9.59 1.41.59.51 0 1.02-.2 1.41-.59l7.78-7.78 2.81-2.81c.8-.78.8-2.07 0-2.86zM5.41 20L4 18.59l7.72-7.72 1.47 1.35L5.41 20z\"/>\n",
              "  </svg>\n",
              "      </button>\n",
              "      \n",
              "  <style>\n",
              "    .colab-df-container {\n",
              "      display:flex;\n",
              "      flex-wrap:wrap;\n",
              "      gap: 12px;\n",
              "    }\n",
              "\n",
              "    .colab-df-convert {\n",
              "      background-color: #E8F0FE;\n",
              "      border: none;\n",
              "      border-radius: 50%;\n",
              "      cursor: pointer;\n",
              "      display: none;\n",
              "      fill: #1967D2;\n",
              "      height: 32px;\n",
              "      padding: 0 0 0 0;\n",
              "      width: 32px;\n",
              "    }\n",
              "\n",
              "    .colab-df-convert:hover {\n",
              "      background-color: #E2EBFA;\n",
              "      box-shadow: 0px 1px 2px rgba(60, 64, 67, 0.3), 0px 1px 3px 1px rgba(60, 64, 67, 0.15);\n",
              "      fill: #174EA6;\n",
              "    }\n",
              "\n",
              "    [theme=dark] .colab-df-convert {\n",
              "      background-color: #3B4455;\n",
              "      fill: #D2E3FC;\n",
              "    }\n",
              "\n",
              "    [theme=dark] .colab-df-convert:hover {\n",
              "      background-color: #434B5C;\n",
              "      box-shadow: 0px 1px 3px 1px rgba(0, 0, 0, 0.15);\n",
              "      filter: drop-shadow(0px 1px 2px rgba(0, 0, 0, 0.3));\n",
              "      fill: #FFFFFF;\n",
              "    }\n",
              "  </style>\n",
              "\n",
              "      <script>\n",
              "        const buttonEl =\n",
              "          document.querySelector('#df-13a012b3-7c29-4781-928e-6ed08027b177 button.colab-df-convert');\n",
              "        buttonEl.style.display =\n",
              "          google.colab.kernel.accessAllowed ? 'block' : 'none';\n",
              "\n",
              "        async function convertToInteractive(key) {\n",
              "          const element = document.querySelector('#df-13a012b3-7c29-4781-928e-6ed08027b177');\n",
              "          const dataTable =\n",
              "            await google.colab.kernel.invokeFunction('convertToInteractive',\n",
              "                                                     [key], {});\n",
              "          if (!dataTable) return;\n",
              "\n",
              "          const docLinkHtml = 'Like what you see? Visit the ' +\n",
              "            '<a target=\"_blank\" href=https://colab.research.google.com/notebooks/data_table.ipynb>data table notebook</a>'\n",
              "            + ' to learn more about interactive tables.';\n",
              "          element.innerHTML = '';\n",
              "          dataTable['output_type'] = 'display_data';\n",
              "          await google.colab.output.renderOutput(dataTable, element);\n",
              "          const docLink = document.createElement('div');\n",
              "          docLink.innerHTML = docLinkHtml;\n",
              "          element.appendChild(docLink);\n",
              "        }\n",
              "      </script>\n",
              "    </div>\n",
              "  </div>\n",
              "  "
            ]
          },
          "metadata": {},
          "execution_count": 57
        }
      ]
    },
    {
      "cell_type": "code",
      "source": [
        "merge_data.zon_hlv.value_counts()"
      ],
      "metadata": {
        "colab": {
          "base_uri": "https://localhost:8080/"
        },
        "id": "HGYxFmk5Zi1g",
        "outputId": "40a14f6b-2cf1-44b0-d300-e7415b1c24f7"
      },
      "execution_count": null,
      "outputs": [
        {
          "output_type": "execute_result",
          "data": {
            "text/plain": [
              "Z17    1251849\n",
              "Z10    1161956\n",
              "Z16     347917\n",
              "Z11     282070\n",
              "Z04     281482\n",
              "Z06     183096\n",
              "Z13     141338\n",
              "Z05     112815\n",
              "Z08     102872\n",
              "Z09      96051\n",
              "Z15      90180\n",
              "Z14      87356\n",
              "Z12      75500\n",
              "Z03      69977\n",
              "Z01      64958\n",
              "Z07      23665\n",
              "Z02       8661\n",
              "Name: zon_hlv, dtype: int64"
            ]
          },
          "metadata": {},
          "execution_count": 6
        }
      ]
    },
    {
      "cell_type": "code",
      "source": [
        "chage_df1 = merge_data.groupby(['rct_no','de_dt','de_hr','ma_fem_dv','ages','cop_c','zon_hlv'])['pd_c'].apply(', '.join).reset_index()"
      ],
      "metadata": {
        "id": "g229lSfIcYxT"
      },
      "execution_count": null,
      "outputs": []
    },
    {
      "cell_type": "code",
      "source": [
        "import numpy as np\n",
        "chage_df2 = merge_data.groupby(['rct_no','de_dt','de_hr'])['buy_am'].apply(np.sum).reset_index()"
      ],
      "metadata": {
        "id": "9JXnL2ZypO7_"
      },
      "execution_count": null,
      "outputs": []
    },
    {
      "cell_type": "code",
      "source": [
        "change_merge = pd.merge(chage_df1,chage_df2)"
      ],
      "metadata": {
        "id": "dOp_Ruj5Ui0S"
      },
      "execution_count": null,
      "outputs": []
    },
    {
      "cell_type": "code",
      "source": [
        "change_merge.cop_c.value_counts()"
      ],
      "metadata": {
        "colab": {
          "base_uri": "https://localhost:8080/"
        },
        "id": "JydlK17SZ4Cn",
        "outputId": "d34ffbf8-20f2-43f0-9b0c-c3670c44be91"
      },
      "execution_count": null,
      "outputs": [
        {
          "output_type": "execute_result",
          "data": {
            "text/plain": [
              "A01    506595\n",
              "A02    380537\n",
              "A03    192540\n",
              "A04    129033\n",
              "A06     52101\n",
              "A05      5783\n",
              "Name: cop_c, dtype: int64"
            ]
          },
          "metadata": {},
          "execution_count": 56
        }
      ]
    },
    {
      "cell_type": "code",
      "source": [
        "data4"
      ],
      "metadata": {
        "colab": {
          "base_uri": "https://localhost:8080/",
          "height": 424
        },
        "id": "wVbL9uAjaGBy",
        "outputId": "d1e317f5-c271-4b62-edc7-000f44e00bec"
      },
      "execution_count": null,
      "outputs": [
        {
          "output_type": "execute_result",
          "data": {
            "text/plain": [
              "        pd_c     pd_nm clac_hlv_nm clac_mcls_nm\n",
              "0     PD0001        소파          가구         거실가구\n",
              "1     PD0002   스툴/리빙의자          가구         거실가구\n",
              "2     PD0003        탁자          가구         거실가구\n",
              "3     PD0004   장식장/진열장          가구         거실가구\n",
              "4     PD0005      기타가구          가구         기타가구\n",
              "...      ...       ...         ...          ...\n",
              "1928  PD1929      여성향수    화장품/뷰티케어           향수\n",
              "1929  PD1930      남성향수    화장품/뷰티케어           향수\n",
              "1930  PD1931    남녀공용향수    화장품/뷰티케어           향수\n",
              "1931  PD1932    남성향수세트    화장품/뷰티케어           향수\n",
              "1932  PD1933  남녀공용향수세트    화장품/뷰티케어           향수\n",
              "\n",
              "[1933 rows x 4 columns]"
            ],
            "text/html": [
              "\n",
              "  <div id=\"df-ea22c7e0-c4ed-4d2c-acd8-7e2432e4e4fa\">\n",
              "    <div class=\"colab-df-container\">\n",
              "      <div>\n",
              "<style scoped>\n",
              "    .dataframe tbody tr th:only-of-type {\n",
              "        vertical-align: middle;\n",
              "    }\n",
              "\n",
              "    .dataframe tbody tr th {\n",
              "        vertical-align: top;\n",
              "    }\n",
              "\n",
              "    .dataframe thead th {\n",
              "        text-align: right;\n",
              "    }\n",
              "</style>\n",
              "<table border=\"1\" class=\"dataframe\">\n",
              "  <thead>\n",
              "    <tr style=\"text-align: right;\">\n",
              "      <th></th>\n",
              "      <th>pd_c</th>\n",
              "      <th>pd_nm</th>\n",
              "      <th>clac_hlv_nm</th>\n",
              "      <th>clac_mcls_nm</th>\n",
              "    </tr>\n",
              "  </thead>\n",
              "  <tbody>\n",
              "    <tr>\n",
              "      <th>0</th>\n",
              "      <td>PD0001</td>\n",
              "      <td>소파</td>\n",
              "      <td>가구</td>\n",
              "      <td>거실가구</td>\n",
              "    </tr>\n",
              "    <tr>\n",
              "      <th>1</th>\n",
              "      <td>PD0002</td>\n",
              "      <td>스툴/리빙의자</td>\n",
              "      <td>가구</td>\n",
              "      <td>거실가구</td>\n",
              "    </tr>\n",
              "    <tr>\n",
              "      <th>2</th>\n",
              "      <td>PD0003</td>\n",
              "      <td>탁자</td>\n",
              "      <td>가구</td>\n",
              "      <td>거실가구</td>\n",
              "    </tr>\n",
              "    <tr>\n",
              "      <th>3</th>\n",
              "      <td>PD0004</td>\n",
              "      <td>장식장/진열장</td>\n",
              "      <td>가구</td>\n",
              "      <td>거실가구</td>\n",
              "    </tr>\n",
              "    <tr>\n",
              "      <th>4</th>\n",
              "      <td>PD0005</td>\n",
              "      <td>기타가구</td>\n",
              "      <td>가구</td>\n",
              "      <td>기타가구</td>\n",
              "    </tr>\n",
              "    <tr>\n",
              "      <th>...</th>\n",
              "      <td>...</td>\n",
              "      <td>...</td>\n",
              "      <td>...</td>\n",
              "      <td>...</td>\n",
              "    </tr>\n",
              "    <tr>\n",
              "      <th>1928</th>\n",
              "      <td>PD1929</td>\n",
              "      <td>여성향수</td>\n",
              "      <td>화장품/뷰티케어</td>\n",
              "      <td>향수</td>\n",
              "    </tr>\n",
              "    <tr>\n",
              "      <th>1929</th>\n",
              "      <td>PD1930</td>\n",
              "      <td>남성향수</td>\n",
              "      <td>화장품/뷰티케어</td>\n",
              "      <td>향수</td>\n",
              "    </tr>\n",
              "    <tr>\n",
              "      <th>1930</th>\n",
              "      <td>PD1931</td>\n",
              "      <td>남녀공용향수</td>\n",
              "      <td>화장품/뷰티케어</td>\n",
              "      <td>향수</td>\n",
              "    </tr>\n",
              "    <tr>\n",
              "      <th>1931</th>\n",
              "      <td>PD1932</td>\n",
              "      <td>남성향수세트</td>\n",
              "      <td>화장품/뷰티케어</td>\n",
              "      <td>향수</td>\n",
              "    </tr>\n",
              "    <tr>\n",
              "      <th>1932</th>\n",
              "      <td>PD1933</td>\n",
              "      <td>남녀공용향수세트</td>\n",
              "      <td>화장품/뷰티케어</td>\n",
              "      <td>향수</td>\n",
              "    </tr>\n",
              "  </tbody>\n",
              "</table>\n",
              "<p>1933 rows × 4 columns</p>\n",
              "</div>\n",
              "      <button class=\"colab-df-convert\" onclick=\"convertToInteractive('df-ea22c7e0-c4ed-4d2c-acd8-7e2432e4e4fa')\"\n",
              "              title=\"Convert this dataframe to an interactive table.\"\n",
              "              style=\"display:none;\">\n",
              "        \n",
              "  <svg xmlns=\"http://www.w3.org/2000/svg\" height=\"24px\"viewBox=\"0 0 24 24\"\n",
              "       width=\"24px\">\n",
              "    <path d=\"M0 0h24v24H0V0z\" fill=\"none\"/>\n",
              "    <path d=\"M18.56 5.44l.94 2.06.94-2.06 2.06-.94-2.06-.94-.94-2.06-.94 2.06-2.06.94zm-11 1L8.5 8.5l.94-2.06 2.06-.94-2.06-.94L8.5 2.5l-.94 2.06-2.06.94zm10 10l.94 2.06.94-2.06 2.06-.94-2.06-.94-.94-2.06-.94 2.06-2.06.94z\"/><path d=\"M17.41 7.96l-1.37-1.37c-.4-.4-.92-.59-1.43-.59-.52 0-1.04.2-1.43.59L10.3 9.45l-7.72 7.72c-.78.78-.78 2.05 0 2.83L4 21.41c.39.39.9.59 1.41.59.51 0 1.02-.2 1.41-.59l7.78-7.78 2.81-2.81c.8-.78.8-2.07 0-2.86zM5.41 20L4 18.59l7.72-7.72 1.47 1.35L5.41 20z\"/>\n",
              "  </svg>\n",
              "      </button>\n",
              "      \n",
              "  <style>\n",
              "    .colab-df-container {\n",
              "      display:flex;\n",
              "      flex-wrap:wrap;\n",
              "      gap: 12px;\n",
              "    }\n",
              "\n",
              "    .colab-df-convert {\n",
              "      background-color: #E8F0FE;\n",
              "      border: none;\n",
              "      border-radius: 50%;\n",
              "      cursor: pointer;\n",
              "      display: none;\n",
              "      fill: #1967D2;\n",
              "      height: 32px;\n",
              "      padding: 0 0 0 0;\n",
              "      width: 32px;\n",
              "    }\n",
              "\n",
              "    .colab-df-convert:hover {\n",
              "      background-color: #E2EBFA;\n",
              "      box-shadow: 0px 1px 2px rgba(60, 64, 67, 0.3), 0px 1px 3px 1px rgba(60, 64, 67, 0.15);\n",
              "      fill: #174EA6;\n",
              "    }\n",
              "\n",
              "    [theme=dark] .colab-df-convert {\n",
              "      background-color: #3B4455;\n",
              "      fill: #D2E3FC;\n",
              "    }\n",
              "\n",
              "    [theme=dark] .colab-df-convert:hover {\n",
              "      background-color: #434B5C;\n",
              "      box-shadow: 0px 1px 3px 1px rgba(0, 0, 0, 0.15);\n",
              "      filter: drop-shadow(0px 1px 2px rgba(0, 0, 0, 0.3));\n",
              "      fill: #FFFFFF;\n",
              "    }\n",
              "  </style>\n",
              "\n",
              "      <script>\n",
              "        const buttonEl =\n",
              "          document.querySelector('#df-ea22c7e0-c4ed-4d2c-acd8-7e2432e4e4fa button.colab-df-convert');\n",
              "        buttonEl.style.display =\n",
              "          google.colab.kernel.accessAllowed ? 'block' : 'none';\n",
              "\n",
              "        async function convertToInteractive(key) {\n",
              "          const element = document.querySelector('#df-ea22c7e0-c4ed-4d2c-acd8-7e2432e4e4fa');\n",
              "          const dataTable =\n",
              "            await google.colab.kernel.invokeFunction('convertToInteractive',\n",
              "                                                     [key], {});\n",
              "          if (!dataTable) return;\n",
              "\n",
              "          const docLinkHtml = 'Like what you see? Visit the ' +\n",
              "            '<a target=\"_blank\" href=https://colab.research.google.com/notebooks/data_table.ipynb>data table notebook</a>'\n",
              "            + ' to learn more about interactive tables.';\n",
              "          element.innerHTML = '';\n",
              "          dataTable['output_type'] = 'display_data';\n",
              "          await google.colab.output.renderOutput(dataTable, element);\n",
              "          const docLink = document.createElement('div');\n",
              "          docLink.innerHTML = docLinkHtml;\n",
              "          element.appendChild(docLink);\n",
              "        }\n",
              "      </script>\n",
              "    </div>\n",
              "  </div>\n",
              "  "
            ]
          },
          "metadata": {},
          "execution_count": 9
        }
      ]
    },
    {
      "cell_type": "code",
      "source": [
        "#1993 category  #350 \n",
        "print(len(data4.clac_mcls_nm.value_counts()))"
      ],
      "metadata": {
        "colab": {
          "base_uri": "https://localhost:8080/"
        },
        "id": "DedtVJblZyg6",
        "outputId": "17609d32-0e99-4c86-8d47-58d7060daca1"
      },
      "execution_count": null,
      "outputs": [
        {
          "output_type": "stream",
          "name": "stdout",
          "text": [
            "349\n"
          ]
        }
      ]
    },
    {
      "cell_type": "code",
      "source": [
        "print(len(data4.clac_hlv_nm.value_counts()))\n",
        "print(len(data4.pd_nm.value_counts()))"
      ],
      "metadata": {
        "colab": {
          "base_uri": "https://localhost:8080/"
        },
        "id": "WjM1tGOtZ_JJ",
        "outputId": "6076b761-8c54-4c6d-8e0f-899a5dd890de"
      },
      "execution_count": null,
      "outputs": [
        {
          "output_type": "stream",
          "name": "stdout",
          "text": [
            "60\n",
            "1932\n"
          ]
        }
      ]
    },
    {
      "cell_type": "code",
      "source": [
        "# 1 ~ 60 "
      ],
      "metadata": {
        "id": "zTYgLeLYaZNt"
      },
      "execution_count": null,
      "outputs": []
    },
    {
      "cell_type": "code",
      "source": [
        "chage_df2"
      ],
      "metadata": {
        "colab": {
          "base_uri": "https://localhost:8080/",
          "height": 424
        },
        "id": "scYCtrhfViFn",
        "outputId": "db0907a2-031f-4bc8-e9e8-788ca297cd4b"
      },
      "execution_count": null,
      "outputs": [
        {
          "output_type": "execute_result",
          "data": {
            "text/plain": [
              "               rct_no     de_dt  de_hr     buy_am\n",
              "0        A01000001113  20210101     10    15000.0\n",
              "1        A01000002265  20210101     10    79700.0\n",
              "2        A01000003148  20210101     10    38000.0\n",
              "3        A01000004946  20210101     10    19000.0\n",
              "4        A01000005297  20210101     10     9900.0\n",
              "...               ...       ...    ...        ...\n",
              "1266584  E06052115831  20211231     22    50000.0\n",
              "1266585  E06052116037  20211231     22    30000.0\n",
              "1266586  E06052117103  20211231     23   289000.0\n",
              "1266587  E06052118403  20211231     23  1000000.0\n",
              "1266588  E06052119978  20211231     23   500000.0\n",
              "\n",
              "[1266589 rows x 4 columns]"
            ],
            "text/html": [
              "\n",
              "  <div id=\"df-382067f2-3535-49c2-b82b-16249df3131a\">\n",
              "    <div class=\"colab-df-container\">\n",
              "      <div>\n",
              "<style scoped>\n",
              "    .dataframe tbody tr th:only-of-type {\n",
              "        vertical-align: middle;\n",
              "    }\n",
              "\n",
              "    .dataframe tbody tr th {\n",
              "        vertical-align: top;\n",
              "    }\n",
              "\n",
              "    .dataframe thead th {\n",
              "        text-align: right;\n",
              "    }\n",
              "</style>\n",
              "<table border=\"1\" class=\"dataframe\">\n",
              "  <thead>\n",
              "    <tr style=\"text-align: right;\">\n",
              "      <th></th>\n",
              "      <th>rct_no</th>\n",
              "      <th>de_dt</th>\n",
              "      <th>de_hr</th>\n",
              "      <th>buy_am</th>\n",
              "    </tr>\n",
              "  </thead>\n",
              "  <tbody>\n",
              "    <tr>\n",
              "      <th>0</th>\n",
              "      <td>A01000001113</td>\n",
              "      <td>20210101</td>\n",
              "      <td>10</td>\n",
              "      <td>15000.0</td>\n",
              "    </tr>\n",
              "    <tr>\n",
              "      <th>1</th>\n",
              "      <td>A01000002265</td>\n",
              "      <td>20210101</td>\n",
              "      <td>10</td>\n",
              "      <td>79700.0</td>\n",
              "    </tr>\n",
              "    <tr>\n",
              "      <th>2</th>\n",
              "      <td>A01000003148</td>\n",
              "      <td>20210101</td>\n",
              "      <td>10</td>\n",
              "      <td>38000.0</td>\n",
              "    </tr>\n",
              "    <tr>\n",
              "      <th>3</th>\n",
              "      <td>A01000004946</td>\n",
              "      <td>20210101</td>\n",
              "      <td>10</td>\n",
              "      <td>19000.0</td>\n",
              "    </tr>\n",
              "    <tr>\n",
              "      <th>4</th>\n",
              "      <td>A01000005297</td>\n",
              "      <td>20210101</td>\n",
              "      <td>10</td>\n",
              "      <td>9900.0</td>\n",
              "    </tr>\n",
              "    <tr>\n",
              "      <th>...</th>\n",
              "      <td>...</td>\n",
              "      <td>...</td>\n",
              "      <td>...</td>\n",
              "      <td>...</td>\n",
              "    </tr>\n",
              "    <tr>\n",
              "      <th>1266584</th>\n",
              "      <td>E06052115831</td>\n",
              "      <td>20211231</td>\n",
              "      <td>22</td>\n",
              "      <td>50000.0</td>\n",
              "    </tr>\n",
              "    <tr>\n",
              "      <th>1266585</th>\n",
              "      <td>E06052116037</td>\n",
              "      <td>20211231</td>\n",
              "      <td>22</td>\n",
              "      <td>30000.0</td>\n",
              "    </tr>\n",
              "    <tr>\n",
              "      <th>1266586</th>\n",
              "      <td>E06052117103</td>\n",
              "      <td>20211231</td>\n",
              "      <td>23</td>\n",
              "      <td>289000.0</td>\n",
              "    </tr>\n",
              "    <tr>\n",
              "      <th>1266587</th>\n",
              "      <td>E06052118403</td>\n",
              "      <td>20211231</td>\n",
              "      <td>23</td>\n",
              "      <td>1000000.0</td>\n",
              "    </tr>\n",
              "    <tr>\n",
              "      <th>1266588</th>\n",
              "      <td>E06052119978</td>\n",
              "      <td>20211231</td>\n",
              "      <td>23</td>\n",
              "      <td>500000.0</td>\n",
              "    </tr>\n",
              "  </tbody>\n",
              "</table>\n",
              "<p>1266589 rows × 4 columns</p>\n",
              "</div>\n",
              "      <button class=\"colab-df-convert\" onclick=\"convertToInteractive('df-382067f2-3535-49c2-b82b-16249df3131a')\"\n",
              "              title=\"Convert this dataframe to an interactive table.\"\n",
              "              style=\"display:none;\">\n",
              "        \n",
              "  <svg xmlns=\"http://www.w3.org/2000/svg\" height=\"24px\"viewBox=\"0 0 24 24\"\n",
              "       width=\"24px\">\n",
              "    <path d=\"M0 0h24v24H0V0z\" fill=\"none\"/>\n",
              "    <path d=\"M18.56 5.44l.94 2.06.94-2.06 2.06-.94-2.06-.94-.94-2.06-.94 2.06-2.06.94zm-11 1L8.5 8.5l.94-2.06 2.06-.94-2.06-.94L8.5 2.5l-.94 2.06-2.06.94zm10 10l.94 2.06.94-2.06 2.06-.94-2.06-.94-.94-2.06-.94 2.06-2.06.94z\"/><path d=\"M17.41 7.96l-1.37-1.37c-.4-.4-.92-.59-1.43-.59-.52 0-1.04.2-1.43.59L10.3 9.45l-7.72 7.72c-.78.78-.78 2.05 0 2.83L4 21.41c.39.39.9.59 1.41.59.51 0 1.02-.2 1.41-.59l7.78-7.78 2.81-2.81c.8-.78.8-2.07 0-2.86zM5.41 20L4 18.59l7.72-7.72 1.47 1.35L5.41 20z\"/>\n",
              "  </svg>\n",
              "      </button>\n",
              "      \n",
              "  <style>\n",
              "    .colab-df-container {\n",
              "      display:flex;\n",
              "      flex-wrap:wrap;\n",
              "      gap: 12px;\n",
              "    }\n",
              "\n",
              "    .colab-df-convert {\n",
              "      background-color: #E8F0FE;\n",
              "      border: none;\n",
              "      border-radius: 50%;\n",
              "      cursor: pointer;\n",
              "      display: none;\n",
              "      fill: #1967D2;\n",
              "      height: 32px;\n",
              "      padding: 0 0 0 0;\n",
              "      width: 32px;\n",
              "    }\n",
              "\n",
              "    .colab-df-convert:hover {\n",
              "      background-color: #E2EBFA;\n",
              "      box-shadow: 0px 1px 2px rgba(60, 64, 67, 0.3), 0px 1px 3px 1px rgba(60, 64, 67, 0.15);\n",
              "      fill: #174EA6;\n",
              "    }\n",
              "\n",
              "    [theme=dark] .colab-df-convert {\n",
              "      background-color: #3B4455;\n",
              "      fill: #D2E3FC;\n",
              "    }\n",
              "\n",
              "    [theme=dark] .colab-df-convert:hover {\n",
              "      background-color: #434B5C;\n",
              "      box-shadow: 0px 1px 3px 1px rgba(0, 0, 0, 0.15);\n",
              "      filter: drop-shadow(0px 1px 2px rgba(0, 0, 0, 0.3));\n",
              "      fill: #FFFFFF;\n",
              "    }\n",
              "  </style>\n",
              "\n",
              "      <script>\n",
              "        const buttonEl =\n",
              "          document.querySelector('#df-382067f2-3535-49c2-b82b-16249df3131a button.colab-df-convert');\n",
              "        buttonEl.style.display =\n",
              "          google.colab.kernel.accessAllowed ? 'block' : 'none';\n",
              "\n",
              "        async function convertToInteractive(key) {\n",
              "          const element = document.querySelector('#df-382067f2-3535-49c2-b82b-16249df3131a');\n",
              "          const dataTable =\n",
              "            await google.colab.kernel.invokeFunction('convertToInteractive',\n",
              "                                                     [key], {});\n",
              "          if (!dataTable) return;\n",
              "\n",
              "          const docLinkHtml = 'Like what you see? Visit the ' +\n",
              "            '<a target=\"_blank\" href=https://colab.research.google.com/notebooks/data_table.ipynb>data table notebook</a>'\n",
              "            + ' to learn more about interactive tables.';\n",
              "          element.innerHTML = '';\n",
              "          dataTable['output_type'] = 'display_data';\n",
              "          await google.colab.output.renderOutput(dataTable, element);\n",
              "          const docLink = document.createElement('div');\n",
              "          docLink.innerHTML = docLinkHtml;\n",
              "          element.appendChild(docLink);\n",
              "        }\n",
              "      </script>\n",
              "    </div>\n",
              "  </div>\n",
              "  "
            ]
          },
          "metadata": {},
          "execution_count": 41
        }
      ]
    },
    {
      "cell_type": "code",
      "source": [
        "chage_df2[chage_df2['rct_no'] == 'A01016688590']"
      ],
      "metadata": {
        "colab": {
          "base_uri": "https://localhost:8080/",
          "height": 81
        },
        "id": "OhOi7f1_pZoK",
        "outputId": "64c75141-665d-403f-ad7a-23438c236cf8"
      },
      "execution_count": null,
      "outputs": [
        {
          "output_type": "execute_result",
          "data": {
            "text/plain": [
              "             rct_no     de_dt  de_hr   buy_am\n",
              "16648  A01016688590  20210116     18  78100.0"
            ],
            "text/html": [
              "\n",
              "  <div id=\"df-2edaf56e-0758-4301-9c73-6e118d61bd65\">\n",
              "    <div class=\"colab-df-container\">\n",
              "      <div>\n",
              "<style scoped>\n",
              "    .dataframe tbody tr th:only-of-type {\n",
              "        vertical-align: middle;\n",
              "    }\n",
              "\n",
              "    .dataframe tbody tr th {\n",
              "        vertical-align: top;\n",
              "    }\n",
              "\n",
              "    .dataframe thead th {\n",
              "        text-align: right;\n",
              "    }\n",
              "</style>\n",
              "<table border=\"1\" class=\"dataframe\">\n",
              "  <thead>\n",
              "    <tr style=\"text-align: right;\">\n",
              "      <th></th>\n",
              "      <th>rct_no</th>\n",
              "      <th>de_dt</th>\n",
              "      <th>de_hr</th>\n",
              "      <th>buy_am</th>\n",
              "    </tr>\n",
              "  </thead>\n",
              "  <tbody>\n",
              "    <tr>\n",
              "      <th>16648</th>\n",
              "      <td>A01016688590</td>\n",
              "      <td>20210116</td>\n",
              "      <td>18</td>\n",
              "      <td>78100.0</td>\n",
              "    </tr>\n",
              "  </tbody>\n",
              "</table>\n",
              "</div>\n",
              "      <button class=\"colab-df-convert\" onclick=\"convertToInteractive('df-2edaf56e-0758-4301-9c73-6e118d61bd65')\"\n",
              "              title=\"Convert this dataframe to an interactive table.\"\n",
              "              style=\"display:none;\">\n",
              "        \n",
              "  <svg xmlns=\"http://www.w3.org/2000/svg\" height=\"24px\"viewBox=\"0 0 24 24\"\n",
              "       width=\"24px\">\n",
              "    <path d=\"M0 0h24v24H0V0z\" fill=\"none\"/>\n",
              "    <path d=\"M18.56 5.44l.94 2.06.94-2.06 2.06-.94-2.06-.94-.94-2.06-.94 2.06-2.06.94zm-11 1L8.5 8.5l.94-2.06 2.06-.94-2.06-.94L8.5 2.5l-.94 2.06-2.06.94zm10 10l.94 2.06.94-2.06 2.06-.94-2.06-.94-.94-2.06-.94 2.06-2.06.94z\"/><path d=\"M17.41 7.96l-1.37-1.37c-.4-.4-.92-.59-1.43-.59-.52 0-1.04.2-1.43.59L10.3 9.45l-7.72 7.72c-.78.78-.78 2.05 0 2.83L4 21.41c.39.39.9.59 1.41.59.51 0 1.02-.2 1.41-.59l7.78-7.78 2.81-2.81c.8-.78.8-2.07 0-2.86zM5.41 20L4 18.59l7.72-7.72 1.47 1.35L5.41 20z\"/>\n",
              "  </svg>\n",
              "      </button>\n",
              "      \n",
              "  <style>\n",
              "    .colab-df-container {\n",
              "      display:flex;\n",
              "      flex-wrap:wrap;\n",
              "      gap: 12px;\n",
              "    }\n",
              "\n",
              "    .colab-df-convert {\n",
              "      background-color: #E8F0FE;\n",
              "      border: none;\n",
              "      border-radius: 50%;\n",
              "      cursor: pointer;\n",
              "      display: none;\n",
              "      fill: #1967D2;\n",
              "      height: 32px;\n",
              "      padding: 0 0 0 0;\n",
              "      width: 32px;\n",
              "    }\n",
              "\n",
              "    .colab-df-convert:hover {\n",
              "      background-color: #E2EBFA;\n",
              "      box-shadow: 0px 1px 2px rgba(60, 64, 67, 0.3), 0px 1px 3px 1px rgba(60, 64, 67, 0.15);\n",
              "      fill: #174EA6;\n",
              "    }\n",
              "\n",
              "    [theme=dark] .colab-df-convert {\n",
              "      background-color: #3B4455;\n",
              "      fill: #D2E3FC;\n",
              "    }\n",
              "\n",
              "    [theme=dark] .colab-df-convert:hover {\n",
              "      background-color: #434B5C;\n",
              "      box-shadow: 0px 1px 3px 1px rgba(0, 0, 0, 0.15);\n",
              "      filter: drop-shadow(0px 1px 2px rgba(0, 0, 0, 0.3));\n",
              "      fill: #FFFFFF;\n",
              "    }\n",
              "  </style>\n",
              "\n",
              "      <script>\n",
              "        const buttonEl =\n",
              "          document.querySelector('#df-2edaf56e-0758-4301-9c73-6e118d61bd65 button.colab-df-convert');\n",
              "        buttonEl.style.display =\n",
              "          google.colab.kernel.accessAllowed ? 'block' : 'none';\n",
              "\n",
              "        async function convertToInteractive(key) {\n",
              "          const element = document.querySelector('#df-2edaf56e-0758-4301-9c73-6e118d61bd65');\n",
              "          const dataTable =\n",
              "            await google.colab.kernel.invokeFunction('convertToInteractive',\n",
              "                                                     [key], {});\n",
              "          if (!dataTable) return;\n",
              "\n",
              "          const docLinkHtml = 'Like what you see? Visit the ' +\n",
              "            '<a target=\"_blank\" href=https://colab.research.google.com/notebooks/data_table.ipynb>data table notebook</a>'\n",
              "            + ' to learn more about interactive tables.';\n",
              "          element.innerHTML = '';\n",
              "          dataTable['output_type'] = 'display_data';\n",
              "          await google.colab.output.renderOutput(dataTable, element);\n",
              "          const docLink = document.createElement('div');\n",
              "          docLink.innerHTML = docLinkHtml;\n",
              "          element.appendChild(docLink);\n",
              "        }\n",
              "      </script>\n",
              "    </div>\n",
              "  </div>\n",
              "  "
            ]
          },
          "metadata": {},
          "execution_count": 40
        }
      ]
    },
    {
      "cell_type": "code",
      "source": [
        "chage_df1[chage_df1['rct_no'] == 'A01016688590']"
      ],
      "metadata": {
        "id": "6Pd_FytbueW-"
      },
      "execution_count": null,
      "outputs": []
    },
    {
      "cell_type": "code",
      "source": [
        "chage_df1"
      ],
      "metadata": {
        "id": "lg_jWXnQc3Sj"
      },
      "execution_count": null,
      "outputs": []
    },
    {
      "cell_type": "code",
      "source": [
        "chage_df2"
      ],
      "metadata": {
        "colab": {
          "base_uri": "https://localhost:8080/",
          "height": 424
        },
        "id": "4dY0kQEtcq7L",
        "outputId": "bb177dd9-2058-4733-badb-a694ed7b43d8"
      },
      "execution_count": null,
      "outputs": [
        {
          "output_type": "execute_result",
          "data": {
            "text/plain": [
              "               rct_no     de_dt  de_hr  \\\n",
              "0        A01000001113  20210101     10   \n",
              "1        A01000002265  20210101     10   \n",
              "2        A01000003148  20210101     10   \n",
              "3        A01000004946  20210101     10   \n",
              "4        A01000005297  20210101     10   \n",
              "...               ...       ...    ...   \n",
              "1266584  E06052115831  20211231     22   \n",
              "1266585  E06052116037  20211231     22   \n",
              "1266586  E06052117103  20211231     23   \n",
              "1266587  E06052118403  20211231     23   \n",
              "1266588  E06052119978  20211231     23   \n",
              "\n",
              "                                                      pd_c  \n",
              "0                                                   PD0290  \n",
              "1                                                   PD1369  \n",
              "2                                           PD0290, PD0290  \n",
              "3                                                   PD0290  \n",
              "4                                                   PD1692  \n",
              "...                                                    ...  \n",
              "1266584                                             PD0507  \n",
              "1266585                             PD0507, PD0507, PD0507  \n",
              "1266586                                             PD0294  \n",
              "1266587             PD0507, PD0507, PD0507, PD0507, PD0507  \n",
              "1266588  PD0507, PD0507, PD0507, PD0507, PD0507, PD0507...  \n",
              "\n",
              "[1266589 rows x 4 columns]"
            ],
            "text/html": [
              "\n",
              "  <div id=\"df-acd3ad17-1e47-4b27-8639-2120ebd0bb73\">\n",
              "    <div class=\"colab-df-container\">\n",
              "      <div>\n",
              "<style scoped>\n",
              "    .dataframe tbody tr th:only-of-type {\n",
              "        vertical-align: middle;\n",
              "    }\n",
              "\n",
              "    .dataframe tbody tr th {\n",
              "        vertical-align: top;\n",
              "    }\n",
              "\n",
              "    .dataframe thead th {\n",
              "        text-align: right;\n",
              "    }\n",
              "</style>\n",
              "<table border=\"1\" class=\"dataframe\">\n",
              "  <thead>\n",
              "    <tr style=\"text-align: right;\">\n",
              "      <th></th>\n",
              "      <th>rct_no</th>\n",
              "      <th>de_dt</th>\n",
              "      <th>de_hr</th>\n",
              "      <th>pd_c</th>\n",
              "    </tr>\n",
              "  </thead>\n",
              "  <tbody>\n",
              "    <tr>\n",
              "      <th>0</th>\n",
              "      <td>A01000001113</td>\n",
              "      <td>20210101</td>\n",
              "      <td>10</td>\n",
              "      <td>PD0290</td>\n",
              "    </tr>\n",
              "    <tr>\n",
              "      <th>1</th>\n",
              "      <td>A01000002265</td>\n",
              "      <td>20210101</td>\n",
              "      <td>10</td>\n",
              "      <td>PD1369</td>\n",
              "    </tr>\n",
              "    <tr>\n",
              "      <th>2</th>\n",
              "      <td>A01000003148</td>\n",
              "      <td>20210101</td>\n",
              "      <td>10</td>\n",
              "      <td>PD0290, PD0290</td>\n",
              "    </tr>\n",
              "    <tr>\n",
              "      <th>3</th>\n",
              "      <td>A01000004946</td>\n",
              "      <td>20210101</td>\n",
              "      <td>10</td>\n",
              "      <td>PD0290</td>\n",
              "    </tr>\n",
              "    <tr>\n",
              "      <th>4</th>\n",
              "      <td>A01000005297</td>\n",
              "      <td>20210101</td>\n",
              "      <td>10</td>\n",
              "      <td>PD1692</td>\n",
              "    </tr>\n",
              "    <tr>\n",
              "      <th>...</th>\n",
              "      <td>...</td>\n",
              "      <td>...</td>\n",
              "      <td>...</td>\n",
              "      <td>...</td>\n",
              "    </tr>\n",
              "    <tr>\n",
              "      <th>1266584</th>\n",
              "      <td>E06052115831</td>\n",
              "      <td>20211231</td>\n",
              "      <td>22</td>\n",
              "      <td>PD0507</td>\n",
              "    </tr>\n",
              "    <tr>\n",
              "      <th>1266585</th>\n",
              "      <td>E06052116037</td>\n",
              "      <td>20211231</td>\n",
              "      <td>22</td>\n",
              "      <td>PD0507, PD0507, PD0507</td>\n",
              "    </tr>\n",
              "    <tr>\n",
              "      <th>1266586</th>\n",
              "      <td>E06052117103</td>\n",
              "      <td>20211231</td>\n",
              "      <td>23</td>\n",
              "      <td>PD0294</td>\n",
              "    </tr>\n",
              "    <tr>\n",
              "      <th>1266587</th>\n",
              "      <td>E06052118403</td>\n",
              "      <td>20211231</td>\n",
              "      <td>23</td>\n",
              "      <td>PD0507, PD0507, PD0507, PD0507, PD0507</td>\n",
              "    </tr>\n",
              "    <tr>\n",
              "      <th>1266588</th>\n",
              "      <td>E06052119978</td>\n",
              "      <td>20211231</td>\n",
              "      <td>23</td>\n",
              "      <td>PD0507, PD0507, PD0507, PD0507, PD0507, PD0507...</td>\n",
              "    </tr>\n",
              "  </tbody>\n",
              "</table>\n",
              "<p>1266589 rows × 4 columns</p>\n",
              "</div>\n",
              "      <button class=\"colab-df-convert\" onclick=\"convertToInteractive('df-acd3ad17-1e47-4b27-8639-2120ebd0bb73')\"\n",
              "              title=\"Convert this dataframe to an interactive table.\"\n",
              "              style=\"display:none;\">\n",
              "        \n",
              "  <svg xmlns=\"http://www.w3.org/2000/svg\" height=\"24px\"viewBox=\"0 0 24 24\"\n",
              "       width=\"24px\">\n",
              "    <path d=\"M0 0h24v24H0V0z\" fill=\"none\"/>\n",
              "    <path d=\"M18.56 5.44l.94 2.06.94-2.06 2.06-.94-2.06-.94-.94-2.06-.94 2.06-2.06.94zm-11 1L8.5 8.5l.94-2.06 2.06-.94-2.06-.94L8.5 2.5l-.94 2.06-2.06.94zm10 10l.94 2.06.94-2.06 2.06-.94-2.06-.94-.94-2.06-.94 2.06-2.06.94z\"/><path d=\"M17.41 7.96l-1.37-1.37c-.4-.4-.92-.59-1.43-.59-.52 0-1.04.2-1.43.59L10.3 9.45l-7.72 7.72c-.78.78-.78 2.05 0 2.83L4 21.41c.39.39.9.59 1.41.59.51 0 1.02-.2 1.41-.59l7.78-7.78 2.81-2.81c.8-.78.8-2.07 0-2.86zM5.41 20L4 18.59l7.72-7.72 1.47 1.35L5.41 20z\"/>\n",
              "  </svg>\n",
              "      </button>\n",
              "      \n",
              "  <style>\n",
              "    .colab-df-container {\n",
              "      display:flex;\n",
              "      flex-wrap:wrap;\n",
              "      gap: 12px;\n",
              "    }\n",
              "\n",
              "    .colab-df-convert {\n",
              "      background-color: #E8F0FE;\n",
              "      border: none;\n",
              "      border-radius: 50%;\n",
              "      cursor: pointer;\n",
              "      display: none;\n",
              "      fill: #1967D2;\n",
              "      height: 32px;\n",
              "      padding: 0 0 0 0;\n",
              "      width: 32px;\n",
              "    }\n",
              "\n",
              "    .colab-df-convert:hover {\n",
              "      background-color: #E2EBFA;\n",
              "      box-shadow: 0px 1px 2px rgba(60, 64, 67, 0.3), 0px 1px 3px 1px rgba(60, 64, 67, 0.15);\n",
              "      fill: #174EA6;\n",
              "    }\n",
              "\n",
              "    [theme=dark] .colab-df-convert {\n",
              "      background-color: #3B4455;\n",
              "      fill: #D2E3FC;\n",
              "    }\n",
              "\n",
              "    [theme=dark] .colab-df-convert:hover {\n",
              "      background-color: #434B5C;\n",
              "      box-shadow: 0px 1px 3px 1px rgba(0, 0, 0, 0.15);\n",
              "      filter: drop-shadow(0px 1px 2px rgba(0, 0, 0, 0.3));\n",
              "      fill: #FFFFFF;\n",
              "    }\n",
              "  </style>\n",
              "\n",
              "      <script>\n",
              "        const buttonEl =\n",
              "          document.querySelector('#df-acd3ad17-1e47-4b27-8639-2120ebd0bb73 button.colab-df-convert');\n",
              "        buttonEl.style.display =\n",
              "          google.colab.kernel.accessAllowed ? 'block' : 'none';\n",
              "\n",
              "        async function convertToInteractive(key) {\n",
              "          const element = document.querySelector('#df-acd3ad17-1e47-4b27-8639-2120ebd0bb73');\n",
              "          const dataTable =\n",
              "            await google.colab.kernel.invokeFunction('convertToInteractive',\n",
              "                                                     [key], {});\n",
              "          if (!dataTable) return;\n",
              "\n",
              "          const docLinkHtml = 'Like what you see? Visit the ' +\n",
              "            '<a target=\"_blank\" href=https://colab.research.google.com/notebooks/data_table.ipynb>data table notebook</a>'\n",
              "            + ' to learn more about interactive tables.';\n",
              "          element.innerHTML = '';\n",
              "          dataTable['output_type'] = 'display_data';\n",
              "          await google.colab.output.renderOutput(dataTable, element);\n",
              "          const docLink = document.createElement('div');\n",
              "          docLink.innerHTML = docLinkHtml;\n",
              "          element.appendChild(docLink);\n",
              "        }\n",
              "      </script>\n",
              "    </div>\n",
              "  </div>\n",
              "  "
            ]
          },
          "metadata": {},
          "execution_count": 11
        }
      ]
    },
    {
      "cell_type": "code",
      "source": [
        "len(merge_data.rct_no)"
      ],
      "metadata": {
        "colab": {
          "base_uri": "https://localhost:8080/"
        },
        "id": "3rZ30PudRS6h",
        "outputId": "359abeae-86f3-437a-c876-eefb241a3f1f"
      },
      "execution_count": null,
      "outputs": [
        {
          "output_type": "execute_result",
          "data": {
            "text/plain": [
              "4381743"
            ]
          },
          "metadata": {},
          "execution_count": 20
        }
      ]
    },
    {
      "cell_type": "code",
      "source": [
        "len(merge_data.rct_no.unique())"
      ],
      "metadata": {
        "colab": {
          "base_uri": "https://localhost:8080/"
        },
        "id": "5k9Tz5-7RLbp",
        "outputId": "a48b9cfb-bb3a-4808-a9f9-463dd6d5470c"
      },
      "execution_count": null,
      "outputs": [
        {
          "output_type": "execute_result",
          "data": {
            "text/plain": [
              "1266589"
            ]
          },
          "metadata": {},
          "execution_count": 19
        }
      ]
    },
    {
      "cell_type": "code",
      "source": [
        "1266589/4381743"
      ],
      "metadata": {
        "colab": {
          "base_uri": "https://localhost:8080/"
        },
        "id": "cDzx94NBRanB",
        "outputId": "99e62b5c-1251-40c2-af14-8466494f20cf"
      },
      "execution_count": null,
      "outputs": [
        {
          "output_type": "execute_result",
          "data": {
            "text/plain": [
              "0.28906054052006247"
            ]
          },
          "metadata": {},
          "execution_count": 21
        }
      ]
    },
    {
      "cell_type": "markdown",
      "source": [
        "# 엘페이 이용관련 EDA"
      ],
      "metadata": {
        "id": "n3Ys8ve1o-Hu"
      }
    },
    {
      "cell_type": "markdown",
      "source": [
        ""
      ],
      "metadata": {
        "id": "ERmg0WVQppOq"
      }
    },
    {
      "cell_type": "code",
      "source": [
        "from sklearn.preprocessing import LabelEncoder\n",
        "encoder = LabelEncoder()"
      ],
      "metadata": {
        "id": "_GM7Tdi9BOVG"
      },
      "execution_count": null,
      "outputs": []
    },
    {
      "cell_type": "markdown",
      "source": [
        "라벨인코더 라이브러리를 통해 여자는 1 남자는 0으로 변환 후 나이대 별로 정수로 바꾸어준다."
      ],
      "metadata": {
        "id": "a9-OmQjbpsLv"
      }
    },
    {
      "cell_type": "code",
      "source": [
        "encoder.fit(lpay_customer['ma_fem_dv'])\n",
        "lpay_customer['ma_fem_dv'] = encoder.transform(lpay_customer['ma_fem_dv'])\n",
        "for i in range(len(lpay_customer['ages'])):\n",
        "  if lpay_customer['ages'][i] == '20대':\n",
        "    lpay_customer['ages'][i] = 2\n",
        "  elif lpay_customer['ages'][i] == '30대':\n",
        "    lpay_customer['ages'][i] = 3\n",
        "  elif lpay_customer['ages'][i] == '40대':\n",
        "    lpay_customer['ages'][i] = 4\n",
        "  elif lpay_customer['ages'][i] == '50대':\n",
        "    lpay_customer['ages'][i] = 5\n",
        "  elif lpay_customer['ages'][i] == '60대':\n",
        "    lpay_customer['ages'][i] = 6\n",
        "  elif lpay_customer['ages'][i] == '70대':\n",
        "    lpay_customer['ages'][i] = 7\n",
        "lpay_customer\n",
        "  "
      ],
      "metadata": {
        "colab": {
          "base_uri": "https://localhost:8080/",
          "height": 988
        },
        "id": "WHYKVA4JBy8m",
        "outputId": "92821844-35ec-470d-d04e-fedc520c0efa"
      },
      "execution_count": null,
      "outputs": [
        {
          "output_type": "stream",
          "name": "stderr",
          "text": [
            "/usr/local/lib/python3.7/dist-packages/ipykernel_launcher.py:9: SettingWithCopyWarning: \n",
            "A value is trying to be set on a copy of a slice from a DataFrame\n",
            "\n",
            "See the caveats in the documentation: https://pandas.pydata.org/pandas-docs/stable/user_guide/indexing.html#returning-a-view-versus-a-copy\n",
            "  if __name__ == '__main__':\n",
            "/usr/local/lib/python3.7/dist-packages/ipykernel_launcher.py:7: SettingWithCopyWarning: \n",
            "A value is trying to be set on a copy of a slice from a DataFrame\n",
            "\n",
            "See the caveats in the documentation: https://pandas.pydata.org/pandas-docs/stable/user_guide/indexing.html#returning-a-view-versus-a-copy\n",
            "  import sys\n",
            "/usr/local/lib/python3.7/dist-packages/ipykernel_launcher.py:11: SettingWithCopyWarning: \n",
            "A value is trying to be set on a copy of a slice from a DataFrame\n",
            "\n",
            "See the caveats in the documentation: https://pandas.pydata.org/pandas-docs/stable/user_guide/indexing.html#returning-a-view-versus-a-copy\n",
            "  # This is added back by InteractiveShellApp.init_path()\n",
            "/usr/local/lib/python3.7/dist-packages/ipykernel_launcher.py:13: SettingWithCopyWarning: \n",
            "A value is trying to be set on a copy of a slice from a DataFrame\n",
            "\n",
            "See the caveats in the documentation: https://pandas.pydata.org/pandas-docs/stable/user_guide/indexing.html#returning-a-view-versus-a-copy\n",
            "  del sys.path[0]\n",
            "/usr/local/lib/python3.7/dist-packages/ipykernel_launcher.py:5: SettingWithCopyWarning: \n",
            "A value is trying to be set on a copy of a slice from a DataFrame\n",
            "\n",
            "See the caveats in the documentation: https://pandas.pydata.org/pandas-docs/stable/user_guide/indexing.html#returning-a-view-versus-a-copy\n",
            "  \"\"\"\n",
            "/usr/local/lib/python3.7/dist-packages/ipykernel_launcher.py:15: SettingWithCopyWarning: \n",
            "A value is trying to be set on a copy of a slice from a DataFrame\n",
            "\n",
            "See the caveats in the documentation: https://pandas.pydata.org/pandas-docs/stable/user_guide/indexing.html#returning-a-view-versus-a-copy\n",
            "  from ipykernel import kernelapp as app\n"
          ]
        },
        {
          "output_type": "execute_result",
          "data": {
            "text/plain": [
              "              cust  ma_fem_dv ages zon_hlv  is_lpay\n",
              "0       M000034966          1    4     Z07      0.0\n",
              "1       M000059535          1    3     Z12      0.0\n",
              "2       M000136117          1    3     Z11      1.0\n",
              "3       M000136117          1    3     Z11      1.0\n",
              "4       M000136117          1    3     Z11      1.0\n",
              "...            ...        ...  ...     ...      ...\n",
              "374186  M999962961          1    5     Z17      1.0\n",
              "374187  M999962961          1    5     Z17      1.0\n",
              "374188  M999962961          1    5     Z17      1.0\n",
              "374189  M999962961          1    5     Z17      1.0\n",
              "374190  M999962961          1    5     Z17      1.0\n",
              "\n",
              "[374191 rows x 5 columns]"
            ],
            "text/html": [
              "\n",
              "  <div id=\"df-e43c6cc5-a2cb-4bc2-b1a1-390bd1a4ca9f\">\n",
              "    <div class=\"colab-df-container\">\n",
              "      <div>\n",
              "<style scoped>\n",
              "    .dataframe tbody tr th:only-of-type {\n",
              "        vertical-align: middle;\n",
              "    }\n",
              "\n",
              "    .dataframe tbody tr th {\n",
              "        vertical-align: top;\n",
              "    }\n",
              "\n",
              "    .dataframe thead th {\n",
              "        text-align: right;\n",
              "    }\n",
              "</style>\n",
              "<table border=\"1\" class=\"dataframe\">\n",
              "  <thead>\n",
              "    <tr style=\"text-align: right;\">\n",
              "      <th></th>\n",
              "      <th>cust</th>\n",
              "      <th>ma_fem_dv</th>\n",
              "      <th>ages</th>\n",
              "      <th>zon_hlv</th>\n",
              "      <th>is_lpay</th>\n",
              "    </tr>\n",
              "  </thead>\n",
              "  <tbody>\n",
              "    <tr>\n",
              "      <th>0</th>\n",
              "      <td>M000034966</td>\n",
              "      <td>1</td>\n",
              "      <td>4</td>\n",
              "      <td>Z07</td>\n",
              "      <td>0.0</td>\n",
              "    </tr>\n",
              "    <tr>\n",
              "      <th>1</th>\n",
              "      <td>M000059535</td>\n",
              "      <td>1</td>\n",
              "      <td>3</td>\n",
              "      <td>Z12</td>\n",
              "      <td>0.0</td>\n",
              "    </tr>\n",
              "    <tr>\n",
              "      <th>2</th>\n",
              "      <td>M000136117</td>\n",
              "      <td>1</td>\n",
              "      <td>3</td>\n",
              "      <td>Z11</td>\n",
              "      <td>1.0</td>\n",
              "    </tr>\n",
              "    <tr>\n",
              "      <th>3</th>\n",
              "      <td>M000136117</td>\n",
              "      <td>1</td>\n",
              "      <td>3</td>\n",
              "      <td>Z11</td>\n",
              "      <td>1.0</td>\n",
              "    </tr>\n",
              "    <tr>\n",
              "      <th>4</th>\n",
              "      <td>M000136117</td>\n",
              "      <td>1</td>\n",
              "      <td>3</td>\n",
              "      <td>Z11</td>\n",
              "      <td>1.0</td>\n",
              "    </tr>\n",
              "    <tr>\n",
              "      <th>...</th>\n",
              "      <td>...</td>\n",
              "      <td>...</td>\n",
              "      <td>...</td>\n",
              "      <td>...</td>\n",
              "      <td>...</td>\n",
              "    </tr>\n",
              "    <tr>\n",
              "      <th>374186</th>\n",
              "      <td>M999962961</td>\n",
              "      <td>1</td>\n",
              "      <td>5</td>\n",
              "      <td>Z17</td>\n",
              "      <td>1.0</td>\n",
              "    </tr>\n",
              "    <tr>\n",
              "      <th>374187</th>\n",
              "      <td>M999962961</td>\n",
              "      <td>1</td>\n",
              "      <td>5</td>\n",
              "      <td>Z17</td>\n",
              "      <td>1.0</td>\n",
              "    </tr>\n",
              "    <tr>\n",
              "      <th>374188</th>\n",
              "      <td>M999962961</td>\n",
              "      <td>1</td>\n",
              "      <td>5</td>\n",
              "      <td>Z17</td>\n",
              "      <td>1.0</td>\n",
              "    </tr>\n",
              "    <tr>\n",
              "      <th>374189</th>\n",
              "      <td>M999962961</td>\n",
              "      <td>1</td>\n",
              "      <td>5</td>\n",
              "      <td>Z17</td>\n",
              "      <td>1.0</td>\n",
              "    </tr>\n",
              "    <tr>\n",
              "      <th>374190</th>\n",
              "      <td>M999962961</td>\n",
              "      <td>1</td>\n",
              "      <td>5</td>\n",
              "      <td>Z17</td>\n",
              "      <td>1.0</td>\n",
              "    </tr>\n",
              "  </tbody>\n",
              "</table>\n",
              "<p>374191 rows × 5 columns</p>\n",
              "</div>\n",
              "      <button class=\"colab-df-convert\" onclick=\"convertToInteractive('df-e43c6cc5-a2cb-4bc2-b1a1-390bd1a4ca9f')\"\n",
              "              title=\"Convert this dataframe to an interactive table.\"\n",
              "              style=\"display:none;\">\n",
              "        \n",
              "  <svg xmlns=\"http://www.w3.org/2000/svg\" height=\"24px\"viewBox=\"0 0 24 24\"\n",
              "       width=\"24px\">\n",
              "    <path d=\"M0 0h24v24H0V0z\" fill=\"none\"/>\n",
              "    <path d=\"M18.56 5.44l.94 2.06.94-2.06 2.06-.94-2.06-.94-.94-2.06-.94 2.06-2.06.94zm-11 1L8.5 8.5l.94-2.06 2.06-.94-2.06-.94L8.5 2.5l-.94 2.06-2.06.94zm10 10l.94 2.06.94-2.06 2.06-.94-2.06-.94-.94-2.06-.94 2.06-2.06.94z\"/><path d=\"M17.41 7.96l-1.37-1.37c-.4-.4-.92-.59-1.43-.59-.52 0-1.04.2-1.43.59L10.3 9.45l-7.72 7.72c-.78.78-.78 2.05 0 2.83L4 21.41c.39.39.9.59 1.41.59.51 0 1.02-.2 1.41-.59l7.78-7.78 2.81-2.81c.8-.78.8-2.07 0-2.86zM5.41 20L4 18.59l7.72-7.72 1.47 1.35L5.41 20z\"/>\n",
              "  </svg>\n",
              "      </button>\n",
              "      \n",
              "  <style>\n",
              "    .colab-df-container {\n",
              "      display:flex;\n",
              "      flex-wrap:wrap;\n",
              "      gap: 12px;\n",
              "    }\n",
              "\n",
              "    .colab-df-convert {\n",
              "      background-color: #E8F0FE;\n",
              "      border: none;\n",
              "      border-radius: 50%;\n",
              "      cursor: pointer;\n",
              "      display: none;\n",
              "      fill: #1967D2;\n",
              "      height: 32px;\n",
              "      padding: 0 0 0 0;\n",
              "      width: 32px;\n",
              "    }\n",
              "\n",
              "    .colab-df-convert:hover {\n",
              "      background-color: #E2EBFA;\n",
              "      box-shadow: 0px 1px 2px rgba(60, 64, 67, 0.3), 0px 1px 3px 1px rgba(60, 64, 67, 0.15);\n",
              "      fill: #174EA6;\n",
              "    }\n",
              "\n",
              "    [theme=dark] .colab-df-convert {\n",
              "      background-color: #3B4455;\n",
              "      fill: #D2E3FC;\n",
              "    }\n",
              "\n",
              "    [theme=dark] .colab-df-convert:hover {\n",
              "      background-color: #434B5C;\n",
              "      box-shadow: 0px 1px 3px 1px rgba(0, 0, 0, 0.15);\n",
              "      filter: drop-shadow(0px 1px 2px rgba(0, 0, 0, 0.3));\n",
              "      fill: #FFFFFF;\n",
              "    }\n",
              "  </style>\n",
              "\n",
              "      <script>\n",
              "        const buttonEl =\n",
              "          document.querySelector('#df-e43c6cc5-a2cb-4bc2-b1a1-390bd1a4ca9f button.colab-df-convert');\n",
              "        buttonEl.style.display =\n",
              "          google.colab.kernel.accessAllowed ? 'block' : 'none';\n",
              "\n",
              "        async function convertToInteractive(key) {\n",
              "          const element = document.querySelector('#df-e43c6cc5-a2cb-4bc2-b1a1-390bd1a4ca9f');\n",
              "          const dataTable =\n",
              "            await google.colab.kernel.invokeFunction('convertToInteractive',\n",
              "                                                     [key], {});\n",
              "          if (!dataTable) return;\n",
              "\n",
              "          const docLinkHtml = 'Like what you see? Visit the ' +\n",
              "            '<a target=\"_blank\" href=https://colab.research.google.com/notebooks/data_table.ipynb>data table notebook</a>'\n",
              "            + ' to learn more about interactive tables.';\n",
              "          element.innerHTML = '';\n",
              "          dataTable['output_type'] = 'display_data';\n",
              "          await google.colab.output.renderOutput(dataTable, element);\n",
              "          const docLink = document.createElement('div');\n",
              "          docLink.innerHTML = docLinkHtml;\n",
              "          element.appendChild(docLink);\n",
              "        }\n",
              "      </script>\n",
              "    </div>\n",
              "  </div>\n",
              "  "
            ]
          },
          "metadata": {},
          "execution_count": 9
        }
      ]
    },
    {
      "cell_type": "code",
      "source": [
        "lpay_customer['ma_fem_dv'].value_counts()"
      ],
      "metadata": {
        "colab": {
          "base_uri": "https://localhost:8080/"
        },
        "id": "_0AEOnwWAVrC",
        "outputId": "6f0c9425-566b-49fa-a8f7-81904c427154"
      },
      "execution_count": null,
      "outputs": [
        {
          "output_type": "execute_result",
          "data": {
            "text/plain": [
              "여성    257116\n",
              "남성    117075\n",
              "Name: ma_fem_dv, dtype: int64"
            ]
          },
          "metadata": {},
          "execution_count": 7
        }
      ]
    },
    {
      "cell_type": "code",
      "source": [
        "lpay_customer.is_lpay.value_counts()"
      ],
      "metadata": {
        "colab": {
          "base_uri": "https://localhost:8080/"
        },
        "id": "s95ecx_nMTRm",
        "outputId": "56473579-f4a5-4dad-bd9e-dd1f4b8d0ae5"
      },
      "execution_count": null,
      "outputs": [
        {
          "output_type": "execute_result",
          "data": {
            "text/plain": [
              "1.0    353184\n",
              "0.0     21007\n",
              "Name: is_lpay, dtype: int64"
            ]
          },
          "metadata": {},
          "execution_count": 12
        }
      ]
    },
    {
      "cell_type": "markdown",
      "source": [
        "## lpay_customer 데이터를 이용한 간이 modeling\n",
        "(구매자의 나이와 성별을 이용한 엘페이 이용여부 예측)\n",
        "\n",
        "\n"
      ],
      "metadata": {
        "id": "ZLWUqh24qICk"
      }
    },
    {
      "cell_type": "code",
      "source": [
        "lpay_prediction = lpay_customer.drop(['cust', 'zon_hlv'] , axis = 1)\n",
        "# 정확한 모델링을 위해 customer id와 거주지 분류 열 제외"
      ],
      "metadata": {
        "id": "Cf0EhZ5zIDd_"
      },
      "execution_count": null,
      "outputs": []
    },
    {
      "cell_type": "code",
      "source": [
        "lpay_prediction"
      ],
      "metadata": {
        "colab": {
          "base_uri": "https://localhost:8080/",
          "height": 424
        },
        "id": "NjdByZYaIUHR",
        "outputId": "df93c4af-fab6-429e-8fad-e50e35491550"
      },
      "execution_count": null,
      "outputs": [
        {
          "output_type": "execute_result",
          "data": {
            "text/plain": [
              "        ma_fem_dv ages  is_lpay\n",
              "0               1    4      0.0\n",
              "1               1    3      0.0\n",
              "2               1    3      1.0\n",
              "3               1    3      1.0\n",
              "4               1    3      1.0\n",
              "...           ...  ...      ...\n",
              "374186          1    5      1.0\n",
              "374187          1    5      1.0\n",
              "374188          1    5      1.0\n",
              "374189          1    5      1.0\n",
              "374190          1    5      1.0\n",
              "\n",
              "[374191 rows x 3 columns]"
            ],
            "text/html": [
              "\n",
              "  <div id=\"df-ec938576-6d70-4218-bc9b-1767d08dd669\">\n",
              "    <div class=\"colab-df-container\">\n",
              "      <div>\n",
              "<style scoped>\n",
              "    .dataframe tbody tr th:only-of-type {\n",
              "        vertical-align: middle;\n",
              "    }\n",
              "\n",
              "    .dataframe tbody tr th {\n",
              "        vertical-align: top;\n",
              "    }\n",
              "\n",
              "    .dataframe thead th {\n",
              "        text-align: right;\n",
              "    }\n",
              "</style>\n",
              "<table border=\"1\" class=\"dataframe\">\n",
              "  <thead>\n",
              "    <tr style=\"text-align: right;\">\n",
              "      <th></th>\n",
              "      <th>ma_fem_dv</th>\n",
              "      <th>ages</th>\n",
              "      <th>is_lpay</th>\n",
              "    </tr>\n",
              "  </thead>\n",
              "  <tbody>\n",
              "    <tr>\n",
              "      <th>0</th>\n",
              "      <td>1</td>\n",
              "      <td>4</td>\n",
              "      <td>0.0</td>\n",
              "    </tr>\n",
              "    <tr>\n",
              "      <th>1</th>\n",
              "      <td>1</td>\n",
              "      <td>3</td>\n",
              "      <td>0.0</td>\n",
              "    </tr>\n",
              "    <tr>\n",
              "      <th>2</th>\n",
              "      <td>1</td>\n",
              "      <td>3</td>\n",
              "      <td>1.0</td>\n",
              "    </tr>\n",
              "    <tr>\n",
              "      <th>3</th>\n",
              "      <td>1</td>\n",
              "      <td>3</td>\n",
              "      <td>1.0</td>\n",
              "    </tr>\n",
              "    <tr>\n",
              "      <th>4</th>\n",
              "      <td>1</td>\n",
              "      <td>3</td>\n",
              "      <td>1.0</td>\n",
              "    </tr>\n",
              "    <tr>\n",
              "      <th>...</th>\n",
              "      <td>...</td>\n",
              "      <td>...</td>\n",
              "      <td>...</td>\n",
              "    </tr>\n",
              "    <tr>\n",
              "      <th>374186</th>\n",
              "      <td>1</td>\n",
              "      <td>5</td>\n",
              "      <td>1.0</td>\n",
              "    </tr>\n",
              "    <tr>\n",
              "      <th>374187</th>\n",
              "      <td>1</td>\n",
              "      <td>5</td>\n",
              "      <td>1.0</td>\n",
              "    </tr>\n",
              "    <tr>\n",
              "      <th>374188</th>\n",
              "      <td>1</td>\n",
              "      <td>5</td>\n",
              "      <td>1.0</td>\n",
              "    </tr>\n",
              "    <tr>\n",
              "      <th>374189</th>\n",
              "      <td>1</td>\n",
              "      <td>5</td>\n",
              "      <td>1.0</td>\n",
              "    </tr>\n",
              "    <tr>\n",
              "      <th>374190</th>\n",
              "      <td>1</td>\n",
              "      <td>5</td>\n",
              "      <td>1.0</td>\n",
              "    </tr>\n",
              "  </tbody>\n",
              "</table>\n",
              "<p>374191 rows × 3 columns</p>\n",
              "</div>\n",
              "      <button class=\"colab-df-convert\" onclick=\"convertToInteractive('df-ec938576-6d70-4218-bc9b-1767d08dd669')\"\n",
              "              title=\"Convert this dataframe to an interactive table.\"\n",
              "              style=\"display:none;\">\n",
              "        \n",
              "  <svg xmlns=\"http://www.w3.org/2000/svg\" height=\"24px\"viewBox=\"0 0 24 24\"\n",
              "       width=\"24px\">\n",
              "    <path d=\"M0 0h24v24H0V0z\" fill=\"none\"/>\n",
              "    <path d=\"M18.56 5.44l.94 2.06.94-2.06 2.06-.94-2.06-.94-.94-2.06-.94 2.06-2.06.94zm-11 1L8.5 8.5l.94-2.06 2.06-.94-2.06-.94L8.5 2.5l-.94 2.06-2.06.94zm10 10l.94 2.06.94-2.06 2.06-.94-2.06-.94-.94-2.06-.94 2.06-2.06.94z\"/><path d=\"M17.41 7.96l-1.37-1.37c-.4-.4-.92-.59-1.43-.59-.52 0-1.04.2-1.43.59L10.3 9.45l-7.72 7.72c-.78.78-.78 2.05 0 2.83L4 21.41c.39.39.9.59 1.41.59.51 0 1.02-.2 1.41-.59l7.78-7.78 2.81-2.81c.8-.78.8-2.07 0-2.86zM5.41 20L4 18.59l7.72-7.72 1.47 1.35L5.41 20z\"/>\n",
              "  </svg>\n",
              "      </button>\n",
              "      \n",
              "  <style>\n",
              "    .colab-df-container {\n",
              "      display:flex;\n",
              "      flex-wrap:wrap;\n",
              "      gap: 12px;\n",
              "    }\n",
              "\n",
              "    .colab-df-convert {\n",
              "      background-color: #E8F0FE;\n",
              "      border: none;\n",
              "      border-radius: 50%;\n",
              "      cursor: pointer;\n",
              "      display: none;\n",
              "      fill: #1967D2;\n",
              "      height: 32px;\n",
              "      padding: 0 0 0 0;\n",
              "      width: 32px;\n",
              "    }\n",
              "\n",
              "    .colab-df-convert:hover {\n",
              "      background-color: #E2EBFA;\n",
              "      box-shadow: 0px 1px 2px rgba(60, 64, 67, 0.3), 0px 1px 3px 1px rgba(60, 64, 67, 0.15);\n",
              "      fill: #174EA6;\n",
              "    }\n",
              "\n",
              "    [theme=dark] .colab-df-convert {\n",
              "      background-color: #3B4455;\n",
              "      fill: #D2E3FC;\n",
              "    }\n",
              "\n",
              "    [theme=dark] .colab-df-convert:hover {\n",
              "      background-color: #434B5C;\n",
              "      box-shadow: 0px 1px 3px 1px rgba(0, 0, 0, 0.15);\n",
              "      filter: drop-shadow(0px 1px 2px rgba(0, 0, 0, 0.3));\n",
              "      fill: #FFFFFF;\n",
              "    }\n",
              "  </style>\n",
              "\n",
              "      <script>\n",
              "        const buttonEl =\n",
              "          document.querySelector('#df-ec938576-6d70-4218-bc9b-1767d08dd669 button.colab-df-convert');\n",
              "        buttonEl.style.display =\n",
              "          google.colab.kernel.accessAllowed ? 'block' : 'none';\n",
              "\n",
              "        async function convertToInteractive(key) {\n",
              "          const element = document.querySelector('#df-ec938576-6d70-4218-bc9b-1767d08dd669');\n",
              "          const dataTable =\n",
              "            await google.colab.kernel.invokeFunction('convertToInteractive',\n",
              "                                                     [key], {});\n",
              "          if (!dataTable) return;\n",
              "\n",
              "          const docLinkHtml = 'Like what you see? Visit the ' +\n",
              "            '<a target=\"_blank\" href=https://colab.research.google.com/notebooks/data_table.ipynb>data table notebook</a>'\n",
              "            + ' to learn more about interactive tables.';\n",
              "          element.innerHTML = '';\n",
              "          dataTable['output_type'] = 'display_data';\n",
              "          await google.colab.output.renderOutput(dataTable, element);\n",
              "          const docLink = document.createElement('div');\n",
              "          docLink.innerHTML = docLinkHtml;\n",
              "          element.appendChild(docLink);\n",
              "        }\n",
              "      </script>\n",
              "    </div>\n",
              "  </div>\n",
              "  "
            ]
          },
          "metadata": {},
          "execution_count": 13
        }
      ]
    },
    {
      "cell_type": "code",
      "source": [
        "from sklearn.ensemble import RandomForestClassifier\n",
        "from sklearn.model_selection import train_test_split \n",
        "\n",
        "X_train, X_val, y_train, y_val = train_test_split(lpay_prediction[['ma_fem_dv', 'ages']], lpay_prediction['is_lpay'], test_size = 0.2 , random_state = 42, stratify = lpay_prediction['is_lpay'], shuffle = True)\n",
        "y_train.value_counts()"
      ],
      "metadata": {
        "colab": {
          "base_uri": "https://localhost:8080/"
        },
        "id": "ym93madIIfSD",
        "outputId": "cbc1a60c-50cc-4e4d-e78c-0593487b3d27"
      },
      "execution_count": null,
      "outputs": [
        {
          "output_type": "execute_result",
          "data": {
            "text/plain": [
              "1.0    282546\n",
              "0.0     16806\n",
              "Name: is_lpay, dtype: int64"
            ]
          },
          "metadata": {},
          "execution_count": 14
        }
      ]
    },
    {
      "cell_type": "code",
      "source": [
        "lpay_randomclass = RandomForestClassifier()\n",
        "lpay_randomclass.fit(X_train, y_train)\n",
        "y_predict = lpay_randomclass.predict(X_val)"
      ],
      "metadata": {
        "id": "gu-VChfEJ2LI"
      },
      "execution_count": null,
      "outputs": []
    },
    {
      "cell_type": "code",
      "source": [
        "from sklearn.metrics import accuracy_score, recall_score, precision_score\n",
        "\n",
        "accuracy_score(y_val, y_predict)"
      ],
      "metadata": {
        "colab": {
          "base_uri": "https://localhost:8080/"
        },
        "id": "PGK6QLtMKRlS",
        "outputId": "74d1925f-89dd-4108-e14d-326605aad940"
      },
      "execution_count": null,
      "outputs": [
        {
          "output_type": "execute_result",
          "data": {
            "text/plain": [
              "0.9443605606702388"
            ]
          },
          "metadata": {},
          "execution_count": 16
        }
      ]
    },
    {
      "cell_type": "code",
      "source": [
        "precision_score(y_val, y_predict)"
      ],
      "metadata": {
        "colab": {
          "base_uri": "https://localhost:8080/"
        },
        "id": "SZuszfslMnYX",
        "outputId": "3a53a361-62e5-4836-a3dd-32d01039430d"
      },
      "execution_count": null,
      "outputs": [
        {
          "output_type": "execute_result",
          "data": {
            "text/plain": [
              "0.9449874149842018"
            ]
          },
          "metadata": {},
          "execution_count": 17
        }
      ]
    },
    {
      "cell_type": "code",
      "source": [
        "recall_score(y_val, y_predict)"
      ],
      "metadata": {
        "colab": {
          "base_uri": "https://localhost:8080/"
        },
        "id": "YxEWFmYTMPa_",
        "outputId": "d1cfdb1a-03fa-4cf1-e7c8-04d88643ef01"
      },
      "execution_count": null,
      "outputs": [
        {
          "output_type": "execute_result",
          "data": {
            "text/plain": [
              "0.9992213822588408"
            ]
          },
          "metadata": {},
          "execution_count": 18
        }
      ]
    },
    {
      "cell_type": "markdown",
      "source": [
        "랜덤 classifier를 사용한 결과, 정확도 정밀도 회수율 모두 좋은 수치로 나왔다. 하지만, 애초에 데이터가 1년간 엘페이를 한번이라도 사용했으면 1로 나타나는 데이터기 때문에 엘페이의 이용 비율이 상당히 높기에 의미가 있다고 보기에는 어렵다. "
      ],
      "metadata": {
        "id": "g5A8wLcnrnnf"
      }
    },
    {
      "cell_type": "markdown",
      "source": [
        "## 엘페이 이용 경험 비율 "
      ],
      "metadata": {
        "id": "R4k8T24FuvFx"
      }
    },
    {
      "cell_type": "code",
      "source": [
        "lpay_customer_m = lpay_customer[lpay_customer['ma_fem_dv'] == 0]\n",
        "lpay_customer_f = lpay_customer[lpay_customer['ma_fem_dv'] == 1]\n",
        "\n",
        "lpay_customer_m2 = lpay_customer_m[lpay_customer_m['ages'] == 2]\n",
        "lpay_customer_m3 = lpay_customer_m[lpay_customer_m['ages'] == 3]\n",
        "lpay_customer_m4 = lpay_customer_m[lpay_customer_m['ages'] == 4]\n",
        "lpay_customer_m5 = lpay_customer_m[lpay_customer_m['ages'] == 5]\n",
        "lpay_customer_m6 = lpay_customer_m[lpay_customer_m['ages'] == 6]\n",
        "lpay_customer_m7 = lpay_customer_m[lpay_customer_m['ages'] == 7]\n",
        "\n",
        "lpay_customer_f2 = lpay_customer_f[lpay_customer_f['ages'] == 2]\n",
        "lpay_customer_f3 = lpay_customer_f[lpay_customer_f['ages'] == 3]\n",
        "lpay_customer_f4 = lpay_customer_f[lpay_customer_f['ages'] == 4]\n",
        "lpay_customer_f5 = lpay_customer_f[lpay_customer_f['ages'] == 5]\n",
        "lpay_customer_f6 = lpay_customer_f[lpay_customer_f['ages'] == 6]\n",
        "lpay_customer_f7 = lpay_customer_f[lpay_customer_f['ages'] == 7]\n"
      ],
      "metadata": {
        "id": "NgijuC9VdT-D"
      },
      "execution_count": null,
      "outputs": []
    },
    {
      "cell_type": "code",
      "source": [
        "import matplotlib.pyplot as plt\n",
        "lpay_m2p = lpay_customer_m2['is_lpay'].value_counts()[1]/len(lpay_customer_m2['is_lpay']) \n",
        "lpay_m3p = lpay_customer_m3['is_lpay'].value_counts()[1]/len(lpay_customer_m3['is_lpay'])\n",
        "lpay_m4p = lpay_customer_m4['is_lpay'].value_counts()[1]/len(lpay_customer_m4['is_lpay'])\n",
        "lpay_m5p = lpay_customer_m5['is_lpay'].value_counts()[1]/len(lpay_customer_m5['is_lpay'])\n",
        "lpay_m6p = lpay_customer_m6['is_lpay'].value_counts()[1]/len(lpay_customer_m6['is_lpay'])\n",
        "lpay_m7p = lpay_customer_m7['is_lpay'].value_counts()[1]/len(lpay_customer_m7['is_lpay'])\n",
        "\n",
        "m_list = [20,30,40,50,60,70]\n",
        "lpay_m_list = [lpay_m2p, lpay_m3p, lpay_m4p, lpay_m5p, lpay_m6p, lpay_m7p]\n",
        "\n",
        "plt.bar(m_list, lpay_m_list, color = 'green', alpha = 1)\n",
        "\n",
        "plt.show()\n",
        "\n",
        "#lpay를 할 확률 "
      ],
      "metadata": {
        "colab": {
          "base_uri": "https://localhost:8080/",
          "height": 267
        },
        "id": "I_LvXCLsk4Gp",
        "outputId": "80a7d776-cf6b-4a8c-919a-90074c2a261b"
      },
      "execution_count": null,
      "outputs": [
        {
          "output_type": "display_data",
          "data": {
            "text/plain": [
              "<Figure size 432x288 with 1 Axes>"
            ],
            "image/png": "[encoded data removed]"
          },
          "metadata": {
            "needs_background": "light"
          }
        }
      ]
    },
    {
      "cell_type": "markdown",
      "source": [
        "남성의 경우, 30~40대 나이대의 남성이 가장 사용해본 경험이 있을 확률이 높았고 예상대로 70대가 가장 낮았다. 하지만, 70대 또한, 60퍼센트가 넘게 엘페이를 이용한 경험이 있다는 면에서 전체 남성 이용 고객들 중 많은 비율의 고객층이 엘페이를 이용해본 경험이 있다는 점을 알 수 있었다. "
      ],
      "metadata": {
        "id": "8wpwBsZlu-SA"
      }
    },
    {
      "cell_type": "code",
      "source": [
        "lpay_f2p = lpay_customer_f2['is_lpay'].value_counts()[1]/len(lpay_customer_f2['is_lpay'])\n",
        "lpay_f3p = lpay_customer_f3['is_lpay'].value_counts()[1]/len(lpay_customer_f3['is_lpay'])\n",
        "lpay_f4p = lpay_customer_f4['is_lpay'].value_counts()[1]/len(lpay_customer_f4['is_lpay'])\n",
        "lpay_f5p = lpay_customer_f5['is_lpay'].value_counts()[1]/len(lpay_customer_f5['is_lpay'])\n",
        "lpay_f6p = lpay_customer_f6['is_lpay'].value_counts()[1]/len(lpay_customer_f6['is_lpay'])\n",
        "lpay_f7p = lpay_customer_f7['is_lpay'].value_counts()[1]/len(lpay_customer_f7['is_lpay'])\n",
        "\n",
        "f_list = [20,30,40,50,60,70]\n",
        "lpay_f_list = [lpay_f2p, lpay_f3p, lpay_f4p, lpay_f5p, lpay_f6p, lpay_f7p]\n",
        "plt.bar(f_list, lpay_f_list, color = 'green', alpha = 1)\n",
        "\n",
        "plt.show()"
      ],
      "metadata": {
        "colab": {
          "base_uri": "https://localhost:8080/",
          "height": 267
        },
        "id": "Vp8ZLDU5kPV2",
        "outputId": "487c5e32-4bce-4ec6-8bef-69b23b9e3e89"
      },
      "execution_count": null,
      "outputs": [
        {
          "output_type": "display_data",
          "data": {
            "text/plain": [
              "<Figure size 432x288 with 1 Axes>"
            ],
            "image/png": "[encoded data removed]"
          },
          "metadata": {
            "needs_background": "light"
          }
        }
      ]
    },
    {
      "cell_type": "markdown",
      "source": [
        "여성의 경우, 대부분의 나이대에서 엘페이 이용의 경험이 상당히 높은 비율로 나왔지만, 특이하게 70대 여성의 엘페이 사용 경험 여부의 비율은 상당히 낮은 수치인 30퍼센트로 나왔다. 이를 통해, 70대 여성은 엘페이 이용 자체에 대한 인식이 낮은 것으로 결론지었다. "
      ],
      "metadata": {
        "id": "grXxPpeYvtCb"
      }
    },
    {
      "cell_type": "markdown",
      "source": [
        "# 공휴일 유무에 따른 EDA"
      ],
      "metadata": {
        "id": "4bMmvcuEN1_K"
      }
    },
    {
      "cell_type": "code",
      "source": [
        "merge_data4 = pd.merge(data2, data4)"
      ],
      "metadata": {
        "id": "5oUeI8oHdWaU"
      },
      "execution_count": null,
      "outputs": []
    },
    {
      "cell_type": "code",
      "source": [
        "merge_data4"
      ],
      "metadata": {
        "colab": {
          "base_uri": "https://localhost:8080/",
          "height": 921
        },
        "id": "6umDpQOWBVYf",
        "outputId": "33632536-a631-4579-9091-63743f052271"
      },
      "execution_count": null,
      "outputs": [
        {
          "output_type": "execute_result",
          "data": {
            "text/plain": [
              "               cust        rct_no  chnl_dv cop_c     br_c    pd_c     de_dt  \\\n",
              "0        M430112881  A01000001113        1   A01  A010039  PD0290  20210101   \n",
              "1        M430112881  A01000003148        1   A01  A010039  PD0290  20210101   \n",
              "2        M430112881  A01000003148        1   A01  A010039  PD0290  20210101   \n",
              "3        M430112881  A01000004946        1   A01  A010039  PD0290  20210101   \n",
              "4        M506355556  A01000107137        1   A01  A010032  PD0290  20210101   \n",
              "...             ...           ...      ...   ...      ...     ...       ...   \n",
              "4381738  M696533418  E06045892016        2   A06      NaN  PD0520  20211115   \n",
              "4381739  M696533418  E06045892016        2   A06      NaN  PD0520  20211115   \n",
              "4381740  M111856694  E06045887405        2   A06      NaN  PD0520  20211118   \n",
              "4381741  M001808316  E06045891296        2   A06      NaN  PD0520  20211118   \n",
              "4381742  M475857646  E06046013307        2   A06      NaN  PD0520  20211121   \n",
              "\n",
              "         de_hr    buy_am  buy_ct     pd_nm clac_hlv_nm clac_mcls_nm  \n",
              "0           10   15000.0       1     남성티셔츠        남성의류       남성의류상의  \n",
              "1           10   19000.0       1     남성티셔츠        남성의류       남성의류상의  \n",
              "2           10   19000.0       1     남성티셔츠        남성의류       남성의류상의  \n",
              "3           10   19000.0       1     남성티셔츠        남성의류       남성의류상의  \n",
              "4           15  199000.0       1     남성티셔츠        남성의류       남성의류상의  \n",
              "...        ...       ...     ...       ...         ...          ...  \n",
              "4381738      0    9900.0       1  자동차/레저렌탈    생활/렌탈서비스        렌탈서비스  \n",
              "4381739      0    9900.0       1  자동차/레저렌탈    생활/렌탈서비스        렌탈서비스  \n",
              "4381740      0     100.0       1  자동차/레저렌탈    생활/렌탈서비스        렌탈서비스  \n",
              "4381741      0     100.0       1  자동차/레저렌탈    생활/렌탈서비스        렌탈서비스  \n",
              "4381742      3     100.0       1  자동차/레저렌탈    생활/렌탈서비스        렌탈서비스  \n",
              "\n",
              "[4381743 rows x 13 columns]"
            ],
            "text/html": [
              "\n",
              "  <div id=\"df-523addaa-c3c6-4201-b1f8-2f7f6290ac0e\">\n",
              "    <div class=\"colab-df-container\">\n",
              "      <div>\n",
              "<style scoped>\n",
              "    .dataframe tbody tr th:only-of-type {\n",
              "        vertical-align: middle;\n",
              "    }\n",
              "\n",
              "    .dataframe tbody tr th {\n",
              "        vertical-align: top;\n",
              "    }\n",
              "\n",
              "    .dataframe thead th {\n",
              "        text-align: right;\n",
              "    }\n",
              "</style>\n",
              "<table border=\"1\" class=\"dataframe\">\n",
              "  <thead>\n",
              "    <tr style=\"text-align: right;\">\n",
              "      <th></th>\n",
              "      <th>cust</th>\n",
              "      <th>rct_no</th>\n",
              "      <th>chnl_dv</th>\n",
              "      <th>cop_c</th>\n",
              "      <th>br_c</th>\n",
              "      <th>pd_c</th>\n",
              "      <th>de_dt</th>\n",
              "      <th>de_hr</th>\n",
              "      <th>buy_am</th>\n",
              "      <th>buy_ct</th>\n",
              "      <th>pd_nm</th>\n",
              "      <th>clac_hlv_nm</th>\n",
              "      <th>clac_mcls_nm</th>\n",
              "    </tr>\n",
              "  </thead>\n",
              "  <tbody>\n",
              "    <tr>\n",
              "      <th>0</th>\n",
              "      <td>M430112881</td>\n",
              "      <td>A01000001113</td>\n",
              "      <td>1</td>\n",
              "      <td>A01</td>\n",
              "      <td>A010039</td>\n",
              "      <td>PD0290</td>\n",
              "      <td>20210101</td>\n",
              "      <td>10</td>\n",
              "      <td>15000.0</td>\n",
              "      <td>1</td>\n",
              "      <td>남성티셔츠</td>\n",
              "      <td>남성의류</td>\n",
              "      <td>남성의류상의</td>\n",
              "    </tr>\n",
              "    <tr>\n",
              "      <th>1</th>\n",
              "      <td>M430112881</td>\n",
              "      <td>A01000003148</td>\n",
              "      <td>1</td>\n",
              "      <td>A01</td>\n",
              "      <td>A010039</td>\n",
              "      <td>PD0290</td>\n",
              "      <td>20210101</td>\n",
              "      <td>10</td>\n",
              "      <td>19000.0</td>\n",
              "      <td>1</td>\n",
              "      <td>남성티셔츠</td>\n",
              "      <td>남성의류</td>\n",
              "      <td>남성의류상의</td>\n",
              "    </tr>\n",
              "    <tr>\n",
              "      <th>2</th>\n",
              "      <td>M430112881</td>\n",
              "      <td>A01000003148</td>\n",
              "      <td>1</td>\n",
              "      <td>A01</td>\n",
              "      <td>A010039</td>\n",
              "      <td>PD0290</td>\n",
              "      <td>20210101</td>\n",
              "      <td>10</td>\n",
              "      <td>19000.0</td>\n",
              "      <td>1</td>\n",
              "      <td>남성티셔츠</td>\n",
              "      <td>남성의류</td>\n",
              "      <td>남성의류상의</td>\n",
              "    </tr>\n",
              "    <tr>\n",
              "      <th>3</th>\n",
              "      <td>M430112881</td>\n",
              "      <td>A01000004946</td>\n",
              "      <td>1</td>\n",
              "      <td>A01</td>\n",
              "      <td>A010039</td>\n",
              "      <td>PD0290</td>\n",
              "      <td>20210101</td>\n",
              "      <td>10</td>\n",
              "      <td>19000.0</td>\n",
              "      <td>1</td>\n",
              "      <td>남성티셔츠</td>\n",
              "      <td>남성의류</td>\n",
              "      <td>남성의류상의</td>\n",
              "    </tr>\n",
              "    <tr>\n",
              "      <th>4</th>\n",
              "      <td>M506355556</td>\n",
              "      <td>A01000107137</td>\n",
              "      <td>1</td>\n",
              "      <td>A01</td>\n",
              "      <td>A010032</td>\n",
              "      <td>PD0290</td>\n",
              "      <td>20210101</td>\n",
              "      <td>15</td>\n",
              "      <td>199000.0</td>\n",
              "      <td>1</td>\n",
              "      <td>남성티셔츠</td>\n",
              "      <td>남성의류</td>\n",
              "      <td>남성의류상의</td>\n",
              "    </tr>\n",
              "    <tr>\n",
              "      <th>...</th>\n",
              "      <td>...</td>\n",
              "      <td>...</td>\n",
              "      <td>...</td>\n",
              "      <td>...</td>\n",
              "      <td>...</td>\n",
              "      <td>...</td>\n",
              "      <td>...</td>\n",
              "      <td>...</td>\n",
              "      <td>...</td>\n",
              "      <td>...</td>\n",
              "      <td>...</td>\n",
              "      <td>...</td>\n",
              "      <td>...</td>\n",
              "    </tr>\n",
              "    <tr>\n",
              "      <th>4381738</th>\n",
              "      <td>M696533418</td>\n",
              "      <td>E06045892016</td>\n",
              "      <td>2</td>\n",
              "      <td>A06</td>\n",
              "      <td>NaN</td>\n",
              "      <td>PD0520</td>\n",
              "      <td>20211115</td>\n",
              "      <td>0</td>\n",
              "      <td>9900.0</td>\n",
              "      <td>1</td>\n",
              "      <td>자동차/레저렌탈</td>\n",
              "      <td>생활/렌탈서비스</td>\n",
              "      <td>렌탈서비스</td>\n",
              "    </tr>\n",
              "    <tr>\n",
              "      <th>4381739</th>\n",
              "      <td>M696533418</td>\n",
              "      <td>E06045892016</td>\n",
              "      <td>2</td>\n",
              "      <td>A06</td>\n",
              "      <td>NaN</td>\n",
              "      <td>PD0520</td>\n",
              "      <td>20211115</td>\n",
              "      <td>0</td>\n",
              "      <td>9900.0</td>\n",
              "      <td>1</td>\n",
              "      <td>자동차/레저렌탈</td>\n",
              "      <td>생활/렌탈서비스</td>\n",
              "      <td>렌탈서비스</td>\n",
              "    </tr>\n",
              "    <tr>\n",
              "      <th>4381740</th>\n",
              "      <td>M111856694</td>\n",
              "      <td>E06045887405</td>\n",
              "      <td>2</td>\n",
              "      <td>A06</td>\n",
              "      <td>NaN</td>\n",
              "      <td>PD0520</td>\n",
              "      <td>20211118</td>\n",
              "      <td>0</td>\n",
              "      <td>100.0</td>\n",
              "      <td>1</td>\n",
              "      <td>자동차/레저렌탈</td>\n",
              "      <td>생활/렌탈서비스</td>\n",
              "      <td>렌탈서비스</td>\n",
              "    </tr>\n",
              "    <tr>\n",
              "      <th>4381741</th>\n",
              "      <td>M001808316</td>\n",
              "      <td>E06045891296</td>\n",
              "      <td>2</td>\n",
              "      <td>A06</td>\n",
              "      <td>NaN</td>\n",
              "      <td>PD0520</td>\n",
              "      <td>20211118</td>\n",
              "      <td>0</td>\n",
              "      <td>100.0</td>\n",
              "      <td>1</td>\n",
              "      <td>자동차/레저렌탈</td>\n",
              "      <td>생활/렌탈서비스</td>\n",
              "      <td>렌탈서비스</td>\n",
              "    </tr>\n",
              "    <tr>\n",
              "      <th>4381742</th>\n",
              "      <td>M475857646</td>\n",
              "      <td>E06046013307</td>\n",
              "      <td>2</td>\n",
              "      <td>A06</td>\n",
              "      <td>NaN</td>\n",
              "      <td>PD0520</td>\n",
              "      <td>20211121</td>\n",
              "      <td>3</td>\n",
              "      <td>100.0</td>\n",
              "      <td>1</td>\n",
              "      <td>자동차/레저렌탈</td>\n",
              "      <td>생활/렌탈서비스</td>\n",
              "      <td>렌탈서비스</td>\n",
              "    </tr>\n",
              "  </tbody>\n",
              "</table>\n",
              "<p>4381743 rows × 13 columns</p>\n",
              "</div>\n",
              "      <button class=\"colab-df-convert\" onclick=\"convertToInteractive('df-523addaa-c3c6-4201-b1f8-2f7f6290ac0e')\"\n",
              "              title=\"Convert this dataframe to an interactive table.\"\n",
              "              style=\"display:none;\">\n",
              "        \n",
              "  <svg xmlns=\"http://www.w3.org/2000/svg\" height=\"24px\"viewBox=\"0 0 24 24\"\n",
              "       width=\"24px\">\n",
              "    <path d=\"M0 0h24v24H0V0z\" fill=\"none\"/>\n",
              "    <path d=\"M18.56 5.44l.94 2.06.94-2.06 2.06-.94-2.06-.94-.94-2.06-.94 2.06-2.06.94zm-11 1L8.5 8.5l.94-2.06 2.06-.94-2.06-.94L8.5 2.5l-.94 2.06-2.06.94zm10 10l.94 2.06.94-2.06 2.06-.94-2.06-.94-.94-2.06-.94 2.06-2.06.94z\"/><path d=\"M17.41 7.96l-1.37-1.37c-.4-.4-.92-.59-1.43-.59-.52 0-1.04.2-1.43.59L10.3 9.45l-7.72 7.72c-.78.78-.78 2.05 0 2.83L4 21.41c.39.39.9.59 1.41.59.51 0 1.02-.2 1.41-.59l7.78-7.78 2.81-2.81c.8-.78.8-2.07 0-2.86zM5.41 20L4 18.59l7.72-7.72 1.47 1.35L5.41 20z\"/>\n",
              "  </svg>\n",
              "      </button>\n",
              "      \n",
              "  <style>\n",
              "    .colab-df-container {\n",
              "      display:flex;\n",
              "      flex-wrap:wrap;\n",
              "      gap: 12px;\n",
              "    }\n",
              "\n",
              "    .colab-df-convert {\n",
              "      background-color: #E8F0FE;\n",
              "      border: none;\n",
              "      border-radius: 50%;\n",
              "      cursor: pointer;\n",
              "      display: none;\n",
              "      fill: #1967D2;\n",
              "      height: 32px;\n",
              "      padding: 0 0 0 0;\n",
              "      width: 32px;\n",
              "    }\n",
              "\n",
              "    .colab-df-convert:hover {\n",
              "      background-color: #E2EBFA;\n",
              "      box-shadow: 0px 1px 2px rgba(60, 64, 67, 0.3), 0px 1px 3px 1px rgba(60, 64, 67, 0.15);\n",
              "      fill: #174EA6;\n",
              "    }\n",
              "\n",
              "    [theme=dark] .colab-df-convert {\n",
              "      background-color: #3B4455;\n",
              "      fill: #D2E3FC;\n",
              "    }\n",
              "\n",
              "    [theme=dark] .colab-df-convert:hover {\n",
              "      background-color: #434B5C;\n",
              "      box-shadow: 0px 1px 3px 1px rgba(0, 0, 0, 0.15);\n",
              "      filter: drop-shadow(0px 1px 2px rgba(0, 0, 0, 0.3));\n",
              "      fill: #FFFFFF;\n",
              "    }\n",
              "  </style>\n",
              "\n",
              "      <script>\n",
              "        const buttonEl =\n",
              "          document.querySelector('#df-523addaa-c3c6-4201-b1f8-2f7f6290ac0e button.colab-df-convert');\n",
              "        buttonEl.style.display =\n",
              "          google.colab.kernel.accessAllowed ? 'block' : 'none';\n",
              "\n",
              "        async function convertToInteractive(key) {\n",
              "          const element = document.querySelector('#df-523addaa-c3c6-4201-b1f8-2f7f6290ac0e');\n",
              "          const dataTable =\n",
              "            await google.colab.kernel.invokeFunction('convertToInteractive',\n",
              "                                                     [key], {});\n",
              "          if (!dataTable) return;\n",
              "\n",
              "          const docLinkHtml = 'Like what you see? Visit the ' +\n",
              "            '<a target=\"_blank\" href=https://colab.research.google.com/notebooks/data_table.ipynb>data table notebook</a>'\n",
              "            + ' to learn more about interactive tables.';\n",
              "          element.innerHTML = '';\n",
              "          dataTable['output_type'] = 'display_data';\n",
              "          await google.colab.output.renderOutput(dataTable, element);\n",
              "          const docLink = document.createElement('div');\n",
              "          docLink.innerHTML = docLinkHtml;\n",
              "          element.appendChild(docLink);\n",
              "        }\n",
              "      </script>\n",
              "    </div>\n",
              "  </div>\n",
              "  "
            ]
          },
          "metadata": {},
          "execution_count": 4
        }
      ]
    },
    {
      "cell_type": "code",
      "source": [
        "merge_data5 = pd.merge(data1, merge_data4)"
      ],
      "metadata": {
        "id": "dwF5g_vDAxYW"
      },
      "execution_count": null,
      "outputs": []
    },
    {
      "cell_type": "code",
      "source": [
        "merge_data5"
      ],
      "metadata": {
        "colab": {
          "base_uri": "https://localhost:8080/",
          "height": 852
        },
        "id": "p9z3nkfyBF-v",
        "outputId": "bdaf435f-421c-4124-d09f-0ddc0f8c59f9"
      },
      "execution_count": null,
      "outputs": [
        {
          "output_type": "execute_result",
          "data": {
            "text/plain": [
              "               cust ma_fem_dv ages zon_hlv        rct_no  chnl_dv cop_c  \\\n",
              "0        M000034966        여성  40대     Z07  A02357420240        1   A02   \n",
              "1        M000034966        여성  40대     Z07  A02357421026        1   A02   \n",
              "2        M000034966        여성  40대     Z07  A02358228482        1   A02   \n",
              "3        M000034966        여성  40대     Z07  A01016688590        1   A01   \n",
              "4        M000034966        여성  40대     Z07  A01016688590        1   A01   \n",
              "...             ...       ...  ...     ...           ...      ...   ...   \n",
              "4381738  M999962961        여성  50대     Z17  A03073005783        1   A03   \n",
              "4381739  M999962961        여성  50대     Z17  A02034710612        1   A02   \n",
              "4381740  M999962961        여성  50대     Z17  A03071991818        1   A03   \n",
              "4381741  M999962961        여성  50대     Z17  A03071935135        1   A03   \n",
              "4381742  M999962961        여성  50대     Z17  A03072652674        1   A03   \n",
              "\n",
              "            br_c    pd_c     de_dt  de_hr   buy_am  buy_ct       pd_nm  \\\n",
              "0        A020116  PD0952  20210328     21  59800.0       1       여성베스트   \n",
              "1        A020116  PD0952  20210328     21  22800.0       1       여성베스트   \n",
              "2        A020116  PD0952  20210629     13  65700.0       1       여성베스트   \n",
              "3        A010045  PD0796  20210116     18    100.0       1  스포츠아대/헤어밴드   \n",
              "4        A010045  PD0777  20210116     18  59000.0       1  남성런닝/트레이닝화   \n",
              "...          ...     ...       ...    ...      ...     ...         ...   \n",
              "4381738  A030118  PD0355  20210906     16  11900.0       1     냉장치킨족발류   \n",
              "4381739  A020006  PD0983  20211230     16   8000.0       1       기타이용권   \n",
              "4381740  A030118  PD0322  20210310     20  10990.0       1        냉동부침   \n",
              "4381741  A030118  PD0357  20210226     20   6990.0       1        냉장안주   \n",
              "4381742  A030118  PD0743  20210714     16   3990.0       1          대합   \n",
              "\n",
              "        clac_hlv_nm clac_mcls_nm  \n",
              "0              여성의류       여성의류상의  \n",
              "1              여성의류       여성의류상의  \n",
              "2              여성의류       여성의류상의  \n",
              "3             스포츠패션        스포츠잡화  \n",
              "4             스포츠패션       남성스포츠화  \n",
              "...             ...          ...  \n",
              "4381738        냉장식품        냉장간편식  \n",
              "4381739    여행/레저서비스      이용권/입장권  \n",
              "4381740        냉동식품        냉동간편식  \n",
              "4381741        냉장식품        냉장간편식  \n",
              "4381742         수산물          조개류  \n",
              "\n",
              "[4381743 rows x 16 columns]"
            ],
            "text/html": [
              "\n",
              "  <div id=\"df-e39497b9-490c-43d1-8239-0004c9bf2d28\">\n",
              "    <div class=\"colab-df-container\">\n",
              "      <div>\n",
              "<style scoped>\n",
              "    .dataframe tbody tr th:only-of-type {\n",
              "        vertical-align: middle;\n",
              "    }\n",
              "\n",
              "    .dataframe tbody tr th {\n",
              "        vertical-align: top;\n",
              "    }\n",
              "\n",
              "    .dataframe thead th {\n",
              "        text-align: right;\n",
              "    }\n",
              "</style>\n",
              "<table border=\"1\" class=\"dataframe\">\n",
              "  <thead>\n",
              "    <tr style=\"text-align: right;\">\n",
              "      <th></th>\n",
              "      <th>cust</th>\n",
              "      <th>ma_fem_dv</th>\n",
              "      <th>ages</th>\n",
              "      <th>zon_hlv</th>\n",
              "      <th>rct_no</th>\n",
              "      <th>chnl_dv</th>\n",
              "      <th>cop_c</th>\n",
              "      <th>br_c</th>\n",
              "      <th>pd_c</th>\n",
              "      <th>de_dt</th>\n",
              "      <th>de_hr</th>\n",
              "      <th>buy_am</th>\n",
              "      <th>buy_ct</th>\n",
              "      <th>pd_nm</th>\n",
              "      <th>clac_hlv_nm</th>\n",
              "      <th>clac_mcls_nm</th>\n",
              "    </tr>\n",
              "  </thead>\n",
              "  <tbody>\n",
              "    <tr>\n",
              "      <th>0</th>\n",
              "      <td>M000034966</td>\n",
              "      <td>여성</td>\n",
              "      <td>40대</td>\n",
              "      <td>Z07</td>\n",
              "      <td>A02357420240</td>\n",
              "      <td>1</td>\n",
              "      <td>A02</td>\n",
              "      <td>A020116</td>\n",
              "      <td>PD0952</td>\n",
              "      <td>20210328</td>\n",
              "      <td>21</td>\n",
              "      <td>59800.0</td>\n",
              "      <td>1</td>\n",
              "      <td>여성베스트</td>\n",
              "      <td>여성의류</td>\n",
              "      <td>여성의류상의</td>\n",
              "    </tr>\n",
              "    <tr>\n",
              "      <th>1</th>\n",
              "      <td>M000034966</td>\n",
              "      <td>여성</td>\n",
              "      <td>40대</td>\n",
              "      <td>Z07</td>\n",
              "      <td>A02357421026</td>\n",
              "      <td>1</td>\n",
              "      <td>A02</td>\n",
              "      <td>A020116</td>\n",
              "      <td>PD0952</td>\n",
              "      <td>20210328</td>\n",
              "      <td>21</td>\n",
              "      <td>22800.0</td>\n",
              "      <td>1</td>\n",
              "      <td>여성베스트</td>\n",
              "      <td>여성의류</td>\n",
              "      <td>여성의류상의</td>\n",
              "    </tr>\n",
              "    <tr>\n",
              "      <th>2</th>\n",
              "      <td>M000034966</td>\n",
              "      <td>여성</td>\n",
              "      <td>40대</td>\n",
              "      <td>Z07</td>\n",
              "      <td>A02358228482</td>\n",
              "      <td>1</td>\n",
              "      <td>A02</td>\n",
              "      <td>A020116</td>\n",
              "      <td>PD0952</td>\n",
              "      <td>20210629</td>\n",
              "      <td>13</td>\n",
              "      <td>65700.0</td>\n",
              "      <td>1</td>\n",
              "      <td>여성베스트</td>\n",
              "      <td>여성의류</td>\n",
              "      <td>여성의류상의</td>\n",
              "    </tr>\n",
              "    <tr>\n",
              "      <th>3</th>\n",
              "      <td>M000034966</td>\n",
              "      <td>여성</td>\n",
              "      <td>40대</td>\n",
              "      <td>Z07</td>\n",
              "      <td>A01016688590</td>\n",
              "      <td>1</td>\n",
              "      <td>A01</td>\n",
              "      <td>A010045</td>\n",
              "      <td>PD0796</td>\n",
              "      <td>20210116</td>\n",
              "      <td>18</td>\n",
              "      <td>100.0</td>\n",
              "      <td>1</td>\n",
              "      <td>스포츠아대/헤어밴드</td>\n",
              "      <td>스포츠패션</td>\n",
              "      <td>스포츠잡화</td>\n",
              "    </tr>\n",
              "    <tr>\n",
              "      <th>4</th>\n",
              "      <td>M000034966</td>\n",
              "      <td>여성</td>\n",
              "      <td>40대</td>\n",
              "      <td>Z07</td>\n",
              "      <td>A01016688590</td>\n",
              "      <td>1</td>\n",
              "      <td>A01</td>\n",
              "      <td>A010045</td>\n",
              "      <td>PD0777</td>\n",
              "      <td>20210116</td>\n",
              "      <td>18</td>\n",
              "      <td>59000.0</td>\n",
              "      <td>1</td>\n",
              "      <td>남성런닝/트레이닝화</td>\n",
              "      <td>스포츠패션</td>\n",
              "      <td>남성스포츠화</td>\n",
              "    </tr>\n",
              "    <tr>\n",
              "      <th>...</th>\n",
              "      <td>...</td>\n",
              "      <td>...</td>\n",
              "      <td>...</td>\n",
              "      <td>...</td>\n",
              "      <td>...</td>\n",
              "      <td>...</td>\n",
              "      <td>...</td>\n",
              "      <td>...</td>\n",
              "      <td>...</td>\n",
              "      <td>...</td>\n",
              "      <td>...</td>\n",
              "      <td>...</td>\n",
              "      <td>...</td>\n",
              "      <td>...</td>\n",
              "      <td>...</td>\n",
              "      <td>...</td>\n",
              "    </tr>\n",
              "    <tr>\n",
              "      <th>4381738</th>\n",
              "      <td>M999962961</td>\n",
              "      <td>여성</td>\n",
              "      <td>50대</td>\n",
              "      <td>Z17</td>\n",
              "      <td>A03073005783</td>\n",
              "      <td>1</td>\n",
              "      <td>A03</td>\n",
              "      <td>A030118</td>\n",
              "      <td>PD0355</td>\n",
              "      <td>20210906</td>\n",
              "      <td>16</td>\n",
              "      <td>11900.0</td>\n",
              "      <td>1</td>\n",
              "      <td>냉장치킨족발류</td>\n",
              "      <td>냉장식품</td>\n",
              "      <td>냉장간편식</td>\n",
              "    </tr>\n",
              "    <tr>\n",
              "      <th>4381739</th>\n",
              "      <td>M999962961</td>\n",
              "      <td>여성</td>\n",
              "      <td>50대</td>\n",
              "      <td>Z17</td>\n",
              "      <td>A02034710612</td>\n",
              "      <td>1</td>\n",
              "      <td>A02</td>\n",
              "      <td>A020006</td>\n",
              "      <td>PD0983</td>\n",
              "      <td>20211230</td>\n",
              "      <td>16</td>\n",
              "      <td>8000.0</td>\n",
              "      <td>1</td>\n",
              "      <td>기타이용권</td>\n",
              "      <td>여행/레저서비스</td>\n",
              "      <td>이용권/입장권</td>\n",
              "    </tr>\n",
              "    <tr>\n",
              "      <th>4381740</th>\n",
              "      <td>M999962961</td>\n",
              "      <td>여성</td>\n",
              "      <td>50대</td>\n",
              "      <td>Z17</td>\n",
              "      <td>A03071991818</td>\n",
              "      <td>1</td>\n",
              "      <td>A03</td>\n",
              "      <td>A030118</td>\n",
              "      <td>PD0322</td>\n",
              "      <td>20210310</td>\n",
              "      <td>20</td>\n",
              "      <td>10990.0</td>\n",
              "      <td>1</td>\n",
              "      <td>냉동부침</td>\n",
              "      <td>냉동식품</td>\n",
              "      <td>냉동간편식</td>\n",
              "    </tr>\n",
              "    <tr>\n",
              "      <th>4381741</th>\n",
              "      <td>M999962961</td>\n",
              "      <td>여성</td>\n",
              "      <td>50대</td>\n",
              "      <td>Z17</td>\n",
              "      <td>A03071935135</td>\n",
              "      <td>1</td>\n",
              "      <td>A03</td>\n",
              "      <td>A030118</td>\n",
              "      <td>PD0357</td>\n",
              "      <td>20210226</td>\n",
              "      <td>20</td>\n",
              "      <td>6990.0</td>\n",
              "      <td>1</td>\n",
              "      <td>냉장안주</td>\n",
              "      <td>냉장식품</td>\n",
              "      <td>냉장간편식</td>\n",
              "    </tr>\n",
              "    <tr>\n",
              "      <th>4381742</th>\n",
              "      <td>M999962961</td>\n",
              "      <td>여성</td>\n",
              "      <td>50대</td>\n",
              "      <td>Z17</td>\n",
              "      <td>A03072652674</td>\n",
              "      <td>1</td>\n",
              "      <td>A03</td>\n",
              "      <td>A030118</td>\n",
              "      <td>PD0743</td>\n",
              "      <td>20210714</td>\n",
              "      <td>16</td>\n",
              "      <td>3990.0</td>\n",
              "      <td>1</td>\n",
              "      <td>대합</td>\n",
              "      <td>수산물</td>\n",
              "      <td>조개류</td>\n",
              "    </tr>\n",
              "  </tbody>\n",
              "</table>\n",
              "<p>4381743 rows × 16 columns</p>\n",
              "</div>\n",
              "      <button class=\"colab-df-convert\" onclick=\"convertToInteractive('df-e39497b9-490c-43d1-8239-0004c9bf2d28')\"\n",
              "              title=\"Convert this dataframe to an interactive table.\"\n",
              "              style=\"display:none;\">\n",
              "        \n",
              "  <svg xmlns=\"http://www.w3.org/2000/svg\" height=\"24px\"viewBox=\"0 0 24 24\"\n",
              "       width=\"24px\">\n",
              "    <path d=\"M0 0h24v24H0V0z\" fill=\"none\"/>\n",
              "    <path d=\"M18.56 5.44l.94 2.06.94-2.06 2.06-.94-2.06-.94-.94-2.06-.94 2.06-2.06.94zm-11 1L8.5 8.5l.94-2.06 2.06-.94-2.06-.94L8.5 2.5l-.94 2.06-2.06.94zm10 10l.94 2.06.94-2.06 2.06-.94-2.06-.94-.94-2.06-.94 2.06-2.06.94z\"/><path d=\"M17.41 7.96l-1.37-1.37c-.4-.4-.92-.59-1.43-.59-.52 0-1.04.2-1.43.59L10.3 9.45l-7.72 7.72c-.78.78-.78 2.05 0 2.83L4 21.41c.39.39.9.59 1.41.59.51 0 1.02-.2 1.41-.59l7.78-7.78 2.81-2.81c.8-.78.8-2.07 0-2.86zM5.41 20L4 18.59l7.72-7.72 1.47 1.35L5.41 20z\"/>\n",
              "  </svg>\n",
              "      </button>\n",
              "      \n",
              "  <style>\n",
              "    .colab-df-container {\n",
              "      display:flex;\n",
              "      flex-wrap:wrap;\n",
              "      gap: 12px;\n",
              "    }\n",
              "\n",
              "    .colab-df-convert {\n",
              "      background-color: #E8F0FE;\n",
              "      border: none;\n",
              "      border-radius: 50%;\n",
              "      cursor: pointer;\n",
              "      display: none;\n",
              "      fill: #1967D2;\n",
              "      height: 32px;\n",
              "      padding: 0 0 0 0;\n",
              "      width: 32px;\n",
              "    }\n",
              "\n",
              "    .colab-df-convert:hover {\n",
              "      background-color: #E2EBFA;\n",
              "      box-shadow: 0px 1px 2px rgba(60, 64, 67, 0.3), 0px 1px 3px 1px rgba(60, 64, 67, 0.15);\n",
              "      fill: #174EA6;\n",
              "    }\n",
              "\n",
              "    [theme=dark] .colab-df-convert {\n",
              "      background-color: #3B4455;\n",
              "      fill: #D2E3FC;\n",
              "    }\n",
              "\n",
              "    [theme=dark] .colab-df-convert:hover {\n",
              "      background-color: #434B5C;\n",
              "      box-shadow: 0px 1px 3px 1px rgba(0, 0, 0, 0.15);\n",
              "      filter: drop-shadow(0px 1px 2px rgba(0, 0, 0, 0.3));\n",
              "      fill: #FFFFFF;\n",
              "    }\n",
              "  </style>\n",
              "\n",
              "      <script>\n",
              "        const buttonEl =\n",
              "          document.querySelector('#df-e39497b9-490c-43d1-8239-0004c9bf2d28 button.colab-df-convert');\n",
              "        buttonEl.style.display =\n",
              "          google.colab.kernel.accessAllowed ? 'block' : 'none';\n",
              "\n",
              "        async function convertToInteractive(key) {\n",
              "          const element = document.querySelector('#df-e39497b9-490c-43d1-8239-0004c9bf2d28');\n",
              "          const dataTable =\n",
              "            await google.colab.kernel.invokeFunction('convertToInteractive',\n",
              "                                                     [key], {});\n",
              "          if (!dataTable) return;\n",
              "\n",
              "          const docLinkHtml = 'Like what you see? Visit the ' +\n",
              "            '<a target=\"_blank\" href=https://colab.research.google.com/notebooks/data_table.ipynb>data table notebook</a>'\n",
              "            + ' to learn more about interactive tables.';\n",
              "          element.innerHTML = '';\n",
              "          dataTable['output_type'] = 'display_data';\n",
              "          await google.colab.output.renderOutput(dataTable, element);\n",
              "          const docLink = document.createElement('div');\n",
              "          docLink.innerHTML = docLinkHtml;\n",
              "          element.appendChild(docLink);\n",
              "        }\n",
              "      </script>\n",
              "    </div>\n",
              "  </div>\n",
              "  "
            ]
          },
          "metadata": {},
          "execution_count": 6
        }
      ]
    },
    {
      "cell_type": "code",
      "source": [
        "data7 = merge_data5[['cust','ma_fem_dv','ages', 'de_dt', 'buy_am', 'clac_hlv_nm']]"
      ],
      "metadata": {
        "id": "VuZ31ufQ64VW"
      },
      "execution_count": null,
      "outputs": []
    },
    {
      "cell_type": "code",
      "source": [
        "data7"
      ],
      "metadata": {
        "colab": {
          "base_uri": "https://localhost:8080/",
          "height": 424
        },
        "id": "Q3W-uxzuBLj4",
        "outputId": "b75f642a-bc8d-49b0-fccc-149c8487ce3e"
      },
      "execution_count": null,
      "outputs": [
        {
          "output_type": "execute_result",
          "data": {
            "text/plain": [
              "               cust ma_fem_dv ages     de_dt   buy_am clac_hlv_nm\n",
              "0        M000034966        여성  40대  20210328  59800.0        여성의류\n",
              "1        M000034966        여성  40대  20210328  22800.0        여성의류\n",
              "2        M000034966        여성  40대  20210629  65700.0        여성의류\n",
              "3        M000034966        여성  40대  20210116    100.0       스포츠패션\n",
              "4        M000034966        여성  40대  20210116  59000.0       스포츠패션\n",
              "...             ...       ...  ...       ...      ...         ...\n",
              "4381738  M999962961        여성  50대  20210906  11900.0        냉장식품\n",
              "4381739  M999962961        여성  50대  20211230   8000.0    여행/레저서비스\n",
              "4381740  M999962961        여성  50대  20210310  10990.0        냉동식품\n",
              "4381741  M999962961        여성  50대  20210226   6990.0        냉장식품\n",
              "4381742  M999962961        여성  50대  20210714   3990.0         수산물\n",
              "\n",
              "[4381743 rows x 6 columns]"
            ],
            "text/html": [
              "\n",
              "  <div id=\"df-c4081ff4-0e27-43d1-b1a9-1bd0203a7d29\">\n",
              "    <div class=\"colab-df-container\">\n",
              "      <div>\n",
              "<style scoped>\n",
              "    .dataframe tbody tr th:only-of-type {\n",
              "        vertical-align: middle;\n",
              "    }\n",
              "\n",
              "    .dataframe tbody tr th {\n",
              "        vertical-align: top;\n",
              "    }\n",
              "\n",
              "    .dataframe thead th {\n",
              "        text-align: right;\n",
              "    }\n",
              "</style>\n",
              "<table border=\"1\" class=\"dataframe\">\n",
              "  <thead>\n",
              "    <tr style=\"text-align: right;\">\n",
              "      <th></th>\n",
              "      <th>cust</th>\n",
              "      <th>ma_fem_dv</th>\n",
              "      <th>ages</th>\n",
              "      <th>de_dt</th>\n",
              "      <th>buy_am</th>\n",
              "      <th>clac_hlv_nm</th>\n",
              "    </tr>\n",
              "  </thead>\n",
              "  <tbody>\n",
              "    <tr>\n",
              "      <th>0</th>\n",
              "      <td>M000034966</td>\n",
              "      <td>여성</td>\n",
              "      <td>40대</td>\n",
              "      <td>20210328</td>\n",
              "      <td>59800.0</td>\n",
              "      <td>여성의류</td>\n",
              "    </tr>\n",
              "    <tr>\n",
              "      <th>1</th>\n",
              "      <td>M000034966</td>\n",
              "      <td>여성</td>\n",
              "      <td>40대</td>\n",
              "      <td>20210328</td>\n",
              "      <td>22800.0</td>\n",
              "      <td>여성의류</td>\n",
              "    </tr>\n",
              "    <tr>\n",
              "      <th>2</th>\n",
              "      <td>M000034966</td>\n",
              "      <td>여성</td>\n",
              "      <td>40대</td>\n",
              "      <td>20210629</td>\n",
              "      <td>65700.0</td>\n",
              "      <td>여성의류</td>\n",
              "    </tr>\n",
              "    <tr>\n",
              "      <th>3</th>\n",
              "      <td>M000034966</td>\n",
              "      <td>여성</td>\n",
              "      <td>40대</td>\n",
              "      <td>20210116</td>\n",
              "      <td>100.0</td>\n",
              "      <td>스포츠패션</td>\n",
              "    </tr>\n",
              "    <tr>\n",
              "      <th>4</th>\n",
              "      <td>M000034966</td>\n",
              "      <td>여성</td>\n",
              "      <td>40대</td>\n",
              "      <td>20210116</td>\n",
              "      <td>59000.0</td>\n",
              "      <td>스포츠패션</td>\n",
              "    </tr>\n",
              "    <tr>\n",
              "      <th>...</th>\n",
              "      <td>...</td>\n",
              "      <td>...</td>\n",
              "      <td>...</td>\n",
              "      <td>...</td>\n",
              "      <td>...</td>\n",
              "      <td>...</td>\n",
              "    </tr>\n",
              "    <tr>\n",
              "      <th>4381738</th>\n",
              "      <td>M999962961</td>\n",
              "      <td>여성</td>\n",
              "      <td>50대</td>\n",
              "      <td>20210906</td>\n",
              "      <td>11900.0</td>\n",
              "      <td>냉장식품</td>\n",
              "    </tr>\n",
              "    <tr>\n",
              "      <th>4381739</th>\n",
              "      <td>M999962961</td>\n",
              "      <td>여성</td>\n",
              "      <td>50대</td>\n",
              "      <td>20211230</td>\n",
              "      <td>8000.0</td>\n",
              "      <td>여행/레저서비스</td>\n",
              "    </tr>\n",
              "    <tr>\n",
              "      <th>4381740</th>\n",
              "      <td>M999962961</td>\n",
              "      <td>여성</td>\n",
              "      <td>50대</td>\n",
              "      <td>20210310</td>\n",
              "      <td>10990.0</td>\n",
              "      <td>냉동식품</td>\n",
              "    </tr>\n",
              "    <tr>\n",
              "      <th>4381741</th>\n",
              "      <td>M999962961</td>\n",
              "      <td>여성</td>\n",
              "      <td>50대</td>\n",
              "      <td>20210226</td>\n",
              "      <td>6990.0</td>\n",
              "      <td>냉장식품</td>\n",
              "    </tr>\n",
              "    <tr>\n",
              "      <th>4381742</th>\n",
              "      <td>M999962961</td>\n",
              "      <td>여성</td>\n",
              "      <td>50대</td>\n",
              "      <td>20210714</td>\n",
              "      <td>3990.0</td>\n",
              "      <td>수산물</td>\n",
              "    </tr>\n",
              "  </tbody>\n",
              "</table>\n",
              "<p>4381743 rows × 6 columns</p>\n",
              "</div>\n",
              "      <button class=\"colab-df-convert\" onclick=\"convertToInteractive('df-c4081ff4-0e27-43d1-b1a9-1bd0203a7d29')\"\n",
              "              title=\"Convert this dataframe to an interactive table.\"\n",
              "              style=\"display:none;\">\n",
              "        \n",
              "  <svg xmlns=\"http://www.w3.org/2000/svg\" height=\"24px\"viewBox=\"0 0 24 24\"\n",
              "       width=\"24px\">\n",
              "    <path d=\"M0 0h24v24H0V0z\" fill=\"none\"/>\n",
              "    <path d=\"M18.56 5.44l.94 2.06.94-2.06 2.06-.94-2.06-.94-.94-2.06-.94 2.06-2.06.94zm-11 1L8.5 8.5l.94-2.06 2.06-.94-2.06-.94L8.5 2.5l-.94 2.06-2.06.94zm10 10l.94 2.06.94-2.06 2.06-.94-2.06-.94-.94-2.06-.94 2.06-2.06.94z\"/><path d=\"M17.41 7.96l-1.37-1.37c-.4-.4-.92-.59-1.43-.59-.52 0-1.04.2-1.43.59L10.3 9.45l-7.72 7.72c-.78.78-.78 2.05 0 2.83L4 21.41c.39.39.9.59 1.41.59.51 0 1.02-.2 1.41-.59l7.78-7.78 2.81-2.81c.8-.78.8-2.07 0-2.86zM5.41 20L4 18.59l7.72-7.72 1.47 1.35L5.41 20z\"/>\n",
              "  </svg>\n",
              "      </button>\n",
              "      \n",
              "  <style>\n",
              "    .colab-df-container {\n",
              "      display:flex;\n",
              "      flex-wrap:wrap;\n",
              "      gap: 12px;\n",
              "    }\n",
              "\n",
              "    .colab-df-convert {\n",
              "      background-color: #E8F0FE;\n",
              "      border: none;\n",
              "      border-radius: 50%;\n",
              "      cursor: pointer;\n",
              "      display: none;\n",
              "      fill: #1967D2;\n",
              "      height: 32px;\n",
              "      padding: 0 0 0 0;\n",
              "      width: 32px;\n",
              "    }\n",
              "\n",
              "    .colab-df-convert:hover {\n",
              "      background-color: #E2EBFA;\n",
              "      box-shadow: 0px 1px 2px rgba(60, 64, 67, 0.3), 0px 1px 3px 1px rgba(60, 64, 67, 0.15);\n",
              "      fill: #174EA6;\n",
              "    }\n",
              "\n",
              "    [theme=dark] .colab-df-convert {\n",
              "      background-color: #3B4455;\n",
              "      fill: #D2E3FC;\n",
              "    }\n",
              "\n",
              "    [theme=dark] .colab-df-convert:hover {\n",
              "      background-color: #434B5C;\n",
              "      box-shadow: 0px 1px 3px 1px rgba(0, 0, 0, 0.15);\n",
              "      filter: drop-shadow(0px 1px 2px rgba(0, 0, 0, 0.3));\n",
              "      fill: #FFFFFF;\n",
              "    }\n",
              "  </style>\n",
              "\n",
              "      <script>\n",
              "        const buttonEl =\n",
              "          document.querySelector('#df-c4081ff4-0e27-43d1-b1a9-1bd0203a7d29 button.colab-df-convert');\n",
              "        buttonEl.style.display =\n",
              "          google.colab.kernel.accessAllowed ? 'block' : 'none';\n",
              "\n",
              "        async function convertToInteractive(key) {\n",
              "          const element = document.querySelector('#df-c4081ff4-0e27-43d1-b1a9-1bd0203a7d29');\n",
              "          const dataTable =\n",
              "            await google.colab.kernel.invokeFunction('convertToInteractive',\n",
              "                                                     [key], {});\n",
              "          if (!dataTable) return;\n",
              "\n",
              "          const docLinkHtml = 'Like what you see? Visit the ' +\n",
              "            '<a target=\"_blank\" href=https://colab.research.google.com/notebooks/data_table.ipynb>data table notebook</a>'\n",
              "            + ' to learn more about interactive tables.';\n",
              "          element.innerHTML = '';\n",
              "          dataTable['output_type'] = 'display_data';\n",
              "          await google.colab.output.renderOutput(dataTable, element);\n",
              "          const docLink = document.createElement('div');\n",
              "          docLink.innerHTML = docLinkHtml;\n",
              "          element.appendChild(docLink);\n",
              "        }\n",
              "      </script>\n",
              "    </div>\n",
              "  </div>\n",
              "  "
            ]
          },
          "metadata": {},
          "execution_count": 34
        }
      ]
    },
    {
      "cell_type": "code",
      "source": [
        "holidays = [20210101 ,20210211,20210212,20210213,20210301,20210505,20210519,20210606,20210815,20210920,20210921,20210922,20211003,20211009,20211225]"
      ],
      "metadata": {
        "id": "HsVvSNBz9XMF"
      },
      "execution_count": null,
      "outputs": []
    },
    {
      "cell_type": "code",
      "source": [
        "holiday_data = data7[data7['de_dt'].isin(holidays)]\n",
        "holiday_data"
      ],
      "metadata": {
        "colab": {
          "base_uri": "https://localhost:8080/",
          "height": 424
        },
        "id": "4PndvR4Q9fTz",
        "outputId": "7e9ab769-63d1-4b6e-fc77-914d01737e0b"
      },
      "execution_count": null,
      "outputs": [
        {
          "output_type": "execute_result",
          "data": {
            "text/plain": [
              "               cust ma_fem_dv ages     de_dt    buy_am clac_hlv_nm\n",
              "355      M000261625        여성  40대  20210606   29800.0     테넌트/음식점\n",
              "360      M000261625        여성  40대  20210213    8000.0          주류\n",
              "361      M000261625        여성  40대  20210213   26700.0     테넌트/음식점\n",
              "383      M000261625        여성  40대  20210213   69000.0   속옷/양말/홈웨어\n",
              "387      M000261625        여성  40대  20210606  220000.0    화장품/뷰티케어\n",
              "...             ...       ...  ...       ...       ...         ...\n",
              "4381470  M999962961        여성  50대  20210606    9000.0    화장품/뷰티케어\n",
              "4381471  M999962961        여성  50대  20210606     600.0    화장품/뷰티케어\n",
              "4381503  M999962961        여성  50대  20210922    5000.0         유제품\n",
              "4381566  M999962961        여성  50대  20210922    5580.0         유제품\n",
              "4381603  M999962961        여성  50대  20210922   16800.0         수산물\n",
              "\n",
              "[203521 rows x 6 columns]"
            ],
            "text/html": [
              "\n",
              "  <div id=\"df-3be8d739-665a-48ff-9cf2-c8ba5be31872\">\n",
              "    <div class=\"colab-df-container\">\n",
              "      <div>\n",
              "<style scoped>\n",
              "    .dataframe tbody tr th:only-of-type {\n",
              "        vertical-align: middle;\n",
              "    }\n",
              "\n",
              "    .dataframe tbody tr th {\n",
              "        vertical-align: top;\n",
              "    }\n",
              "\n",
              "    .dataframe thead th {\n",
              "        text-align: right;\n",
              "    }\n",
              "</style>\n",
              "<table border=\"1\" class=\"dataframe\">\n",
              "  <thead>\n",
              "    <tr style=\"text-align: right;\">\n",
              "      <th></th>\n",
              "      <th>cust</th>\n",
              "      <th>ma_fem_dv</th>\n",
              "      <th>ages</th>\n",
              "      <th>de_dt</th>\n",
              "      <th>buy_am</th>\n",
              "      <th>clac_hlv_nm</th>\n",
              "    </tr>\n",
              "  </thead>\n",
              "  <tbody>\n",
              "    <tr>\n",
              "      <th>355</th>\n",
              "      <td>M000261625</td>\n",
              "      <td>여성</td>\n",
              "      <td>40대</td>\n",
              "      <td>20210606</td>\n",
              "      <td>29800.0</td>\n",
              "      <td>테넌트/음식점</td>\n",
              "    </tr>\n",
              "    <tr>\n",
              "      <th>360</th>\n",
              "      <td>M000261625</td>\n",
              "      <td>여성</td>\n",
              "      <td>40대</td>\n",
              "      <td>20210213</td>\n",
              "      <td>8000.0</td>\n",
              "      <td>주류</td>\n",
              "    </tr>\n",
              "    <tr>\n",
              "      <th>361</th>\n",
              "      <td>M000261625</td>\n",
              "      <td>여성</td>\n",
              "      <td>40대</td>\n",
              "      <td>20210213</td>\n",
              "      <td>26700.0</td>\n",
              "      <td>테넌트/음식점</td>\n",
              "    </tr>\n",
              "    <tr>\n",
              "      <th>383</th>\n",
              "      <td>M000261625</td>\n",
              "      <td>여성</td>\n",
              "      <td>40대</td>\n",
              "      <td>20210213</td>\n",
              "      <td>69000.0</td>\n",
              "      <td>속옷/양말/홈웨어</td>\n",
              "    </tr>\n",
              "    <tr>\n",
              "      <th>387</th>\n",
              "      <td>M000261625</td>\n",
              "      <td>여성</td>\n",
              "      <td>40대</td>\n",
              "      <td>20210606</td>\n",
              "      <td>220000.0</td>\n",
              "      <td>화장품/뷰티케어</td>\n",
              "    </tr>\n",
              "    <tr>\n",
              "      <th>...</th>\n",
              "      <td>...</td>\n",
              "      <td>...</td>\n",
              "      <td>...</td>\n",
              "      <td>...</td>\n",
              "      <td>...</td>\n",
              "      <td>...</td>\n",
              "    </tr>\n",
              "    <tr>\n",
              "      <th>4381470</th>\n",
              "      <td>M999962961</td>\n",
              "      <td>여성</td>\n",
              "      <td>50대</td>\n",
              "      <td>20210606</td>\n",
              "      <td>9000.0</td>\n",
              "      <td>화장품/뷰티케어</td>\n",
              "    </tr>\n",
              "    <tr>\n",
              "      <th>4381471</th>\n",
              "      <td>M999962961</td>\n",
              "      <td>여성</td>\n",
              "      <td>50대</td>\n",
              "      <td>20210606</td>\n",
              "      <td>600.0</td>\n",
              "      <td>화장품/뷰티케어</td>\n",
              "    </tr>\n",
              "    <tr>\n",
              "      <th>4381503</th>\n",
              "      <td>M999962961</td>\n",
              "      <td>여성</td>\n",
              "      <td>50대</td>\n",
              "      <td>20210922</td>\n",
              "      <td>5000.0</td>\n",
              "      <td>유제품</td>\n",
              "    </tr>\n",
              "    <tr>\n",
              "      <th>4381566</th>\n",
              "      <td>M999962961</td>\n",
              "      <td>여성</td>\n",
              "      <td>50대</td>\n",
              "      <td>20210922</td>\n",
              "      <td>5580.0</td>\n",
              "      <td>유제품</td>\n",
              "    </tr>\n",
              "    <tr>\n",
              "      <th>4381603</th>\n",
              "      <td>M999962961</td>\n",
              "      <td>여성</td>\n",
              "      <td>50대</td>\n",
              "      <td>20210922</td>\n",
              "      <td>16800.0</td>\n",
              "      <td>수산물</td>\n",
              "    </tr>\n",
              "  </tbody>\n",
              "</table>\n",
              "<p>203521 rows × 6 columns</p>\n",
              "</div>\n",
              "      <button class=\"colab-df-convert\" onclick=\"convertToInteractive('df-3be8d739-665a-48ff-9cf2-c8ba5be31872')\"\n",
              "              title=\"Convert this dataframe to an interactive table.\"\n",
              "              style=\"display:none;\">\n",
              "        \n",
              "  <svg xmlns=\"http://www.w3.org/2000/svg\" height=\"24px\"viewBox=\"0 0 24 24\"\n",
              "       width=\"24px\">\n",
              "    <path d=\"M0 0h24v24H0V0z\" fill=\"none\"/>\n",
              "    <path d=\"M18.56 5.44l.94 2.06.94-2.06 2.06-.94-2.06-.94-.94-2.06-.94 2.06-2.06.94zm-11 1L8.5 8.5l.94-2.06 2.06-.94-2.06-.94L8.5 2.5l-.94 2.06-2.06.94zm10 10l.94 2.06.94-2.06 2.06-.94-2.06-.94-.94-2.06-.94 2.06-2.06.94z\"/><path d=\"M17.41 7.96l-1.37-1.37c-.4-.4-.92-.59-1.43-.59-.52 0-1.04.2-1.43.59L10.3 9.45l-7.72 7.72c-.78.78-.78 2.05 0 2.83L4 21.41c.39.39.9.59 1.41.59.51 0 1.02-.2 1.41-.59l7.78-7.78 2.81-2.81c.8-.78.8-2.07 0-2.86zM5.41 20L4 18.59l7.72-7.72 1.47 1.35L5.41 20z\"/>\n",
              "  </svg>\n",
              "      </button>\n",
              "      \n",
              "  <style>\n",
              "    .colab-df-container {\n",
              "      display:flex;\n",
              "      flex-wrap:wrap;\n",
              "      gap: 12px;\n",
              "    }\n",
              "\n",
              "    .colab-df-convert {\n",
              "      background-color: #E8F0FE;\n",
              "      border: none;\n",
              "      border-radius: 50%;\n",
              "      cursor: pointer;\n",
              "      display: none;\n",
              "      fill: #1967D2;\n",
              "      height: 32px;\n",
              "      padding: 0 0 0 0;\n",
              "      width: 32px;\n",
              "    }\n",
              "\n",
              "    .colab-df-convert:hover {\n",
              "      background-color: #E2EBFA;\n",
              "      box-shadow: 0px 1px 2px rgba(60, 64, 67, 0.3), 0px 1px 3px 1px rgba(60, 64, 67, 0.15);\n",
              "      fill: #174EA6;\n",
              "    }\n",
              "\n",
              "    [theme=dark] .colab-df-convert {\n",
              "      background-color: #3B4455;\n",
              "      fill: #D2E3FC;\n",
              "    }\n",
              "\n",
              "    [theme=dark] .colab-df-convert:hover {\n",
              "      background-color: #434B5C;\n",
              "      box-shadow: 0px 1px 3px 1px rgba(0, 0, 0, 0.15);\n",
              "      filter: drop-shadow(0px 1px 2px rgba(0, 0, 0, 0.3));\n",
              "      fill: #FFFFFF;\n",
              "    }\n",
              "  </style>\n",
              "\n",
              "      <script>\n",
              "        const buttonEl =\n",
              "          document.querySelector('#df-3be8d739-665a-48ff-9cf2-c8ba5be31872 button.colab-df-convert');\n",
              "        buttonEl.style.display =\n",
              "          google.colab.kernel.accessAllowed ? 'block' : 'none';\n",
              "\n",
              "        async function convertToInteractive(key) {\n",
              "          const element = document.querySelector('#df-3be8d739-665a-48ff-9cf2-c8ba5be31872');\n",
              "          const dataTable =\n",
              "            await google.colab.kernel.invokeFunction('convertToInteractive',\n",
              "                                                     [key], {});\n",
              "          if (!dataTable) return;\n",
              "\n",
              "          const docLinkHtml = 'Like what you see? Visit the ' +\n",
              "            '<a target=\"_blank\" href=https://colab.research.google.com/notebooks/data_table.ipynb>data table notebook</a>'\n",
              "            + ' to learn more about interactive tables.';\n",
              "          element.innerHTML = '';\n",
              "          dataTable['output_type'] = 'display_data';\n",
              "          await google.colab.output.renderOutput(dataTable, element);\n",
              "          const docLink = document.createElement('div');\n",
              "          docLink.innerHTML = docLinkHtml;\n",
              "          element.appendChild(docLink);\n",
              "        }\n",
              "      </script>\n",
              "    </div>\n",
              "  </div>\n",
              "  "
            ]
          },
          "metadata": {},
          "execution_count": 36
        }
      ]
    },
    {
      "cell_type": "code",
      "source": [
        "notholiday_data = data7[~data7['de_dt'].isin(holidays)]\n",
        "notholiday_data"
      ],
      "metadata": {
        "colab": {
          "base_uri": "https://localhost:8080/",
          "height": 424
        },
        "id": "ofNUI7--CW7G",
        "outputId": "ccf03374-2adc-48a1-b574-5edb87e8d57b"
      },
      "execution_count": null,
      "outputs": [
        {
          "output_type": "execute_result",
          "data": {
            "text/plain": [
              "               cust ma_fem_dv ages     de_dt   buy_am clac_hlv_nm\n",
              "0        M000034966        여성  40대  20210328  59800.0        여성의류\n",
              "1        M000034966        여성  40대  20210328  22800.0        여성의류\n",
              "2        M000034966        여성  40대  20210629  65700.0        여성의류\n",
              "3        M000034966        여성  40대  20210116    100.0       스포츠패션\n",
              "4        M000034966        여성  40대  20210116  59000.0       스포츠패션\n",
              "...             ...       ...  ...       ...      ...         ...\n",
              "4381738  M999962961        여성  50대  20210906  11900.0        냉장식품\n",
              "4381739  M999962961        여성  50대  20211230   8000.0    여행/레저서비스\n",
              "4381740  M999962961        여성  50대  20210310  10990.0        냉동식품\n",
              "4381741  M999962961        여성  50대  20210226   6990.0        냉장식품\n",
              "4381742  M999962961        여성  50대  20210714   3990.0         수산물\n",
              "\n",
              "[4178222 rows x 6 columns]"
            ],
            "text/html": [
              "\n",
              "  <div id=\"df-463ba45b-0147-4a72-a626-bea116f260cf\">\n",
              "    <div class=\"colab-df-container\">\n",
              "      <div>\n",
              "<style scoped>\n",
              "    .dataframe tbody tr th:only-of-type {\n",
              "        vertical-align: middle;\n",
              "    }\n",
              "\n",
              "    .dataframe tbody tr th {\n",
              "        vertical-align: top;\n",
              "    }\n",
              "\n",
              "    .dataframe thead th {\n",
              "        text-align: right;\n",
              "    }\n",
              "</style>\n",
              "<table border=\"1\" class=\"dataframe\">\n",
              "  <thead>\n",
              "    <tr style=\"text-align: right;\">\n",
              "      <th></th>\n",
              "      <th>cust</th>\n",
              "      <th>ma_fem_dv</th>\n",
              "      <th>ages</th>\n",
              "      <th>de_dt</th>\n",
              "      <th>buy_am</th>\n",
              "      <th>clac_hlv_nm</th>\n",
              "    </tr>\n",
              "  </thead>\n",
              "  <tbody>\n",
              "    <tr>\n",
              "      <th>0</th>\n",
              "      <td>M000034966</td>\n",
              "      <td>여성</td>\n",
              "      <td>40대</td>\n",
              "      <td>20210328</td>\n",
              "      <td>59800.0</td>\n",
              "      <td>여성의류</td>\n",
              "    </tr>\n",
              "    <tr>\n",
              "      <th>1</th>\n",
              "      <td>M000034966</td>\n",
              "      <td>여성</td>\n",
              "      <td>40대</td>\n",
              "      <td>20210328</td>\n",
              "      <td>22800.0</td>\n",
              "      <td>여성의류</td>\n",
              "    </tr>\n",
              "    <tr>\n",
              "      <th>2</th>\n",
              "      <td>M000034966</td>\n",
              "      <td>여성</td>\n",
              "      <td>40대</td>\n",
              "      <td>20210629</td>\n",
              "      <td>65700.0</td>\n",
              "      <td>여성의류</td>\n",
              "    </tr>\n",
              "    <tr>\n",
              "      <th>3</th>\n",
              "      <td>M000034966</td>\n",
              "      <td>여성</td>\n",
              "      <td>40대</td>\n",
              "      <td>20210116</td>\n",
              "      <td>100.0</td>\n",
              "      <td>스포츠패션</td>\n",
              "    </tr>\n",
              "    <tr>\n",
              "      <th>4</th>\n",
              "      <td>M000034966</td>\n",
              "      <td>여성</td>\n",
              "      <td>40대</td>\n",
              "      <td>20210116</td>\n",
              "      <td>59000.0</td>\n",
              "      <td>스포츠패션</td>\n",
              "    </tr>\n",
              "    <tr>\n",
              "      <th>...</th>\n",
              "      <td>...</td>\n",
              "      <td>...</td>\n",
              "      <td>...</td>\n",
              "      <td>...</td>\n",
              "      <td>...</td>\n",
              "      <td>...</td>\n",
              "    </tr>\n",
              "    <tr>\n",
              "      <th>4381738</th>\n",
              "      <td>M999962961</td>\n",
              "      <td>여성</td>\n",
              "      <td>50대</td>\n",
              "      <td>20210906</td>\n",
              "      <td>11900.0</td>\n",
              "      <td>냉장식품</td>\n",
              "    </tr>\n",
              "    <tr>\n",
              "      <th>4381739</th>\n",
              "      <td>M999962961</td>\n",
              "      <td>여성</td>\n",
              "      <td>50대</td>\n",
              "      <td>20211230</td>\n",
              "      <td>8000.0</td>\n",
              "      <td>여행/레저서비스</td>\n",
              "    </tr>\n",
              "    <tr>\n",
              "      <th>4381740</th>\n",
              "      <td>M999962961</td>\n",
              "      <td>여성</td>\n",
              "      <td>50대</td>\n",
              "      <td>20210310</td>\n",
              "      <td>10990.0</td>\n",
              "      <td>냉동식품</td>\n",
              "    </tr>\n",
              "    <tr>\n",
              "      <th>4381741</th>\n",
              "      <td>M999962961</td>\n",
              "      <td>여성</td>\n",
              "      <td>50대</td>\n",
              "      <td>20210226</td>\n",
              "      <td>6990.0</td>\n",
              "      <td>냉장식품</td>\n",
              "    </tr>\n",
              "    <tr>\n",
              "      <th>4381742</th>\n",
              "      <td>M999962961</td>\n",
              "      <td>여성</td>\n",
              "      <td>50대</td>\n",
              "      <td>20210714</td>\n",
              "      <td>3990.0</td>\n",
              "      <td>수산물</td>\n",
              "    </tr>\n",
              "  </tbody>\n",
              "</table>\n",
              "<p>4178222 rows × 6 columns</p>\n",
              "</div>\n",
              "      <button class=\"colab-df-convert\" onclick=\"convertToInteractive('df-463ba45b-0147-4a72-a626-bea116f260cf')\"\n",
              "              title=\"Convert this dataframe to an interactive table.\"\n",
              "              style=\"display:none;\">\n",
              "        \n",
              "  <svg xmlns=\"http://www.w3.org/2000/svg\" height=\"24px\"viewBox=\"0 0 24 24\"\n",
              "       width=\"24px\">\n",
              "    <path d=\"M0 0h24v24H0V0z\" fill=\"none\"/>\n",
              "    <path d=\"M18.56 5.44l.94 2.06.94-2.06 2.06-.94-2.06-.94-.94-2.06-.94 2.06-2.06.94zm-11 1L8.5 8.5l.94-2.06 2.06-.94-2.06-.94L8.5 2.5l-.94 2.06-2.06.94zm10 10l.94 2.06.94-2.06 2.06-.94-2.06-.94-.94-2.06-.94 2.06-2.06.94z\"/><path d=\"M17.41 7.96l-1.37-1.37c-.4-.4-.92-.59-1.43-.59-.52 0-1.04.2-1.43.59L10.3 9.45l-7.72 7.72c-.78.78-.78 2.05 0 2.83L4 21.41c.39.39.9.59 1.41.59.51 0 1.02-.2 1.41-.59l7.78-7.78 2.81-2.81c.8-.78.8-2.07 0-2.86zM5.41 20L4 18.59l7.72-7.72 1.47 1.35L5.41 20z\"/>\n",
              "  </svg>\n",
              "      </button>\n",
              "      \n",
              "  <style>\n",
              "    .colab-df-container {\n",
              "      display:flex;\n",
              "      flex-wrap:wrap;\n",
              "      gap: 12px;\n",
              "    }\n",
              "\n",
              "    .colab-df-convert {\n",
              "      background-color: #E8F0FE;\n",
              "      border: none;\n",
              "      border-radius: 50%;\n",
              "      cursor: pointer;\n",
              "      display: none;\n",
              "      fill: #1967D2;\n",
              "      height: 32px;\n",
              "      padding: 0 0 0 0;\n",
              "      width: 32px;\n",
              "    }\n",
              "\n",
              "    .colab-df-convert:hover {\n",
              "      background-color: #E2EBFA;\n",
              "      box-shadow: 0px 1px 2px rgba(60, 64, 67, 0.3), 0px 1px 3px 1px rgba(60, 64, 67, 0.15);\n",
              "      fill: #174EA6;\n",
              "    }\n",
              "\n",
              "    [theme=dark] .colab-df-convert {\n",
              "      background-color: #3B4455;\n",
              "      fill: #D2E3FC;\n",
              "    }\n",
              "\n",
              "    [theme=dark] .colab-df-convert:hover {\n",
              "      background-color: #434B5C;\n",
              "      box-shadow: 0px 1px 3px 1px rgba(0, 0, 0, 0.15);\n",
              "      filter: drop-shadow(0px 1px 2px rgba(0, 0, 0, 0.3));\n",
              "      fill: #FFFFFF;\n",
              "    }\n",
              "  </style>\n",
              "\n",
              "      <script>\n",
              "        const buttonEl =\n",
              "          document.querySelector('#df-463ba45b-0147-4a72-a626-bea116f260cf button.colab-df-convert');\n",
              "        buttonEl.style.display =\n",
              "          google.colab.kernel.accessAllowed ? 'block' : 'none';\n",
              "\n",
              "        async function convertToInteractive(key) {\n",
              "          const element = document.querySelector('#df-463ba45b-0147-4a72-a626-bea116f260cf');\n",
              "          const dataTable =\n",
              "            await google.colab.kernel.invokeFunction('convertToInteractive',\n",
              "                                                     [key], {});\n",
              "          if (!dataTable) return;\n",
              "\n",
              "          const docLinkHtml = 'Like what you see? Visit the ' +\n",
              "            '<a target=\"_blank\" href=https://colab.research.google.com/notebooks/data_table.ipynb>data table notebook</a>'\n",
              "            + ' to learn more about interactive tables.';\n",
              "          element.innerHTML = '';\n",
              "          dataTable['output_type'] = 'display_data';\n",
              "          await google.colab.output.renderOutput(dataTable, element);\n",
              "          const docLink = document.createElement('div');\n",
              "          docLink.innerHTML = docLinkHtml;\n",
              "          element.appendChild(docLink);\n",
              "        }\n",
              "      </script>\n",
              "    </div>\n",
              "  </div>\n",
              "  "
            ]
          },
          "metadata": {},
          "execution_count": 37
        }
      ]
    },
    {
      "cell_type": "code",
      "source": [
        "notholiday_data['clac_hlv_nm'].value_counts()[15:25]"
      ],
      "metadata": {
        "colab": {
          "base_uri": "https://localhost:8080/"
        },
        "id": "5ZYw9fduHvXn",
        "outputId": "e65c5e96-6d5b-413a-afee-e083b70a9d10"
      },
      "execution_count": null,
      "outputs": [
        {
          "output_type": "execute_result",
          "data": {
            "text/plain": [
              "문구/사무용품    72633\n",
              "여성의류       70973\n",
              "남성의류       64922\n",
              "주방잡화       58451\n",
              "세제/위생      58083\n",
              "스포츠패션      57622\n",
              "패션잡화       53154\n",
              "퍼스널케어      52362\n",
              "건해산물       49797\n",
              "기타(비상품)    43117\n",
              "Name: clac_hlv_nm, dtype: int64"
            ]
          },
          "metadata": {},
          "execution_count": 29
        }
      ]
    },
    {
      "cell_type": "code",
      "source": [
        "holiday_data['clac_hlv_nm'].value_counts()[15:25]"
      ],
      "metadata": {
        "colab": {
          "base_uri": "https://localhost:8080/"
        },
        "id": "5-ZiggM5ICaI",
        "outputId": "df3bf3b4-49bb-4523-c184-9c88d125193c"
      },
      "execution_count": null,
      "outputs": [
        {
          "output_type": "execute_result",
          "data": {
            "text/plain": [
              "완구         3808\n",
              "수산물        3755\n",
              "남성의류       3654\n",
              "스포츠패션      3628\n",
              "여성의류       3596\n",
              "세제/위생      2922\n",
              "패션잡화       2884\n",
              "주방잡화       2864\n",
              "기타(비상품)    2685\n",
              "퍼스널케어      2642\n",
              "Name: clac_hlv_nm, dtype: int64"
            ]
          },
          "metadata": {},
          "execution_count": 30
        }
      ]
    },
    {
      "cell_type": "markdown",
      "source": [
        "공휴일과 아닌 날의 품목을 계산해본 결과 공휴일과 아닌 날의 품목의 차이는 1~15위 까지의 품목은 동일했고 나머지 15부터도 순서만 다를뿐 품목의 큰 차이는 없었다. "
      ],
      "metadata": {
        "id": "Zd01dOgMIuIQ"
      }
    },
    {
      "cell_type": "code",
      "source": [
        "holiday_data.groupby('cust')['buy_am'].sum().mean()"
      ],
      "metadata": {
        "colab": {
          "base_uri": "https://localhost:8080/"
        },
        "id": "-QZojHM2LeLa",
        "outputId": "84968602-7293-4f67-8200-0453104f1b0b"
      },
      "execution_count": null,
      "outputs": [
        {
          "output_type": "execute_result",
          "data": {
            "text/plain": [
              "316052.61817014444"
            ]
          },
          "metadata": {},
          "execution_count": 49
        }
      ]
    },
    {
      "cell_type": "code",
      "source": [
        "notholiday_data.groupby('cust')['buy_am'].sum().mean()*len(holidays)/365"
      ],
      "metadata": {
        "colab": {
          "base_uri": "https://localhost:8080/"
        },
        "id": "i6VJEerCLh8p",
        "outputId": "7e564cc9-52bf-4644-c6d1-c2939c6e5456"
      },
      "execution_count": null,
      "outputs": [
        {
          "output_type": "execute_result",
          "data": {
            "text/plain": [
              "148407.7372098586"
            ]
          },
          "metadata": {},
          "execution_count": 53
        }
      ]
    },
    {
      "cell_type": "markdown",
      "source": [
        "공휴일로 지정된 날이 15일이기 때문에 정확한 계산을 위해 공휴일이아닌 날 합계에 15/365를 해주었다. 비율상 공휴일에 공휴일이  아닌 날의 두배 이상의 금액을 이용한 것을 볼 수 있다.  "
      ],
      "metadata": {
        "id": "qT7AStP7LsNO"
      }
    },
    {
      "cell_type": "code",
      "source": [
        "holiday_data['personal'] = holiday_data['ma_fem_dv']+holiday_data['ages']\n",
        "holiday_data.groupby('personal').size()"
      ],
      "metadata": {
        "colab": {
          "base_uri": "https://localhost:8080/"
        },
        "id": "mCqgS8gdgA5_",
        "outputId": "f2d9a986-7397-4881-934a-4ca52d177bc4"
      },
      "execution_count": null,
      "outputs": [
        {
          "output_type": "execute_result",
          "data": {
            "text/plain": [
              "personal\n",
              "남성20대     3608\n",
              "남성30대    14440\n",
              "남성40대    28530\n",
              "남성50대    13009\n",
              "남성60대     2813\n",
              "남성70대     1061\n",
              "여성20대     7850\n",
              "여성30대    34365\n",
              "여성40대    60310\n",
              "여성50대    28227\n",
              "여성60대     7370\n",
              "여성70대     1938\n",
              "dtype: int64"
            ]
          },
          "metadata": {},
          "execution_count": 46
        }
      ]
    },
    {
      "cell_type": "code",
      "source": [
        "notholiday_data = data7[~data7['de_dt'].isin(holidays)]\n",
        "notholiday_data['personal'] = notholiday_data['ma_fem_dv']+notholiday_data['ages']\n",
        "notholiday_data.groupby('personal').size()"
      ],
      "metadata": {
        "colab": {
          "base_uri": "https://localhost:8080/"
        },
        "id": "Y9DU96hbdv_3",
        "outputId": "59f56ac7-147c-4c8a-9cdb-b4ec9b2966b5"
      },
      "execution_count": null,
      "outputs": [
        {
          "output_type": "stream",
          "name": "stderr",
          "text": [
            "/usr/local/lib/python3.7/dist-packages/ipykernel_launcher.py:2: SettingWithCopyWarning: \n",
            "A value is trying to be set on a copy of a slice from a DataFrame.\n",
            "Try using .loc[row_indexer,col_indexer] = value instead\n",
            "\n",
            "See the caveats in the documentation: https://pandas.pydata.org/pandas-docs/stable/user_guide/indexing.html#returning-a-view-versus-a-copy\n",
            "  \n"
          ]
        },
        {
          "output_type": "execute_result",
          "data": {
            "text/plain": [
              "personal\n",
              "남성20대      73791\n",
              "남성30대     294539\n",
              "남성40대     507252\n",
              "남성50대     237486\n",
              "남성60대      64553\n",
              "남성70대      27032\n",
              "여성20대     166930\n",
              "여성30대     681477\n",
              "여성40대    1241610\n",
              "여성50대     630499\n",
              "여성60대     194580\n",
              "여성70대      58473\n",
              "dtype: int64"
            ]
          },
          "metadata": {},
          "execution_count": 60
        }
      ]
    },
    {
      "cell_type": "code",
      "source": [
        "holidaylist = holiday_data.groupby('personal').size()\n",
        "notholidaylist = notholiday_data.groupby('personal').size()"
      ],
      "metadata": {
        "id": "DblgazX7eTtW"
      },
      "execution_count": null,
      "outputs": []
    },
    {
      "cell_type": "code",
      "source": [
        "notholidaylist = notholidaylist*15/365"
      ],
      "metadata": {
        "id": "qtu8kPE2f4ut"
      },
      "execution_count": null,
      "outputs": []
    },
    {
      "cell_type": "code",
      "source": [
        "(holidaylist/(holidaylist + notholidaylist)).plot(kind='barh')"
      ],
      "metadata": {
        "colab": {
          "base_uri": "https://localhost:8080/",
          "height": 283
        },
        "id": "UntHHzIfg_8f",
        "outputId": "2c10c94b-ac2b-46c9-bb63-58beeebc2477"
      },
      "execution_count": null,
      "outputs": [
        {
          "output_type": "execute_result",
          "data": {
            "text/plain": [
              "<matplotlib.axes._subplots.AxesSubplot at 0x7f7301064710>"
            ]
          },
          "metadata": {},
          "execution_count": 58
        },
        {
          "output_type": "display_data",
          "data": {
            "text/plain": [
              "<Figure size 432x288 with 1 Axes>"
            ],
            "image/png": "[encoded data removed]"
          },
          "metadata": {
            "needs_background": "light"
          }
        }
      ]
    },
    {
      "cell_type": "markdown",
      "source": [
        "여성 70대의 휴일날 이용 비율이 제일 낮았고 남성 40대가 제일 높았다. "
      ],
      "metadata": {
        "id": "dFV1lz7gjFj5"
      }
    },
    {
      "cell_type": "markdown",
      "source": [
        "# 기타 정보"
      ],
      "metadata": {
        "id": "5W7wzeFP2hCX"
      }
    },
    {
      "cell_type": "code",
      "source": [
        "# 히스토그램 예시\n",
        "from matplotlib import font_manager, rc\n",
        "import matplotlib.pyplot as plt\n",
        "\n",
        "plt.rc('font', family='NanumBarunGothic') \n",
        "plt.title(\"Histogram\", fontsize=15)\n",
        "frq, bins, fig = plt.hist(data1[\"ages\"], bins=10, alpha=.8, color='grey')\n",
        "plt.ylabel(\"counts\", fontsize=13)\n",
        "plt.xlabel(\"ages\", fontsize=13)\n",
        "plt.grid()\n",
        "plt.show()\n",
        "print(\"*빈도 array :\", frq)\n",
        "print(\"*구간 array :\", bins)"
      ],
      "metadata": {
        "colab": {
          "base_uri": "https://localhost:8080/",
          "height": 338
        },
        "id": "yPWQpsS6MeE7",
        "outputId": "38818d28-cf34-4560-d15b-4c9a2a6101a4"
      },
      "execution_count": null,
      "outputs": [
        {
          "output_type": "display_data",
          "data": {
            "text/plain": [
              "<Figure size 432x288 with 1 Axes>"
            ],
            "image/png": "[encoded data removed]"
          },
          "metadata": {
            "needs_background": "light"
          }
        },
        {
          "output_type": "stream",
          "name": "stdout",
          "text": [
            "*빈도 array : [9863.    0. 7736.    0. 5633.    0. 2115.    0. 3853.  713.]\n",
            "*구간 array : [0.  0.5 1.  1.5 2.  2.5 3.  3.5 4.  4.5 5. ]\n"
          ]
        }
      ]
    },
    {
      "cell_type": "markdown",
      "source": [
        "# EDA 후 문제 제기\n"
      ],
      "metadata": {
        "id": "nB8_WOLoac4x"
      }
    },
    {
      "cell_type": "code",
      "source": [
        "from matplotlib import font_manager, rc\n",
        "import matplotlib.pyplot as plt\n",
        "plt.rc('font', family='NanumBarunGothic')\n",
        "stacked_bar_df.plot.bar(rot = 0, figsize = (10,3))\n"
      ],
      "metadata": {
        "colab": {
          "base_uri": "https://localhost:8080/",
          "height": 253
        },
        "outputId": "781e4d22-7528-46ad-c4d2-f4982d908842",
        "id": "6M_IGIXyarDF"
      },
      "execution_count": null,
      "outputs": [
        {
          "output_type": "execute_result",
          "data": {
            "text/plain": [
              "<matplotlib.axes._subplots.AxesSubplot at 0x7f7300eeeb50>"
            ]
          },
          "metadata": {},
          "execution_count": 11
        },
        {
          "output_type": "display_data",
          "data": {
            "text/plain": [
              "<Figure size 720x216 with 1 Axes>"
            ],
            "image/png": "[encoded data removed]"
          },
          "metadata": {
            "needs_background": "light"
          }
        }
      ]
    },
    {
      "cell_type": "markdown",
      "source": [
        "주어진 데이터는 롯데 맴버스에 가입 후, 구매한 제품들의 정보와 해당 제품의 구매자들 성별 및 나이를 알 수 있다. \n",
        "위의 그래프에서 볼 수 있듯이, 롯데 맴버스에 가입한 후, 이를 이용해서 구매하는 사람들은 성별과 나이에 따라서 상당히 기형적인 그래프를 보여주고 있다.\n",
        "특히, 여성 40대의 구매 수가 상당히 높은 것에 비해, 여성 70대와 남성 70대의 경우 여성 40대에 비해 10%조차 되지 않는다. \n",
        "하지만 상식상 일반적으로 상품을 구매하는 사람들의 나이 비율은 이보다 훨씬 높다. \n",
        "즉, 남성 60대,남성 70대,여성 70대등은 롯데 맴버스의 가입을 하지 않고 서비스를 이용하는 비율이 상당히 높다고 볼 수 있다. "
      ],
      "metadata": {
        "id": "dLce5Tp9cMbd"
      }
    },
    {
      "cell_type": "code",
      "source": [
        "merge_data3.groupby('personal').buy_am.mean().plot(kind='barh')"
      ],
      "metadata": {
        "colab": {
          "base_uri": "https://localhost:8080/",
          "height": 283
        },
        "outputId": "dabe3b12-6041-438b-95c2-20665afa999a",
        "id": "yDhxvgM5bBrs"
      },
      "execution_count": null,
      "outputs": [
        {
          "output_type": "execute_result",
          "data": {
            "text/plain": [
              "<matplotlib.axes._subplots.AxesSubplot at 0x7f7300ed9390>"
            ]
          },
          "metadata": {},
          "execution_count": 16
        },
        {
          "output_type": "display_data",
          "data": {
            "text/plain": [
              "<Figure size 432x288 with 1 Axes>"
            ],
            "image/png": "[encoded data removed]"
          },
          "metadata": {
            "needs_background": "light"
          }
        }
      ]
    },
    {
      "cell_type": "markdown",
      "source": [
        "위의 소수 인원에도 불구하고, 1인당 구매금액 평균 금액은 여성 70대가 상대적으로 상위권에 위치하고 있고 남성 60대와 여성 60대가 1,2위를 차지하고 있다. \n",
        "결론적으로 롯데 맴버스에 가입한 시니어층은 상대적으로 숫자가 상당히 작지만 그들의 구매 활동은 상당히 활발하다. \n",
        "이러한, 시니어층(남성 60대, 여성 60대, 여성 70대)의 롯데 맴버스에 가입과 엘페이 사용 장려를 한다면, 시니어층 소비를 더욱 촉진시켜 매출 상승에 긍정적인 영향을 줄 것이다.\n",
        "\n",
        "\"액티브 시니어\"라는 말이 있을 만큼, 현재 시니어층에서는 구매 및 여가 활동의 수가 최근 들어 상당히 늘어나고 있다. 앞으로 사회가 고령화가 되는 만큼 지금의 시니어 고객층을 사로잡아 해당 데이터를 기반으로 다음 세대의 시니어층에 대한 효과적인 마케팅 또한 기대할 수 있을 것이다."
      ],
      "metadata": {
        "id": "lzz1DkG_nRY7"
      }
    },
    {
      "cell_type": "code",
      "source": [
        "import matplotlib.pyplot as plt\n",
        "#남성 엘페이 사용 경험 유무 비율\n",
        "lpay_m2p = lpay_customer_m2['is_lpay'].value_counts()[1]/len(lpay_customer_m2['is_lpay']) \n",
        "lpay_m3p = lpay_customer_m3['is_lpay'].value_counts()[1]/len(lpay_customer_m3['is_lpay'])\n",
        "lpay_m4p = lpay_customer_m4['is_lpay'].value_counts()[1]/len(lpay_customer_m4['is_lpay'])\n",
        "lpay_m5p = lpay_customer_m5['is_lpay'].value_counts()[1]/len(lpay_customer_m5['is_lpay'])\n",
        "lpay_m6p = lpay_customer_m6['is_lpay'].value_counts()[1]/len(lpay_customer_m6['is_lpay'])\n",
        "lpay_m7p = lpay_customer_m7['is_lpay'].value_counts()[1]/len(lpay_customer_m7['is_lpay'])\n",
        "\n",
        "m_list = [20,30,40,50,60,70]\n",
        "lpay_m_list = [lpay_m2p, lpay_m3p, lpay_m4p, lpay_m5p, lpay_m6p, lpay_m7p]\n",
        "\n",
        "plt.bar(m_list, lpay_m_list, color = 'green', alpha = 1)\n",
        "\n",
        "plt.show()\n",
        "\n",
        "#lpay를 할 확률 "
      ],
      "metadata": {
        "colab": {
          "base_uri": "https://localhost:8080/",
          "height": 267
        },
        "outputId": "80a7d776-cf6b-4a8c-919a-90074c2a261b",
        "id": "mivDPfRepuBO"
      },
      "execution_count": null,
      "outputs": [
        {
          "output_type": "display_data",
          "data": {
            "text/plain": [
              "<Figure size 432x288 with 1 Axes>"
            ],
            "image/png": "[encoded data removed]"
          },
          "metadata": {
            "needs_background": "light"
          }
        }
      ]
    },
    {
      "cell_type": "code",
      "source": [
        "#여성 엘페이 사용 경험 유무 비율\n",
        "lpay_f2p = lpay_customer_f2['is_lpay'].value_counts()[1]/len(lpay_customer_f2['is_lpay'])\n",
        "lpay_f3p = lpay_customer_f3['is_lpay'].value_counts()[1]/len(lpay_customer_f3['is_lpay'])\n",
        "lpay_f4p = lpay_customer_f4['is_lpay'].value_counts()[1]/len(lpay_customer_f4['is_lpay'])\n",
        "lpay_f5p = lpay_customer_f5['is_lpay'].value_counts()[1]/len(lpay_customer_f5['is_lpay'])\n",
        "lpay_f6p = lpay_customer_f6['is_lpay'].value_counts()[1]/len(lpay_customer_f6['is_lpay'])\n",
        "lpay_f7p = lpay_customer_f7['is_lpay'].value_counts()[1]/len(lpay_customer_f7['is_lpay'])\n",
        "\n",
        "f_list = [20,30,40,50,60,70]\n",
        "lpay_f_list = [lpay_f2p, lpay_f3p, lpay_f4p, lpay_f5p, lpay_f6p, lpay_f7p]\n",
        "plt.bar(f_list, lpay_f_list, color = 'green', alpha = 1)\n",
        "\n",
        "plt.show()"
      ],
      "metadata": {
        "colab": {
          "base_uri": "https://localhost:8080/",
          "height": 267
        },
        "outputId": "487c5e32-4bce-4ec6-8bef-69b23b9e3e89",
        "id": "G4vc-Clza4WT"
      },
      "execution_count": null,
      "outputs": [
        {
          "output_type": "display_data",
          "data": {
            "text/plain": [
              "<Figure size 432x288 with 1 Axes>"
            ],
            "image/png": "[encoded data removed]"
          },
          "metadata": {
            "needs_background": "light"
          }
        }
      ]
    },
    {
      "cell_type": "markdown",
      "source": [
        "위의 성별과 나이대별 엘페이 사용 경험 유무 비율에서 확인할 수 있듯이, 롯데 맴버스에 가입을 한 고객임에도 불구하고 그 안에서 엘페이 관련 사용 또한, 시니어층(60대,70대)와 시니어층이 아닌 사람들의 차이가 상당히 나는 것을 확인할 수 있다."
      ],
      "metadata": {
        "id": "zB-pgPQfqtSd"
      }
    },
    {
      "cell_type": "code",
      "source": [
        "print(\"-----------------------------------------------------------------------------------------------------------------------------------\")\n",
        "print(\"남자 20대\",showpd(male_20))\n",
        "print(\"남자 30대\",showpd(male_30))\n",
        "print(\"남자 40대\",showpd(male_40))\n",
        "print(\"남자 50대\",showpd(male_50))\n",
        "print(\"남자 60대\",showpd(male_60))\n",
        "print(\"남자 70대\",showpd(male_70))\n",
        "print(\"-----------------------------------------------------------------------------------------------------------------------------------\")\n",
        "print(\"여자 20대\",showpd(female_20))\n",
        "print(\"여자 30대\",showpd(female_30))\n",
        "print(\"여자 40대\",showpd(female_40))\n",
        "print(\"여자 50대\",showpd(female_50))\n",
        "print(\"여자 60대\",showpd(female_60))\n",
        "print(\"여자 70대\",showpd(female_70))"
      ],
      "metadata": {
        "colab": {
          "base_uri": "https://localhost:8080/"
        },
        "outputId": "14ad5158-1818-47f7-91b7-8b089234ef77",
        "id": "FanwtL-fcc6t"
      },
      "execution_count": null,
      "outputs": [
        {
          "output_type": "stream",
          "name": "stdout",
          "text": [
            "-----------------------------------------------------------------------------------------------------------------------------------\n",
            "남자 20대 [('패션잡화', 85), ('축산물', 76), ('수산물', 69), ('채소', 60), ('과일', 53), ('조미료', 47), ('문구/사무용품', 46), ('스포츠패션', 45), ('퍼스널케어', 37), ('화장품/뷰티케어', 37), ('과자', 36), ('조리식품', 36), ('속옷/양말/홈웨어', 36), ('식기/조리기구', 33), ('냉장식품', 31), ('주방잡화', 31), ('생활/주방가전', 29), ('대용식', 28), ('청소/세탁/욕실용품', 26), ('완구', 26), ('건해산물', 26), ('세제/위생', 25), ('음료', 23), ('남성의류', 23), ('자동차용품', 23), ('주류', 22), ('테넌트/음식점', 21), ('여성의류', 21), ('원예/애완', 21), ('건강식품', 21), ('유아동의류', 21), ('침구/수예', 20), ('냉동식품', 19), ('건강용품', 19), ('커피/차', 18), ('인테리어/조명', 15), ('컴퓨터', 14), ('병통조림', 13), ('양곡', 13), ('출산/육아용품', 13), ('구기/필드스포츠', 13), ('공구/안전용품', 12), ('아웃도어/레저', 12), ('가구', 12), ('영상/음향가전', 11), ('유제품', 9), ('헬스/피트니스', 9), ('계절가전', 8), ('시즌스포츠', 8), ('담배', 6), ('생활/렌탈서비스', 6), ('상품권', 6), ('모바일', 6), ('유아식품', 4), ('냉장/세탁가전', 4), ('기타(비상품)', 3), ('서적/음반/악기', 3), ('여행/레저서비스', 1)]\n",
            "남자 30대 [('패션잡화', 117), ('축산물', 85), ('수산물', 81), ('스포츠패션', 73), ('채소', 69), ('유아동의류', 64), ('문구/사무용품', 61), ('과일', 56), ('속옷/양말/홈웨어', 50), ('조미료', 48), ('화장품/뷰티케어', 46), ('퍼스널케어', 38), ('조리식품', 37), ('과자', 36), ('원예/애완', 34), ('생활/주방가전', 34), ('식기/조리기구', 33), ('냉장식품', 32), ('주방잡화', 32), ('자동차용품', 32), ('건해산물', 30), ('완구', 30), ('청소/세탁/욕실용품', 28), ('대용식', 28), ('침구/수예', 28), ('세제/위생', 27), ('여성의류', 27), ('출산/육아용품', 27), ('건강식품', 27), ('남성의류', 25), ('아웃도어/레저', 25), ('음료', 24), ('구기/필드스포츠', 23), ('가구', 23), ('테넌트/음식점', 22), ('주류', 21), ('건강용품', 21), ('냉동식품', 19), ('커피/차', 19), ('인테리어/조명', 18), ('공구/안전용품', 15), ('시즌스포츠', 15), ('양곡', 14), ('컴퓨터', 14), ('영상/음향가전', 14), ('병통조림', 13), ('계절가전', 13), ('헬스/피트니스', 12), ('냉장/세탁가전', 10), ('유제품', 9), ('서적/음반/악기', 9), ('생활/렌탈서비스', 7), ('상품권', 7), ('담배', 6), ('모바일', 6), ('여행/레저서비스', 5), ('기타(비상품)', 4), ('유아식품', 4)]\n",
            "남자 40대 [('패션잡화', 119), ('축산물', 86), ('수산물', 85), ('채소', 70), ('스포츠패션', 70), ('문구/사무용품', 65), ('유아동의류', 64), ('과일', 57), ('속옷/양말/홈웨어', 50), ('조미료', 49), ('화장품/뷰티케어', 47), ('퍼스널케어', 39), ('조리식품', 38), ('생활/주방가전', 37), ('과자', 36), ('원예/애완', 36), ('자동차용품', 34), ('식기/조리기구', 34), ('냉장식품', 32), ('아웃도어/레저', 32), ('주방잡화', 31), ('청소/세탁/욕실용품', 30), ('완구', 30), ('침구/수예', 29), ('대용식', 28), ('여성의류', 28), ('건해산물', 28), ('건강식품', 28), ('구기/필드스포츠', 28), ('세제/위생', 27), ('출산/육아용품', 27), ('가구', 26), ('건강용품', 25), ('음료', 24), ('남성의류', 24), ('주류', 22), ('테넌트/음식점', 22), ('영상/음향가전', 21), ('냉동식품', 20), ('인테리어/조명', 20), ('커피/차', 19), ('시즌스포츠', 18), ('공구/안전용품', 15), ('계절가전', 15), ('병통조림', 14), ('양곡', 14), ('컴퓨터', 14), ('헬스/피트니스', 14), ('냉장/세탁가전', 12), ('서적/음반/악기', 11), ('생활/렌탈서비스', 10), ('유제품', 9), ('상품권', 9), ('담배', 6), ('여행/레저서비스', 6), ('모바일', 6), ('기타(비상품)', 5), ('유아식품', 4), ('기타상품', 1)]\n",
            "남자 50대 [('패션잡화', 104), ('축산물', 84), ('수산물', 84), ('채소', 70), ('스포츠패션', 67), ('과일', 57), ('문구/사무용품', 54), ('유아동의류', 52), ('조미료', 47), ('속옷/양말/홈웨어', 47), ('화장품/뷰티케어', 42), ('조리식품', 38), ('퍼스널케어', 37), ('과자', 36), ('냉장식품', 32), ('생활/주방가전', 32), ('주방잡화', 31), ('식기/조리기구', 31), ('건해산물', 29), ('자동차용품', 29), ('대용식', 28), ('원예/애완', 28), ('완구', 28), ('청소/세탁/욕실용품', 27), ('세제/위생', 27), ('건강식품', 27), ('침구/수예', 27), ('여성의류', 26), ('남성의류', 24), ('음료', 23), ('건강용품', 23), ('테넌트/음식점', 22), ('주류', 21), ('아웃도어/레저', 21), ('커피/차', 20), ('가구', 20), ('냉동식품', 19), ('인테리어/조명', 19), ('구기/필드스포츠', 18), ('출산/육아용품', 16), ('공구/안전용품', 15), ('병통조림', 14), ('양곡', 14), ('영상/음향가전', 14), ('컴퓨터', 14), ('계절가전', 11), ('헬스/피트니스', 10), ('시즌스포츠', 10), ('유제품', 9), ('냉장/세탁가전', 9), ('생활/렌탈서비스', 8), ('서적/음반/악기', 7), ('담배', 6), ('모바일', 6), ('상품권', 5), ('기타(비상품)', 4), ('유아식품', 4), ('여행/레저서비스', 3)]\n",
            "남자 60대 [('패션잡화', 85), ('축산물', 78), ('수산물', 70), ('채소', 69), ('과일', 53), ('스포츠패션', 50), ('조미료', 48), ('문구/사무용품', 42), ('유아동의류', 42), ('속옷/양말/홈웨어', 40), ('과자', 36), ('조리식품', 34), ('화장품/뷰티케어', 34), ('주방잡화', 31), ('냉장식품', 30), ('식기/조리기구', 30), ('대용식', 28), ('퍼스널케어', 28), ('청소/세탁/욕실용품', 27), ('세제/위생', 25), ('건해산물', 25), ('건강식품', 25), ('생활/주방가전', 25), ('완구', 25), ('자동차용품', 24), ('여성의류', 23), ('침구/수예', 23), ('음료', 22), ('남성의류', 22), ('테넌트/음식점', 22), ('주류', 21), ('원예/애완', 20), ('냉동식품', 19), ('커피/차', 18), ('건강용품', 15), ('출산/육아용품', 15), ('가구', 15), ('양곡', 13), ('공구/안전용품', 13), ('아웃도어/레저', 13), ('인테리어/조명', 13), ('컴퓨터', 13), ('병통조림', 12), ('구기/필드스포츠', 12), ('냉장/세탁가전', 10), ('시즌스포츠', 10), ('유제품', 9), ('헬스/피트니스', 7), ('계절가전', 7), ('영상/음향가전', 6), ('담배', 5), ('모바일', 5), ('유아식품', 4), ('서적/음반/악기', 4), ('기타(비상품)', 3), ('상품권', 3), ('생활/렌탈서비스', 3), ('여행/레저서비스', 2)]\n",
            "남자 70대 [('축산물', 67), ('채소', 64), ('수산물', 56), ('패션잡화', 53), ('과일', 47), ('조미료', 43), ('속옷/양말/홈웨어', 34), ('과자', 32), ('조리식품', 32), ('스포츠패션', 32), ('냉장식품', 30), ('문구/사무용품', 27), ('대용식', 26), ('건해산물', 26), ('화장품/뷰티케어', 26), ('퍼스널케어', 26), ('식기/조리기구', 26), ('주방잡화', 25), ('세제/위생', 23), ('음료', 20), ('남성의류', 20), ('청소/세탁/욕실용품', 19), ('냉동식품', 19), ('생활/주방가전', 19), ('주류', 18), ('테넌트/음식점', 17), ('커피/차', 17), ('여성의류', 17), ('유아동의류', 17), ('건강식품', 16), ('완구', 15), ('침구/수예', 14), ('원예/애완', 13), ('자동차용품', 13), ('양곡', 12), ('공구/안전용품', 12), ('출산/육아용품', 12), ('병통조림', 11), ('건강용품', 11), ('컴퓨터', 10), ('유제품', 9), ('가구', 9), ('인테리어/조명', 8), ('아웃도어/레저', 7), ('헬스/피트니스', 7), ('시즌스포츠', 6), ('영상/음향가전', 6), ('구기/필드스포츠', 5), ('냉장/세탁가전', 5), ('담배', 4), ('모바일', 4), ('서적/음반/악기', 4), ('상품권', 3), ('계절가전', 3), ('기타(비상품)', 2), ('유아식품', 2), ('생활/렌탈서비스', 2)]\n",
            "-----------------------------------------------------------------------------------------------------------------------------------\n",
            "여자 20대 [('패션잡화', 109), ('축산물', 81), ('수산물', 78), ('채소', 66), ('스포츠패션', 61), ('문구/사무용품', 57), ('과일', 56), ('유아동의류', 51), ('조미료', 48), ('화장품/뷰티케어', 45), ('속옷/양말/홈웨어', 42), ('조리식품', 37), ('퍼스널케어', 37), ('과자', 36), ('냉장식품', 32), ('주방잡화', 32), ('식기/조리기구', 32), ('생활/주방가전', 32), ('원예/애완', 31), ('완구', 31), ('청소/세탁/욕실용품', 29), ('건해산물', 29), ('대용식', 28), ('여성의류', 27), ('자동차용품', 27), ('세제/위생', 26), ('건강식품', 25), ('침구/수예', 25), ('남성의류', 24), ('음료', 23), ('테넌트/음식점', 22), ('주류', 21), ('출산/육아용품', 21), ('냉동식품', 20), ('커피/차', 20), ('건강용품', 18), ('가구', 17), ('인테리어/조명', 16), ('구기/필드스포츠', 15), ('아웃도어/레저', 14), ('공구/안전용품', 13), ('컴퓨터', 13), ('시즌스포츠', 13), ('병통조림', 12), ('양곡', 12), ('영상/음향가전', 12), ('유제품', 9), ('헬스/피트니스', 9), ('냉장/세탁가전', 9), ('계절가전', 9), ('담배', 6), ('생활/렌탈서비스', 6), ('상품권', 6), ('모바일', 6), ('서적/음반/악기', 6), ('기타(비상품)', 5), ('유아식품', 4), ('여행/레저서비스', 4)]\n",
            "여자 30대 [('패션잡화', 122), ('축산물', 88), ('수산물', 86), ('스포츠패션', 74), ('채소', 72), ('문구/사무용품', 67), ('유아동의류', 65), ('과일', 57), ('속옷/양말/홈웨어', 55), ('조미료', 49), ('화장품/뷰티케어', 48), ('조리식품', 38), ('퍼스널케어', 38), ('과자', 36), ('식기/조리기구', 36), ('생활/주방가전', 36), ('원예/애완', 34), ('침구/수예', 33), ('냉장식품', 32), ('주방잡화', 31), ('완구', 31), ('건강식품', 31), ('청소/세탁/욕실용품', 30), ('출산/육아용품', 30), ('가구', 30), ('건해산물', 29), ('대용식', 28), ('아웃도어/레저', 28), ('구기/필드스포츠', 28), ('여성의류', 27), ('세제/위생', 27), ('자동차용품', 26), ('남성의류', 25), ('음료', 24), ('건강용품', 24), ('주류', 22), ('테넌트/음식점', 22), ('시즌스포츠', 21), ('커피/차', 20), ('인테리어/조명', 20), ('냉동식품', 19), ('영상/음향가전', 18), ('병통조림', 14), ('공구/안전용품', 14), ('양곡', 14), ('계절가전', 14), ('서적/음반/악기', 13), ('컴퓨터', 13), ('헬스/피트니스', 12), ('냉장/세탁가전', 11), ('유제품', 9), ('상품권', 8), ('생활/렌탈서비스', 7), ('기타(비상품)', 6), ('담배', 6), ('여행/레저서비스', 6), ('모바일', 6), ('유아식품', 4)]\n",
            "여자 40대 [('패션잡화', 125), ('축산물', 88), ('수산물', 88), ('스포츠패션', 79), ('채소', 70), ('문구/사무용품', 68), ('유아동의류', 67), ('과일', 58), ('속옷/양말/홈웨어', 55), ('조미료', 51), ('화장품/뷰티케어', 50), ('생활/주방가전', 40), ('퍼스널케어', 39), ('조리식품', 38), ('과자', 36), ('식기/조리기구', 36), ('구기/필드스포츠', 36), ('침구/수예', 35), ('원예/애완', 34), ('냉장식품', 32), ('주방잡화', 32), ('완구', 31), ('건강식품', 31), ('자동차용품', 31), ('청소/세탁/욕실용품', 30), ('대용식', 29), ('여성의류', 29), ('건해산물', 29), ('아웃도어/레저', 29), ('세제/위생', 28), ('출산/육아용품', 27), ('가구', 26), ('남성의류', 25), ('음료', 24), ('건강용품', 24), ('주류', 22), ('테넌트/음식점', 22), ('인테리어/조명', 21), ('커피/차', 20), ('영상/음향가전', 20), ('시즌스포츠', 20), ('냉동식품', 19), ('양곡', 15), ('공구/안전용품', 15), ('서적/음반/악기', 15), ('계절가전', 15), ('병통조림', 14), ('헬스/피트니스', 14), ('컴퓨터', 14), ('냉장/세탁가전', 11), ('유제품', 9), ('상품권', 9), ('생활/렌탈서비스', 7), ('기타(비상품)', 6), ('담배', 6), ('여행/레저서비스', 6), ('모바일', 6), ('유아식품', 4), ('기타상품', 1), ('금융/보험서비스', 1)]\n",
            "여자 50대 [('패션잡화', 115), ('축산물', 87), ('수산물', 87), ('스포츠패션', 75), ('채소', 71), ('유아동의류', 60), ('문구/사무용품', 59), ('과일', 57), ('속옷/양말/홈웨어', 52), ('조미료', 50), ('화장품/뷰티케어', 47), ('조리식품', 38), ('퍼스널케어', 38), ('생활/주방가전', 38), ('과자', 36), ('식기/조리기구', 35), ('원예/애완', 34), ('주방잡화', 32), ('냉장식품', 31), ('침구/수예', 31), ('자동차용품', 31), ('청소/세탁/욕실용품', 30), ('완구', 30), ('건해산물', 29), ('대용식', 28), ('여성의류', 28), ('건강식품', 28), ('세제/위생', 27), ('구기/필드스포츠', 27), ('아웃도어/레저', 25), ('가구', 25), ('건강용품', 24), ('음료', 23), ('남성의류', 23), ('주류', 22), ('테넌트/음식점', 22), ('출산/육아용품', 21), ('냉동식품', 20), ('커피/차', 20), ('인테리어/조명', 20), ('영상/음향가전', 17), ('시즌스포츠', 17), ('계절가전', 15), ('병통조림', 14), ('양곡', 14), ('공구/안전용품', 14), ('컴퓨터', 14), ('헬스/피트니스', 12), ('유제품', 9), ('냉장/세탁가전', 9), ('생활/렌탈서비스', 8), ('서적/음반/악기', 8), ('상품권', 7), ('담배', 6), ('모바일', 6), ('기타(비상품)', 4), ('유아식품', 4), ('여행/레저서비스', 4)]\n",
            "여자 60대 [('패션잡화', 104), ('축산물', 85), ('수산물', 79), ('채소', 70), ('스포츠패션', 66), ('유아동의류', 59), ('과일', 57), ('문구/사무용품', 54), ('조미료', 49), ('속옷/양말/홈웨어', 49), ('화장품/뷰티케어', 43), ('조리식품', 38), ('과자', 36), ('퍼스널케어', 34), ('식기/조리기구', 33), ('주방잡화', 32), ('생활/주방가전', 32), ('냉장식품', 31), ('완구', 30), ('침구/수예', 29), ('청소/세탁/욕실용품', 28), ('대용식', 28), ('여성의류', 28), ('건해산물', 28), ('원예/애완', 28), ('세제/위생', 26), ('건강식품', 25), ('남성의류', 24), ('음료', 23), ('자동차용품', 23), ('테넌트/음식점', 22), ('주류', 20), ('커피/차', 20), ('가구', 20), ('냉동식품', 19), ('인테리어/조명', 18), ('구기/필드스포츠', 16), ('출산/육아용품', 16), ('아웃도어/레저', 15), ('양곡', 14), ('병통조림', 14), ('건강용품', 14), ('시즌스포츠', 14), ('공구/안전용품', 13), ('컴퓨터', 12), ('영상/음향가전', 11), ('헬스/피트니스', 10), ('계절가전', 10), ('유제품', 9), ('냉장/세탁가전', 8), ('담배', 6), ('서적/음반/악기', 6), ('모바일', 6), ('상품권', 5), ('생활/렌탈서비스', 5), ('유아식품', 4), ('기타(비상품)', 3), ('여행/레저서비스', 1)]\n",
            "여자 70대 [('축산물', 79), ('패션잡화', 78), ('수산물', 75), ('채소', 66), ('과일', 51), ('조미료', 46), ('스포츠패션', 45), ('속옷/양말/홈웨어', 40), ('화장품/뷰티케어', 38), ('조리식품', 35), ('과자', 34), ('문구/사무용품', 33), ('퍼스널케어', 32), ('냉장식품', 30), ('대용식', 28), ('주방잡화', 28), ('세제/위생', 27), ('건해산물', 26), ('식기/조리기구', 26), ('유아동의류', 26), ('청소/세탁/욕실용품', 24), ('음료', 23), ('남성의류', 22), ('침구/수예', 21), ('테넌트/음식점', 20), ('여성의류', 20), ('커피/차', 20), ('건강식품', 20), ('주류', 19), ('냉동식품', 19), ('생활/주방가전', 19), ('원예/애완', 18), ('완구', 18), ('양곡', 14), ('가구', 13), ('공구/안전용품', 12), ('병통조림', 12), ('자동차용품', 12), ('유제품', 9), ('건강용품', 9), ('출산/육아용품', 9), ('인테리어/조명', 9), ('아웃도어/레저', 8), ('시즌스포츠', 8), ('구기/필드스포츠', 6), ('담배', 4), ('유아식품', 4), ('헬스/피트니스', 4), ('서적/음반/악기', 4), ('냉장/세탁가전', 4), ('모바일', 4), ('계절가전', 4), ('영상/음향가전', 4), ('컴퓨터', 4), ('기타(비상품)', 3), ('생활/렌탈서비스', 2), ('상품권', 1), ('여행/레저서비스', 1)]\n"
          ]
        }
      ]
    },
    {
      "cell_type": "markdown",
      "source": [
        "각 나이대별 가장 잦은 소비를 한 품목들을 뽑아본 결과, 대부분의 나이대별 품목들의 top10은 식료품 패션잡화 축산물 수산물 채소 과일등 의식주이 기본적인 소비로 나타남을 확인할 수 있었다. 보다 확실한 분석을 위해 다음 과정에서의 모델링에서는 위의 품목들은 제외하는 것이 각 나이 및 성별의 품목 선호도 특징을 더 자세히 분석할 수 있다는 잠재적인 결론을 얻었다. \n",
        "\n",
        "예를 들어,\n",
        "70대 여성의 경우,\n",
        "('조미료', 46), ('스포츠패션', 45), ('속옷/양말/홈웨어', 40), ('화장품/뷰티케어', 38), ('조리식품', 35) 품목이 특징적으로 드러났다. "
      ],
      "metadata": {
        "id": "zO2eh_y_bZ-a"
      }
    },
    {
      "cell_type": "code",
      "source": [
        "(holidaylist/(holidaylist + notholidaylist)).plot(kind='barh')"
      ],
      "metadata": {
        "colab": {
          "base_uri": "https://localhost:8080/",
          "height": 283
        },
        "outputId": "2c10c94b-ac2b-46c9-bb63-58beeebc2477",
        "id": "JXGEfYsXjQ6y"
      },
      "execution_count": null,
      "outputs": [
        {
          "output_type": "execute_result",
          "data": {
            "text/plain": [
              "<matplotlib.axes._subplots.AxesSubplot at 0x7f7301064710>"
            ]
          },
          "metadata": {},
          "execution_count": 58
        },
        {
          "output_type": "display_data",
          "data": {
            "text/plain": [
              "<Figure size 432x288 with 1 Axes>"
            ],
            "image/png": "[encoded data removed]"
          },
          "metadata": {
            "needs_background": "light"
          }
        }
      ]
    },
    {
      "cell_type": "markdown",
      "source": [
        "다음의 경우, 휴일과 휴일아닌 날을 개별적으로 비교할 경우, 시니어층이 다른 나이대에 비해, 상당히 낮은 확률을 보이고 있다. 이 경우, 다른 층들은 평일보다 다른 휴일에 구매 확률이 올라가는 반면에, 시니어층의 경우, 휴일이나 휴일이 아닌 날의 구매비율 차이가 비시니어층에 비해 적다는 것을 알 수 있었다. "
      ],
      "metadata": {
        "id": "gaLvRTlareMk"
      }
    },
    {
      "cell_type": "markdown",
      "source": [
        "# 모델 방향"
      ],
      "metadata": {
        "id": "5uA1R6n0sBY8"
      }
    },
    {
      "cell_type": "markdown",
      "source": [
        "다음의 문제 제기를 통해, 현재 롯데 맴버스를 이용하는 구매자들의 치중된 비율을 해결하고자, 다음의 방법을 생각했다.\n",
        "\n",
        "1. 구매 품목, 온오프라인, 휴일 여부, 금액, 지역의 변수를 독립 변수, 시니어층인지 아닌지를 종속 변수로 둔다.\n",
        "2. 이를 통해 모델을 만들어 학습시킨다. \n",
        "3. 만들어진 모델을 통해 (언제)휴일인지 아닌지 (어디서)어느 지역에서 (온/오프) 온라인구매인지 (품목)해당 품목 (금액)얼마에 구매하는지에 따라 시니어층이 구매할만한 것인지 비시니어츠잉 구매 할 만한것인지 예측. (모든 사용자에게 무분별한 광고는 부정적인 영향을 줄 수 있기 때문).\n",
        "4. 이에 따라 시니어층일 경우, 롯데맴버스와 엘페이 사용혜택을 광고 및 해당 과정을 간소화 하는 전략을 짠다.\n",
        "5. 사용혜택은 나이와 성별별 구매 품목 리스트중 시니어층이 공통된 품목들에 대한 혜택을 주는 방향이 적합하다.  \n",
        "6. 혹은 시니어층 혜택에 해당되는 현존하는 엘페이 카드 광고를 노출한다. "
      ],
      "metadata": {
        "id": "w4QEd1pssELl"
      }
    },
    {
      "cell_type": "markdown",
      "source": [
        "http://times.postech.ac.kr/news/articleView.html?idxno=21630\n",
        "\n",
        "참고 자료"
      ],
      "metadata": {
        "id": "IAQ21VQYvMmL"
      }
    }
  ]
}