{
  "nbformat": 4,
  "nbformat_minor": 0,
  "metadata": {
    "colab": {
      "name": "제출용.ipynb",
      "provenance": [],
      "collapsed_sections": []
    },
    "kernelspec": {
      "name": "python3",
      "display_name": "Python 3"
    },
    "language_info": {
      "name": "python"
    }
  },
  "cells": [
    {
      "cell_type": "markdown",
      "source": [
        "# 모델 개발"
      ],
      "metadata": {
        "id": "sn233dSga4Nf"
      }
    },
    {
      "cell_type": "markdown",
      "source": [
        "## 데이터 불러오기 "
      ],
      "metadata": {
        "id": "YR6Zlg5hj0PF"
      }
    },
    {
      "cell_type": "code",
      "source": [
        "# 구글 드라이브를 /gdrive에 마운트 합니다.\n",
        "from google.colab import drive\n",
        "#drive.flush_and_unmount()  # 파일목록 갱신이 안될때는 이 부분 주석처리를 해제하고 실행하시기 바랍니다.\n",
        "drive.mount('/gdrive')"
      ],
      "metadata": {
        "colab": {
          "base_uri": "https://localhost:8080/"
        },
        "id": "54fdBQmY0FXj",
        "outputId": "cdf74803-e71d-4687-e42c-30c1f7afbeb3"
      },
      "execution_count": 91,
      "outputs": [
        {
          "output_type": "stream",
          "name": "stdout",
          "text": [
            "Drive already mounted at /gdrive; to attempt to forcibly remount, call drive.mount(\"/gdrive\", force_remount=True).\n"
          ]
        }
      ]
    },
    {
      "cell_type": "code",
      "source": [
        "import pandas as pd\n",
        "# /gdrive/MyDrive/Lpay\n",
        "\n",
        "data1 = pd.read_csv('/gdrive/MyDrive/Lpay/LPOINT_BIG_COMP_01_DEMO.csv')\n",
        "data2 = pd.read_csv('/gdrive/MyDrive/Lpay/LPOINT_BIG_COMP_02_PDDE.csv')\n",
        "data3 = pd.read_csv('/gdrive/MyDrive/Lpay/LPOINT_BIG_COMP_03_COP_U.csv')\n",
        "data4 = pd.read_csv('/gdrive/MyDrive/Lpay/LPOINT_BIG_COMP_04_PD_CLAC.csv')\n",
        "data5 = pd.read_csv('/gdrive/MyDrive/Lpay/LPOINT_BIG_COMP_05_BR.csv')\n",
        "data6 = pd.read_csv('/gdrive/MyDrive/Lpay/LPOINT_BIG_COMP_06_LPAY.csv')"
      ],
      "metadata": {
        "colab": {
          "base_uri": "https://localhost:8080/"
        },
        "id": "H8yinKKMayV3",
        "outputId": "540113b3-184c-4520-e3c3-8ace4f10ad7b"
      },
      "execution_count": 92,
      "outputs": [
        {
          "output_type": "stream",
          "name": "stderr",
          "text": [
            "/usr/local/lib/python3.7/dist-packages/IPython/core/interactiveshell.py:2882: DtypeWarning: Columns (4) have mixed types.Specify dtype option on import or set low_memory=False.\n",
            "  exec(code_obj, self.user_global_ns, self.user_ns)\n"
          ]
        }
      ]
    },
    {
      "cell_type": "markdown",
      "source": [
        "## 데이터 합병(LPOINT_BIG_COMP_01_DEMO + LPOINT_BIG_COMP_02_PDDE )\n",
        "DEMO 데이터와 상품구매 정보 데이터를 합병 시켜 상품구매정보+연령+성별 데이터 생성"
      ],
      "metadata": {
        "id": "1h2ogTQCbOJn"
      }
    },
    {
      "cell_type": "code",
      "source": [
        "# Merging Data\n",
        "merge_data = pd.merge(data1,data2)\n",
        "merge_data.head()"
      ],
      "metadata": {
        "colab": {
          "base_uri": "https://localhost:8080/",
          "height": 206
        },
        "id": "nuiO4PguRHXx",
        "outputId": "5aa8e355-e141-4e0c-f64e-417a280093b7"
      },
      "execution_count": 93,
      "outputs": [
        {
          "output_type": "execute_result",
          "data": {
            "text/plain": [
              "         cust ma_fem_dv ages zon_hlv        rct_no  chnl_dv cop_c     br_c  \\\n",
              "0  M000034966        여성  40대     Z07  A01016688590        1   A01  A010045   \n",
              "1  M000034966        여성  40대     Z07  A01016688590        1   A01  A010045   \n",
              "2  M000034966        여성  40대     Z07  A01016688590        1   A01  A010045   \n",
              "3  M000034966        여성  40대     Z07  A01016718167        1   A01  A010045   \n",
              "4  M000034966        여성  40대     Z07  A02357398521        1   A02  A020116   \n",
              "\n",
              "     pd_c     de_dt  de_hr   buy_am  buy_ct  \n",
              "0  PD0777  20210116     18  59000.0       1  \n",
              "1  PD0777  20210116     18  19000.0       1  \n",
              "2  PD0796  20210116     18    100.0       1  \n",
              "3  PD0816  20210116     18  62100.0       1  \n",
              "4  PD0630  20210325     13  19900.0       1  "
            ],
            "text/html": [
              "\n",
              "  <div id=\"df-587d7db9-af62-43ca-94f7-101e3f580ec2\">\n",
              "    <div class=\"colab-df-container\">\n",
              "      <div>\n",
              "<style scoped>\n",
              "    .dataframe tbody tr th:only-of-type {\n",
              "        vertical-align: middle;\n",
              "    }\n",
              "\n",
              "    .dataframe tbody tr th {\n",
              "        vertical-align: top;\n",
              "    }\n",
              "\n",
              "    .dataframe thead th {\n",
              "        text-align: right;\n",
              "    }\n",
              "</style>\n",
              "<table border=\"1\" class=\"dataframe\">\n",
              "  <thead>\n",
              "    <tr style=\"text-align: right;\">\n",
              "      <th></th>\n",
              "      <th>cust</th>\n",
              "      <th>ma_fem_dv</th>\n",
              "      <th>ages</th>\n",
              "      <th>zon_hlv</th>\n",
              "      <th>rct_no</th>\n",
              "      <th>chnl_dv</th>\n",
              "      <th>cop_c</th>\n",
              "      <th>br_c</th>\n",
              "      <th>pd_c</th>\n",
              "      <th>de_dt</th>\n",
              "      <th>de_hr</th>\n",
              "      <th>buy_am</th>\n",
              "      <th>buy_ct</th>\n",
              "    </tr>\n",
              "  </thead>\n",
              "  <tbody>\n",
              "    <tr>\n",
              "      <th>0</th>\n",
              "      <td>M000034966</td>\n",
              "      <td>여성</td>\n",
              "      <td>40대</td>\n",
              "      <td>Z07</td>\n",
              "      <td>A01016688590</td>\n",
              "      <td>1</td>\n",
              "      <td>A01</td>\n",
              "      <td>A010045</td>\n",
              "      <td>PD0777</td>\n",
              "      <td>20210116</td>\n",
              "      <td>18</td>\n",
              "      <td>59000.0</td>\n",
              "      <td>1</td>\n",
              "    </tr>\n",
              "    <tr>\n",
              "      <th>1</th>\n",
              "      <td>M000034966</td>\n",
              "      <td>여성</td>\n",
              "      <td>40대</td>\n",
              "      <td>Z07</td>\n",
              "      <td>A01016688590</td>\n",
              "      <td>1</td>\n",
              "      <td>A01</td>\n",
              "      <td>A010045</td>\n",
              "      <td>PD0777</td>\n",
              "      <td>20210116</td>\n",
              "      <td>18</td>\n",
              "      <td>19000.0</td>\n",
              "      <td>1</td>\n",
              "    </tr>\n",
              "    <tr>\n",
              "      <th>2</th>\n",
              "      <td>M000034966</td>\n",
              "      <td>여성</td>\n",
              "      <td>40대</td>\n",
              "      <td>Z07</td>\n",
              "      <td>A01016688590</td>\n",
              "      <td>1</td>\n",
              "      <td>A01</td>\n",
              "      <td>A010045</td>\n",
              "      <td>PD0796</td>\n",
              "      <td>20210116</td>\n",
              "      <td>18</td>\n",
              "      <td>100.0</td>\n",
              "      <td>1</td>\n",
              "    </tr>\n",
              "    <tr>\n",
              "      <th>3</th>\n",
              "      <td>M000034966</td>\n",
              "      <td>여성</td>\n",
              "      <td>40대</td>\n",
              "      <td>Z07</td>\n",
              "      <td>A01016718167</td>\n",
              "      <td>1</td>\n",
              "      <td>A01</td>\n",
              "      <td>A010045</td>\n",
              "      <td>PD0816</td>\n",
              "      <td>20210116</td>\n",
              "      <td>18</td>\n",
              "      <td>62100.0</td>\n",
              "      <td>1</td>\n",
              "    </tr>\n",
              "    <tr>\n",
              "      <th>4</th>\n",
              "      <td>M000034966</td>\n",
              "      <td>여성</td>\n",
              "      <td>40대</td>\n",
              "      <td>Z07</td>\n",
              "      <td>A02357398521</td>\n",
              "      <td>1</td>\n",
              "      <td>A02</td>\n",
              "      <td>A020116</td>\n",
              "      <td>PD0630</td>\n",
              "      <td>20210325</td>\n",
              "      <td>13</td>\n",
              "      <td>19900.0</td>\n",
              "      <td>1</td>\n",
              "    </tr>\n",
              "  </tbody>\n",
              "</table>\n",
              "</div>\n",
              "      <button class=\"colab-df-convert\" onclick=\"convertToInteractive('df-587d7db9-af62-43ca-94f7-101e3f580ec2')\"\n",
              "              title=\"Convert this dataframe to an interactive table.\"\n",
              "              style=\"display:none;\">\n",
              "        \n",
              "  <svg xmlns=\"http://www.w3.org/2000/svg\" height=\"24px\"viewBox=\"0 0 24 24\"\n",
              "       width=\"24px\">\n",
              "    <path d=\"M0 0h24v24H0V0z\" fill=\"none\"/>\n",
              "    <path d=\"M18.56 5.44l.94 2.06.94-2.06 2.06-.94-2.06-.94-.94-2.06-.94 2.06-2.06.94zm-11 1L8.5 8.5l.94-2.06 2.06-.94-2.06-.94L8.5 2.5l-.94 2.06-2.06.94zm10 10l.94 2.06.94-2.06 2.06-.94-2.06-.94-.94-2.06-.94 2.06-2.06.94z\"/><path d=\"M17.41 7.96l-1.37-1.37c-.4-.4-.92-.59-1.43-.59-.52 0-1.04.2-1.43.59L10.3 9.45l-7.72 7.72c-.78.78-.78 2.05 0 2.83L4 21.41c.39.39.9.59 1.41.59.51 0 1.02-.2 1.41-.59l7.78-7.78 2.81-2.81c.8-.78.8-2.07 0-2.86zM5.41 20L4 18.59l7.72-7.72 1.47 1.35L5.41 20z\"/>\n",
              "  </svg>\n",
              "      </button>\n",
              "      \n",
              "  <style>\n",
              "    .colab-df-container {\n",
              "      display:flex;\n",
              "      flex-wrap:wrap;\n",
              "      gap: 12px;\n",
              "    }\n",
              "\n",
              "    .colab-df-convert {\n",
              "      background-color: #E8F0FE;\n",
              "      border: none;\n",
              "      border-radius: 50%;\n",
              "      cursor: pointer;\n",
              "      display: none;\n",
              "      fill: #1967D2;\n",
              "      height: 32px;\n",
              "      padding: 0 0 0 0;\n",
              "      width: 32px;\n",
              "    }\n",
              "\n",
              "    .colab-df-convert:hover {\n",
              "      background-color: #E2EBFA;\n",
              "      box-shadow: 0px 1px 2px rgba(60, 64, 67, 0.3), 0px 1px 3px 1px rgba(60, 64, 67, 0.15);\n",
              "      fill: #174EA6;\n",
              "    }\n",
              "\n",
              "    [theme=dark] .colab-df-convert {\n",
              "      background-color: #3B4455;\n",
              "      fill: #D2E3FC;\n",
              "    }\n",
              "\n",
              "    [theme=dark] .colab-df-convert:hover {\n",
              "      background-color: #434B5C;\n",
              "      box-shadow: 0px 1px 3px 1px rgba(0, 0, 0, 0.15);\n",
              "      filter: drop-shadow(0px 1px 2px rgba(0, 0, 0, 0.3));\n",
              "      fill: #FFFFFF;\n",
              "    }\n",
              "  </style>\n",
              "\n",
              "      <script>\n",
              "        const buttonEl =\n",
              "          document.querySelector('#df-587d7db9-af62-43ca-94f7-101e3f580ec2 button.colab-df-convert');\n",
              "        buttonEl.style.display =\n",
              "          google.colab.kernel.accessAllowed ? 'block' : 'none';\n",
              "\n",
              "        async function convertToInteractive(key) {\n",
              "          const element = document.querySelector('#df-587d7db9-af62-43ca-94f7-101e3f580ec2');\n",
              "          const dataTable =\n",
              "            await google.colab.kernel.invokeFunction('convertToInteractive',\n",
              "                                                     [key], {});\n",
              "          if (!dataTable) return;\n",
              "\n",
              "          const docLinkHtml = 'Like what you see? Visit the ' +\n",
              "            '<a target=\"_blank\" href=https://colab.research.google.com/notebooks/data_table.ipynb>data table notebook</a>'\n",
              "            + ' to learn more about interactive tables.';\n",
              "          element.innerHTML = '';\n",
              "          dataTable['output_type'] = 'display_data';\n",
              "          await google.colab.output.renderOutput(dataTable, element);\n",
              "          const docLink = document.createElement('div');\n",
              "          docLink.innerHTML = docLinkHtml;\n",
              "          element.appendChild(docLink);\n",
              "        }\n",
              "      </script>\n",
              "    </div>\n",
              "  </div>\n",
              "  "
            ]
          },
          "metadata": {},
          "execution_count": 93
        }
      ]
    },
    {
      "cell_type": "code",
      "source": [
        "# Data Save \n",
        "# merge_data.to_csv('/gdrive/MyDrive/Lpay/merge_data.csv',index=False)"
      ],
      "metadata": {
        "id": "2SpeHFXD84Ke"
      },
      "execution_count": 94,
      "outputs": []
    },
    {
      "cell_type": "code",
      "source": [
        "print(\"DEMO 데이터와 상품구매 데이터를 합한 총 데이터 수는: \",len(merge_data), '입니다')"
      ],
      "metadata": {
        "colab": {
          "base_uri": "https://localhost:8080/"
        },
        "id": "aocNUWeefHIP",
        "outputId": "af5d6e83-a816-4864-b85a-da396f263b92"
      },
      "execution_count": 95,
      "outputs": [
        {
          "output_type": "stream",
          "name": "stdout",
          "text": [
            "DEMO 데이터와 상품구매 데이터를 합한 총 데이터 수는:  4381743 입니다\n"
          ]
        }
      ]
    },
    {
      "cell_type": "markdown",
      "source": [
        "## 데이터 전처리\n",
        "상품 대분류 데이터 전처리 & 데이터 클래스 딕셔너리화 및 맵핑 "
      ],
      "metadata": {
        "id": "_OXRWM23cBvO"
      }
    },
    {
      "cell_type": "code",
      "source": [
        "# Drop Data \n",
        "drop_data = merge_data.drop(['cust','rct_no','buy_ct','de_hr','br_c'], axis=1)\n",
        "drop_data.head(3)"
      ],
      "metadata": {
        "colab": {
          "base_uri": "https://localhost:8080/",
          "height": 143
        },
        "id": "8gxw6XEThJdf",
        "outputId": "ff537b13-a012-42ba-afe8-437a00425b9b"
      },
      "execution_count": 96,
      "outputs": [
        {
          "output_type": "execute_result",
          "data": {
            "text/plain": [
              "  ma_fem_dv ages zon_hlv  chnl_dv cop_c    pd_c     de_dt   buy_am\n",
              "0        여성  40대     Z07        1   A01  PD0777  20210116  59000.0\n",
              "1        여성  40대     Z07        1   A01  PD0777  20210116  19000.0\n",
              "2        여성  40대     Z07        1   A01  PD0796  20210116    100.0"
            ],
            "text/html": [
              "\n",
              "  <div id=\"df-55caf15a-66a7-4bef-a08e-90c18e085557\">\n",
              "    <div class=\"colab-df-container\">\n",
              "      <div>\n",
              "<style scoped>\n",
              "    .dataframe tbody tr th:only-of-type {\n",
              "        vertical-align: middle;\n",
              "    }\n",
              "\n",
              "    .dataframe tbody tr th {\n",
              "        vertical-align: top;\n",
              "    }\n",
              "\n",
              "    .dataframe thead th {\n",
              "        text-align: right;\n",
              "    }\n",
              "</style>\n",
              "<table border=\"1\" class=\"dataframe\">\n",
              "  <thead>\n",
              "    <tr style=\"text-align: right;\">\n",
              "      <th></th>\n",
              "      <th>ma_fem_dv</th>\n",
              "      <th>ages</th>\n",
              "      <th>zon_hlv</th>\n",
              "      <th>chnl_dv</th>\n",
              "      <th>cop_c</th>\n",
              "      <th>pd_c</th>\n",
              "      <th>de_dt</th>\n",
              "      <th>buy_am</th>\n",
              "    </tr>\n",
              "  </thead>\n",
              "  <tbody>\n",
              "    <tr>\n",
              "      <th>0</th>\n",
              "      <td>여성</td>\n",
              "      <td>40대</td>\n",
              "      <td>Z07</td>\n",
              "      <td>1</td>\n",
              "      <td>A01</td>\n",
              "      <td>PD0777</td>\n",
              "      <td>20210116</td>\n",
              "      <td>59000.0</td>\n",
              "    </tr>\n",
              "    <tr>\n",
              "      <th>1</th>\n",
              "      <td>여성</td>\n",
              "      <td>40대</td>\n",
              "      <td>Z07</td>\n",
              "      <td>1</td>\n",
              "      <td>A01</td>\n",
              "      <td>PD0777</td>\n",
              "      <td>20210116</td>\n",
              "      <td>19000.0</td>\n",
              "    </tr>\n",
              "    <tr>\n",
              "      <th>2</th>\n",
              "      <td>여성</td>\n",
              "      <td>40대</td>\n",
              "      <td>Z07</td>\n",
              "      <td>1</td>\n",
              "      <td>A01</td>\n",
              "      <td>PD0796</td>\n",
              "      <td>20210116</td>\n",
              "      <td>100.0</td>\n",
              "    </tr>\n",
              "  </tbody>\n",
              "</table>\n",
              "</div>\n",
              "      <button class=\"colab-df-convert\" onclick=\"convertToInteractive('df-55caf15a-66a7-4bef-a08e-90c18e085557')\"\n",
              "              title=\"Convert this dataframe to an interactive table.\"\n",
              "              style=\"display:none;\">\n",
              "        \n",
              "  <svg xmlns=\"http://www.w3.org/2000/svg\" height=\"24px\"viewBox=\"0 0 24 24\"\n",
              "       width=\"24px\">\n",
              "    <path d=\"M0 0h24v24H0V0z\" fill=\"none\"/>\n",
              "    <path d=\"M18.56 5.44l.94 2.06.94-2.06 2.06-.94-2.06-.94-.94-2.06-.94 2.06-2.06.94zm-11 1L8.5 8.5l.94-2.06 2.06-.94-2.06-.94L8.5 2.5l-.94 2.06-2.06.94zm10 10l.94 2.06.94-2.06 2.06-.94-2.06-.94-.94-2.06-.94 2.06-2.06.94z\"/><path d=\"M17.41 7.96l-1.37-1.37c-.4-.4-.92-.59-1.43-.59-.52 0-1.04.2-1.43.59L10.3 9.45l-7.72 7.72c-.78.78-.78 2.05 0 2.83L4 21.41c.39.39.9.59 1.41.59.51 0 1.02-.2 1.41-.59l7.78-7.78 2.81-2.81c.8-.78.8-2.07 0-2.86zM5.41 20L4 18.59l7.72-7.72 1.47 1.35L5.41 20z\"/>\n",
              "  </svg>\n",
              "      </button>\n",
              "      \n",
              "  <style>\n",
              "    .colab-df-container {\n",
              "      display:flex;\n",
              "      flex-wrap:wrap;\n",
              "      gap: 12px;\n",
              "    }\n",
              "\n",
              "    .colab-df-convert {\n",
              "      background-color: #E8F0FE;\n",
              "      border: none;\n",
              "      border-radius: 50%;\n",
              "      cursor: pointer;\n",
              "      display: none;\n",
              "      fill: #1967D2;\n",
              "      height: 32px;\n",
              "      padding: 0 0 0 0;\n",
              "      width: 32px;\n",
              "    }\n",
              "\n",
              "    .colab-df-convert:hover {\n",
              "      background-color: #E2EBFA;\n",
              "      box-shadow: 0px 1px 2px rgba(60, 64, 67, 0.3), 0px 1px 3px 1px rgba(60, 64, 67, 0.15);\n",
              "      fill: #174EA6;\n",
              "    }\n",
              "\n",
              "    [theme=dark] .colab-df-convert {\n",
              "      background-color: #3B4455;\n",
              "      fill: #D2E3FC;\n",
              "    }\n",
              "\n",
              "    [theme=dark] .colab-df-convert:hover {\n",
              "      background-color: #434B5C;\n",
              "      box-shadow: 0px 1px 3px 1px rgba(0, 0, 0, 0.15);\n",
              "      filter: drop-shadow(0px 1px 2px rgba(0, 0, 0, 0.3));\n",
              "      fill: #FFFFFF;\n",
              "    }\n",
              "  </style>\n",
              "\n",
              "      <script>\n",
              "        const buttonEl =\n",
              "          document.querySelector('#df-55caf15a-66a7-4bef-a08e-90c18e085557 button.colab-df-convert');\n",
              "        buttonEl.style.display =\n",
              "          google.colab.kernel.accessAllowed ? 'block' : 'none';\n",
              "\n",
              "        async function convertToInteractive(key) {\n",
              "          const element = document.querySelector('#df-55caf15a-66a7-4bef-a08e-90c18e085557');\n",
              "          const dataTable =\n",
              "            await google.colab.kernel.invokeFunction('convertToInteractive',\n",
              "                                                     [key], {});\n",
              "          if (!dataTable) return;\n",
              "\n",
              "          const docLinkHtml = 'Like what you see? Visit the ' +\n",
              "            '<a target=\"_blank\" href=https://colab.research.google.com/notebooks/data_table.ipynb>data table notebook</a>'\n",
              "            + ' to learn more about interactive tables.';\n",
              "          element.innerHTML = '';\n",
              "          dataTable['output_type'] = 'display_data';\n",
              "          await google.colab.output.renderOutput(dataTable, element);\n",
              "          const docLink = document.createElement('div');\n",
              "          docLink.innerHTML = docLinkHtml;\n",
              "          element.appendChild(docLink);\n",
              "        }\n",
              "      </script>\n",
              "    </div>\n",
              "  </div>\n",
              "  "
            ]
          },
          "metadata": {},
          "execution_count": 96
        }
      ]
    },
    {
      "cell_type": "markdown",
      "source": [
        "### 상품 대분류 데이터 전처리"
      ],
      "metadata": {
        "id": "QCNx0XNaiO0w"
      }
    },
    {
      "cell_type": "code",
      "source": [
        "# 상품 분류정보중 상품 대분류 데이터\n",
        "clac_hlv_nm_60 = data4.clac_hlv_nm.value_counts().keys()\n",
        "clac_hlv_nm_60"
      ],
      "metadata": {
        "id": "mkDFhcUJndPk",
        "colab": {
          "base_uri": "https://localhost:8080/"
        },
        "outputId": "756d1173-73f6-4943-c4b3-ccadb7c35f04"
      },
      "execution_count": 97,
      "outputs": [
        {
          "output_type": "execute_result",
          "data": {
            "text/plain": [
              "Index(['패션잡화', '축산물', '수산물', '스포츠패션', '문구/사무용품', '채소', '유아동의류', '과일',\n",
              "       '속옷/양말/홈웨어', '조미료', '화장품/뷰티케어', '생활/주방가전', '퍼스널케어', '원예/애완', '구기/필드스포츠',\n",
              "       '조리식품', '식기/조리기구', '과자', '침구/수예', '자동차용품', '아웃도어/레저', '건강식품', '출산/육아용품',\n",
              "       '냉장식품', '주방잡화', '가구', '완구', '건해산물', '청소/세탁/욕실용품', '여성의류', '대용식',\n",
              "       '세제/위생', '영상/음향가전', '남성의류', '건강용품', '음료', '테넌트/음식점', '주류', '시즌스포츠',\n",
              "       '인테리어/조명', '커피/차', '냉동식품', '헬스/피트니스', '양곡', '서적/음반/악기', '공구/안전용품',\n",
              "       '계절가전', '컴퓨터', '병통조림', '생활/렌탈서비스', '냉장/세탁가전', '상품권', '유제품', '기타(비상품)',\n",
              "       '담배', '여행/레저서비스', '모바일', '유아식품', '기타상품', '금융/보험서비스'],\n",
              "      dtype='object')"
            ]
          },
          "metadata": {},
          "execution_count": 97
        }
      ]
    },
    {
      "cell_type": "code",
      "source": [
        "# 데이터 분석을 통한 데이터를 토대로 제외 품목 선정\n",
        "# ('패션잡화', 0), ('축산물', 1), ('수산물', 2), ('채소', 5), ('과일', 6)  , ('과자', 16)"
      ],
      "metadata": {
        "id": "jP2HuBkJR2IP"
      },
      "execution_count": 98,
      "outputs": []
    },
    {
      "cell_type": "code",
      "source": [
        "# 상품정보 -> 상품 대분류를 위한 합병\n",
        "merge_2 = pd.merge(drop_data,data4)\n",
        "merge_2.zon_hlv.value_counts().keys()"
      ],
      "metadata": {
        "id": "2eYZxteCvnjn",
        "colab": {
          "base_uri": "https://localhost:8080/"
        },
        "outputId": "d2846524-eb7f-437c-b225-24563688599a"
      },
      "execution_count": 99,
      "outputs": [
        {
          "output_type": "execute_result",
          "data": {
            "text/plain": [
              "Index(['Z17', 'Z10', 'Z16', 'Z11', 'Z04', 'Z06', 'Z13', 'Z05', 'Z08', 'Z09',\n",
              "       'Z15', 'Z14', 'Z12', 'Z03', 'Z01', 'Z07', 'Z02'],\n",
              "      dtype='object')"
            ]
          },
          "metadata": {},
          "execution_count": 99
        }
      ]
    },
    {
      "cell_type": "markdown",
      "source": [
        "### 데이터 클래스 딕셔너리화"
      ],
      "metadata": {
        "id": "39C9IYQNiHuf"
      }
    },
    {
      "cell_type": "code",
      "source": [
        "# 상품분류 클래스 딕셔너리화\n",
        "# class 1923 -> 60 \n",
        "pd_dict = {}\n",
        "i = 0 \n",
        "for nm in clac_hlv_nm_60:\n",
        "  pd_dict[nm] = i\n",
        "  i += 1\n",
        "# 지역 데이터 -> 정수화 딕셔너리\n",
        "zon_name = merge_2.zon_hlv.value_counts().keys()\n",
        "zon_dict = {}\n",
        "i = 0 \n",
        "for nm in zon_name:\n",
        "  zon_dict[nm] = i\n",
        "  i += 1 "
      ],
      "metadata": {
        "id": "A206JD7zKZ6M"
      },
      "execution_count": 100,
      "outputs": []
    },
    {
      "cell_type": "code",
      "source": [
        "def pd_cls(numbers):\n",
        "  return pd_dict[numbers]\n",
        "def date_cls(dd): # 공휴일 데이터 \n",
        "  for d in [20210101 ,20210211,20210212,20210213,20210301,20210505,20210519,20210606,20210815,20210920,20210921,20210922,20211003,20211009,20211225]:\n",
        "    if d==dd:\n",
        "      return 1\n",
        "    else:\n",
        "      return 0\n",
        "def zon_cls(zonn):\n",
        "  return zon_dict[zonn]\n",
        "def target_y(data):\n",
        "  if data == '여성70대' or data == '여성60대'or data == '남성60대'or data == '남성70대':\n",
        "    return 1\n",
        "  else:\n",
        "    return 0"
      ],
      "metadata": {
        "id": "4eu2zWvLvWsa"
      },
      "execution_count": 101,
      "outputs": []
    },
    {
      "cell_type": "code",
      "source": [
        "merge_2['mfages'] = merge_2['ma_fem_dv']+merge_2['ages']\n",
        "merge_2['zon_hlv']  = merge_2['zon_hlv'].map(lambda x : zon_cls(x))\n",
        "merge_2['de_dt']  = merge_2['de_dt'].map(lambda x : date_cls(x))\n",
        "merge_2['clac_hlv_num']  = merge_2['clac_hlv_nm'].map(lambda x : pd_cls(x))\n",
        "merge_2['labels']  = merge_2['mfages'].map(lambda x : target_y(x))\n",
        "merge_2 = merge_2.drop(['clac_hlv_nm','pd_c','cop_c','ma_fem_dv','ages','mfages'],axis=1)"
      ],
      "metadata": {
        "id": "2V9bVyE5Kvku"
      },
      "execution_count": 102,
      "outputs": []
    },
    {
      "cell_type": "code",
      "source": [
        "# 제외 품목 적용\n",
        "merge_2 = merge_2[(merge_2.clac_hlv_num != 0) & (merge_2.clac_hlv_num != 1) & (merge_2.clac_hlv_num != 2) & (merge_2.clac_hlv_num != 5) & (merge_2.clac_hlv_num != 6)]"
      ],
      "metadata": {
        "id": "c8VxoBgb4yEX"
      },
      "execution_count": 103,
      "outputs": []
    },
    {
      "cell_type": "code",
      "source": [
        "# 독립변수 & 종속변수\n",
        "merge_y = merge_2['labels']\n",
        "merge_x = merge_2.drop(['labels','pd_nm','clac_mcls_nm'],axis=1)"
      ],
      "metadata": {
        "id": "C7PGFjzW6CJy"
      },
      "execution_count": 104,
      "outputs": []
    },
    {
      "cell_type": "code",
      "source": [
        "# 데이터 확인\n",
        "merge_x"
      ],
      "metadata": {
        "colab": {
          "base_uri": "https://localhost:8080/",
          "height": 423
        },
        "id": "sK5vH__RCjES",
        "outputId": "79f0f4eb-dc69-4c89-eae1-a261958af147"
      },
      "execution_count": 105,
      "outputs": [
        {
          "output_type": "execute_result",
          "data": {
            "text/plain": [
              "         zon_hlv  chnl_dv  de_dt    buy_am  clac_hlv_num\n",
              "0             15        1      0   59000.0             3\n",
              "1             15        1      0   19000.0             3\n",
              "2              3        1      0  239000.0             3\n",
              "3              0        1      0  179000.0             3\n",
              "4              0        1      0    3000.0             3\n",
              "...          ...      ...    ...       ...           ...\n",
              "4381738        2        1      0  139000.0            32\n",
              "4381739        2        2      0  199000.0            20\n",
              "4381740        9        2      0  187050.0            20\n",
              "4381741        1        1      0  800000.0            13\n",
              "4381742        2        2      0   49500.0             4\n",
              "\n",
              "[3604968 rows x 5 columns]"
            ],
            "text/html": [
              "\n",
              "  <div id=\"df-adbf5b10-6259-456c-99ea-2af1483aadb7\">\n",
              "    <div class=\"colab-df-container\">\n",
              "      <div>\n",
              "<style scoped>\n",
              "    .dataframe tbody tr th:only-of-type {\n",
              "        vertical-align: middle;\n",
              "    }\n",
              "\n",
              "    .dataframe tbody tr th {\n",
              "        vertical-align: top;\n",
              "    }\n",
              "\n",
              "    .dataframe thead th {\n",
              "        text-align: right;\n",
              "    }\n",
              "</style>\n",
              "<table border=\"1\" class=\"dataframe\">\n",
              "  <thead>\n",
              "    <tr style=\"text-align: right;\">\n",
              "      <th></th>\n",
              "      <th>zon_hlv</th>\n",
              "      <th>chnl_dv</th>\n",
              "      <th>de_dt</th>\n",
              "      <th>buy_am</th>\n",
              "      <th>clac_hlv_num</th>\n",
              "    </tr>\n",
              "  </thead>\n",
              "  <tbody>\n",
              "    <tr>\n",
              "      <th>0</th>\n",
              "      <td>15</td>\n",
              "      <td>1</td>\n",
              "      <td>0</td>\n",
              "      <td>59000.0</td>\n",
              "      <td>3</td>\n",
              "    </tr>\n",
              "    <tr>\n",
              "      <th>1</th>\n",
              "      <td>15</td>\n",
              "      <td>1</td>\n",
              "      <td>0</td>\n",
              "      <td>19000.0</td>\n",
              "      <td>3</td>\n",
              "    </tr>\n",
              "    <tr>\n",
              "      <th>2</th>\n",
              "      <td>3</td>\n",
              "      <td>1</td>\n",
              "      <td>0</td>\n",
              "      <td>239000.0</td>\n",
              "      <td>3</td>\n",
              "    </tr>\n",
              "    <tr>\n",
              "      <th>3</th>\n",
              "      <td>0</td>\n",
              "      <td>1</td>\n",
              "      <td>0</td>\n",
              "      <td>179000.0</td>\n",
              "      <td>3</td>\n",
              "    </tr>\n",
              "    <tr>\n",
              "      <th>4</th>\n",
              "      <td>0</td>\n",
              "      <td>1</td>\n",
              "      <td>0</td>\n",
              "      <td>3000.0</td>\n",
              "      <td>3</td>\n",
              "    </tr>\n",
              "    <tr>\n",
              "      <th>...</th>\n",
              "      <td>...</td>\n",
              "      <td>...</td>\n",
              "      <td>...</td>\n",
              "      <td>...</td>\n",
              "      <td>...</td>\n",
              "    </tr>\n",
              "    <tr>\n",
              "      <th>4381738</th>\n",
              "      <td>2</td>\n",
              "      <td>1</td>\n",
              "      <td>0</td>\n",
              "      <td>139000.0</td>\n",
              "      <td>32</td>\n",
              "    </tr>\n",
              "    <tr>\n",
              "      <th>4381739</th>\n",
              "      <td>2</td>\n",
              "      <td>2</td>\n",
              "      <td>0</td>\n",
              "      <td>199000.0</td>\n",
              "      <td>20</td>\n",
              "    </tr>\n",
              "    <tr>\n",
              "      <th>4381740</th>\n",
              "      <td>9</td>\n",
              "      <td>2</td>\n",
              "      <td>0</td>\n",
              "      <td>187050.0</td>\n",
              "      <td>20</td>\n",
              "    </tr>\n",
              "    <tr>\n",
              "      <th>4381741</th>\n",
              "      <td>1</td>\n",
              "      <td>1</td>\n",
              "      <td>0</td>\n",
              "      <td>800000.0</td>\n",
              "      <td>13</td>\n",
              "    </tr>\n",
              "    <tr>\n",
              "      <th>4381742</th>\n",
              "      <td>2</td>\n",
              "      <td>2</td>\n",
              "      <td>0</td>\n",
              "      <td>49500.0</td>\n",
              "      <td>4</td>\n",
              "    </tr>\n",
              "  </tbody>\n",
              "</table>\n",
              "<p>3604968 rows × 5 columns</p>\n",
              "</div>\n",
              "      <button class=\"colab-df-convert\" onclick=\"convertToInteractive('df-adbf5b10-6259-456c-99ea-2af1483aadb7')\"\n",
              "              title=\"Convert this dataframe to an interactive table.\"\n",
              "              style=\"display:none;\">\n",
              "        \n",
              "  <svg xmlns=\"http://www.w3.org/2000/svg\" height=\"24px\"viewBox=\"0 0 24 24\"\n",
              "       width=\"24px\">\n",
              "    <path d=\"M0 0h24v24H0V0z\" fill=\"none\"/>\n",
              "    <path d=\"M18.56 5.44l.94 2.06.94-2.06 2.06-.94-2.06-.94-.94-2.06-.94 2.06-2.06.94zm-11 1L8.5 8.5l.94-2.06 2.06-.94-2.06-.94L8.5 2.5l-.94 2.06-2.06.94zm10 10l.94 2.06.94-2.06 2.06-.94-2.06-.94-.94-2.06-.94 2.06-2.06.94z\"/><path d=\"M17.41 7.96l-1.37-1.37c-.4-.4-.92-.59-1.43-.59-.52 0-1.04.2-1.43.59L10.3 9.45l-7.72 7.72c-.78.78-.78 2.05 0 2.83L4 21.41c.39.39.9.59 1.41.59.51 0 1.02-.2 1.41-.59l7.78-7.78 2.81-2.81c.8-.78.8-2.07 0-2.86zM5.41 20L4 18.59l7.72-7.72 1.47 1.35L5.41 20z\"/>\n",
              "  </svg>\n",
              "      </button>\n",
              "      \n",
              "  <style>\n",
              "    .colab-df-container {\n",
              "      display:flex;\n",
              "      flex-wrap:wrap;\n",
              "      gap: 12px;\n",
              "    }\n",
              "\n",
              "    .colab-df-convert {\n",
              "      background-color: #E8F0FE;\n",
              "      border: none;\n",
              "      border-radius: 50%;\n",
              "      cursor: pointer;\n",
              "      display: none;\n",
              "      fill: #1967D2;\n",
              "      height: 32px;\n",
              "      padding: 0 0 0 0;\n",
              "      width: 32px;\n",
              "    }\n",
              "\n",
              "    .colab-df-convert:hover {\n",
              "      background-color: #E2EBFA;\n",
              "      box-shadow: 0px 1px 2px rgba(60, 64, 67, 0.3), 0px 1px 3px 1px rgba(60, 64, 67, 0.15);\n",
              "      fill: #174EA6;\n",
              "    }\n",
              "\n",
              "    [theme=dark] .colab-df-convert {\n",
              "      background-color: #3B4455;\n",
              "      fill: #D2E3FC;\n",
              "    }\n",
              "\n",
              "    [theme=dark] .colab-df-convert:hover {\n",
              "      background-color: #434B5C;\n",
              "      box-shadow: 0px 1px 3px 1px rgba(0, 0, 0, 0.15);\n",
              "      filter: drop-shadow(0px 1px 2px rgba(0, 0, 0, 0.3));\n",
              "      fill: #FFFFFF;\n",
              "    }\n",
              "  </style>\n",
              "\n",
              "      <script>\n",
              "        const buttonEl =\n",
              "          document.querySelector('#df-adbf5b10-6259-456c-99ea-2af1483aadb7 button.colab-df-convert');\n",
              "        buttonEl.style.display =\n",
              "          google.colab.kernel.accessAllowed ? 'block' : 'none';\n",
              "\n",
              "        async function convertToInteractive(key) {\n",
              "          const element = document.querySelector('#df-adbf5b10-6259-456c-99ea-2af1483aadb7');\n",
              "          const dataTable =\n",
              "            await google.colab.kernel.invokeFunction('convertToInteractive',\n",
              "                                                     [key], {});\n",
              "          if (!dataTable) return;\n",
              "\n",
              "          const docLinkHtml = 'Like what you see? Visit the ' +\n",
              "            '<a target=\"_blank\" href=https://colab.research.google.com/notebooks/data_table.ipynb>data table notebook</a>'\n",
              "            + ' to learn more about interactive tables.';\n",
              "          element.innerHTML = '';\n",
              "          dataTable['output_type'] = 'display_data';\n",
              "          await google.colab.output.renderOutput(dataTable, element);\n",
              "          const docLink = document.createElement('div');\n",
              "          docLink.innerHTML = docLinkHtml;\n",
              "          element.appendChild(docLink);\n",
              "        }\n",
              "      </script>\n",
              "    </div>\n",
              "  </div>\n",
              "  "
            ]
          },
          "metadata": {},
          "execution_count": 105
        }
      ]
    },
    {
      "cell_type": "code",
      "source": [
        "# 종속변수 비율 확인\n",
        "merge_y.value_counts()/len(merge_y)"
      ],
      "metadata": {
        "colab": {
          "base_uri": "https://localhost:8080/"
        },
        "id": "SNsBeosu9B2I",
        "outputId": "a737745c-175f-44ea-b8a4-5068dee85b46"
      },
      "execution_count": null,
      "outputs": [
        {
          "output_type": "execute_result",
          "data": {
            "text/plain": [
              "0    0.925161\n",
              "1    0.074839\n",
              "Name: labels, dtype: float64"
            ]
          },
          "metadata": {},
          "execution_count": 59
        }
      ]
    },
    {
      "cell_type": "markdown",
      "source": [
        "## 데이터 불균형 문제 해결\n",
        "SMOTE 기법을 사용하여 데이터 불균형 문제 해결"
      ],
      "metadata": {
        "id": "5lyx8BG-gk8O"
      }
    },
    {
      "cell_type": "code",
      "source": [
        "from imblearn.over_sampling import SMOTE \n",
        "# from imblearn.over_sampling import RandomOverSampler\n",
        "# from imblearn.under_sampling import RandomUnderSampler\n",
        "\n",
        "# SMOTE 모델 사용\n",
        "X_samp, y_samp = SMOTE(random_state=4).fit_resample(merge_x, merge_y)"
      ],
      "metadata": {
        "id": "ImObtmNv90TF"
      },
      "execution_count": 106,
      "outputs": []
    },
    {
      "cell_type": "markdown",
      "source": [
        "### 종속변수 데이터 균형 확인"
      ],
      "metadata": {
        "id": "QRymfFdKhOs2"
      }
    },
    {
      "cell_type": "code",
      "source": [
        "y_samp.value_counts()/len(y_samp)"
      ],
      "metadata": {
        "colab": {
          "base_uri": "https://localhost:8080/"
        },
        "id": "A2ZaQbIg-Pun",
        "outputId": "d07fa108-5a2e-403a-f987-5983599a85c9"
      },
      "execution_count": 107,
      "outputs": [
        {
          "output_type": "execute_result",
          "data": {
            "text/plain": [
              "0    0.5\n",
              "1    0.5\n",
              "Name: labels, dtype: float64"
            ]
          },
          "metadata": {},
          "execution_count": 107
        }
      ]
    },
    {
      "cell_type": "markdown",
      "source": [
        "### 데이터 분리"
      ],
      "metadata": {
        "id": "RuhACzQDhJ82"
      }
    },
    {
      "cell_type": "code",
      "source": [
        "from sklearn.model_selection import train_test_split\n",
        "X_train, X_test, y_train, y_test = train_test_split( X_samp, y_samp, test_size=0.2, random_state=42,stratify=y_samp)"
      ],
      "metadata": {
        "id": "FHSbBFjO5iAR"
      },
      "execution_count": 108,
      "outputs": []
    },
    {
      "cell_type": "code",
      "source": [
        "y_train.value_counts()/len(merge_y)"
      ],
      "metadata": {
        "colab": {
          "base_uri": "https://localhost:8080/"
        },
        "id": "CXdwmoMR9Vdv",
        "outputId": "7d752ce7-7e8b-4230-e427-ed07798caa55"
      },
      "execution_count": 109,
      "outputs": [
        {
          "output_type": "execute_result",
          "data": {
            "text/plain": [
              "0    0.740128\n",
              "1    0.740128\n",
              "Name: labels, dtype: float64"
            ]
          },
          "metadata": {},
          "execution_count": 109
        }
      ]
    },
    {
      "cell_type": "markdown",
      "source": [
        "## 모델 선정\n",
        "랜덤 포레스트 모델 사용"
      ],
      "metadata": {
        "id": "X708NOZahZG5"
      }
    },
    {
      "cell_type": "markdown",
      "source": [
        "### 모델 생성"
      ],
      "metadata": {
        "id": "nH7HdWizhpGL"
      }
    },
    {
      "cell_type": "code",
      "source": [
        "from sklearn.ensemble import RandomForestClassifier, RandomForestRegressor\n",
        "clf = RandomForestClassifier(\n",
        "            n_estimators=25, ## 붓스트랩 샘플 개수 또는 base_estimator 개수\n",
        "            criterion='entropy', ## 불순도 측도\n",
        "            max_depth=10, ## 개별 나무의 최대 깊이\n",
        "            max_features='sqrt', ## 매 분리시 랜덤으로 뽑을 변수 개수\n",
        "            max_samples=1.0, ## 붓스트랩 샘플 비율 => 1이면 학습데이터를 모두 샘플링한다.\n",
        "            bootstrap=True, ## 복원 추출,  False이면 비복원 추출\n",
        "            oob_score=True, ## Out-of-bag 데이터를 이용한 성능 계산\n",
        "            random_state=151\n",
        "        )"
      ],
      "metadata": {
        "id": "y2kYEhJn6pJy"
      },
      "execution_count": 110,
      "outputs": []
    },
    {
      "cell_type": "code",
      "source": [
        "feature_names = merge_x.columns\n",
        "feature_names"
      ],
      "metadata": {
        "colab": {
          "base_uri": "https://localhost:8080/"
        },
        "id": "KetOy7ZD58aN",
        "outputId": "5e271d0f-c3f8-42cb-ae6f-10b4c7e8e734"
      },
      "execution_count": 111,
      "outputs": [
        {
          "output_type": "execute_result",
          "data": {
            "text/plain": [
              "Index(['zon_hlv', 'chnl_dv', 'de_dt', 'buy_am', 'clac_hlv_num'], dtype='object')"
            ]
          },
          "metadata": {},
          "execution_count": 111
        }
      ]
    },
    {
      "cell_type": "code",
      "source": [
        "feature_names = ['zon_hlv', 'chnl_dv','de_dt' ,'buy_am', 'clac_hlv_num']\n",
        "target = ['class1','class0']"
      ],
      "metadata": {
        "id": "Kp-yXW5e6Hlg"
      },
      "execution_count": 112,
      "outputs": []
    },
    {
      "cell_type": "markdown",
      "source": [
        "### 모델 학습"
      ],
      "metadata": {
        "id": "60AWQoOdhqnQ"
      }
    },
    {
      "cell_type": "code",
      "source": [
        "clf.fit(X_train,y_train)"
      ],
      "metadata": {
        "id": "teyD0Em6hm4H",
        "colab": {
          "base_uri": "https://localhost:8080/"
        },
        "outputId": "1c2a1562-e58e-4c26-b2a7-17977ed98fe1"
      },
      "execution_count": 113,
      "outputs": [
        {
          "output_type": "stream",
          "name": "stderr",
          "text": [
            "/usr/local/lib/python3.7/dist-packages/sklearn/ensemble/_forest.py:564: UserWarning: Some inputs do not have OOB scores. This probably means too few trees were used to compute any reliable OOB estimates.\n",
            "  UserWarning,\n"
          ]
        },
        {
          "output_type": "execute_result",
          "data": {
            "text/plain": [
              "RandomForestClassifier(criterion='entropy', max_depth=10, max_features='sqrt',\n",
              "                       max_samples=1.0, n_estimators=25, oob_score=True,\n",
              "                       random_state=151)"
            ]
          },
          "metadata": {},
          "execution_count": 113
        }
      ]
    },
    {
      "cell_type": "markdown",
      "source": [
        "### 모델 시각화"
      ],
      "metadata": {
        "id": "DPidPie2dTP1"
      }
    },
    {
      "cell_type": "code",
      "source": [
        "from sklearn.tree import plot_tree\n",
        "import matplotlib.pyplot as plt\n",
        "\n",
        "fig = plt.figure(figsize=(75, 50))\n",
        "plot_tree(clf, \n",
        "          feature_names=feature_names,\n",
        "          class_names=target, \n",
        "          filled=True, impurity=True, \n",
        "          rounded=True)\n",
        "plt.savefig('tree_high_dpi', dpi=100)"
      ],
      "metadata": {
        "id": "t4fh9I2106Hn"
      },
      "execution_count": null,
      "outputs": []
    },
    {
      "cell_type": "markdown",
      "source": [
        "### 모델 검증"
      ],
      "metadata": {
        "id": "KG_eync4hsIO"
      }
    },
    {
      "cell_type": "code",
      "source": [
        "clf.score(X_train,y_train)"
      ],
      "metadata": {
        "id": "x3yLp5J1hw02",
        "colab": {
          "base_uri": "https://localhost:8080/"
        },
        "outputId": "e33f42dc-c47c-4652-9885-a4ca7d147c96"
      },
      "execution_count": 115,
      "outputs": [
        {
          "output_type": "execute_result",
          "data": {
            "text/plain": [
              "0.6134408664616049"
            ]
          },
          "metadata": {},
          "execution_count": 115
        }
      ]
    },
    {
      "cell_type": "markdown",
      "source": [
        "### 모델 테스트"
      ],
      "metadata": {
        "id": "CMk-BDFxdbXe"
      }
    },
    {
      "cell_type": "code",
      "source": [
        "clf.score(X_test,y_test)"
      ],
      "metadata": {
        "colab": {
          "base_uri": "https://localhost:8080/"
        },
        "id": "h3dZiDD67RCC",
        "outputId": "c046f634-38f8-4249-87a6-fe602a605fb7"
      },
      "execution_count": 116,
      "outputs": [
        {
          "output_type": "execute_result",
          "data": {
            "text/plain": [
              "0.6135075370857601"
            ]
          },
          "metadata": {},
          "execution_count": 116
        }
      ]
    },
    {
      "cell_type": "markdown",
      "source": [
        "### 모델저장\n"
      ],
      "metadata": {
        "id": "r20X7KSjdmSG"
      }
    },
    {
      "cell_type": "code",
      "source": [
        "import joblib\n",
        "joblib.dump(clf, \"random_forest.joblib\")"
      ],
      "metadata": {
        "id": "SBtFb_4V-ZNh",
        "colab": {
          "base_uri": "https://localhost:8080/"
        },
        "outputId": "ff061bad-7af4-4b63-856e-72cf74592fd4"
      },
      "execution_count": 117,
      "outputs": [
        {
          "output_type": "execute_result",
          "data": {
            "text/plain": [
              "['random_forest.joblib']"
            ]
          },
          "metadata": {},
          "execution_count": 117
        }
      ]
    },
    {
      "cell_type": "markdown",
      "source": [
        "### 모델 불러오기"
      ],
      "metadata": {
        "id": "7ycy9KT3dwAO"
      }
    },
    {
      "cell_type": "code",
      "source": [
        "loaded_rf = joblib.load(\"./random_forest.joblib\")"
      ],
      "metadata": {
        "id": "e6zyFYPodxie"
      },
      "execution_count": 118,
      "outputs": []
    },
    {
      "cell_type": "markdown",
      "source": [
        "### 모델 예측"
      ],
      "metadata": {
        "id": "F-DibJNNd1bW"
      }
    },
    {
      "cell_type": "markdown",
      "source": [
        "15지역에서 온라인으로 구매했으며 구매금액은 59000원이고 상품정보 클래스는 3인 사람이 시니어인지 예측"
      ],
      "metadata": {
        "id": "MqluTGcKeFgP"
      }
    },
    {
      "cell_type": "code",
      "source": [
        "# zon_hlv,\tchnl_dv,\tde_dt\t,buy_am,\tclac_hlv_num\n",
        "import numpy as np\n",
        "\n",
        "testData = np.array([15,1,0,59000.0,3])\n",
        "testData = testData.reshape(1,-1)\n",
        "pred = loaded_rf.predict(testData)\n",
        "if pred==0:\n",
        "  print(\"시니어가 아닙니다.\")\n"
      ],
      "metadata": {
        "id": "pPkDlsCLd3lG"
      },
      "execution_count": null,
      "outputs": []
    }
  ]
}